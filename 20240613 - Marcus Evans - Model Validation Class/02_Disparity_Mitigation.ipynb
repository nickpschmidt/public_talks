{
 "cells": [
  {
   "cell_type": "markdown",
   "id": "295506d6",
   "metadata": {},
   "source": [
    "# Disparity Mitigation Example"
   ]
  },
  {
   "cell_type": "code",
   "execution_count": 1,
   "id": "ba2c4473",
   "metadata": {},
   "outputs": [
    {
     "data": {
      "text/html": [
       "<style>.container { width:100% !important; }</style>"
      ],
      "text/plain": [
       "<IPython.core.display.HTML object>"
      ]
     },
     "metadata": {},
     "output_type": "display_data"
    }
   ],
   "source": [
    "import pandas as pd\n",
    "from sklearn import metrics\n",
    "import solas_disparity as sd\n",
    "import xgboost as xgb\n",
    "\n",
    "from IPython.display import display, HTML\n",
    "display(HTML(\"<style>.container { width:100% !important; }</style>\"))\n",
    "\n",
    "pd.set_option('display.max_columns', 1000)"
   ]
  },
  {
   "cell_type": "markdown",
   "id": "6df34e76",
   "metadata": {},
   "source": [
    "## Import and Prepare the Data"
   ]
  },
  {
   "cell_type": "code",
   "execution_count": 2,
   "id": "aae65117",
   "metadata": {},
   "outputs": [
    {
     "data": {
      "text/html": [
       "<div>\n",
       "<style scoped>\n",
       "    .dataframe tbody tr th:only-of-type {\n",
       "        vertical-align: middle;\n",
       "    }\n",
       "\n",
       "    .dataframe tbody tr th {\n",
       "        vertical-align: top;\n",
       "    }\n",
       "\n",
       "    .dataframe thead th {\n",
       "        text-align: right;\n",
       "    }\n",
       "</style>\n",
       "<table border=\"1\" class=\"dataframe\">\n",
       "  <thead>\n",
       "    <tr style=\"text-align: right;\">\n",
       "      <th></th>\n",
       "      <th>Train</th>\n",
       "      <th>ID</th>\n",
       "      <th>Sample Weight</th>\n",
       "      <th>Mortgage</th>\n",
       "      <th>Balance</th>\n",
       "      <th>Amount Past Due</th>\n",
       "      <th>Delinquency Status</th>\n",
       "      <th>Credit Inquiry</th>\n",
       "      <th>Open Trade</th>\n",
       "      <th>Utilization</th>\n",
       "      <th>Gender</th>\n",
       "      <th>Race</th>\n",
       "      <th>Age</th>\n",
       "      <th>Female</th>\n",
       "      <th>Male</th>\n",
       "      <th>Age &gt;= 62</th>\n",
       "      <th>Age &lt; 62</th>\n",
       "      <th>Black</th>\n",
       "      <th>Hispanic</th>\n",
       "      <th>White</th>\n",
       "      <th>Default</th>\n",
       "    </tr>\n",
       "  </thead>\n",
       "  <tbody>\n",
       "    <tr>\n",
       "      <th>83419</th>\n",
       "      <td>valid</td>\n",
       "      <td>17149</td>\n",
       "      <td>5.763312</td>\n",
       "      <td>343699.96</td>\n",
       "      <td>3843.43</td>\n",
       "      <td>3491.35</td>\n",
       "      <td>1.0</td>\n",
       "      <td>1.0</td>\n",
       "      <td>1.0</td>\n",
       "      <td>0.743297</td>\n",
       "      <td>Male</td>\n",
       "      <td>Majority</td>\n",
       "      <td>Age &gt;= 62</td>\n",
       "      <td>0.0</td>\n",
       "      <td>1.0</td>\n",
       "      <td>1.0</td>\n",
       "      <td>0.0</td>\n",
       "      <td>0.011932</td>\n",
       "      <td>0.007068</td>\n",
       "      <td>0.981</td>\n",
       "      <td>1</td>\n",
       "    </tr>\n",
       "    <tr>\n",
       "      <th>25011</th>\n",
       "      <td>train</td>\n",
       "      <td>21419</td>\n",
       "      <td>12.409537</td>\n",
       "      <td>170872.69</td>\n",
       "      <td>931.11</td>\n",
       "      <td>0.00</td>\n",
       "      <td>0.0</td>\n",
       "      <td>1.0</td>\n",
       "      <td>1.0</td>\n",
       "      <td>0.183434</td>\n",
       "      <td>Male</td>\n",
       "      <td>Minority</td>\n",
       "      <td>Age &gt;= 62</td>\n",
       "      <td>0.0</td>\n",
       "      <td>1.0</td>\n",
       "      <td>1.0</td>\n",
       "      <td>0.0</td>\n",
       "      <td>0.528570</td>\n",
       "      <td>0.310430</td>\n",
       "      <td>0.161</td>\n",
       "      <td>0</td>\n",
       "    </tr>\n",
       "    <tr>\n",
       "      <th>79016</th>\n",
       "      <td>train</td>\n",
       "      <td>98564</td>\n",
       "      <td>7.360731</td>\n",
       "      <td>163041.61</td>\n",
       "      <td>895.05</td>\n",
       "      <td>0.00</td>\n",
       "      <td>0.0</td>\n",
       "      <td>0.0</td>\n",
       "      <td>0.0</td>\n",
       "      <td>0.567924</td>\n",
       "      <td>Male</td>\n",
       "      <td>Minority</td>\n",
       "      <td>Age &gt;= 62</td>\n",
       "      <td>0.0</td>\n",
       "      <td>1.0</td>\n",
       "      <td>1.0</td>\n",
       "      <td>0.0</td>\n",
       "      <td>0.393291</td>\n",
       "      <td>0.407709</td>\n",
       "      <td>0.199</td>\n",
       "      <td>0</td>\n",
       "    </tr>\n",
       "    <tr>\n",
       "      <th>22197</th>\n",
       "      <td>train</td>\n",
       "      <td>17432</td>\n",
       "      <td>13.661012</td>\n",
       "      <td>136040.57</td>\n",
       "      <td>80.75</td>\n",
       "      <td>52.02</td>\n",
       "      <td>2.0</td>\n",
       "      <td>0.0</td>\n",
       "      <td>0.0</td>\n",
       "      <td>0.219620</td>\n",
       "      <td>Female</td>\n",
       "      <td>Minority</td>\n",
       "      <td>Age &gt;= 62</td>\n",
       "      <td>1.0</td>\n",
       "      <td>0.0</td>\n",
       "      <td>1.0</td>\n",
       "      <td>0.0</td>\n",
       "      <td>0.599090</td>\n",
       "      <td>0.262910</td>\n",
       "      <td>0.138</td>\n",
       "      <td>1</td>\n",
       "    </tr>\n",
       "    <tr>\n",
       "      <th>48321</th>\n",
       "      <td>train</td>\n",
       "      <td>54792</td>\n",
       "      <td>16.327007</td>\n",
       "      <td>247120.04</td>\n",
       "      <td>531.62</td>\n",
       "      <td>0.00</td>\n",
       "      <td>0.0</td>\n",
       "      <td>0.0</td>\n",
       "      <td>0.0</td>\n",
       "      <td>0.278665</td>\n",
       "      <td>Female</td>\n",
       "      <td>Majority</td>\n",
       "      <td>Age &gt;= 62</td>\n",
       "      <td>1.0</td>\n",
       "      <td>0.0</td>\n",
       "      <td>1.0</td>\n",
       "      <td>0.0</td>\n",
       "      <td>0.073884</td>\n",
       "      <td>0.057116</td>\n",
       "      <td>0.869</td>\n",
       "      <td>0</td>\n",
       "    </tr>\n",
       "  </tbody>\n",
       "</table>\n",
       "</div>"
      ],
      "text/plain": [
       "       Train     ID  Sample Weight   Mortgage  Balance  Amount Past Due  \\\n",
       "83419  valid  17149       5.763312  343699.96  3843.43          3491.35   \n",
       "25011  train  21419      12.409537  170872.69   931.11             0.00   \n",
       "79016  train  98564       7.360731  163041.61   895.05             0.00   \n",
       "22197  train  17432      13.661012  136040.57    80.75            52.02   \n",
       "48321  train  54792      16.327007  247120.04   531.62             0.00   \n",
       "\n",
       "       Delinquency Status  Credit Inquiry  Open Trade  Utilization  Gender  \\\n",
       "83419                 1.0             1.0         1.0     0.743297    Male   \n",
       "25011                 0.0             1.0         1.0     0.183434    Male   \n",
       "79016                 0.0             0.0         0.0     0.567924    Male   \n",
       "22197                 2.0             0.0         0.0     0.219620  Female   \n",
       "48321                 0.0             0.0         0.0     0.278665  Female   \n",
       "\n",
       "           Race        Age  Female  Male  Age >= 62  Age < 62     Black  \\\n",
       "83419  Majority  Age >= 62     0.0   1.0        1.0       0.0  0.011932   \n",
       "25011  Minority  Age >= 62     0.0   1.0        1.0       0.0  0.528570   \n",
       "79016  Minority  Age >= 62     0.0   1.0        1.0       0.0  0.393291   \n",
       "22197  Minority  Age >= 62     1.0   0.0        1.0       0.0  0.599090   \n",
       "48321  Majority  Age >= 62     1.0   0.0        1.0       0.0  0.073884   \n",
       "\n",
       "       Hispanic  White  Default  \n",
       "83419  0.007068  0.981        1  \n",
       "25011  0.310430  0.161        0  \n",
       "79016  0.407709  0.199        0  \n",
       "22197  0.262910  0.138        1  \n",
       "48321  0.057116  0.869        0  "
      ]
     },
     "execution_count": 2,
     "metadata": {},
     "output_type": "execute_result"
    }
   ],
   "source": [
    "try:\n",
    "    df = pd.read_parquet(\"C:/Users/nickp/repos/solas-ai-disparity/examples/data/20221221_simulated_credit_data_w_preds.parquet.gz\")\n",
    "except:\n",
    "    df = pd.read_parquet(\"https://github.com/SolasAI/solas-ai-disparity/blob/main/examples/data/20221221_simulated_credit_data_w_preds.parquet.gz?raw=true\")\n",
    "\n",
    "df['Default'] = 1 - df['Approved']\n",
    "df = (df\n",
    "      .drop(columns=['Approved', 'Baseline Prediction', 'Baseline Offer', 'Minority', 'Majority'])\n",
    "      .rename(columns={'Minority-1-Proportional': 'Black', 'Minority-2-Proportional': 'Hispanic', 'Majority-Proportional': 'White'})\n",
    "      .sort_index(level=['Train', 'ID'])\n",
    "      .reset_index(drop=False)\n",
    ")\n",
    "df.sample(random_state=161803, n=5)"
   ]
  },
  {
   "cell_type": "code",
   "execution_count": 3,
   "id": "129f55d8",
   "metadata": {},
   "outputs": [],
   "source": [
    "baseline_features = ['Mortgage', 'Balance', 'Amount Past Due', 'Delinquency Status', \n",
    "            'Credit Inquiry', 'Open Trade', 'Utilization']\n",
    "label = 'Default'"
   ]
  },
  {
   "cell_type": "code",
   "execution_count": 4,
   "id": "290a4d22",
   "metadata": {},
   "outputs": [
    {
     "name": "stdout",
     "output_type": "stream",
     "text": [
      "(70000, 21) (20000, 21)\n"
     ]
    }
   ],
   "source": [
    "train = df.loc[df['Train'] == 'train']\n",
    "valid = df.loc[df['Train'] == 'valid']\n",
    "\n",
    "print(train.shape, valid.shape)"
   ]
  },
  {
   "cell_type": "markdown",
   "id": "86cbc978",
   "metadata": {},
   "source": [
    "## Train the Baseline Model"
   ]
  },
  {
   "cell_type": "code",
   "execution_count": 5,
   "id": "24b230d9",
   "metadata": {},
   "outputs": [
    {
     "name": "stdout",
     "output_type": "stream",
     "text": [
      "[0]\ttrain-logloss:0.67964\tvalid-logloss:0.68013\n",
      "[100]\ttrain-logloss:0.59368\tvalid-logloss:0.59870\n",
      "[200]\ttrain-logloss:0.59060\tvalid-logloss:0.59663\n",
      "[288]\ttrain-logloss:0.58938\tvalid-logloss:0.59613\n"
     ]
    }
   ],
   "source": [
    "d_train_baseline = xgb.DMatrix(data=train[baseline_features], label=train[label])\n",
    "d_valid_baseline = xgb.DMatrix(data=valid[baseline_features], label=valid[label])\n",
    "\n",
    "# Create the evals list for early stopping.\n",
    "evals = [(d_train_baseline, 'train'), (d_valid_baseline, 'valid')]\n",
    "\n",
    "# Set the hyperparameters.\n",
    "params = {\n",
    "    'seed': 2718,\n",
    "    \"objective\": \"binary:logistic\",\n",
    "    \"eval_metric\": \"logloss\",\n",
    "    'tree_method': 'hist',\n",
    "    'device': 'cuda',\n",
    "    'learning_rate': 0.1,\n",
    "    'max_depth': 2,\n",
    "    'verbosity': 1,\n",
    "}\n",
    "\n",
    "# Train the model. Note a high number of boost rounds, but early stopping is also set.\n",
    "model_baseline = xgb.train(\n",
    "    dtrain=d_train_baseline, \n",
    "    params=params, \n",
    "    num_boost_round=1000,\n",
    "    evals=evals,\n",
    "    early_stopping_rounds=10,\n",
    "    verbose_eval=100,\n",
    ")\n",
    "baseline_prediction_train = pd.Series(data=model_baseline.predict(d_valid_baseline), index=valid.index)\n",
    "baseline_prediction_valid = pd.Series(data=model_baseline.predict(d_valid_baseline), index=valid.index)"
   ]
  },
  {
   "cell_type": "markdown",
   "id": "e6e5dfe9",
   "metadata": {},
   "source": [
    "## Test the Baseline Model for Disparate Impact"
   ]
  },
  {
   "cell_type": "code",
   "execution_count": 6,
   "id": "9271d6df",
   "metadata": {},
   "outputs": [],
   "source": [
    "common_info = dict(\n",
    "    protected_groups=[\"Black\",          \"Hispanic\",       \"Female\", \"Age >= 62\"],\n",
    "    reference_groups=[\"White\",          \"White\",          \"Male\",   \"Age < 62\"],\n",
    "    group_categories=[\"Race/Ethnicity\", \"Race/Ethnicity\", \"Sex\",     \"Age\"],\n",
    "    group_data=valid,\n",
    "    air_threshold=0.8,\n",
    "    percent_difference_threshold=0,\n",
    ")"
   ]
  },
  {
   "cell_type": "markdown",
   "id": "e2b9c01a",
   "metadata": {},
   "source": [
    "### By-Quantile Adverse Impact Ratio"
   ]
  },
  {
   "cell_type": "code",
   "execution_count": 7,
   "id": "110c5bda",
   "metadata": {},
   "outputs": [
    {
     "data": {
      "application/vnd.plotly.v1+json": {
       "config": {
        "plotlyServerURL": "https://plot.ly"
       },
       "data": [
        {
         "hoverlabel": {
          "font": {
           "color": "Black"
          }
         },
         "hovertemplate": "%{x}, %{y}",
         "legendgroup": "Sex",
         "legendgrouptitle": {
          "text": "Sex"
         },
         "marker": {
          "color": "RGBA(242, 142, 45, 1.0)",
          "line": {
           "color": "rgb(8,48,107)"
          },
          "pattern": {
           "shape": [
            "/",
            "/",
            "/",
            "/",
            "/",
            "",
            "",
            "",
            "",
            ""
           ]
          }
         },
         "name": "Female",
         "text": [
          "0.381",
          "0.476",
          "0.581",
          "0.638",
          "0.716",
          "0.805",
          "0.887",
          "0.919",
          "0.948",
          "1.000"
         ],
         "textfont": {
          "color": "Black"
         },
         "type": "bar",
         "x": [
          "0.1",
          "0.2",
          "0.3",
          "0.4",
          "0.5",
          "0.6",
          "0.7",
          "0.8",
          "0.9",
          "1.0"
         ],
         "y": [
          0.38058897551268606,
          0.475757934530316,
          0.5807791024813966,
          0.6384213290061302,
          0.715947834050869,
          0.8052923960596048,
          0.8874978745855948,
          0.9191866338529229,
          0.9477448579398524,
          1
         ]
        },
        {
         "legendgroup": "AIR Threshold",
         "legendgrouptitle": {
          "text": "Threshold"
         },
         "line": {
          "color": "Black",
          "dash": "dot",
          "width": 1.25
         },
         "mode": "lines",
         "name": "AIR Threshold",
         "showlegend": true,
         "type": "scatter",
         "x": [
          null
         ],
         "y": [
          null
         ]
        }
       ],
       "layout": {
        "font": {
         "color": "Black"
        },
        "height": 563,
        "legend": {
         "itemclick": false,
         "itemdoubleclick": false
        },
        "scene": {
         "yaxis": {
          "exponentformat": "none",
          "separatethousands": true
         }
        },
        "shapes": [
         {
          "line": {
           "color": "Black",
           "dash": "dot",
           "width": 1.25
          },
          "name": "AIR Threshold",
          "type": "line",
          "x0": 0,
          "x1": 1,
          "xref": "paper",
          "y0": 0.8,
          "y1": 0.8,
          "yref": "y"
         }
        ],
        "showlegend": true,
        "template": {
         "data": {
          "bar": [
           {
            "error_x": {
             "color": "#2a3f5f"
            },
            "error_y": {
             "color": "#2a3f5f"
            },
            "marker": {
             "line": {
              "color": "#E5ECF6",
              "width": 0.5
             },
             "pattern": {
              "fillmode": "overlay",
              "size": 10,
              "solidity": 0.2
             }
            },
            "type": "bar"
           }
          ],
          "barpolar": [
           {
            "marker": {
             "line": {
              "color": "#E5ECF6",
              "width": 0.5
             },
             "pattern": {
              "fillmode": "overlay",
              "size": 10,
              "solidity": 0.2
             }
            },
            "type": "barpolar"
           }
          ],
          "carpet": [
           {
            "aaxis": {
             "endlinecolor": "#2a3f5f",
             "gridcolor": "white",
             "linecolor": "white",
             "minorgridcolor": "white",
             "startlinecolor": "#2a3f5f"
            },
            "baxis": {
             "endlinecolor": "#2a3f5f",
             "gridcolor": "white",
             "linecolor": "white",
             "minorgridcolor": "white",
             "startlinecolor": "#2a3f5f"
            },
            "type": "carpet"
           }
          ],
          "choropleth": [
           {
            "colorbar": {
             "outlinewidth": 0,
             "ticks": ""
            },
            "type": "choropleth"
           }
          ],
          "contour": [
           {
            "colorbar": {
             "outlinewidth": 0,
             "ticks": ""
            },
            "colorscale": [
             [
              0,
              "#0d0887"
             ],
             [
              0.1111111111111111,
              "#46039f"
             ],
             [
              0.2222222222222222,
              "#7201a8"
             ],
             [
              0.3333333333333333,
              "#9c179e"
             ],
             [
              0.4444444444444444,
              "#bd3786"
             ],
             [
              0.5555555555555556,
              "#d8576b"
             ],
             [
              0.6666666666666666,
              "#ed7953"
             ],
             [
              0.7777777777777778,
              "#fb9f3a"
             ],
             [
              0.8888888888888888,
              "#fdca26"
             ],
             [
              1,
              "#f0f921"
             ]
            ],
            "type": "contour"
           }
          ],
          "contourcarpet": [
           {
            "colorbar": {
             "outlinewidth": 0,
             "ticks": ""
            },
            "type": "contourcarpet"
           }
          ],
          "heatmap": [
           {
            "colorbar": {
             "outlinewidth": 0,
             "ticks": ""
            },
            "colorscale": [
             [
              0,
              "#0d0887"
             ],
             [
              0.1111111111111111,
              "#46039f"
             ],
             [
              0.2222222222222222,
              "#7201a8"
             ],
             [
              0.3333333333333333,
              "#9c179e"
             ],
             [
              0.4444444444444444,
              "#bd3786"
             ],
             [
              0.5555555555555556,
              "#d8576b"
             ],
             [
              0.6666666666666666,
              "#ed7953"
             ],
             [
              0.7777777777777778,
              "#fb9f3a"
             ],
             [
              0.8888888888888888,
              "#fdca26"
             ],
             [
              1,
              "#f0f921"
             ]
            ],
            "type": "heatmap"
           }
          ],
          "heatmapgl": [
           {
            "colorbar": {
             "outlinewidth": 0,
             "ticks": ""
            },
            "colorscale": [
             [
              0,
              "#0d0887"
             ],
             [
              0.1111111111111111,
              "#46039f"
             ],
             [
              0.2222222222222222,
              "#7201a8"
             ],
             [
              0.3333333333333333,
              "#9c179e"
             ],
             [
              0.4444444444444444,
              "#bd3786"
             ],
             [
              0.5555555555555556,
              "#d8576b"
             ],
             [
              0.6666666666666666,
              "#ed7953"
             ],
             [
              0.7777777777777778,
              "#fb9f3a"
             ],
             [
              0.8888888888888888,
              "#fdca26"
             ],
             [
              1,
              "#f0f921"
             ]
            ],
            "type": "heatmapgl"
           }
          ],
          "histogram": [
           {
            "marker": {
             "pattern": {
              "fillmode": "overlay",
              "size": 10,
              "solidity": 0.2
             }
            },
            "type": "histogram"
           }
          ],
          "histogram2d": [
           {
            "colorbar": {
             "outlinewidth": 0,
             "ticks": ""
            },
            "colorscale": [
             [
              0,
              "#0d0887"
             ],
             [
              0.1111111111111111,
              "#46039f"
             ],
             [
              0.2222222222222222,
              "#7201a8"
             ],
             [
              0.3333333333333333,
              "#9c179e"
             ],
             [
              0.4444444444444444,
              "#bd3786"
             ],
             [
              0.5555555555555556,
              "#d8576b"
             ],
             [
              0.6666666666666666,
              "#ed7953"
             ],
             [
              0.7777777777777778,
              "#fb9f3a"
             ],
             [
              0.8888888888888888,
              "#fdca26"
             ],
             [
              1,
              "#f0f921"
             ]
            ],
            "type": "histogram2d"
           }
          ],
          "histogram2dcontour": [
           {
            "colorbar": {
             "outlinewidth": 0,
             "ticks": ""
            },
            "colorscale": [
             [
              0,
              "#0d0887"
             ],
             [
              0.1111111111111111,
              "#46039f"
             ],
             [
              0.2222222222222222,
              "#7201a8"
             ],
             [
              0.3333333333333333,
              "#9c179e"
             ],
             [
              0.4444444444444444,
              "#bd3786"
             ],
             [
              0.5555555555555556,
              "#d8576b"
             ],
             [
              0.6666666666666666,
              "#ed7953"
             ],
             [
              0.7777777777777778,
              "#fb9f3a"
             ],
             [
              0.8888888888888888,
              "#fdca26"
             ],
             [
              1,
              "#f0f921"
             ]
            ],
            "type": "histogram2dcontour"
           }
          ],
          "mesh3d": [
           {
            "colorbar": {
             "outlinewidth": 0,
             "ticks": ""
            },
            "type": "mesh3d"
           }
          ],
          "parcoords": [
           {
            "line": {
             "colorbar": {
              "outlinewidth": 0,
              "ticks": ""
             }
            },
            "type": "parcoords"
           }
          ],
          "pie": [
           {
            "automargin": true,
            "type": "pie"
           }
          ],
          "scatter": [
           {
            "fillpattern": {
             "fillmode": "overlay",
             "size": 10,
             "solidity": 0.2
            },
            "type": "scatter"
           }
          ],
          "scatter3d": [
           {
            "line": {
             "colorbar": {
              "outlinewidth": 0,
              "ticks": ""
             }
            },
            "marker": {
             "colorbar": {
              "outlinewidth": 0,
              "ticks": ""
             }
            },
            "type": "scatter3d"
           }
          ],
          "scattercarpet": [
           {
            "marker": {
             "colorbar": {
              "outlinewidth": 0,
              "ticks": ""
             }
            },
            "type": "scattercarpet"
           }
          ],
          "scattergeo": [
           {
            "marker": {
             "colorbar": {
              "outlinewidth": 0,
              "ticks": ""
             }
            },
            "type": "scattergeo"
           }
          ],
          "scattergl": [
           {
            "marker": {
             "colorbar": {
              "outlinewidth": 0,
              "ticks": ""
             }
            },
            "type": "scattergl"
           }
          ],
          "scattermapbox": [
           {
            "marker": {
             "colorbar": {
              "outlinewidth": 0,
              "ticks": ""
             }
            },
            "type": "scattermapbox"
           }
          ],
          "scatterpolar": [
           {
            "marker": {
             "colorbar": {
              "outlinewidth": 0,
              "ticks": ""
             }
            },
            "type": "scatterpolar"
           }
          ],
          "scatterpolargl": [
           {
            "marker": {
             "colorbar": {
              "outlinewidth": 0,
              "ticks": ""
             }
            },
            "type": "scatterpolargl"
           }
          ],
          "scatterternary": [
           {
            "marker": {
             "colorbar": {
              "outlinewidth": 0,
              "ticks": ""
             }
            },
            "type": "scatterternary"
           }
          ],
          "surface": [
           {
            "colorbar": {
             "outlinewidth": 0,
             "ticks": ""
            },
            "colorscale": [
             [
              0,
              "#0d0887"
             ],
             [
              0.1111111111111111,
              "#46039f"
             ],
             [
              0.2222222222222222,
              "#7201a8"
             ],
             [
              0.3333333333333333,
              "#9c179e"
             ],
             [
              0.4444444444444444,
              "#bd3786"
             ],
             [
              0.5555555555555556,
              "#d8576b"
             ],
             [
              0.6666666666666666,
              "#ed7953"
             ],
             [
              0.7777777777777778,
              "#fb9f3a"
             ],
             [
              0.8888888888888888,
              "#fdca26"
             ],
             [
              1,
              "#f0f921"
             ]
            ],
            "type": "surface"
           }
          ],
          "table": [
           {
            "cells": {
             "fill": {
              "color": "#EBF0F8"
             },
             "line": {
              "color": "white"
             }
            },
            "header": {
             "fill": {
              "color": "#C8D4E3"
             },
             "line": {
              "color": "white"
             }
            },
            "type": "table"
           }
          ]
         },
         "layout": {
          "annotationdefaults": {
           "arrowcolor": "#2a3f5f",
           "arrowhead": 0,
           "arrowwidth": 1
          },
          "autotypenumbers": "strict",
          "coloraxis": {
           "colorbar": {
            "outlinewidth": 0,
            "ticks": ""
           }
          },
          "colorscale": {
           "diverging": [
            [
             0,
             "#8e0152"
            ],
            [
             0.1,
             "#c51b7d"
            ],
            [
             0.2,
             "#de77ae"
            ],
            [
             0.3,
             "#f1b6da"
            ],
            [
             0.4,
             "#fde0ef"
            ],
            [
             0.5,
             "#f7f7f7"
            ],
            [
             0.6,
             "#e6f5d0"
            ],
            [
             0.7,
             "#b8e186"
            ],
            [
             0.8,
             "#7fbc41"
            ],
            [
             0.9,
             "#4d9221"
            ],
            [
             1,
             "#276419"
            ]
           ],
           "sequential": [
            [
             0,
             "#0d0887"
            ],
            [
             0.1111111111111111,
             "#46039f"
            ],
            [
             0.2222222222222222,
             "#7201a8"
            ],
            [
             0.3333333333333333,
             "#9c179e"
            ],
            [
             0.4444444444444444,
             "#bd3786"
            ],
            [
             0.5555555555555556,
             "#d8576b"
            ],
            [
             0.6666666666666666,
             "#ed7953"
            ],
            [
             0.7777777777777778,
             "#fb9f3a"
            ],
            [
             0.8888888888888888,
             "#fdca26"
            ],
            [
             1,
             "#f0f921"
            ]
           ],
           "sequentialminus": [
            [
             0,
             "#0d0887"
            ],
            [
             0.1111111111111111,
             "#46039f"
            ],
            [
             0.2222222222222222,
             "#7201a8"
            ],
            [
             0.3333333333333333,
             "#9c179e"
            ],
            [
             0.4444444444444444,
             "#bd3786"
            ],
            [
             0.5555555555555556,
             "#d8576b"
            ],
            [
             0.6666666666666666,
             "#ed7953"
            ],
            [
             0.7777777777777778,
             "#fb9f3a"
            ],
            [
             0.8888888888888888,
             "#fdca26"
            ],
            [
             1,
             "#f0f921"
            ]
           ]
          },
          "colorway": [
           "#636efa",
           "#EF553B",
           "#00cc96",
           "#ab63fa",
           "#FFA15A",
           "#19d3f3",
           "#FF6692",
           "#B6E880",
           "#FF97FF",
           "#FECB52"
          ],
          "font": {
           "color": "#2a3f5f"
          },
          "geo": {
           "bgcolor": "white",
           "lakecolor": "white",
           "landcolor": "#E5ECF6",
           "showlakes": true,
           "showland": true,
           "subunitcolor": "white"
          },
          "hoverlabel": {
           "align": "left"
          },
          "hovermode": "closest",
          "mapbox": {
           "style": "light"
          },
          "paper_bgcolor": "white",
          "plot_bgcolor": "#E5ECF6",
          "polar": {
           "angularaxis": {
            "gridcolor": "white",
            "linecolor": "white",
            "ticks": ""
           },
           "bgcolor": "#E5ECF6",
           "radialaxis": {
            "gridcolor": "white",
            "linecolor": "white",
            "ticks": ""
           }
          },
          "scene": {
           "xaxis": {
            "backgroundcolor": "#E5ECF6",
            "gridcolor": "white",
            "gridwidth": 2,
            "linecolor": "white",
            "showbackground": true,
            "ticks": "",
            "zerolinecolor": "white"
           },
           "yaxis": {
            "backgroundcolor": "#E5ECF6",
            "gridcolor": "white",
            "gridwidth": 2,
            "linecolor": "white",
            "showbackground": true,
            "ticks": "",
            "zerolinecolor": "white"
           },
           "zaxis": {
            "backgroundcolor": "#E5ECF6",
            "gridcolor": "white",
            "gridwidth": 2,
            "linecolor": "white",
            "showbackground": true,
            "ticks": "",
            "zerolinecolor": "white"
           }
          },
          "shapedefaults": {
           "line": {
            "color": "#2a3f5f"
           }
          },
          "ternary": {
           "aaxis": {
            "gridcolor": "white",
            "linecolor": "white",
            "ticks": ""
           },
           "baxis": {
            "gridcolor": "white",
            "linecolor": "white",
            "ticks": ""
           },
           "bgcolor": "#E5ECF6",
           "caxis": {
            "gridcolor": "white",
            "linecolor": "white",
            "ticks": ""
           }
          },
          "title": {
           "x": 0.05
          },
          "xaxis": {
           "automargin": true,
           "gridcolor": "white",
           "linecolor": "white",
           "ticks": "",
           "title": {
            "standoff": 15
           },
           "zerolinecolor": "white",
           "zerolinewidth": 2
          },
          "yaxis": {
           "automargin": true,
           "gridcolor": "white",
           "linecolor": "white",
           "ticks": "",
           "title": {
            "standoff": 15
           },
           "zerolinecolor": "white",
           "zerolinewidth": 2
          }
         }
        },
        "title": {
         "text": "AIR"
        },
        "width": 900,
        "xaxis": {
         "fixedrange": true,
         "title": {
          "text": "Quantile"
         }
        },
        "yaxis": {
         "fixedrange": true,
         "tickformat": "0,.3f",
         "ticksuffix": "  ",
         "title": {
          "text": "AIR"
         }
        }
       }
      }
     },
     "metadata": {},
     "output_type": "display_data"
    }
   ],
   "source": [
    "baseline_quantile_air = sd.adverse_impact_ratio_by_quantile(\n",
    "    **common_info,\n",
    "    outcome=baseline_prediction_valid,\n",
    "    quantiles=[x / 100 for x in range(10, 101, 10)]\n",
    ")\n",
    "baseline_quantile_air.plot()\n",
    "baseline_quantile_air.plot(group='Female')"
   ]
  },
  {
   "cell_type": "markdown",
   "id": "cdc0eb00",
   "metadata": {},
   "source": [
    "### Offer-Based Adverse Impact Ratio"
   ]
  },
  {
   "cell_type": "code",
   "execution_count": 11,
   "id": "efd7c172",
   "metadata": {},
   "outputs": [
    {
     "data": {
      "application/vnd.plotly.v1+json": {
       "config": {
        "plotlyServerURL": "https://plot.ly"
       },
       "data": [
        {
         "hoverlabel": {
          "font": {
           "color": "Black"
          }
         },
         "hovertemplate": "%{x}, %{y}",
         "legendgroup": "Race/Ethnicity",
         "legendgrouptitle": {
          "text": "Race/Ethnicity"
         },
         "marker": {
          "color": "RGBA(78, 121, 167, 1.0)",
          "line": {
           "color": "rgb(8,48,107)"
          },
          "pattern": {
           "shape": "/"
          }
         },
         "name": "Black",
         "text": "0.459",
         "textfont": {
          "color": "Black"
         },
         "type": "bar",
         "x": [
          [
           "Race/Ethnicity"
          ],
          [
           "Black"
          ]
         ],
         "y": [
          0.4592226165628382
         ]
        },
        {
         "hoverlabel": {
          "font": {
           "color": "Black"
          }
         },
         "hovertemplate": "%{x}, %{y}",
         "legendgroup": "Race/Ethnicity",
         "legendgrouptitle": {
          "text": "Race/Ethnicity"
         },
         "marker": {
          "color": "RGBA(78, 121, 167, 0.8333333333333334)",
          "line": {
           "color": "rgb(8,48,107)"
          },
          "pattern": {
           "shape": "/"
          }
         },
         "name": "Hispanic",
         "text": "0.452",
         "textfont": {
          "color": "Black"
         },
         "type": "bar",
         "x": [
          [
           "Race/Ethnicity"
          ],
          [
           "Hispanic"
          ]
         ],
         "y": [
          0.451561502382098
         ]
        },
        {
         "hoverlabel": {
          "font": {
           "color": "Black"
          }
         },
         "hovertemplate": "%{x}, %{y}",
         "legendgroup": "Sex",
         "legendgrouptitle": {
          "text": "Sex"
         },
         "marker": {
          "color": "RGBA(242, 142, 45, 1.0)",
          "line": {
           "color": "rgb(8,48,107)"
          },
          "pattern": {
           "shape": "/"
          }
         },
         "name": "Female",
         "text": "0.581",
         "textfont": {
          "color": "Black"
         },
         "type": "bar",
         "x": [
          [
           "Sex"
          ],
          [
           "Female"
          ]
         ],
         "y": [
          0.5807791024813966
         ]
        },
        {
         "hoverlabel": {
          "font": {
           "color": "Black"
          }
         },
         "hovertemplate": "%{x}, %{y}",
         "legendgroup": "Age",
         "legendgrouptitle": {
          "text": "Age"
         },
         "marker": {
          "color": "RGBA(225, 87, 89, 1.0)",
          "line": {
           "color": "rgb(8,48,107)"
          },
          "pattern": {
           "shape": ""
          }
         },
         "name": "Age >= 62",
         "text": "1.059",
         "textfont": {
          "color": "Black"
         },
         "type": "bar",
         "x": [
          [
           "Age"
          ],
          [
           "Age >=<br>62"
          ]
         ],
         "y": [
          1.0591948513884804
         ]
        },
        {
         "legendgroup": "AIR Threshold",
         "legendgrouptitle": {
          "text": "Threshold"
         },
         "line": {
          "color": "Black",
          "dash": "dot",
          "width": 1.25
         },
         "mode": "lines",
         "name": "AIR Threshold",
         "showlegend": true,
         "type": "scatter",
         "x": [
          null
         ],
         "y": [
          null
         ]
        }
       ],
       "layout": {
        "font": {
         "color": "Black"
        },
        "height": 563,
        "legend": {
         "itemclick": false,
         "itemdoubleclick": false
        },
        "scene": {
         "yaxis": {
          "exponentformat": "none",
          "separatethousands": true
         }
        },
        "shapes": [
         {
          "line": {
           "color": "Black",
           "dash": "dot",
           "width": 1.25
          },
          "name": "AIR Threshold",
          "type": "line",
          "x0": 0,
          "x1": 1,
          "xref": "paper",
          "y0": 0.8,
          "y1": 0.8,
          "yref": "y"
         }
        ],
        "template": {
         "data": {
          "bar": [
           {
            "error_x": {
             "color": "#2a3f5f"
            },
            "error_y": {
             "color": "#2a3f5f"
            },
            "marker": {
             "line": {
              "color": "#E5ECF6",
              "width": 0.5
             },
             "pattern": {
              "fillmode": "overlay",
              "size": 10,
              "solidity": 0.2
             }
            },
            "type": "bar"
           }
          ],
          "barpolar": [
           {
            "marker": {
             "line": {
              "color": "#E5ECF6",
              "width": 0.5
             },
             "pattern": {
              "fillmode": "overlay",
              "size": 10,
              "solidity": 0.2
             }
            },
            "type": "barpolar"
           }
          ],
          "carpet": [
           {
            "aaxis": {
             "endlinecolor": "#2a3f5f",
             "gridcolor": "white",
             "linecolor": "white",
             "minorgridcolor": "white",
             "startlinecolor": "#2a3f5f"
            },
            "baxis": {
             "endlinecolor": "#2a3f5f",
             "gridcolor": "white",
             "linecolor": "white",
             "minorgridcolor": "white",
             "startlinecolor": "#2a3f5f"
            },
            "type": "carpet"
           }
          ],
          "choropleth": [
           {
            "colorbar": {
             "outlinewidth": 0,
             "ticks": ""
            },
            "type": "choropleth"
           }
          ],
          "contour": [
           {
            "colorbar": {
             "outlinewidth": 0,
             "ticks": ""
            },
            "colorscale": [
             [
              0,
              "#0d0887"
             ],
             [
              0.1111111111111111,
              "#46039f"
             ],
             [
              0.2222222222222222,
              "#7201a8"
             ],
             [
              0.3333333333333333,
              "#9c179e"
             ],
             [
              0.4444444444444444,
              "#bd3786"
             ],
             [
              0.5555555555555556,
              "#d8576b"
             ],
             [
              0.6666666666666666,
              "#ed7953"
             ],
             [
              0.7777777777777778,
              "#fb9f3a"
             ],
             [
              0.8888888888888888,
              "#fdca26"
             ],
             [
              1,
              "#f0f921"
             ]
            ],
            "type": "contour"
           }
          ],
          "contourcarpet": [
           {
            "colorbar": {
             "outlinewidth": 0,
             "ticks": ""
            },
            "type": "contourcarpet"
           }
          ],
          "heatmap": [
           {
            "colorbar": {
             "outlinewidth": 0,
             "ticks": ""
            },
            "colorscale": [
             [
              0,
              "#0d0887"
             ],
             [
              0.1111111111111111,
              "#46039f"
             ],
             [
              0.2222222222222222,
              "#7201a8"
             ],
             [
              0.3333333333333333,
              "#9c179e"
             ],
             [
              0.4444444444444444,
              "#bd3786"
             ],
             [
              0.5555555555555556,
              "#d8576b"
             ],
             [
              0.6666666666666666,
              "#ed7953"
             ],
             [
              0.7777777777777778,
              "#fb9f3a"
             ],
             [
              0.8888888888888888,
              "#fdca26"
             ],
             [
              1,
              "#f0f921"
             ]
            ],
            "type": "heatmap"
           }
          ],
          "heatmapgl": [
           {
            "colorbar": {
             "outlinewidth": 0,
             "ticks": ""
            },
            "colorscale": [
             [
              0,
              "#0d0887"
             ],
             [
              0.1111111111111111,
              "#46039f"
             ],
             [
              0.2222222222222222,
              "#7201a8"
             ],
             [
              0.3333333333333333,
              "#9c179e"
             ],
             [
              0.4444444444444444,
              "#bd3786"
             ],
             [
              0.5555555555555556,
              "#d8576b"
             ],
             [
              0.6666666666666666,
              "#ed7953"
             ],
             [
              0.7777777777777778,
              "#fb9f3a"
             ],
             [
              0.8888888888888888,
              "#fdca26"
             ],
             [
              1,
              "#f0f921"
             ]
            ],
            "type": "heatmapgl"
           }
          ],
          "histogram": [
           {
            "marker": {
             "pattern": {
              "fillmode": "overlay",
              "size": 10,
              "solidity": 0.2
             }
            },
            "type": "histogram"
           }
          ],
          "histogram2d": [
           {
            "colorbar": {
             "outlinewidth": 0,
             "ticks": ""
            },
            "colorscale": [
             [
              0,
              "#0d0887"
             ],
             [
              0.1111111111111111,
              "#46039f"
             ],
             [
              0.2222222222222222,
              "#7201a8"
             ],
             [
              0.3333333333333333,
              "#9c179e"
             ],
             [
              0.4444444444444444,
              "#bd3786"
             ],
             [
              0.5555555555555556,
              "#d8576b"
             ],
             [
              0.6666666666666666,
              "#ed7953"
             ],
             [
              0.7777777777777778,
              "#fb9f3a"
             ],
             [
              0.8888888888888888,
              "#fdca26"
             ],
             [
              1,
              "#f0f921"
             ]
            ],
            "type": "histogram2d"
           }
          ],
          "histogram2dcontour": [
           {
            "colorbar": {
             "outlinewidth": 0,
             "ticks": ""
            },
            "colorscale": [
             [
              0,
              "#0d0887"
             ],
             [
              0.1111111111111111,
              "#46039f"
             ],
             [
              0.2222222222222222,
              "#7201a8"
             ],
             [
              0.3333333333333333,
              "#9c179e"
             ],
             [
              0.4444444444444444,
              "#bd3786"
             ],
             [
              0.5555555555555556,
              "#d8576b"
             ],
             [
              0.6666666666666666,
              "#ed7953"
             ],
             [
              0.7777777777777778,
              "#fb9f3a"
             ],
             [
              0.8888888888888888,
              "#fdca26"
             ],
             [
              1,
              "#f0f921"
             ]
            ],
            "type": "histogram2dcontour"
           }
          ],
          "mesh3d": [
           {
            "colorbar": {
             "outlinewidth": 0,
             "ticks": ""
            },
            "type": "mesh3d"
           }
          ],
          "parcoords": [
           {
            "line": {
             "colorbar": {
              "outlinewidth": 0,
              "ticks": ""
             }
            },
            "type": "parcoords"
           }
          ],
          "pie": [
           {
            "automargin": true,
            "type": "pie"
           }
          ],
          "scatter": [
           {
            "fillpattern": {
             "fillmode": "overlay",
             "size": 10,
             "solidity": 0.2
            },
            "type": "scatter"
           }
          ],
          "scatter3d": [
           {
            "line": {
             "colorbar": {
              "outlinewidth": 0,
              "ticks": ""
             }
            },
            "marker": {
             "colorbar": {
              "outlinewidth": 0,
              "ticks": ""
             }
            },
            "type": "scatter3d"
           }
          ],
          "scattercarpet": [
           {
            "marker": {
             "colorbar": {
              "outlinewidth": 0,
              "ticks": ""
             }
            },
            "type": "scattercarpet"
           }
          ],
          "scattergeo": [
           {
            "marker": {
             "colorbar": {
              "outlinewidth": 0,
              "ticks": ""
             }
            },
            "type": "scattergeo"
           }
          ],
          "scattergl": [
           {
            "marker": {
             "colorbar": {
              "outlinewidth": 0,
              "ticks": ""
             }
            },
            "type": "scattergl"
           }
          ],
          "scattermapbox": [
           {
            "marker": {
             "colorbar": {
              "outlinewidth": 0,
              "ticks": ""
             }
            },
            "type": "scattermapbox"
           }
          ],
          "scatterpolar": [
           {
            "marker": {
             "colorbar": {
              "outlinewidth": 0,
              "ticks": ""
             }
            },
            "type": "scatterpolar"
           }
          ],
          "scatterpolargl": [
           {
            "marker": {
             "colorbar": {
              "outlinewidth": 0,
              "ticks": ""
             }
            },
            "type": "scatterpolargl"
           }
          ],
          "scatterternary": [
           {
            "marker": {
             "colorbar": {
              "outlinewidth": 0,
              "ticks": ""
             }
            },
            "type": "scatterternary"
           }
          ],
          "surface": [
           {
            "colorbar": {
             "outlinewidth": 0,
             "ticks": ""
            },
            "colorscale": [
             [
              0,
              "#0d0887"
             ],
             [
              0.1111111111111111,
              "#46039f"
             ],
             [
              0.2222222222222222,
              "#7201a8"
             ],
             [
              0.3333333333333333,
              "#9c179e"
             ],
             [
              0.4444444444444444,
              "#bd3786"
             ],
             [
              0.5555555555555556,
              "#d8576b"
             ],
             [
              0.6666666666666666,
              "#ed7953"
             ],
             [
              0.7777777777777778,
              "#fb9f3a"
             ],
             [
              0.8888888888888888,
              "#fdca26"
             ],
             [
              1,
              "#f0f921"
             ]
            ],
            "type": "surface"
           }
          ],
          "table": [
           {
            "cells": {
             "fill": {
              "color": "#EBF0F8"
             },
             "line": {
              "color": "white"
             }
            },
            "header": {
             "fill": {
              "color": "#C8D4E3"
             },
             "line": {
              "color": "white"
             }
            },
            "type": "table"
           }
          ]
         },
         "layout": {
          "annotationdefaults": {
           "arrowcolor": "#2a3f5f",
           "arrowhead": 0,
           "arrowwidth": 1
          },
          "autotypenumbers": "strict",
          "coloraxis": {
           "colorbar": {
            "outlinewidth": 0,
            "ticks": ""
           }
          },
          "colorscale": {
           "diverging": [
            [
             0,
             "#8e0152"
            ],
            [
             0.1,
             "#c51b7d"
            ],
            [
             0.2,
             "#de77ae"
            ],
            [
             0.3,
             "#f1b6da"
            ],
            [
             0.4,
             "#fde0ef"
            ],
            [
             0.5,
             "#f7f7f7"
            ],
            [
             0.6,
             "#e6f5d0"
            ],
            [
             0.7,
             "#b8e186"
            ],
            [
             0.8,
             "#7fbc41"
            ],
            [
             0.9,
             "#4d9221"
            ],
            [
             1,
             "#276419"
            ]
           ],
           "sequential": [
            [
             0,
             "#0d0887"
            ],
            [
             0.1111111111111111,
             "#46039f"
            ],
            [
             0.2222222222222222,
             "#7201a8"
            ],
            [
             0.3333333333333333,
             "#9c179e"
            ],
            [
             0.4444444444444444,
             "#bd3786"
            ],
            [
             0.5555555555555556,
             "#d8576b"
            ],
            [
             0.6666666666666666,
             "#ed7953"
            ],
            [
             0.7777777777777778,
             "#fb9f3a"
            ],
            [
             0.8888888888888888,
             "#fdca26"
            ],
            [
             1,
             "#f0f921"
            ]
           ],
           "sequentialminus": [
            [
             0,
             "#0d0887"
            ],
            [
             0.1111111111111111,
             "#46039f"
            ],
            [
             0.2222222222222222,
             "#7201a8"
            ],
            [
             0.3333333333333333,
             "#9c179e"
            ],
            [
             0.4444444444444444,
             "#bd3786"
            ],
            [
             0.5555555555555556,
             "#d8576b"
            ],
            [
             0.6666666666666666,
             "#ed7953"
            ],
            [
             0.7777777777777778,
             "#fb9f3a"
            ],
            [
             0.8888888888888888,
             "#fdca26"
            ],
            [
             1,
             "#f0f921"
            ]
           ]
          },
          "colorway": [
           "#636efa",
           "#EF553B",
           "#00cc96",
           "#ab63fa",
           "#FFA15A",
           "#19d3f3",
           "#FF6692",
           "#B6E880",
           "#FF97FF",
           "#FECB52"
          ],
          "font": {
           "color": "#2a3f5f"
          },
          "geo": {
           "bgcolor": "white",
           "lakecolor": "white",
           "landcolor": "#E5ECF6",
           "showlakes": true,
           "showland": true,
           "subunitcolor": "white"
          },
          "hoverlabel": {
           "align": "left"
          },
          "hovermode": "closest",
          "mapbox": {
           "style": "light"
          },
          "paper_bgcolor": "white",
          "plot_bgcolor": "#E5ECF6",
          "polar": {
           "angularaxis": {
            "gridcolor": "white",
            "linecolor": "white",
            "ticks": ""
           },
           "bgcolor": "#E5ECF6",
           "radialaxis": {
            "gridcolor": "white",
            "linecolor": "white",
            "ticks": ""
           }
          },
          "scene": {
           "xaxis": {
            "backgroundcolor": "#E5ECF6",
            "gridcolor": "white",
            "gridwidth": 2,
            "linecolor": "white",
            "showbackground": true,
            "ticks": "",
            "zerolinecolor": "white"
           },
           "yaxis": {
            "backgroundcolor": "#E5ECF6",
            "gridcolor": "white",
            "gridwidth": 2,
            "linecolor": "white",
            "showbackground": true,
            "ticks": "",
            "zerolinecolor": "white"
           },
           "zaxis": {
            "backgroundcolor": "#E5ECF6",
            "gridcolor": "white",
            "gridwidth": 2,
            "linecolor": "white",
            "showbackground": true,
            "ticks": "",
            "zerolinecolor": "white"
           }
          },
          "shapedefaults": {
           "line": {
            "color": "#2a3f5f"
           }
          },
          "ternary": {
           "aaxis": {
            "gridcolor": "white",
            "linecolor": "white",
            "ticks": ""
           },
           "baxis": {
            "gridcolor": "white",
            "linecolor": "white",
            "ticks": ""
           },
           "bgcolor": "#E5ECF6",
           "caxis": {
            "gridcolor": "white",
            "linecolor": "white",
            "ticks": ""
           }
          },
          "title": {
           "x": 0.05
          },
          "xaxis": {
           "automargin": true,
           "gridcolor": "white",
           "linecolor": "white",
           "ticks": "",
           "title": {
            "standoff": 15
           },
           "zerolinecolor": "white",
           "zerolinewidth": 2
          },
          "yaxis": {
           "automargin": true,
           "gridcolor": "white",
           "linecolor": "white",
           "ticks": "",
           "title": {
            "standoff": 15
           },
           "zerolinecolor": "white",
           "zerolinewidth": 2
          }
         }
        },
        "title": {
         "text": "AIR"
        },
        "width": 900,
        "xaxis": {
         "fixedrange": true,
         "title": {
          "text": "Group"
         }
        },
        "yaxis": {
         "fixedrange": true,
         "tickformat": "0,.3f",
         "ticksuffix": "  ",
         "title": {
          "text": "AIR"
         }
        }
       }
      }
     },
     "metadata": {},
     "output_type": "display_data"
    }
   ],
   "source": [
    "baseline_score_cutoff = baseline_prediction_train.quantile(0.3)\n",
    "baseline_offer_valid = baseline_prediction_valid <= baseline_score_cutoff\n",
    "\n",
    "baseline_offer_air = sd.adverse_impact_ratio(\n",
    "    **common_info,\n",
    "    outcome=baseline_offer_valid,\n",
    ")\n",
    "baseline_offer_air.plot()"
   ]
  },
  {
   "cell_type": "code",
   "execution_count": 12,
   "id": "27db6372",
   "metadata": {},
   "outputs": [
    {
     "data": {
      "text/html": [
       "<div>\n",
       "<style scoped>\n",
       "    .dataframe tbody tr th:only-of-type {\n",
       "        vertical-align: middle;\n",
       "    }\n",
       "\n",
       "    .dataframe tbody tr th {\n",
       "        vertical-align: top;\n",
       "    }\n",
       "\n",
       "    .dataframe thead th {\n",
       "        text-align: right;\n",
       "    }\n",
       "</style>\n",
       "<table class=\"dataframe disparity-table\" id=\"disp-output\">\n",
       "  <thead>\n",
       "    <tr style=\"text-align: right;\">\n",
       "      <th>Group</th>\n",
       "      <th>Reference Group</th>\n",
       "      <th>Group Category</th>\n",
       "      <th>Observations</th>\n",
       "      <th>Percent Missing</th>\n",
       "      <th>Total</th>\n",
       "      <th>Favorable</th>\n",
       "      <th>Percent Favorable</th>\n",
       "      <th>Percent Difference Favorable</th>\n",
       "      <th>AIR</th>\n",
       "      <th>P-Values</th>\n",
       "      <th>Practically Significant</th>\n",
       "      <th>Shortfall</th>\n",
       "    </tr>\n",
       "  </thead>\n",
       "  <tbody>\n",
       "    <tr>\n",
       "      <td>Black</td>\n",
       "      <td>White</td>\n",
       "      <td>Race/Ethnicity</td>\n",
       "      <td>17,951</td>\n",
       "      <td>10.25%</td>\n",
       "      <td>3,695.9</td>\n",
       "      <td>631.3</td>\n",
       "      <td>17.08%</td>\n",
       "      <td>20.11%</td>\n",
       "      <td>0.459</td>\n",
       "      <td>0.000</td>\n",
       "      <td>Yes</td>\n",
       "      <td>743.4</td>\n",
       "    </tr>\n",
       "    <tr>\n",
       "      <td>Hispanic</td>\n",
       "      <td>White</td>\n",
       "      <td>Race/Ethnicity</td>\n",
       "      <td>17,951</td>\n",
       "      <td>10.25%</td>\n",
       "      <td>2,732.0</td>\n",
       "      <td>458.8</td>\n",
       "      <td>16.80%</td>\n",
       "      <td>20.40%</td>\n",
       "      <td>0.452</td>\n",
       "      <td>0.000</td>\n",
       "      <td>Yes</td>\n",
       "      <td>557.3</td>\n",
       "    </tr>\n",
       "    <tr>\n",
       "      <td>White</td>\n",
       "      <td></td>\n",
       "      <td>Race/Ethnicity</td>\n",
       "      <td>17,951</td>\n",
       "      <td>10.25%</td>\n",
       "      <td>11,523.1</td>\n",
       "      <td>4,285.9</td>\n",
       "      <td>37.19%</td>\n",
       "      <td></td>\n",
       "      <td></td>\n",
       "      <td></td>\n",
       "      <td></td>\n",
       "      <td></td>\n",
       "    </tr>\n",
       "    <tr>\n",
       "      <td>Female</td>\n",
       "      <td>Male</td>\n",
       "      <td>Sex</td>\n",
       "      <td>20,000</td>\n",
       "      <td>0.00%</td>\n",
       "      <td>10,145.0</td>\n",
       "      <td>2,245.0</td>\n",
       "      <td>22.13%</td>\n",
       "      <td>15.97%</td>\n",
       "      <td>0.581</td>\n",
       "      <td>0.000</td>\n",
       "      <td>Yes</td>\n",
       "      <td>1,620.5</td>\n",
       "    </tr>\n",
       "    <tr>\n",
       "      <td>Male</td>\n",
       "      <td></td>\n",
       "      <td>Sex</td>\n",
       "      <td>20,000</td>\n",
       "      <td>0.00%</td>\n",
       "      <td>9,855.0</td>\n",
       "      <td>3,755.0</td>\n",
       "      <td>38.10%</td>\n",
       "      <td></td>\n",
       "      <td></td>\n",
       "      <td></td>\n",
       "      <td></td>\n",
       "      <td></td>\n",
       "    </tr>\n",
       "    <tr>\n",
       "      <td>Age &gt;= 62</td>\n",
       "      <td>Age &lt; 62</td>\n",
       "      <td>Age</td>\n",
       "      <td>19,046</td>\n",
       "      <td>4.77%</td>\n",
       "      <td>9,429.0</td>\n",
       "      <td>2,914.0</td>\n",
       "      <td>30.90%</td>\n",
       "      <td>-1.73%</td>\n",
       "      <td>1.059</td>\n",
       "      <td>0.010</td>\n",
       "      <td>No</td>\n",
       "      <td></td>\n",
       "    </tr>\n",
       "    <tr>\n",
       "      <td>Age &lt; 62</td>\n",
       "      <td></td>\n",
       "      <td>Age</td>\n",
       "      <td>19,046</td>\n",
       "      <td>4.77%</td>\n",
       "      <td>9,617.0</td>\n",
       "      <td>2,806.0</td>\n",
       "      <td>29.18%</td>\n",
       "      <td></td>\n",
       "      <td></td>\n",
       "      <td></td>\n",
       "      <td></td>\n",
       "      <td></td>\n",
       "    </tr>\n",
       "  </tbody>\n",
       "</table>\n",
       "</div>"
      ],
      "text/plain": [
       "<IPython.core.display.HTML object>"
      ]
     },
     "metadata": {},
     "output_type": "display_data"
    }
   ],
   "source": [
    "sd.ui.show(baseline_offer_air.summary_table)"
   ]
  },
  {
   "cell_type": "markdown",
   "id": "4a853376",
   "metadata": {},
   "source": [
    "## Explore Drivers of Discrimination"
   ]
  },
  {
   "cell_type": "code",
   "execution_count": 19,
   "id": "79dc3e41",
   "metadata": {},
   "outputs": [
    {
     "data": {
      "text/html": [
       "<style type=\"text/css\">\n",
       "</style>\n",
       "<table id=\"T_5ba35\">\n",
       "  <thead>\n",
       "    <tr>\n",
       "      <th class=\"index_name level0\" >Female</th>\n",
       "      <th id=\"T_5ba35_level0_col0\" class=\"col_heading level0 col0\" >Male</th>\n",
       "      <th id=\"T_5ba35_level0_col1\" class=\"col_heading level0 col1\" >Female</th>\n",
       "      <th id=\"T_5ba35_level0_col2\" class=\"col_heading level0 col2\" >Percent Difference</th>\n",
       "    </tr>\n",
       "  </thead>\n",
       "  <tbody>\n",
       "    <tr>\n",
       "      <th id=\"T_5ba35_level0_row0\" class=\"row_heading level0 row0\" >Mortgage</th>\n",
       "      <td id=\"T_5ba35_row0_col0\" class=\"data row0 col0\" >251,282.04</td>\n",
       "      <td id=\"T_5ba35_row0_col1\" class=\"data row0 col1\" >250,069.51</td>\n",
       "      <td id=\"T_5ba35_row0_col2\" class=\"data row0 col2\" >-0.48%</td>\n",
       "    </tr>\n",
       "    <tr>\n",
       "      <th id=\"T_5ba35_level0_row1\" class=\"row_heading level0 row1\" >Balance</th>\n",
       "      <td id=\"T_5ba35_row1_col0\" class=\"data row1 col0\" >1,760.36</td>\n",
       "      <td id=\"T_5ba35_row1_col1\" class=\"data row1 col1\" >651.44</td>\n",
       "      <td id=\"T_5ba35_row1_col2\" class=\"data row1 col2\" >-62.99%</td>\n",
       "    </tr>\n",
       "    <tr>\n",
       "      <th id=\"T_5ba35_level0_row2\" class=\"row_heading level0 row2\" >Amount Past Due</th>\n",
       "      <td id=\"T_5ba35_row2_col0\" class=\"data row2 col0\" >377.06</td>\n",
       "      <td id=\"T_5ba35_row2_col1\" class=\"data row2 col1\" >140.70</td>\n",
       "      <td id=\"T_5ba35_row2_col2\" class=\"data row2 col2\" >-62.68%</td>\n",
       "    </tr>\n",
       "    <tr>\n",
       "      <th id=\"T_5ba35_level0_row3\" class=\"row_heading level0 row3\" >Delinquency Status</th>\n",
       "      <td id=\"T_5ba35_row3_col0\" class=\"data row3 col0\" >1.14</td>\n",
       "      <td id=\"T_5ba35_row3_col1\" class=\"data row3 col1\" >1.14</td>\n",
       "      <td id=\"T_5ba35_row3_col2\" class=\"data row3 col2\" >-0.21%</td>\n",
       "    </tr>\n",
       "    <tr>\n",
       "      <th id=\"T_5ba35_level0_row4\" class=\"row_heading level0 row4\" >Credit Inquiry</th>\n",
       "      <td id=\"T_5ba35_row4_col0\" class=\"data row4 col0\" >0.39</td>\n",
       "      <td id=\"T_5ba35_row4_col1\" class=\"data row4 col1\" >0.39</td>\n",
       "      <td id=\"T_5ba35_row4_col2\" class=\"data row4 col2\" >-1.00%</td>\n",
       "    </tr>\n",
       "    <tr>\n",
       "      <th id=\"T_5ba35_level0_row5\" class=\"row_heading level0 row5\" >Open Trade</th>\n",
       "      <td id=\"T_5ba35_row5_col0\" class=\"data row5 col0\" >0.20</td>\n",
       "      <td id=\"T_5ba35_row5_col1\" class=\"data row5 col1\" >0.19</td>\n",
       "      <td id=\"T_5ba35_row5_col2\" class=\"data row5 col2\" >-4.67%</td>\n",
       "    </tr>\n",
       "    <tr>\n",
       "      <th id=\"T_5ba35_level0_row6\" class=\"row_heading level0 row6\" >Utilization</th>\n",
       "      <td id=\"T_5ba35_row6_col0\" class=\"data row6 col0\" >0.47</td>\n",
       "      <td id=\"T_5ba35_row6_col1\" class=\"data row6 col1\" >0.48</td>\n",
       "      <td id=\"T_5ba35_row6_col2\" class=\"data row6 col2\" >0.99%</td>\n",
       "    </tr>\n",
       "  </tbody>\n",
       "</table>\n"
      ],
      "text/plain": [
       "<pandas.io.formats.style.Styler at 0x1d6f298cd00>"
      ]
     },
     "execution_count": 19,
     "metadata": {},
     "output_type": "execute_result"
    }
   ],
   "source": [
    "average_values = valid.groupby(by='Female')[baseline_features].mean().T.rename(columns={0: 'Male', 1: 'Female'})\n",
    "average_values['Percent Difference'] = average_values['Female'] / average_values['Male'] - 1\n",
    "ave_formatter = {'Male': '{:,.2f}', 'Female': '{:,.2f}', 'Percent Difference': '{:,.2%}'}\n",
    "average_values.style.format(ave_formatter)"
   ]
  },
  {
   "cell_type": "markdown",
   "id": "75d8ec83",
   "metadata": {},
   "source": [
    "## Build the Alternative Model"
   ]
  },
  {
   "cell_type": "code",
   "execution_count": 20,
   "id": "bb6e9edb",
   "metadata": {},
   "outputs": [],
   "source": [
    "alternative_features = [x for x in baseline_features if x not in ['Balance']]"
   ]
  },
  {
   "cell_type": "code",
   "execution_count": 22,
   "id": "35706510",
   "metadata": {},
   "outputs": [
    {
     "name": "stdout",
     "output_type": "stream",
     "text": [
      "[0]\ttrain-logloss:0.67964\tvalid-logloss:0.68013\n",
      "[100]\ttrain-logloss:0.59758\tvalid-logloss:0.60251\n",
      "[200]\ttrain-logloss:0.59558\tvalid-logloss:0.60139\n",
      "[219]\ttrain-logloss:0.59541\tvalid-logloss:0.60134\n"
     ]
    }
   ],
   "source": [
    "d_train_alt = xgb.DMatrix(data=train[alternative_features], label=train[label])\n",
    "d_valid_alt = xgb.DMatrix(data=valid[alternative_features], label=valid[label])\n",
    "\n",
    "# Create the evals list for early stopping.\n",
    "evals = [(d_train_alt, 'train'), (d_valid_alt, 'valid')]\n",
    "\n",
    "# Set the hyperparameters.\n",
    "params = {\n",
    "    'seed': 2718,\n",
    "    \"objective\": \"binary:logistic\",\n",
    "    \"eval_metric\": \"logloss\",\n",
    "    'tree_method': 'hist',\n",
    "    'device': 'cuda',\n",
    "    'learning_rate': 0.1,\n",
    "    'max_depth': 2,\n",
    "    'verbosity': 1,\n",
    "}\n",
    "\n",
    "# Train the model. Note a high number of boost rounds, but early stopping is also set.\n",
    "alt_model = xgb.train(\n",
    "    dtrain=d_train_alt, \n",
    "    params=params, \n",
    "    num_boost_round=1000,\n",
    "    evals=evals,\n",
    "    early_stopping_rounds=10,\n",
    "    verbose_eval=100,\n",
    ")\n",
    "alternative_prediction_train = pd.Series(data=alt_model.predict(d_valid_alt), index=valid.index)\n",
    "alternative_prediction_valid = pd.Series(data=alt_model.predict(d_valid_alt), index=valid.index)"
   ]
  },
  {
   "cell_type": "markdown",
   "id": "a028b06b",
   "metadata": {},
   "source": [
    "## Test the Alternative Model for Disparate Impact"
   ]
  },
  {
   "cell_type": "code",
   "execution_count": 23,
   "id": "795cc3ca",
   "metadata": {},
   "outputs": [
    {
     "data": {
      "application/vnd.plotly.v1+json": {
       "config": {
        "plotlyServerURL": "https://plot.ly"
       },
       "data": [
        {
         "hoverlabel": {
          "font": {
           "color": "Black"
          }
         },
         "hovertemplate": "%{x}, %{y}",
         "legendgroup": "Race/Ethnicity",
         "legendgrouptitle": {
          "text": "Race/Ethnicity"
         },
         "marker": {
          "color": "RGBA(78, 121, 167, 1.0)",
          "line": {
           "color": "rgb(8,48,107)"
          },
          "pattern": {
           "shape": "/"
          }
         },
         "name": "Black",
         "text": "0.397",
         "textfont": {
          "color": "Black"
         },
         "type": "bar",
         "x": [
          [
           "Race/Ethnicity"
          ],
          [
           "Black"
          ]
         ],
         "y": [
          0.39749658502181484
         ]
        },
        {
         "hoverlabel": {
          "font": {
           "color": "Black"
          }
         },
         "hovertemplate": "%{x}, %{y}",
         "legendgroup": "Race/Ethnicity",
         "legendgrouptitle": {
          "text": "Race/Ethnicity"
         },
         "marker": {
          "color": "RGBA(78, 121, 167, 0.8333333333333334)",
          "line": {
           "color": "rgb(8,48,107)"
          },
          "pattern": {
           "shape": "/"
          }
         },
         "name": "Hispanic",
         "text": "0.388",
         "textfont": {
          "color": "Black"
         },
         "type": "bar",
         "x": [
          [
           "Race/Ethnicity"
          ],
          [
           "Hispanic"
          ]
         ],
         "y": [
          0.3881142672636953
         ]
        },
        {
         "hoverlabel": {
          "font": {
           "color": "Black"
          }
         },
         "hovertemplate": "%{x}, %{y}",
         "legendgroup": "Sex",
         "legendgrouptitle": {
          "text": "Sex"
         },
         "marker": {
          "color": "RGBA(242, 142, 45, 1.0)",
          "line": {
           "color": "rgb(8,48,107)"
          },
          "pattern": {
           "shape": ""
          }
         },
         "name": "Female",
         "text": "0.947",
         "textfont": {
          "color": "Black"
         },
         "type": "bar",
         "x": [
          [
           "Sex"
          ],
          [
           "Female"
          ]
         ],
         "y": [
          0.9471131399188397
         ]
        },
        {
         "hoverlabel": {
          "font": {
           "color": "Black"
          }
         },
         "hovertemplate": "%{x}, %{y}",
         "legendgroup": "Age",
         "legendgrouptitle": {
          "text": "Age"
         },
         "marker": {
          "color": "RGBA(225, 87, 89, 1.0)",
          "line": {
           "color": "rgb(8,48,107)"
          },
          "pattern": {
           "shape": ""
          }
         },
         "name": "Age >= 62",
         "text": "1.065",
         "textfont": {
          "color": "Black"
         },
         "type": "bar",
         "x": [
          [
           "Age"
          ],
          [
           "Age >=<br>62"
          ]
         ],
         "y": [
          1.0654714558429161
         ]
        },
        {
         "legendgroup": "AIR Threshold",
         "legendgrouptitle": {
          "text": "Threshold"
         },
         "line": {
          "color": "Black",
          "dash": "dot",
          "width": 1.25
         },
         "mode": "lines",
         "name": "AIR Threshold",
         "showlegend": true,
         "type": "scatter",
         "x": [
          null
         ],
         "y": [
          null
         ]
        }
       ],
       "layout": {
        "font": {
         "color": "Black"
        },
        "height": 563,
        "legend": {
         "itemclick": false,
         "itemdoubleclick": false
        },
        "scene": {
         "yaxis": {
          "exponentformat": "none",
          "separatethousands": true
         }
        },
        "shapes": [
         {
          "line": {
           "color": "Black",
           "dash": "dot",
           "width": 1.25
          },
          "name": "AIR Threshold",
          "type": "line",
          "x0": 0,
          "x1": 1,
          "xref": "paper",
          "y0": 0.8,
          "y1": 0.8,
          "yref": "y"
         }
        ],
        "template": {
         "data": {
          "bar": [
           {
            "error_x": {
             "color": "#2a3f5f"
            },
            "error_y": {
             "color": "#2a3f5f"
            },
            "marker": {
             "line": {
              "color": "#E5ECF6",
              "width": 0.5
             },
             "pattern": {
              "fillmode": "overlay",
              "size": 10,
              "solidity": 0.2
             }
            },
            "type": "bar"
           }
          ],
          "barpolar": [
           {
            "marker": {
             "line": {
              "color": "#E5ECF6",
              "width": 0.5
             },
             "pattern": {
              "fillmode": "overlay",
              "size": 10,
              "solidity": 0.2
             }
            },
            "type": "barpolar"
           }
          ],
          "carpet": [
           {
            "aaxis": {
             "endlinecolor": "#2a3f5f",
             "gridcolor": "white",
             "linecolor": "white",
             "minorgridcolor": "white",
             "startlinecolor": "#2a3f5f"
            },
            "baxis": {
             "endlinecolor": "#2a3f5f",
             "gridcolor": "white",
             "linecolor": "white",
             "minorgridcolor": "white",
             "startlinecolor": "#2a3f5f"
            },
            "type": "carpet"
           }
          ],
          "choropleth": [
           {
            "colorbar": {
             "outlinewidth": 0,
             "ticks": ""
            },
            "type": "choropleth"
           }
          ],
          "contour": [
           {
            "colorbar": {
             "outlinewidth": 0,
             "ticks": ""
            },
            "colorscale": [
             [
              0,
              "#0d0887"
             ],
             [
              0.1111111111111111,
              "#46039f"
             ],
             [
              0.2222222222222222,
              "#7201a8"
             ],
             [
              0.3333333333333333,
              "#9c179e"
             ],
             [
              0.4444444444444444,
              "#bd3786"
             ],
             [
              0.5555555555555556,
              "#d8576b"
             ],
             [
              0.6666666666666666,
              "#ed7953"
             ],
             [
              0.7777777777777778,
              "#fb9f3a"
             ],
             [
              0.8888888888888888,
              "#fdca26"
             ],
             [
              1,
              "#f0f921"
             ]
            ],
            "type": "contour"
           }
          ],
          "contourcarpet": [
           {
            "colorbar": {
             "outlinewidth": 0,
             "ticks": ""
            },
            "type": "contourcarpet"
           }
          ],
          "heatmap": [
           {
            "colorbar": {
             "outlinewidth": 0,
             "ticks": ""
            },
            "colorscale": [
             [
              0,
              "#0d0887"
             ],
             [
              0.1111111111111111,
              "#46039f"
             ],
             [
              0.2222222222222222,
              "#7201a8"
             ],
             [
              0.3333333333333333,
              "#9c179e"
             ],
             [
              0.4444444444444444,
              "#bd3786"
             ],
             [
              0.5555555555555556,
              "#d8576b"
             ],
             [
              0.6666666666666666,
              "#ed7953"
             ],
             [
              0.7777777777777778,
              "#fb9f3a"
             ],
             [
              0.8888888888888888,
              "#fdca26"
             ],
             [
              1,
              "#f0f921"
             ]
            ],
            "type": "heatmap"
           }
          ],
          "heatmapgl": [
           {
            "colorbar": {
             "outlinewidth": 0,
             "ticks": ""
            },
            "colorscale": [
             [
              0,
              "#0d0887"
             ],
             [
              0.1111111111111111,
              "#46039f"
             ],
             [
              0.2222222222222222,
              "#7201a8"
             ],
             [
              0.3333333333333333,
              "#9c179e"
             ],
             [
              0.4444444444444444,
              "#bd3786"
             ],
             [
              0.5555555555555556,
              "#d8576b"
             ],
             [
              0.6666666666666666,
              "#ed7953"
             ],
             [
              0.7777777777777778,
              "#fb9f3a"
             ],
             [
              0.8888888888888888,
              "#fdca26"
             ],
             [
              1,
              "#f0f921"
             ]
            ],
            "type": "heatmapgl"
           }
          ],
          "histogram": [
           {
            "marker": {
             "pattern": {
              "fillmode": "overlay",
              "size": 10,
              "solidity": 0.2
             }
            },
            "type": "histogram"
           }
          ],
          "histogram2d": [
           {
            "colorbar": {
             "outlinewidth": 0,
             "ticks": ""
            },
            "colorscale": [
             [
              0,
              "#0d0887"
             ],
             [
              0.1111111111111111,
              "#46039f"
             ],
             [
              0.2222222222222222,
              "#7201a8"
             ],
             [
              0.3333333333333333,
              "#9c179e"
             ],
             [
              0.4444444444444444,
              "#bd3786"
             ],
             [
              0.5555555555555556,
              "#d8576b"
             ],
             [
              0.6666666666666666,
              "#ed7953"
             ],
             [
              0.7777777777777778,
              "#fb9f3a"
             ],
             [
              0.8888888888888888,
              "#fdca26"
             ],
             [
              1,
              "#f0f921"
             ]
            ],
            "type": "histogram2d"
           }
          ],
          "histogram2dcontour": [
           {
            "colorbar": {
             "outlinewidth": 0,
             "ticks": ""
            },
            "colorscale": [
             [
              0,
              "#0d0887"
             ],
             [
              0.1111111111111111,
              "#46039f"
             ],
             [
              0.2222222222222222,
              "#7201a8"
             ],
             [
              0.3333333333333333,
              "#9c179e"
             ],
             [
              0.4444444444444444,
              "#bd3786"
             ],
             [
              0.5555555555555556,
              "#d8576b"
             ],
             [
              0.6666666666666666,
              "#ed7953"
             ],
             [
              0.7777777777777778,
              "#fb9f3a"
             ],
             [
              0.8888888888888888,
              "#fdca26"
             ],
             [
              1,
              "#f0f921"
             ]
            ],
            "type": "histogram2dcontour"
           }
          ],
          "mesh3d": [
           {
            "colorbar": {
             "outlinewidth": 0,
             "ticks": ""
            },
            "type": "mesh3d"
           }
          ],
          "parcoords": [
           {
            "line": {
             "colorbar": {
              "outlinewidth": 0,
              "ticks": ""
             }
            },
            "type": "parcoords"
           }
          ],
          "pie": [
           {
            "automargin": true,
            "type": "pie"
           }
          ],
          "scatter": [
           {
            "fillpattern": {
             "fillmode": "overlay",
             "size": 10,
             "solidity": 0.2
            },
            "type": "scatter"
           }
          ],
          "scatter3d": [
           {
            "line": {
             "colorbar": {
              "outlinewidth": 0,
              "ticks": ""
             }
            },
            "marker": {
             "colorbar": {
              "outlinewidth": 0,
              "ticks": ""
             }
            },
            "type": "scatter3d"
           }
          ],
          "scattercarpet": [
           {
            "marker": {
             "colorbar": {
              "outlinewidth": 0,
              "ticks": ""
             }
            },
            "type": "scattercarpet"
           }
          ],
          "scattergeo": [
           {
            "marker": {
             "colorbar": {
              "outlinewidth": 0,
              "ticks": ""
             }
            },
            "type": "scattergeo"
           }
          ],
          "scattergl": [
           {
            "marker": {
             "colorbar": {
              "outlinewidth": 0,
              "ticks": ""
             }
            },
            "type": "scattergl"
           }
          ],
          "scattermapbox": [
           {
            "marker": {
             "colorbar": {
              "outlinewidth": 0,
              "ticks": ""
             }
            },
            "type": "scattermapbox"
           }
          ],
          "scatterpolar": [
           {
            "marker": {
             "colorbar": {
              "outlinewidth": 0,
              "ticks": ""
             }
            },
            "type": "scatterpolar"
           }
          ],
          "scatterpolargl": [
           {
            "marker": {
             "colorbar": {
              "outlinewidth": 0,
              "ticks": ""
             }
            },
            "type": "scatterpolargl"
           }
          ],
          "scatterternary": [
           {
            "marker": {
             "colorbar": {
              "outlinewidth": 0,
              "ticks": ""
             }
            },
            "type": "scatterternary"
           }
          ],
          "surface": [
           {
            "colorbar": {
             "outlinewidth": 0,
             "ticks": ""
            },
            "colorscale": [
             [
              0,
              "#0d0887"
             ],
             [
              0.1111111111111111,
              "#46039f"
             ],
             [
              0.2222222222222222,
              "#7201a8"
             ],
             [
              0.3333333333333333,
              "#9c179e"
             ],
             [
              0.4444444444444444,
              "#bd3786"
             ],
             [
              0.5555555555555556,
              "#d8576b"
             ],
             [
              0.6666666666666666,
              "#ed7953"
             ],
             [
              0.7777777777777778,
              "#fb9f3a"
             ],
             [
              0.8888888888888888,
              "#fdca26"
             ],
             [
              1,
              "#f0f921"
             ]
            ],
            "type": "surface"
           }
          ],
          "table": [
           {
            "cells": {
             "fill": {
              "color": "#EBF0F8"
             },
             "line": {
              "color": "white"
             }
            },
            "header": {
             "fill": {
              "color": "#C8D4E3"
             },
             "line": {
              "color": "white"
             }
            },
            "type": "table"
           }
          ]
         },
         "layout": {
          "annotationdefaults": {
           "arrowcolor": "#2a3f5f",
           "arrowhead": 0,
           "arrowwidth": 1
          },
          "autotypenumbers": "strict",
          "coloraxis": {
           "colorbar": {
            "outlinewidth": 0,
            "ticks": ""
           }
          },
          "colorscale": {
           "diverging": [
            [
             0,
             "#8e0152"
            ],
            [
             0.1,
             "#c51b7d"
            ],
            [
             0.2,
             "#de77ae"
            ],
            [
             0.3,
             "#f1b6da"
            ],
            [
             0.4,
             "#fde0ef"
            ],
            [
             0.5,
             "#f7f7f7"
            ],
            [
             0.6,
             "#e6f5d0"
            ],
            [
             0.7,
             "#b8e186"
            ],
            [
             0.8,
             "#7fbc41"
            ],
            [
             0.9,
             "#4d9221"
            ],
            [
             1,
             "#276419"
            ]
           ],
           "sequential": [
            [
             0,
             "#0d0887"
            ],
            [
             0.1111111111111111,
             "#46039f"
            ],
            [
             0.2222222222222222,
             "#7201a8"
            ],
            [
             0.3333333333333333,
             "#9c179e"
            ],
            [
             0.4444444444444444,
             "#bd3786"
            ],
            [
             0.5555555555555556,
             "#d8576b"
            ],
            [
             0.6666666666666666,
             "#ed7953"
            ],
            [
             0.7777777777777778,
             "#fb9f3a"
            ],
            [
             0.8888888888888888,
             "#fdca26"
            ],
            [
             1,
             "#f0f921"
            ]
           ],
           "sequentialminus": [
            [
             0,
             "#0d0887"
            ],
            [
             0.1111111111111111,
             "#46039f"
            ],
            [
             0.2222222222222222,
             "#7201a8"
            ],
            [
             0.3333333333333333,
             "#9c179e"
            ],
            [
             0.4444444444444444,
             "#bd3786"
            ],
            [
             0.5555555555555556,
             "#d8576b"
            ],
            [
             0.6666666666666666,
             "#ed7953"
            ],
            [
             0.7777777777777778,
             "#fb9f3a"
            ],
            [
             0.8888888888888888,
             "#fdca26"
            ],
            [
             1,
             "#f0f921"
            ]
           ]
          },
          "colorway": [
           "#636efa",
           "#EF553B",
           "#00cc96",
           "#ab63fa",
           "#FFA15A",
           "#19d3f3",
           "#FF6692",
           "#B6E880",
           "#FF97FF",
           "#FECB52"
          ],
          "font": {
           "color": "#2a3f5f"
          },
          "geo": {
           "bgcolor": "white",
           "lakecolor": "white",
           "landcolor": "#E5ECF6",
           "showlakes": true,
           "showland": true,
           "subunitcolor": "white"
          },
          "hoverlabel": {
           "align": "left"
          },
          "hovermode": "closest",
          "mapbox": {
           "style": "light"
          },
          "paper_bgcolor": "white",
          "plot_bgcolor": "#E5ECF6",
          "polar": {
           "angularaxis": {
            "gridcolor": "white",
            "linecolor": "white",
            "ticks": ""
           },
           "bgcolor": "#E5ECF6",
           "radialaxis": {
            "gridcolor": "white",
            "linecolor": "white",
            "ticks": ""
           }
          },
          "scene": {
           "xaxis": {
            "backgroundcolor": "#E5ECF6",
            "gridcolor": "white",
            "gridwidth": 2,
            "linecolor": "white",
            "showbackground": true,
            "ticks": "",
            "zerolinecolor": "white"
           },
           "yaxis": {
            "backgroundcolor": "#E5ECF6",
            "gridcolor": "white",
            "gridwidth": 2,
            "linecolor": "white",
            "showbackground": true,
            "ticks": "",
            "zerolinecolor": "white"
           },
           "zaxis": {
            "backgroundcolor": "#E5ECF6",
            "gridcolor": "white",
            "gridwidth": 2,
            "linecolor": "white",
            "showbackground": true,
            "ticks": "",
            "zerolinecolor": "white"
           }
          },
          "shapedefaults": {
           "line": {
            "color": "#2a3f5f"
           }
          },
          "ternary": {
           "aaxis": {
            "gridcolor": "white",
            "linecolor": "white",
            "ticks": ""
           },
           "baxis": {
            "gridcolor": "white",
            "linecolor": "white",
            "ticks": ""
           },
           "bgcolor": "#E5ECF6",
           "caxis": {
            "gridcolor": "white",
            "linecolor": "white",
            "ticks": ""
           }
          },
          "title": {
           "x": 0.05
          },
          "xaxis": {
           "automargin": true,
           "gridcolor": "white",
           "linecolor": "white",
           "ticks": "",
           "title": {
            "standoff": 15
           },
           "zerolinecolor": "white",
           "zerolinewidth": 2
          },
          "yaxis": {
           "automargin": true,
           "gridcolor": "white",
           "linecolor": "white",
           "ticks": "",
           "title": {
            "standoff": 15
           },
           "zerolinecolor": "white",
           "zerolinewidth": 2
          }
         }
        },
        "title": {
         "text": "AIR"
        },
        "width": 900,
        "xaxis": {
         "fixedrange": true,
         "title": {
          "text": "Group"
         }
        },
        "yaxis": {
         "fixedrange": true,
         "tickformat": "0,.3f",
         "ticksuffix": "  ",
         "title": {
          "text": "AIR"
         }
        }
       }
      }
     },
     "metadata": {},
     "output_type": "display_data"
    }
   ],
   "source": [
    "alternative_score_cutoff = alternative_prediction_train.quantile(0.3)\n",
    "alternative_offer_valid = alternative_prediction_valid <= alternative_score_cutoff\n",
    "\n",
    "alternative_offer_air = sd.adverse_impact_ratio(\n",
    "    **common_info,\n",
    "    outcome=alternative_offer_valid,\n",
    ")\n",
    "alternative_offer_air.plot()"
   ]
  },
  {
   "cell_type": "code",
   "execution_count": 25,
   "metadata": {},
   "outputs": [
    {
     "data": {
      "text/html": [
       "<div>\n",
       "<style scoped>\n",
       "    .dataframe tbody tr th:only-of-type {\n",
       "        vertical-align: middle;\n",
       "    }\n",
       "\n",
       "    .dataframe tbody tr th {\n",
       "        vertical-align: top;\n",
       "    }\n",
       "\n",
       "    .dataframe thead th {\n",
       "        text-align: right;\n",
       "    }\n",
       "</style>\n",
       "<table class=\"dataframe disparity-table\" id=\"disp-output\">\n",
       "  <thead>\n",
       "    <tr style=\"text-align: right;\">\n",
       "      <th>Group</th>\n",
       "      <th>Reference Group</th>\n",
       "      <th>Group Category</th>\n",
       "      <th>Observations</th>\n",
       "      <th>Percent Missing</th>\n",
       "      <th>Total</th>\n",
       "      <th>Favorable</th>\n",
       "      <th>Percent Favorable</th>\n",
       "      <th>Percent Difference Favorable</th>\n",
       "      <th>AIR</th>\n",
       "      <th>P-Values</th>\n",
       "      <th>Practically Significant</th>\n",
       "      <th>Shortfall</th>\n",
       "    </tr>\n",
       "  </thead>\n",
       "  <tbody>\n",
       "    <tr>\n",
       "      <td>Black</td>\n",
       "      <td>White</td>\n",
       "      <td>Race/Ethnicity</td>\n",
       "      <td>17,951</td>\n",
       "      <td>10.25%</td>\n",
       "      <td>3,695.9</td>\n",
       "      <td>631.3</td>\n",
       "      <td>17.08%</td>\n",
       "      <td>20.11%</td>\n",
       "      <td>0.459</td>\n",
       "      <td>0.000</td>\n",
       "      <td>Yes</td>\n",
       "      <td>743.4</td>\n",
       "    </tr>\n",
       "    <tr>\n",
       "      <td>Hispanic</td>\n",
       "      <td>White</td>\n",
       "      <td>Race/Ethnicity</td>\n",
       "      <td>17,951</td>\n",
       "      <td>10.25%</td>\n",
       "      <td>2,732.0</td>\n",
       "      <td>458.8</td>\n",
       "      <td>16.80%</td>\n",
       "      <td>20.40%</td>\n",
       "      <td>0.452</td>\n",
       "      <td>0.000</td>\n",
       "      <td>Yes</td>\n",
       "      <td>557.3</td>\n",
       "    </tr>\n",
       "    <tr>\n",
       "      <td>White</td>\n",
       "      <td></td>\n",
       "      <td>Race/Ethnicity</td>\n",
       "      <td>17,951</td>\n",
       "      <td>10.25%</td>\n",
       "      <td>11,523.1</td>\n",
       "      <td>4,285.9</td>\n",
       "      <td>37.19%</td>\n",
       "      <td></td>\n",
       "      <td></td>\n",
       "      <td></td>\n",
       "      <td></td>\n",
       "      <td></td>\n",
       "    </tr>\n",
       "    <tr>\n",
       "      <td>Female</td>\n",
       "      <td>Male</td>\n",
       "      <td>Sex</td>\n",
       "      <td>20,000</td>\n",
       "      <td>0.00%</td>\n",
       "      <td>10,145.0</td>\n",
       "      <td>2,245.0</td>\n",
       "      <td>22.13%</td>\n",
       "      <td>15.97%</td>\n",
       "      <td>0.581</td>\n",
       "      <td>0.000</td>\n",
       "      <td>Yes</td>\n",
       "      <td>1,620.5</td>\n",
       "    </tr>\n",
       "    <tr>\n",
       "      <td>Male</td>\n",
       "      <td></td>\n",
       "      <td>Sex</td>\n",
       "      <td>20,000</td>\n",
       "      <td>0.00%</td>\n",
       "      <td>9,855.0</td>\n",
       "      <td>3,755.0</td>\n",
       "      <td>38.10%</td>\n",
       "      <td></td>\n",
       "      <td></td>\n",
       "      <td></td>\n",
       "      <td></td>\n",
       "      <td></td>\n",
       "    </tr>\n",
       "    <tr>\n",
       "      <td>Age &gt;= 62</td>\n",
       "      <td>Age &lt; 62</td>\n",
       "      <td>Age</td>\n",
       "      <td>19,046</td>\n",
       "      <td>4.77%</td>\n",
       "      <td>9,429.0</td>\n",
       "      <td>2,914.0</td>\n",
       "      <td>30.90%</td>\n",
       "      <td>-1.73%</td>\n",
       "      <td>1.059</td>\n",
       "      <td>0.010</td>\n",
       "      <td>No</td>\n",
       "      <td></td>\n",
       "    </tr>\n",
       "    <tr>\n",
       "      <td>Age &lt; 62</td>\n",
       "      <td></td>\n",
       "      <td>Age</td>\n",
       "      <td>19,046</td>\n",
       "      <td>4.77%</td>\n",
       "      <td>9,617.0</td>\n",
       "      <td>2,806.0</td>\n",
       "      <td>29.18%</td>\n",
       "      <td></td>\n",
       "      <td></td>\n",
       "      <td></td>\n",
       "      <td></td>\n",
       "      <td></td>\n",
       "    </tr>\n",
       "  </tbody>\n",
       "</table>\n",
       "</div>"
      ],
      "text/plain": [
       "<IPython.core.display.HTML object>"
      ]
     },
     "metadata": {},
     "output_type": "display_data"
    }
   ],
   "source": [
    "sd.ui.show(baseline_offer_air.summary_table)"
   ]
  },
  {
   "cell_type": "code",
   "execution_count": 26,
   "id": "da2c9e1a",
   "metadata": {},
   "outputs": [
    {
     "data": {
      "text/html": [
       "<style type=\"text/css\">\n",
       "</style>\n",
       "<table id=\"T_72faf\">\n",
       "  <thead>\n",
       "    <tr>\n",
       "      <th class=\"blank level0\" >&nbsp;</th>\n",
       "      <th id=\"T_72faf_level0_col0\" class=\"col_heading level0 col0\" >Baseline AIR</th>\n",
       "      <th id=\"T_72faf_level0_col1\" class=\"col_heading level0 col1\" >Alternative AIR</th>\n",
       "      <th id=\"T_72faf_level0_col2\" class=\"col_heading level0 col2\" >Percent Change in AIR</th>\n",
       "    </tr>\n",
       "    <tr>\n",
       "      <th class=\"index_name level0\" >Group</th>\n",
       "      <th class=\"blank col0\" >&nbsp;</th>\n",
       "      <th class=\"blank col1\" >&nbsp;</th>\n",
       "      <th class=\"blank col2\" >&nbsp;</th>\n",
       "    </tr>\n",
       "  </thead>\n",
       "  <tbody>\n",
       "    <tr>\n",
       "      <th id=\"T_72faf_level0_row0\" class=\"row_heading level0 row0\" >Black</th>\n",
       "      <td id=\"T_72faf_row0_col0\" class=\"data row0 col0\" >0.46</td>\n",
       "      <td id=\"T_72faf_row0_col1\" class=\"data row0 col1\" >0.40</td>\n",
       "      <td id=\"T_72faf_row0_col2\" class=\"data row0 col2\" >-13.44%</td>\n",
       "    </tr>\n",
       "    <tr>\n",
       "      <th id=\"T_72faf_level0_row1\" class=\"row_heading level0 row1\" >Hispanic</th>\n",
       "      <td id=\"T_72faf_row1_col0\" class=\"data row1 col0\" >0.45</td>\n",
       "      <td id=\"T_72faf_row1_col1\" class=\"data row1 col1\" >0.39</td>\n",
       "      <td id=\"T_72faf_row1_col2\" class=\"data row1 col2\" >-14.05%</td>\n",
       "    </tr>\n",
       "    <tr>\n",
       "      <th id=\"T_72faf_level0_row2\" class=\"row_heading level0 row2\" >Female</th>\n",
       "      <td id=\"T_72faf_row2_col0\" class=\"data row2 col0\" >0.58</td>\n",
       "      <td id=\"T_72faf_row2_col1\" class=\"data row2 col1\" >0.95</td>\n",
       "      <td id=\"T_72faf_row2_col2\" class=\"data row2 col2\" >63.08%</td>\n",
       "    </tr>\n",
       "    <tr>\n",
       "      <th id=\"T_72faf_level0_row3\" class=\"row_heading level0 row3\" >Age >= 62</th>\n",
       "      <td id=\"T_72faf_row3_col0\" class=\"data row3 col0\" >1.06</td>\n",
       "      <td id=\"T_72faf_row3_col1\" class=\"data row3 col1\" >1.07</td>\n",
       "      <td id=\"T_72faf_row3_col2\" class=\"data row3 col2\" >0.59%</td>\n",
       "    </tr>\n",
       "  </tbody>\n",
       "</table>\n"
      ],
      "text/plain": [
       "<pandas.io.formats.style.Styler at 0x1d68f486fb0>"
      ]
     },
     "execution_count": 26,
     "metadata": {},
     "output_type": "execute_result"
    }
   ],
   "source": [
    "air_compare = pd.merge(\n",
    "    left=baseline_offer_air.summary_table[['AIR']].rename(columns={'AIR': 'Baseline AIR'}),\n",
    "    right=alternative_offer_air.summary_table[['AIR']].rename(columns={'AIR': 'Alternative AIR'}),\n",
    "    left_index=True, right_index=True,\n",
    ")\n",
    "air_compare['Percent Change in AIR'] = air_compare['Alternative AIR'] / air_compare['Baseline AIR'] - 1\n",
    "formatter = {'Alternative AIR': '{:.2f}', 'Baseline AIR': '{:.2f}', 'Percent Change in AIR': '{:.2%}'}\n",
    "air_compare.loc[air_compare['Baseline AIR'].notna()].style.format(formatter=formatter)\n",
    "        "
   ]
  },
  {
   "cell_type": "markdown",
   "id": "9ec17121",
   "metadata": {},
   "source": [
    "## Evaluate the Alternative Model's Model Quality"
   ]
  },
  {
   "cell_type": "code",
   "execution_count": 27,
   "id": "671a1f12",
   "metadata": {},
   "outputs": [
    {
     "data": {
      "image/png": "[encoded data removed]",
      "text/plain": [
       "<Figure size 800x800 with 1 Axes>"
      ]
     },
     "metadata": {},
     "output_type": "display_data"
    }
   ],
   "source": [
    "import matplotlib.pyplot as plt\n",
    "\n",
    "plt.figure(figsize=(8, 8))\n",
    "plt.plot([0, 1], [0, 1], color='black', linestyle='--')\n",
    "\n",
    "plt.scatter(x=baseline_prediction_valid, y=alternative_prediction_valid, alpha=0.1)\n",
    "plt.xlabel('Baseline Score')\n",
    "plt.ylabel('Alternative Score')\n",
    "plt.show()"
   ]
  },
  {
   "cell_type": "code",
   "execution_count": 28,
   "id": "0aba3b97",
   "metadata": {},
   "outputs": [
    {
     "name": "stdout",
     "output_type": "stream",
     "text": [
      "Baseline AUC:    All Obs: 0.742, Male: 0.731, Female: 0.737\n",
      "Alternative AUC: All Obs: 0.734, Male: 0.731, Female: 0.737\n",
      "AUC Percent Change: -0.96%\n"
     ]
    }
   ],
   "source": [
    "baseline_male_auc = metrics.roc_auc_score(y_true=valid.loc[valid['Female'] == 0, label], y_score=baseline_prediction_valid.loc[valid['Female'] == 0])\n",
    "baseline_female_auc = metrics.roc_auc_score(y_true=valid.loc[valid['Female'] == 1, label], y_score=baseline_prediction_valid.loc[valid['Female'] == 1])\n",
    "baseline_all_auc = metrics.roc_auc_score(y_true=valid.loc[valid['Female'] <= 1, label], y_score=baseline_prediction_valid.loc[valid['Female'] <= 1])\n",
    "\n",
    "alternative_male_auc = metrics.roc_auc_score(y_true=valid.loc[valid['Female'] == 0, label], y_score=alternative_prediction_valid.loc[valid['Female'] == 0])\n",
    "alternative_female_auc = metrics.roc_auc_score(y_true=valid.loc[valid['Female'] == 1, label], y_score=alternative_prediction_valid.loc[valid['Female'] == 1])\n",
    "alternative_all_auc = metrics.roc_auc_score(y_true=valid.loc[valid['Female'] <= 1, label], y_score=alternative_prediction_valid.loc[valid['Female'] <= 1])\n",
    "\n",
    "print(f\"Baseline AUC:    All Obs: {baseline_all_auc:0.3}, Male: {alternative_male_auc:0.3}, Female: {alternative_female_auc:0.3}\")\n",
    "print(f\"Alternative AUC: All Obs: {alternative_all_auc:0.3}, Male: {alternative_male_auc:0.3}, Female: {alternative_female_auc:0.3}\")\n",
    "print(f\"AUC Percent Change: {alternative_all_auc  / baseline_all_auc - 1:0.2%}\")"
   ]
  },
  {
   "cell_type": "code",
   "execution_count": 31,
   "id": "b73dc361",
   "metadata": {},
   "outputs": [
    {
     "data": {
      "image/png": "[encoded data removed]",
      "text/plain": [
       "<Figure size 640x480 with 2 Axes>"
      ]
     },
     "metadata": {},
     "output_type": "display_data"
    }
   ],
   "source": [
    "baseline_cm = metrics.confusion_matrix(y_true=valid[label], y_pred=1 - baseline_offer_valid)\n",
    "btn, bfp, bfn, btp = baseline_cm.ravel()\n",
    "metrics.ConfusionMatrixDisplay(confusion_matrix=baseline_cm).plot()\n",
    "plt.show()"
   ]
  },
  {
   "cell_type": "code",
   "execution_count": 32,
   "id": "4bdcdda7",
   "metadata": {},
   "outputs": [
    {
     "data": {
      "image/png": "[encoded data removed]",
      "text/plain": [
       "<Figure size 640x480 with 2 Axes>"
      ]
     },
     "metadata": {},
     "output_type": "display_data"
    }
   ],
   "source": [
    "alternative_cm = metrics.confusion_matrix(y_true=valid[label], y_pred=1 - alternative_offer_valid)\n",
    "atn, afp, afn, atp = alternative_cm.ravel()\n",
    "metrics.ConfusionMatrixDisplay(confusion_matrix=alternative_cm).plot()\n",
    "plt.show()"
   ]
  },
  {
   "cell_type": "code",
   "execution_count": 33,
   "id": "026adb93",
   "metadata": {},
   "outputs": [
    {
     "name": "stdout",
     "output_type": "stream",
     "text": [
      "Baseline False Positive Rate:    56.44%\n",
      "Alternative False Positive Rate: 56.76%\n"
     ]
    }
   ],
   "source": [
    "baseline_fp = bfp / (bfp + btn)\n",
    "alternative_fp = afp / (afp + atn)\n",
    "\n",
    "print(f\"Baseline False Positive Rate:    {baseline_fp:0.2%}\")\n",
    "print(f\"Alternative False Positive Rate: {alternative_fp:0.2%}\")"
   ]
  },
  {
   "cell_type": "code",
   "execution_count": 34,
   "id": "09694264",
   "metadata": {},
   "outputs": [
    {
     "name": "stdout",
     "output_type": "stream",
     "text": [
      "Baseline Female False Positive Rate:    65.86%\n",
      "Alternative Female False Positive Rate: 56.00%\n"
     ]
    }
   ],
   "source": [
    "fbtn, fbfp, fbfn, fbtp = metrics.confusion_matrix(y_true=valid.loc[valid['Female'] == 1, label], y_pred=1 - baseline_offer_valid.loc[valid['Female'] == 1]).ravel()\n",
    "fatn, fafp, fafn, fatp = metrics.confusion_matrix(y_true=valid.loc[valid['Female'] == 1, label], y_pred=1 - alternative_offer_valid.loc[valid['Female'] == 1]).ravel()\n",
    "\n",
    "baseline_female_fp = fbfp / (fbfp + fbtn)\n",
    "alternative_female_fp = fafp / (fafp + fatn)\n",
    "\n",
    "print(f\"Baseline Female False Positive Rate:    {baseline_female_fp:0.2%}\")\n",
    "print(f\"Alternative Female False Positive Rate: {alternative_female_fp:0.2%}\")"
   ]
  },
  {
   "cell_type": "code",
   "execution_count": 35,
   "id": "090ed55f",
   "metadata": {},
   "outputs": [
    {
     "name": "stdout",
     "output_type": "stream",
     "text": [
      "Baseline Male False Positive Rate:    48.18%\n",
      "Alternative Male False Positive Rate: 57.42%\n"
     ]
    }
   ],
   "source": [
    "mbtn, mbfp, mbfn, mbtp = metrics.confusion_matrix(y_true=valid.loc[valid['Female'] == 0, label], y_pred=1 - baseline_offer_valid.loc[valid['Female'] == 0]).ravel()\n",
    "matn, mafp, mafn, matp = metrics.confusion_matrix(y_true=valid.loc[valid['Female'] == 0, label], y_pred=1 - alternative_offer_valid.loc[valid['Female'] == 0]).ravel()\n",
    "\n",
    "baseline_male_fp = mbfp / (mbfp + mbtn)\n",
    "alternative_male_fp = mafp / (mafp + matn)\n",
    "\n",
    "print(f\"Baseline Male False Positive Rate:    {baseline_male_fp:0.2%}\")\n",
    "print(f\"Alternative Male False Positive Rate: {alternative_male_fp:0.2%}\")"
   ]
  },
  {
   "cell_type": "code",
   "execution_count": null,
   "metadata": {},
   "outputs": [],
   "source": []
  }
 ],
 "metadata": {
  "kernelspec": {
   "display_name": "piml",
   "language": "python",
   "name": "python3"
  },
  "language_info": {
   "codemirror_mode": {
    "name": "ipython",
    "version": 3
   },
   "file_extension": ".py",
   "mimetype": "text/x-python",
   "name": "python",
   "nbconvert_exporter": "python",
   "pygments_lexer": "ipython3",
   "version": "3.10.14"
  }
 },
 "nbformat": 4,
 "nbformat_minor": 5
}
