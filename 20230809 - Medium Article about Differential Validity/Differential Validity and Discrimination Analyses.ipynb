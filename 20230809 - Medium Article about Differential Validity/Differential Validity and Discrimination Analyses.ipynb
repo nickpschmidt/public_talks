{
 "cells": [
  {
   "cell_type": "markdown",
   "metadata": {
    "hide_input": true
   },
   "source": [
    "# Why Differential Validity Measures May Not Mean Your Model is Discriminatory\n",
    "\n",
    "Nicholas Schmidt, SolasAI & BLDS, LLC\n",
    "\n",
    "August 6, 2023\n",
    "\n",
    "## Introduction\n",
    "\n",
    "Discrimination against a group of people or against individuals can be conceptualized in a number of different ways. These include disparate treatment, disparate impact, proxy discrimination, differential prediction, and differential validity. Here, we will focus on differential validity. This is measured as the difference or ratio of one group's model quality measurement to that of another group. For example, we might look at relative AUC scores for an employment hiring model, comparing the AUC for Black applicants to that of white applicants. If the AUC for the Black applicants is substantially lower than that for the white applicants, then there is evidence that the model is differentially valid. It is then assumed that _the model_ must be discriminatory because it is less effective for Black applicants relative to whites. \n",
    "\n",
    "In this notebook, we create a simple example that proves that differential validity measures can be misleading. Instead of just being the result of a bad model, differential validity may arise naturally as the result of differences in the distribution of input data from one group to another - differences which may not be discriminatory or may be outside the control of the modeler or company performing the modeling.\n",
    "\n",
    "Below, we create a synthetic dataset with a few simple variables meant to mimic an employment hiring process. The idea is that we are a company that wants to identify and hire \"highly productive\" employees. To do this, we use this dataset to create a model that uses work experience and an additional factor to predict whether an employee will be highly productive. The company would use the model by scoring prospective employees and hiring those with the highest scores.\n",
    "\n",
    "With this synthetic dataset and model, we show that a well-built model can still show evidence of differential validity. In particular, _evidence of differential validity occurs when an input variable has lower variance for one group relative to another, even when the model accurately captures the true data generating process for all groups_. This is important because it means that differential validity as a measure of model-based discrimination can be misleading. There may be non-model-related, and possibly non-discriminatory, reasons why a model should show differential validity. The converse is also true: a bad model that does not show evidence of differential validity may still be a discriminatory model. Therefore, only looking at measures of differential validity is not sufficient to identify discrimination. Instead, we should be concerned with (1) ensuring that the model accurately captures the data generating process, (2) determining whether that data generating process is itself discriminatory, and (3) determining whether the usage of the model is discriminatory. \n",
    "\n",
    "The code and example below show how an otherwise accurate model can show evidence of differential validity. If you are not comfortable with Python code, feel free to ignore it - the text will sufficiently explain what the code is doing."
   ]
  },
  {
   "cell_type": "markdown",
   "metadata": {},
   "source": [
    "## Create the Dataset\n",
    "\n",
    "We first start by creating the synthetic dataset that will be used for the model and differential validity assessment. The advantage of using this synthetic dataset is that we know exactly what the data generating process is, which means we can make a model that perfectly replicates that process. In other words, we will know that the model that we will build will be the best model possible.\n",
    "\n",
    "Before proceeding, we will define the _data generating process_ as the process that causes the data to occur as they do. Here, the synthetic data are created (or \"generated\") using chosen distributions and parameters. As such, we know what the inputs will be, and we also know how the inputs work to create the output (i.e., how the variables work together to form the `Highly Productive` outcome). We will also know exactly how uncertainty comes into the process. "
   ]
  },
  {
   "cell_type": "code",
   "execution_count": 1,
   "metadata": {
    "ExecuteTime": {
     "end_time": "2023-08-06T19:52:20.556181600Z",
     "start_time": "2023-08-06T19:52:19.833423300Z"
    },
    "hide_input": false
   },
   "outputs": [],
   "source": [
    "import matplotlib.pyplot as plt\n",
    "import numpy as np\n",
    "import pandas as pd\n",
    "np.random.seed(31415)"
   ]
  },
  {
   "cell_type": "markdown",
   "metadata": {},
   "source": [
    "The dataset we create has three influential factors. The first is the employee's `Experience`, which might be the time spent working on the job, tenure, or some other measure of experience. The second variable is a vaguely defined `Other Factor` that is important for determining productivity. This might be something like specialized training, education, or something else. What the factor specifically represents is not important for this hypothetical example -- we include it because we want to have multiple variables in the model. These two variables represent all the measurable information that the company has that can be used to predict whether a person is highly productive. Of course, there are other unmeasurable factors. These are captured in the `Unmeasurable Factors` variable which corresponds to the noise or uncertainty of the process. Importantly, these unmeasurable factors are independent of both race and the measurable factors.\n",
    "\n",
    "We also create `Minority` and `Majority` variables. These are created to be entirely unrelated to the other variables in the model, except that we change the variance of the `Experience` variable for minorities in the next step."
   ]
  },
  {
   "cell_type": "code",
   "execution_count": 2,
   "metadata": {
    "ExecuteTime": {
     "end_time": "2023-08-06T19:52:21.621168400Z",
     "start_time": "2023-08-06T19:52:21.586902200Z"
    }
   },
   "outputs": [],
   "source": [
    "data = np.random.randn(250000, 2)\n",
    "data = pd.DataFrame(data=data, columns=['Experience', 'Other Factor'])\n",
    "data['Unmeasurable Factors'] = np.random.logistic(0, 1, len(data))\n",
    "data['Minority'] = np.random.choice([0, 1], len(data))\n",
    "data['Majority'] = 1 - data['Minority']"
   ]
  },
  {
   "cell_type": "markdown",
   "metadata": {},
   "source": [
    "The step below is the key for generating differential validity in an otherwise accurate and potentially non-discriminatory model. For minorities, we reduce the variation in the `Experience` variable by one-half. Importantly, this does not change the average level of experience for minorities. The effect is that there are fewer minorities with very little experience, but there are also fewer minorities with large amounts of experience. Whether this change represents a non-discriminatory impact is questionable, but it is certainly outside the control of the modeler.\n",
    "\n",
    "For both groups, we add 10 to the `Experience` variable, which makes the average experience equal to 10 years. This is done to make the variable appear more realistic, but does not impact results."
   ]
  },
  {
   "cell_type": "code",
   "execution_count": 3,
   "metadata": {
    "ExecuteTime": {
     "end_time": "2023-08-06T19:52:22.756460400Z",
     "start_time": "2023-08-06T19:52:22.708726400Z"
    }
   },
   "outputs": [],
   "source": [
    "data.loc[data['Minority'] == 1, 'Experience'] = \\\n",
    "data.loc[data['Minority'] == 1, 'Experience'] * 0.5\n",
    "data['Experience'] = data['Experience'] + 10"
   ]
  },
  {
   "cell_type": "markdown",
   "metadata": {},
   "source": [
    "We now complete the data generating process by creating the outcome, `Highly Productive`. A person is highly productive if the sum of their `Experience`, `Other Factor`, and the `Unmeasurable Factor` and a constant, `-10`, is above zero. It is important to emphasize that this _is_ the data generating process -- in other words, it is the ground truth. We are to assume that in the real world, applicants labeled as being highly productive are actually highly productive."
   ]
  },
  {
   "cell_type": "code",
   "execution_count": 4,
   "metadata": {
    "ExecuteTime": {
     "end_time": "2023-08-06T19:52:23.812440Z",
     "start_time": "2023-08-06T19:52:23.744091400Z"
    }
   },
   "outputs": [],
   "source": [
    "input_vars = ['Experience', 'Other Factor', 'Unmeasurable Factors']\n",
    "\n",
    "data['Highly Productive'] = -10 + data[input_vars].sum(axis=1)\n",
    "data['Highly Productive'] = data['Highly Productive'] > 0"
   ]
  },
  {
   "cell_type": "markdown",
   "metadata": {},
   "source": [
    "Here, we print a few records from the dataset to show what they look like."
   ]
  },
  {
   "cell_type": "code",
   "execution_count": 5,
   "metadata": {
    "ExecuteTime": {
     "end_time": "2023-08-06T19:52:24.765284100Z",
     "start_time": "2023-08-06T19:52:24.720088900Z"
    }
   },
   "outputs": [
    {
     "data": {
      "text/html": [
       "<div>\n",
       "<style scoped>\n",
       "    .dataframe tbody tr th:only-of-type {\n",
       "        vertical-align: middle;\n",
       "    }\n",
       "\n",
       "    .dataframe tbody tr th {\n",
       "        vertical-align: top;\n",
       "    }\n",
       "\n",
       "    .dataframe thead th {\n",
       "        text-align: right;\n",
       "    }\n",
       "</style>\n",
       "<table border=\"1\" class=\"dataframe\">\n",
       "  <thead>\n",
       "    <tr style=\"text-align: right;\">\n",
       "      <th></th>\n",
       "      <th>Experience</th>\n",
       "      <th>Other Factor</th>\n",
       "      <th>Unmeasurable Factors</th>\n",
       "      <th>Minority</th>\n",
       "      <th>Majority</th>\n",
       "      <th>Highly Productive</th>\n",
       "    </tr>\n",
       "  </thead>\n",
       "  <tbody>\n",
       "    <tr>\n",
       "      <th>6745</th>\n",
       "      <td>9.827526</td>\n",
       "      <td>-1.503873</td>\n",
       "      <td>0.552433</td>\n",
       "      <td>0</td>\n",
       "      <td>1</td>\n",
       "      <td>False</td>\n",
       "    </tr>\n",
       "    <tr>\n",
       "      <th>118550</th>\n",
       "      <td>10.375811</td>\n",
       "      <td>-0.418149</td>\n",
       "      <td>0.136883</td>\n",
       "      <td>1</td>\n",
       "      <td>0</td>\n",
       "      <td>True</td>\n",
       "    </tr>\n",
       "    <tr>\n",
       "      <th>63802</th>\n",
       "      <td>9.539409</td>\n",
       "      <td>0.427150</td>\n",
       "      <td>3.458769</td>\n",
       "      <td>0</td>\n",
       "      <td>1</td>\n",
       "      <td>True</td>\n",
       "    </tr>\n",
       "    <tr>\n",
       "      <th>168386</th>\n",
       "      <td>10.181761</td>\n",
       "      <td>-0.303181</td>\n",
       "      <td>-0.728387</td>\n",
       "      <td>1</td>\n",
       "      <td>0</td>\n",
       "      <td>False</td>\n",
       "    </tr>\n",
       "    <tr>\n",
       "      <th>247771</th>\n",
       "      <td>11.518550</td>\n",
       "      <td>-0.109430</td>\n",
       "      <td>-4.431295</td>\n",
       "      <td>0</td>\n",
       "      <td>1</td>\n",
       "      <td>False</td>\n",
       "    </tr>\n",
       "  </tbody>\n",
       "</table>\n",
       "</div>"
      ],
      "text/plain": [
       "        Experience  Other Factor  Unmeasurable Factors  Minority  Majority  \\\n",
       "6745      9.827526     -1.503873              0.552433         0         1   \n",
       "118550   10.375811     -0.418149              0.136883         1         0   \n",
       "63802     9.539409      0.427150              3.458769         0         1   \n",
       "168386   10.181761     -0.303181             -0.728387         1         0   \n",
       "247771   11.518550     -0.109430             -4.431295         0         1   \n",
       "\n",
       "        Highly Productive  \n",
       "6745                False  \n",
       "118550               True  \n",
       "63802                True  \n",
       "168386              False  \n",
       "247771              False  "
      ]
     },
     "execution_count": 5,
     "metadata": {},
     "output_type": "execute_result"
    }
   ],
   "source": [
    "data.sample(n=5)"
   ]
  },
  {
   "cell_type": "markdown",
   "metadata": {},
   "source": [
    "Next, we show the average values for all the variables in the dataset. Importantly, there is no meaningful difference in the rate that minorities and non-minorities are defined as being highly productive: both groups are, in truth, approximately 50% likely to be highly productive."
   ]
  },
  {
   "cell_type": "code",
   "execution_count": 6,
   "metadata": {
    "ExecuteTime": {
     "end_time": "2023-08-06T19:52:25.798181400Z",
     "start_time": "2023-08-06T19:52:25.766909700Z"
    }
   },
   "outputs": [
    {
     "data": {
      "text/html": [
       "<style type=\"text/css\">\n",
       "</style>\n",
       "<table id=\"T_a933e\">\n",
       "  <thead>\n",
       "    <tr>\n",
       "      <th id=\"T_a933e_level0_col0\" class=\"col_heading level0 col0\" >Variable</th>\n",
       "      <th id=\"T_a933e_level0_col1\" class=\"col_heading level0 col1\" >Majority</th>\n",
       "      <th id=\"T_a933e_level0_col2\" class=\"col_heading level0 col2\" >Minority</th>\n",
       "    </tr>\n",
       "  </thead>\n",
       "  <tbody>\n",
       "    <tr>\n",
       "      <td id=\"T_a933e_row0_col0\" class=\"data row0 col0\" >Experience</td>\n",
       "      <td id=\"T_a933e_row0_col1\" class=\"data row0 col1\" >10.008</td>\n",
       "      <td id=\"T_a933e_row0_col2\" class=\"data row0 col2\" >10.000</td>\n",
       "    </tr>\n",
       "    <tr>\n",
       "      <td id=\"T_a933e_row1_col0\" class=\"data row1 col0\" >Other Factor</td>\n",
       "      <td id=\"T_a933e_row1_col1\" class=\"data row1 col1\" >0.002</td>\n",
       "      <td id=\"T_a933e_row1_col2\" class=\"data row1 col2\" >-0.003</td>\n",
       "    </tr>\n",
       "    <tr>\n",
       "      <td id=\"T_a933e_row2_col0\" class=\"data row2 col0\" >Unmeasurable Factors</td>\n",
       "      <td id=\"T_a933e_row2_col1\" class=\"data row2 col1\" >0.008</td>\n",
       "      <td id=\"T_a933e_row2_col2\" class=\"data row2 col2\" >-0.003</td>\n",
       "    </tr>\n",
       "    <tr>\n",
       "      <td id=\"T_a933e_row3_col0\" class=\"data row3 col0\" >Highly Productive</td>\n",
       "      <td id=\"T_a933e_row3_col1\" class=\"data row3 col1\" >0.504</td>\n",
       "      <td id=\"T_a933e_row3_col2\" class=\"data row3 col2\" >0.498</td>\n",
       "    </tr>\n",
       "  </tbody>\n",
       "</table>\n"
      ],
      "text/plain": [
       "<pandas.io.formats.style.Styler at 0x2692c878e20>"
      ]
     },
     "execution_count": 6,
     "metadata": {},
     "output_type": "execute_result"
    }
   ],
   "source": [
    "(data\n",
    " .drop(columns=['Majority'])\n",
    " .groupby('Minority')\n",
    " .mean()\n",
    " .T\n",
    " .reset_index()\n",
    " .rename(columns={'index': 'Variable', 0:'Majority', 1:'Minority'})\n",
    " .style\n",
    " .format(precision=3)\n",
    " .hide(axis='index')\n",
    ")"
   ]
  },
  {
   "cell_type": "markdown",
   "metadata": {},
   "source": [
    "Below, we show the standard deviations of the variables. As expected, the only meaningful difference is in the `Experience` variable. As designed, the standard deviation of `Experience` for minorities is about half of that for the majority group."
   ]
  },
  {
   "cell_type": "code",
   "execution_count": 7,
   "metadata": {
    "ExecuteTime": {
     "end_time": "2023-08-06T19:52:26.489192500Z",
     "start_time": "2023-08-06T19:52:26.457207300Z"
    }
   },
   "outputs": [
    {
     "data": {
      "text/html": [
       "<style type=\"text/css\">\n",
       "</style>\n",
       "<table id=\"T_a8dcc\">\n",
       "  <thead>\n",
       "    <tr>\n",
       "      <th id=\"T_a8dcc_level0_col0\" class=\"col_heading level0 col0\" >Variable</th>\n",
       "      <th id=\"T_a8dcc_level0_col1\" class=\"col_heading level0 col1\" >Majority</th>\n",
       "      <th id=\"T_a8dcc_level0_col2\" class=\"col_heading level0 col2\" >Minority</th>\n",
       "    </tr>\n",
       "  </thead>\n",
       "  <tbody>\n",
       "    <tr>\n",
       "      <td id=\"T_a8dcc_row0_col0\" class=\"data row0 col0\" >Experience</td>\n",
       "      <td id=\"T_a8dcc_row0_col1\" class=\"data row0 col1\" >1.002</td>\n",
       "      <td id=\"T_a8dcc_row0_col2\" class=\"data row0 col2\" >0.500</td>\n",
       "    </tr>\n",
       "    <tr>\n",
       "      <td id=\"T_a8dcc_row1_col0\" class=\"data row1 col0\" >Other Factor</td>\n",
       "      <td id=\"T_a8dcc_row1_col1\" class=\"data row1 col1\" >1.002</td>\n",
       "      <td id=\"T_a8dcc_row1_col2\" class=\"data row1 col2\" >1.001</td>\n",
       "    </tr>\n",
       "    <tr>\n",
       "      <td id=\"T_a8dcc_row2_col0\" class=\"data row2 col0\" >Unmeasurable Factors</td>\n",
       "      <td id=\"T_a8dcc_row2_col1\" class=\"data row2 col1\" >1.821</td>\n",
       "      <td id=\"T_a8dcc_row2_col2\" class=\"data row2 col2\" >1.817</td>\n",
       "    </tr>\n",
       "    <tr>\n",
       "      <td id=\"T_a8dcc_row3_col0\" class=\"data row3 col0\" >Highly Productive</td>\n",
       "      <td id=\"T_a8dcc_row3_col1\" class=\"data row3 col1\" >0.500</td>\n",
       "      <td id=\"T_a8dcc_row3_col2\" class=\"data row3 col2\" >0.500</td>\n",
       "    </tr>\n",
       "  </tbody>\n",
       "</table>\n"
      ],
      "text/plain": [
       "<pandas.io.formats.style.Styler at 0x2692d405fd0>"
      ]
     },
     "execution_count": 7,
     "metadata": {},
     "output_type": "execute_result"
    }
   ],
   "source": [
    "(data\n",
    " .drop(columns=['Majority'])\n",
    " .groupby('Minority')\n",
    " .std()\n",
    " .T\n",
    " .reset_index()\n",
    " .rename(columns={'index': 'Variable', 0:'Majority', 1:'Minority'})\n",
    " .style\n",
    " .format(precision=3)\n",
    " .hide(axis='index')\n",
    ")"
   ]
  },
  {
   "cell_type": "markdown",
   "metadata": {},
   "source": [
    "That the averages are the same but the standard deviations are different is shown graphically below. We see that the majority group has a much wider distribution of \"Experience\" than the minority group, but that they are both centered around 10 years of experience."
   ]
  },
  {
   "cell_type": "code",
   "execution_count": 8,
   "metadata": {
    "ExecuteTime": {
     "end_time": "2023-08-06T19:52:28.287374400Z",
     "start_time": "2023-08-06T19:52:27.170904500Z"
    }
   },
   "outputs": [
    {
     "data": {
      "text/plain": [
       "Minority\n",
       "Majority    Axes(0.125,0.11;0.775x0.77)\n",
       "Minority    Axes(0.125,0.11;0.775x0.77)\n",
       "Name: Experience, dtype: object"
      ]
     },
     "execution_count": 8,
     "metadata": {},
     "output_type": "execute_result"
    },
    {
     "data": {
      "image/png": "[encoded data removed]",
      "text/plain": [
       "<Figure size 800x600 with 1 Axes>"
      ]
     },
     "metadata": {},
     "output_type": "display_data"
    }
   ],
   "source": [
    "(data.replace({'Minority': {0: 'Majority', 1: 'Minority'}})\n",
    " .groupby('Minority')['Experience']\n",
    " .plot.hist(\n",
    "     title=\"Distribution of Experience\",\n",
    "     bins=100, \n",
    "     alpha=0.4, \n",
    "     legend=True, \n",
    "     figsize=(8, 6)\n",
    " )\n",
    ")"
   ]
  },
  {
   "cell_type": "markdown",
   "metadata": {},
   "source": [
    "## Constructing a Model\n",
    "\n",
    "At this point, we assume that the company's data scientist has been tasked with building a model to predict productivity. After working with the data, they decide to use a logistic regression and the two factors we created above. This would be the right thing to do because the logistic regression accurately captures the data generating process created above with all the information available. In other words, _the logistic regression is the best possible model for both minorities and non-minorities._ Any other model, including any machine learning models, or even a deep neural network, would only approximate the fit of this logistic model.\n",
    "\n",
    "After running the logistic regression, we print some summary output. Note the values of the coefficients at the bottom. We see that the `const` term is close to negative ten, while the `Experience` and `Other Factor` variables' coefficients are close to one. This means the model accurately captures the data generating process for both minorities and non-minorities."
   ]
  },
  {
   "cell_type": "code",
   "execution_count": 9,
   "metadata": {
    "ExecuteTime": {
     "end_time": "2023-08-06T19:52:31.057391900Z",
     "start_time": "2023-08-06T19:52:28.287374400Z"
    }
   },
   "outputs": [
    {
     "name": "stdout",
     "output_type": "stream",
     "text": [
      "Optimization terminated successfully.\n",
      "         Current function value: 0.561537\n",
      "         Iterations 6\n"
     ]
    },
    {
     "data": {
      "text/html": [
       "<table class=\"simpletable\">\n",
       "<caption>Logit Regression Results</caption>\n",
       "<tr>\n",
       "  <th>Dep. Variable:</th>   <td>Highly Productive</td> <th>  No. Observations:  </th>   <td>250000</td>   \n",
       "</tr>\n",
       "<tr>\n",
       "  <th>Model:</th>                 <td>Logit</td>       <th>  Df Residuals:      </th>   <td>249997</td>   \n",
       "</tr>\n",
       "<tr>\n",
       "  <th>Method:</th>                 <td>MLE</td>        <th>  Df Model:          </th>   <td>     2</td>   \n",
       "</tr>\n",
       "<tr>\n",
       "  <th>Date:</th>            <td>Wed, 09 Aug 2023</td>  <th>  Pseudo R-squ.:     </th>   <td>0.1899</td>   \n",
       "</tr>\n",
       "<tr>\n",
       "  <th>Time:</th>                <td>07:49:19</td>      <th>  Log-Likelihood:    </th> <td>-1.4038e+05</td>\n",
       "</tr>\n",
       "<tr>\n",
       "  <th>converged:</th>             <td>True</td>        <th>  LL-Null:           </th> <td>-1.7329e+05</td>\n",
       "</tr>\n",
       "<tr>\n",
       "  <th>Covariance Type:</th>     <td>nonrobust</td>     <th>  LLR p-value:       </th>   <td> 0.000</td>   \n",
       "</tr>\n",
       "</table>\n",
       "<table class=\"simpletable\">\n",
       "<tr>\n",
       "        <td></td>          <th>coef</th>     <th>std err</th>      <th>z</th>      <th>P>|z|</th>  <th>[0.025</th>    <th>0.975]</th>  \n",
       "</tr>\n",
       "<tr>\n",
       "  <th>const</th>        <td>   -9.9596</td> <td>    0.067</td> <td> -148.158</td> <td> 0.000</td> <td>  -10.091</td> <td>   -9.828</td>\n",
       "</tr>\n",
       "<tr>\n",
       "  <th>Experience</th>   <td>    0.9960</td> <td>    0.007</td> <td>  148.548</td> <td> 0.000</td> <td>    0.983</td> <td>    1.009</td>\n",
       "</tr>\n",
       "<tr>\n",
       "  <th>Other Factor</th> <td>    0.9955</td> <td>    0.005</td> <td>  183.257</td> <td> 0.000</td> <td>    0.985</td> <td>    1.006</td>\n",
       "</tr>\n",
       "</table>"
      ],
      "text/plain": [
       "<class 'statsmodels.iolib.summary.Summary'>\n",
       "\"\"\"\n",
       "                           Logit Regression Results                           \n",
       "==============================================================================\n",
       "Dep. Variable:      Highly Productive   No. Observations:               250000\n",
       "Model:                          Logit   Df Residuals:                   249997\n",
       "Method:                           MLE   Df Model:                            2\n",
       "Date:                Wed, 09 Aug 2023   Pseudo R-squ.:                  0.1899\n",
       "Time:                        07:49:19   Log-Likelihood:            -1.4038e+05\n",
       "converged:                       True   LL-Null:                   -1.7329e+05\n",
       "Covariance Type:            nonrobust   LLR p-value:                     0.000\n",
       "================================================================================\n",
       "                   coef    std err          z      P>|z|      [0.025      0.975]\n",
       "--------------------------------------------------------------------------------\n",
       "const           -9.9596      0.067   -148.158      0.000     -10.091      -9.828\n",
       "Experience       0.9960      0.007    148.548      0.000       0.983       1.009\n",
       "Other Factor     0.9955      0.005    183.257      0.000       0.985       1.006\n",
       "================================================================================\n",
       "\"\"\""
      ]
     },
     "execution_count": 9,
     "metadata": {},
     "output_type": "execute_result"
    }
   ],
   "source": [
    "import statsmodels.api as sm\n",
    "\n",
    "model = sm.Logit(\n",
    "    data['Highly Productive'], \n",
    "    sm.add_constant(data[['Experience', 'Other Factor']])\n",
    ").fit()\n",
    "model.summary()"
   ]
  },
  {
   "cell_type": "markdown",
   "metadata": {},
   "source": [
    "In the step below, we calculate predictions with the model which will be used to calculate differential validity."
   ]
  },
  {
   "cell_type": "code",
   "execution_count": 10,
   "metadata": {
    "ExecuteTime": {
     "end_time": "2023-08-06T19:52:31.104918200Z",
     "start_time": "2023-08-06T19:52:31.041734300Z"
    }
   },
   "outputs": [],
   "source": [
    "data['Predictions'] = model.predict(\n",
    "    sm.add_constant(data[['Experience', 'Other Factor']])\n",
    ")"
   ]
  },
  {
   "cell_type": "markdown",
   "metadata": {},
   "source": [
    "The graph below further shows that the logistic regression has accurately estimated the true data generating process. This can be seen by the fact that the logistic regression's predictions nearly perfectly line up with the true data generating process values along a 45 degree line. While the technical aspects of this are beyond the scope of this notebook, one can say that the model would be flawed if the predictions did not fall along the 45 degree line. Seeing that they do indicates that the model is the best possible model for everyone scored by the model (i.e., it is the best possible model for both minorities and non-minorities)."
   ]
  },
  {
   "cell_type": "code",
   "execution_count": 11,
   "metadata": {
    "ExecuteTime": {
     "end_time": "2023-08-06T19:52:31.286985300Z",
     "start_time": "2023-08-06T19:52:31.073257300Z"
    }
   },
   "outputs": [
    {
     "data": {
      "text/plain": [
       "<Axes: title={'center': 'Predictions vs. True Data Generating Process'}, xlabel='Predictions', ylabel='True Data Generating Process'>"
      ]
     },
     "execution_count": 11,
     "metadata": {},
     "output_type": "execute_result"
    },
    {
     "data": {
      "image/png": "[encoded data removed]",
      "text/plain": [
       "<Figure size 600x600 with 1 Axes>"
      ]
     },
     "metadata": {},
     "output_type": "display_data"
    }
   ],
   "source": [
    "data['True Data Generating Process'] = \\\n",
    "-10 + data['Experience'] + data['Other Factor']\n",
    "data['True Data Generating Process'] = \\\n",
    "1 / (1 + np.exp(-data['True Data Generating Process']))\n",
    "data.sample(n=1000).plot.scatter(\n",
    "    x='Predictions', \n",
    "    y='True Data Generating Process', \n",
    "    title='Predictions vs. True Data Generating Process', \n",
    "    s=0.1,\n",
    "    figsize=(6, 6),\n",
    ")"
   ]
  },
  {
   "cell_type": "markdown",
   "metadata": {},
   "source": [
    "## Calculating Differential Validity\n",
    "\n",
    "Here, we use **SolasAI's** `custom_disparity_metric` to calculate the ROC-AUC scores for minorities and majority group members. We find that, despite the model being the best possible model for both minorities and non-minorities, we see evidence of differential validity. The AUC for the minority group is about 0.76, while it is about 0.80 for the majority group. This difference, about 5.1%, would likely be cause for concern in a differential validity analysis."
   ]
  },
  {
   "cell_type": "code",
   "execution_count": 12,
   "metadata": {
    "ExecuteTime": {
     "end_time": "2023-08-06T19:53:37.414796400Z",
     "start_time": "2023-08-06T19:53:37.229081Z"
    }
   },
   "outputs": [
    {
     "data": {
      "text/html": [
       "<div>\n",
       "<style scoped>\n",
       "    .dataframe tbody tr th:only-of-type {\n",
       "        vertical-align: middle;\n",
       "    }\n",
       "\n",
       "    .dataframe tbody tr th {\n",
       "        vertical-align: top;\n",
       "    }\n",
       "\n",
       "    .dataframe thead th {\n",
       "        text-align: right;\n",
       "    }\n",
       "</style>\n",
       "<table class=\"dataframe disparity-table\" id=\"disp-output\">\n",
       "  <thead>\n",
       "    <tr style=\"text-align: right;\">\n",
       "      <th>Group</th>\n",
       "      <th>Total</th>\n",
       "      <th>ROC AUC SCORE</th>\n",
       "      <th>Difference</th>\n",
       "      <th>Ratio</th>\n",
       "      <th>Practically Significant</th>\n",
       "    </tr>\n",
       "  </thead>\n",
       "  <tbody>\n",
       "    <tr>\n",
       "      <td>Minority</td>\n",
       "      <td>125,415.0</td>\n",
       "      <td>0.759416</td>\n",
       "      <td>0.041</td>\n",
       "      <td>0.949</td>\n",
       "      <td>Yes</td>\n",
       "    </tr>\n",
       "    <tr>\n",
       "      <td>Majority</td>\n",
       "      <td>124,585.0</td>\n",
       "      <td>0.800539</td>\n",
       "      <td></td>\n",
       "      <td></td>\n",
       "      <td></td>\n",
       "    </tr>\n",
       "  </tbody>\n",
       "</table>\n",
       "</div>"
      ],
      "text/plain": [
       "<IPython.core.display.HTML object>"
      ]
     },
     "metadata": {},
     "output_type": "display_data"
    }
   ],
   "source": [
    "import solas_disparity as sd\n",
    "from sklearn.metrics import roc_auc_score\n",
    "\n",
    "relative_auc = sd.custom_disparity_metric(\n",
    "    group_data=data,\n",
    "    protected_groups=['Minority'],\n",
    "    reference_groups=['Majority'],\n",
    "    group_categories=['Race'],\n",
    "    metric=roc_auc_score,\n",
    "    outcome=data['Predictions'],\n",
    "    label=data['Highly Productive'],\n",
    "    difference_threshold=lambda difference: difference > 0,\n",
    "    ratio_threshold=lambda ratio: ratio < 0.95,\n",
    ")\n",
    "print_vars = ['Total', 'ROC AUC SCORE', 'Difference', \n",
    "              'Ratio', 'Practically Significant']\n",
    "sd.ui.show(relative_auc.summary_table[print_vars])"
   ]
  },
  {
   "cell_type": "markdown",
   "metadata": {},
   "source": [
    "\n",
    "\n",
    "## Conclusion\n",
    "\n",
    "People generally assume that a model that shows that a given quality metric is worse for one group means that the model itself is a driver of discrimination. This is not always correct. In this example, we show that the distribution of the data that goes into the model can drive differential validity -- even when the model being used is the best possible model for all groups. This means that measurements of differential validity must be taken with a grain of salt. \n",
    "\n",
    "While we have shown that differential validity is not a reliable measure of model-based discrimination, we have not shown that the use of this data in this model is not discriminatory in other ways. In other words, we still should ask, \"Is this model discriminatory given that it uses data with unequal variances by group?\" The answer is -- maybe. The use of data such as these _can_ drive there to be disparate impact discrimination when the model is used to select employees. In the next notebook in this series, we will show when this model might lead to discriminatory outcomes, and also discuss what can be done to mitigate the discrimination.\n",
    "\n",
    "If you liked this article, you may like my forthcoming book, co-authored with Ali El-Sharif and Serg Masis, [_Building Responsible AI with Python_](https://www.amazon.com/Building-Responsible-AI-Python-hands-ebook/dp/B0BVZX47Q4/ref=sr_1_1?crid=27UBR7X4I7YM1&keywords=responsible+ai+with+python&qid=1691350830&sprefix=responssible+ai+with+python%2Caps%2C83&sr=8-1). Please take a look and consider pre-ordering it. Also, if you're interested in testing your models for evidence of disparities, like we did above, please consider trying SolasAI's publicly-available disparity testing library, [solas-disparity](https://github.com/SolasAI/solas-ai-disparity).\n"
   ]
  }
 ],
 "metadata": {
  "hide_input": false,
  "kernelspec": {
   "display_name": "Python 3 (ipykernel)",
   "language": "python",
   "name": "python3"
  },
  "language_info": {
   "codemirror_mode": {
    "name": "ipython",
    "version": 3
   },
   "file_extension": ".py",
   "mimetype": "text/x-python",
   "name": "python",
   "nbconvert_exporter": "python",
   "pygments_lexer": "ipython3",
   "version": "3.9.0"
  },
  "toc": {
   "base_numbering": 1,
   "nav_menu": {},
   "number_sections": true,
   "sideBar": true,
   "skip_h1_title": false,
   "title_cell": "Table of Contents",
   "title_sidebar": "Contents",
   "toc_cell": false,
   "toc_position": {
    "height": "calc(100% - 180px)",
    "left": "10px",
    "top": "150px",
    "width": "237.6px"
   },
   "toc_section_display": true,
   "toc_window_display": false
  }
 },
 "nbformat": 4,
 "nbformat_minor": 2
}
