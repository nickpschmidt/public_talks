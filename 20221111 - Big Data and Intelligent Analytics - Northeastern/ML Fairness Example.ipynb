{
 "cells": [
  {
   "cell_type": "markdown",
   "metadata": {},
   "source": [
    "# Disparity Calculation Using PiML and SolasAI\n",
    "\n",
    "## Introduction\n",
    "\n"
   ]
  },
  {
   "cell_type": "markdown",
   "metadata": {},
   "source": [
    "## Import Libraries and Data"
   ]
  },
  {
   "cell_type": "code",
   "execution_count": 44,
   "metadata": {
    "collapsed": true
   },
   "outputs": [
    {
     "data": {
      "application/vnd.jupyter.widget-view+json": {
       "model_id": "a3106ce257cf4c1a8a8f5c57884c22b4",
       "version_major": 2,
       "version_minor": 0
      },
      "text/plain": [
       "HTML(value='\\n        <style>\\n\\n        .left-label {\\n            width: 30%;\\n        }\\n\\n        .card-pa…"
      ]
     },
     "metadata": {},
     "output_type": "display_data"
    }
   ],
   "source": [
    "import pandas as pd\n",
    "import numpy as np\n",
    "import plotly.io as pio\n",
    "import solas_disparity as sd\n",
    "from sklearn import metrics\n",
    "from scipy import stats\n",
    "import statsmodels.api as sm\n",
    "from piml import Experiment\n",
    "from piml.models import ExplainableBoostingClassifier\n",
    "from IPython.display import display, Markdown\n",
    "\n",
    "\n",
    "# pio.renderers.default = \"svg\"\n",
    "pd.set_option('display.max_columns', 1000)\n",
    "np.random.seed(161803)\n",
    "\n",
    "# For the notebook, I didn't want the plots to take up too much room, but also didn't want to delete the code that creates them.  Change this to `True` to get PiML's extended output.\n",
    "show_piml_results = False"
   ]
  },
  {
   "cell_type": "code",
   "execution_count": 45,
   "metadata": {
    "collapsed": false
   },
   "outputs": [
    {
     "data": {
      "application/vnd.jupyter.widget-view+json": {
       "model_id": "c82e90d5759d4cf4ad9ddd14878b0dac",
       "version_major": 2,
       "version_minor": 0
      },
      "text/plain": [
       "HTML(value='\\n        <style>\\n\\n        .left-label {\\n            width: 30%;\\n        }\\n\\n        .card-pa…"
      ]
     },
     "metadata": {},
     "output_type": "display_data"
    }
   ],
   "source": [
    "df = pd.read_csv('segmented_friedman_1.csv.gz', index_col=0)"
   ]
  },
  {
   "cell_type": "markdown",
   "metadata": {},
   "source": [
    "We rename the protected/reference columns to be common values (Minority / Majority and Age>=62 / Age<62).  This is just to make the results shown in a way that is likely to be familiar to readers."
   ]
  },
  {
   "cell_type": "code",
   "execution_count": 46,
   "metadata": {
    "collapsed": false
   },
   "outputs": [
    {
     "data": {
      "application/vnd.jupyter.widget-view+json": {
       "model_id": "e8329f0a5b704967830d196a23aa1302",
       "version_major": 2,
       "version_minor": 0
      },
      "text/plain": [
       "HTML(value='\\n        <style>\\n\\n        .left-label {\\n            width: 30%;\\n        }\\n\\n        .card-pa…"
      ]
     },
     "metadata": {},
     "output_type": "display_data"
    },
    {
     "data": {
      "text/html": [
       "<div>\n",
       "<style scoped>\n",
       "    .dataframe tbody tr th:only-of-type {\n",
       "        vertical-align: middle;\n",
       "    }\n",
       "\n",
       "    .dataframe tbody tr th {\n",
       "        vertical-align: top;\n",
       "    }\n",
       "\n",
       "    .dataframe thead th {\n",
       "        text-align: right;\n",
       "    }\n",
       "</style>\n",
       "<table border=\"1\" class=\"dataframe\">\n",
       "  <thead>\n",
       "    <tr style=\"text-align: right;\">\n",
       "      <th></th>\n",
       "      <th>Segment</th>\n",
       "      <th>x1</th>\n",
       "      <th>x2</th>\n",
       "      <th>x3</th>\n",
       "      <th>x4</th>\n",
       "      <th>x5</th>\n",
       "      <th>y</th>\n",
       "      <th>noise</th>\n",
       "      <th>bad</th>\n",
       "      <th>Minority</th>\n",
       "      <th>Majority</th>\n",
       "      <th>Age &gt;= 62</th>\n",
       "      <th>Age &lt; 62</th>\n",
       "      <th>Best Linear Estimate of Y</th>\n",
       "      <th>Best Logistic Estimate of BAD</th>\n",
       "    </tr>\n",
       "  </thead>\n",
       "  <tbody>\n",
       "    <tr>\n",
       "      <th>54848</th>\n",
       "      <td>S15</td>\n",
       "      <td>0.152803</td>\n",
       "      <td>0.325204</td>\n",
       "      <td>0.054422</td>\n",
       "      <td>1.200922</td>\n",
       "      <td>-1.199056</td>\n",
       "      <td>-1.979842</td>\n",
       "      <td>-2.560992</td>\n",
       "      <td>0</td>\n",
       "      <td>0.025988</td>\n",
       "      <td>0.974012</td>\n",
       "      <td>0</td>\n",
       "      <td>1</td>\n",
       "      <td>0.542517</td>\n",
       "      <td>0.058137</td>\n",
       "    </tr>\n",
       "    <tr>\n",
       "      <th>53189</th>\n",
       "      <td>S14</td>\n",
       "      <td>0.276718</td>\n",
       "      <td>-0.256765</td>\n",
       "      <td>-0.396483</td>\n",
       "      <td>-1.163135</td>\n",
       "      <td>0.258974</td>\n",
       "      <td>-0.613252</td>\n",
       "      <td>-0.833580</td>\n",
       "      <td>0</td>\n",
       "      <td>0.130467</td>\n",
       "      <td>0.869533</td>\n",
       "      <td>0</td>\n",
       "      <td>1</td>\n",
       "      <td>0.185917</td>\n",
       "      <td>0.100152</td>\n",
       "    </tr>\n",
       "    <tr>\n",
       "      <th>16320</th>\n",
       "      <td>S06</td>\n",
       "      <td>1.160212</td>\n",
       "      <td>0.882936</td>\n",
       "      <td>0.149230</td>\n",
       "      <td>0.135407</td>\n",
       "      <td>-0.970423</td>\n",
       "      <td>1.489340</td>\n",
       "      <td>1.574834</td>\n",
       "      <td>0</td>\n",
       "      <td>0.946943</td>\n",
       "      <td>0.053057</td>\n",
       "      <td>0</td>\n",
       "      <td>1</td>\n",
       "      <td>-0.085023</td>\n",
       "      <td>0.060697</td>\n",
       "    </tr>\n",
       "    <tr>\n",
       "      <th>816</th>\n",
       "      <td>S04</td>\n",
       "      <td>0.576667</td>\n",
       "      <td>0.427731</td>\n",
       "      <td>-1.746224</td>\n",
       "      <td>-1.137797</td>\n",
       "      <td>0.664875</td>\n",
       "      <td>1.327499</td>\n",
       "      <td>-3.627437</td>\n",
       "      <td>0</td>\n",
       "      <td>0.710901</td>\n",
       "      <td>0.289099</td>\n",
       "      <td>0</td>\n",
       "      <td>1</td>\n",
       "      <td>5.078846</td>\n",
       "      <td>0.886537</td>\n",
       "    </tr>\n",
       "    <tr>\n",
       "      <th>15022</th>\n",
       "      <td>S06</td>\n",
       "      <td>-0.854609</td>\n",
       "      <td>2.036090</td>\n",
       "      <td>-0.518368</td>\n",
       "      <td>-1.833483</td>\n",
       "      <td>0.521418</td>\n",
       "      <td>1.393193</td>\n",
       "      <td>0.838377</td>\n",
       "      <td>0</td>\n",
       "      <td>0.516348</td>\n",
       "      <td>0.483652</td>\n",
       "      <td>1</td>\n",
       "      <td>0</td>\n",
       "      <td>0.557428</td>\n",
       "      <td>0.118042</td>\n",
       "    </tr>\n",
       "  </tbody>\n",
       "</table>\n",
       "</div>"
      ],
      "text/plain": [
       "      Segment        x1        x2        x3        x4        x5         y  \\\n",
       "54848     S15  0.152803  0.325204  0.054422  1.200922 -1.199056 -1.979842   \n",
       "53189     S14  0.276718 -0.256765 -0.396483 -1.163135  0.258974 -0.613252   \n",
       "16320     S06  1.160212  0.882936  0.149230  0.135407 -0.970423  1.489340   \n",
       "816       S04  0.576667  0.427731 -1.746224 -1.137797  0.664875  1.327499   \n",
       "15022     S06 -0.854609  2.036090 -0.518368 -1.833483  0.521418  1.393193   \n",
       "\n",
       "          noise  bad  Minority  Majority  Age >= 62  Age < 62  \\\n",
       "54848 -2.560992    0  0.025988  0.974012          0         1   \n",
       "53189 -0.833580    0  0.130467  0.869533          0         1   \n",
       "16320  1.574834    0  0.946943  0.053057          0         1   \n",
       "816   -3.627437    0  0.710901  0.289099          0         1   \n",
       "15022  0.838377    0  0.516348  0.483652          1         0   \n",
       "\n",
       "       Best Linear Estimate of Y  Best Logistic Estimate of BAD  \n",
       "54848                   0.542517                       0.058137  \n",
       "53189                   0.185917                       0.100152  \n",
       "16320                  -0.085023                       0.060697  \n",
       "816                     5.078846                       0.886537  \n",
       "15022                   0.557428                       0.118042  "
      ]
     },
     "execution_count": 46,
     "metadata": {},
     "output_type": "execute_result"
    }
   ],
   "source": [
    "df.rename(\n",
    "    columns={\n",
    "        'protected_1': 'Minority',\n",
    "        'reference_1': 'Majority',\n",
    "        'protected_2': 'Age >= 62',\n",
    "        'reference_2': 'Age < 62',\n",
    "    },\n",
    "    inplace=True,\n",
    ")\n",
    "\n",
    "protected_groups = ['Minority', 'Age >= 62']\n",
    "reference_groups = ['Majority', 'Age < 62']\n",
    "group_categories = ['Race', 'Age']\n",
    "\n",
    "s_list = list(df['Segment'].unique())\n",
    "s_list = dict(zip(s_list, ['S' + x.split(' ')[1].zfill(2) for x in s_list]))\n",
    "df['Segment'].replace(to_replace=s_list, inplace=True)\n",
    "\n",
    "df.sample(n=5)"
   ]
  },
  {
   "cell_type": "markdown",
   "metadata": {},
   "source": [
    "Create a list of Features, Labels, and a helper dict that holds information and allows the user to easily access the protected and reference group information."
   ]
  },
  {
   "cell_type": "code",
   "execution_count": 47,
   "metadata": {
    "collapsed": false
   },
   "outputs": [
    {
     "data": {
      "application/vnd.jupyter.widget-view+json": {
       "model_id": "9f7c89089b464989acef7ee3045f2043",
       "version_major": 2,
       "version_minor": 0
      },
      "text/plain": [
       "HTML(value='\\n        <style>\\n\\n        .left-label {\\n            width: 30%;\\n        }\\n\\n        .card-pa…"
      ]
     },
     "metadata": {},
     "output_type": "display_data"
    }
   ],
   "source": [
    "features = ['x1', 'x2', 'x3', 'x4', 'x5', 'Segment']\n",
    "label = 'bad'\n",
    "\n",
    "common_disp_info = dict(\n",
    "    protected_groups=protected_groups,\n",
    "    reference_groups=reference_groups,\n",
    "    group_categories=group_categories,\n",
    ")"
   ]
  },
  {
   "cell_type": "markdown",
   "metadata": {},
   "source": [
    "## Build and Explain a Model Using PiML"
   ]
  },
  {
   "cell_type": "code",
   "execution_count": 48,
   "metadata": {
    "collapsed": false
   },
   "outputs": [
    {
     "data": {
      "application/vnd.jupyter.widget-view+json": {
       "model_id": "037bbb4942f54907903d92c2839e2afd",
       "version_major": 2,
       "version_minor": 0
      },
      "text/plain": [
       "HTML(value='\\n        <style>\\n\\n        .left-label {\\n            width: 30%;\\n        }\\n\\n        .card-pa…"
      ]
     },
     "metadata": {},
     "output_type": "display_data"
    },
    {
     "data": {
      "text/html": [
       "<div>\n",
       "<style scoped>\n",
       "    .dataframe tbody tr th:only-of-type {\n",
       "        vertical-align: middle;\n",
       "    }\n",
       "\n",
       "    .dataframe tbody tr th {\n",
       "        vertical-align: top;\n",
       "    }\n",
       "\n",
       "    .dataframe thead th {\n",
       "        text-align: right;\n",
       "    }\n",
       "</style>\n",
       "<table border=\"1\" class=\"dataframe\">\n",
       "  <thead>\n",
       "    <tr style=\"text-align: right;\">\n",
       "      <th></th>\n",
       "      <th>Segment</th>\n",
       "      <th>x1</th>\n",
       "      <th>x2</th>\n",
       "      <th>x3</th>\n",
       "      <th>x4</th>\n",
       "      <th>x5</th>\n",
       "      <th>y</th>\n",
       "      <th>noise</th>\n",
       "      <th>bad</th>\n",
       "      <th>Minority</th>\n",
       "      <th>Majority</th>\n",
       "      <th>Age &gt;= 62</th>\n",
       "      <th>Age &lt; 62</th>\n",
       "      <th>Best Linear Estimate of Y</th>\n",
       "      <th>Best Logistic Estimate of BAD</th>\n",
       "    </tr>\n",
       "  </thead>\n",
       "  <tbody>\n",
       "    <tr>\n",
       "      <th>0</th>\n",
       "      <td>S01</td>\n",
       "      <td>-2.697781</td>\n",
       "      <td>-0.642254</td>\n",
       "      <td>0.370297</td>\n",
       "      <td>0.748018</td>\n",
       "      <td>-1.424125</td>\n",
       "      <td>-1.085025</td>\n",
       "      <td>-0.785855</td>\n",
       "      <td>0.0</td>\n",
       "      <td>0.173852</td>\n",
       "      <td>0.826148</td>\n",
       "      <td>1.0</td>\n",
       "      <td>0.0</td>\n",
       "      <td>-0.331529</td>\n",
       "      <td>0.066508</td>\n",
       "    </tr>\n",
       "    <tr>\n",
       "      <th>1</th>\n",
       "      <td>S01</td>\n",
       "      <td>1.256522</td>\n",
       "      <td>-1.501616</td>\n",
       "      <td>0.662731</td>\n",
       "      <td>0.178733</td>\n",
       "      <td>-0.132569</td>\n",
       "      <td>0.67651</td>\n",
       "      <td>0.421849</td>\n",
       "      <td>0.0</td>\n",
       "      <td>0.154426</td>\n",
       "      <td>0.845574</td>\n",
       "      <td>0.0</td>\n",
       "      <td>1.0</td>\n",
       "      <td>0.257137</td>\n",
       "      <td>0.11331</td>\n",
       "    </tr>\n",
       "    <tr>\n",
       "      <th>2</th>\n",
       "      <td>S01</td>\n",
       "      <td>-0.064053</td>\n",
       "      <td>-0.617098</td>\n",
       "      <td>-1.289419</td>\n",
       "      <td>-0.901302</td>\n",
       "      <td>-0.08264</td>\n",
       "      <td>1.7669</td>\n",
       "      <td>-0.975268</td>\n",
       "      <td>0.0</td>\n",
       "      <td>0.302137</td>\n",
       "      <td>0.697863</td>\n",
       "      <td>1.0</td>\n",
       "      <td>0.0</td>\n",
       "      <td>2.834243</td>\n",
       "      <td>0.640497</td>\n",
       "    </tr>\n",
       "    <tr>\n",
       "      <th>3</th>\n",
       "      <td>S01</td>\n",
       "      <td>-0.749886</td>\n",
       "      <td>1.506928</td>\n",
       "      <td>-0.841099</td>\n",
       "      <td>-0.220455</td>\n",
       "      <td>-0.809758</td>\n",
       "      <td>0.216603</td>\n",
       "      <td>-1.446028</td>\n",
       "      <td>0.0</td>\n",
       "      <td>0.224366</td>\n",
       "      <td>0.775634</td>\n",
       "      <td>0.0</td>\n",
       "      <td>1.0</td>\n",
       "      <td>1.713377</td>\n",
       "      <td>0.364506</td>\n",
       "    </tr>\n",
       "    <tr>\n",
       "      <th>4</th>\n",
       "      <td>S01</td>\n",
       "      <td>1.695371</td>\n",
       "      <td>-0.526214</td>\n",
       "      <td>-0.016714</td>\n",
       "      <td>1.251901</td>\n",
       "      <td>-0.468502</td>\n",
       "      <td>4.418227</td>\n",
       "      <td>3.781825</td>\n",
       "      <td>1.0</td>\n",
       "      <td>0.103299</td>\n",
       "      <td>0.896701</td>\n",
       "      <td>1.0</td>\n",
       "      <td>0.0</td>\n",
       "      <td>0.609743</td>\n",
       "      <td>0.152934</td>\n",
       "    </tr>\n",
       "    <tr>\n",
       "      <th>...</th>\n",
       "      <td>...</td>\n",
       "      <td>...</td>\n",
       "      <td>...</td>\n",
       "      <td>...</td>\n",
       "      <td>...</td>\n",
       "      <td>...</td>\n",
       "      <td>...</td>\n",
       "      <td>...</td>\n",
       "      <td>...</td>\n",
       "      <td>...</td>\n",
       "      <td>...</td>\n",
       "      <td>...</td>\n",
       "      <td>...</td>\n",
       "      <td>...</td>\n",
       "      <td>...</td>\n",
       "    </tr>\n",
       "    <tr>\n",
       "      <th>63235</th>\n",
       "      <td>S15</td>\n",
       "      <td>0.865633</td>\n",
       "      <td>0.244643</td>\n",
       "      <td>1.629236</td>\n",
       "      <td>-0.410947</td>\n",
       "      <td>0.970538</td>\n",
       "      <td>0.70914</td>\n",
       "      <td>-0.860192</td>\n",
       "      <td>0.0</td>\n",
       "      <td>0.208858</td>\n",
       "      <td>0.791142</td>\n",
       "      <td>1.0</td>\n",
       "      <td>0.0</td>\n",
       "      <td>1.556579</td>\n",
       "      <td>0.163854</td>\n",
       "    </tr>\n",
       "    <tr>\n",
       "      <th>63236</th>\n",
       "      <td>S15</td>\n",
       "      <td>-1.273168</td>\n",
       "      <td>0.628253</td>\n",
       "      <td>0.867698</td>\n",
       "      <td>0.372415</td>\n",
       "      <td>1.096055</td>\n",
       "      <td>1.256282</td>\n",
       "      <td>0.973674</td>\n",
       "      <td>0.0</td>\n",
       "      <td>0.711011</td>\n",
       "      <td>0.288989</td>\n",
       "      <td>0.0</td>\n",
       "      <td>1.0</td>\n",
       "      <td>0.294422</td>\n",
       "      <td>0.05366</td>\n",
       "    </tr>\n",
       "    <tr>\n",
       "      <th>63237</th>\n",
       "      <td>S15</td>\n",
       "      <td>0.997929</td>\n",
       "      <td>0.658184</td>\n",
       "      <td>-0.618099</td>\n",
       "      <td>-0.600917</td>\n",
       "      <td>-0.528071</td>\n",
       "      <td>-0.022656</td>\n",
       "      <td>-1.237266</td>\n",
       "      <td>0.0</td>\n",
       "      <td>0.011205</td>\n",
       "      <td>0.988795</td>\n",
       "      <td>1.0</td>\n",
       "      <td>0.0</td>\n",
       "      <td>1.173896</td>\n",
       "      <td>0.103913</td>\n",
       "    </tr>\n",
       "    <tr>\n",
       "      <th>63238</th>\n",
       "      <td>S15</td>\n",
       "      <td>1.349351</td>\n",
       "      <td>0.576261</td>\n",
       "      <td>-0.295542</td>\n",
       "      <td>0.871115</td>\n",
       "      <td>-3.244451</td>\n",
       "      <td>0.467361</td>\n",
       "      <td>-0.106663</td>\n",
       "      <td>0.0</td>\n",
       "      <td>0.752349</td>\n",
       "      <td>0.247651</td>\n",
       "      <td>0.0</td>\n",
       "      <td>1.0</td>\n",
       "      <td>0.502698</td>\n",
       "      <td>0.046988</td>\n",
       "    </tr>\n",
       "    <tr>\n",
       "      <th>63239</th>\n",
       "      <td>S15</td>\n",
       "      <td>-0.657421</td>\n",
       "      <td>0.221449</td>\n",
       "      <td>-1.334743</td>\n",
       "      <td>0.615083</td>\n",
       "      <td>-0.184257</td>\n",
       "      <td>6.877879</td>\n",
       "      <td>3.63785</td>\n",
       "      <td>1.0</td>\n",
       "      <td>0.961675</td>\n",
       "      <td>0.038325</td>\n",
       "      <td>1.0</td>\n",
       "      <td>0.0</td>\n",
       "      <td>3.305998</td>\n",
       "      <td>0.532103</td>\n",
       "    </tr>\n",
       "  </tbody>\n",
       "</table>\n",
       "<p>63240 rows × 15 columns</p>\n",
       "</div>"
      ],
      "text/plain": [
       "      Segment        x1        x2        x3        x4        x5         y  \\\n",
       "0         S01 -2.697781 -0.642254  0.370297  0.748018 -1.424125 -1.085025   \n",
       "1         S01  1.256522 -1.501616  0.662731  0.178733 -0.132569   0.67651   \n",
       "2         S01 -0.064053 -0.617098 -1.289419 -0.901302  -0.08264    1.7669   \n",
       "3         S01 -0.749886  1.506928 -0.841099 -0.220455 -0.809758  0.216603   \n",
       "4         S01  1.695371 -0.526214 -0.016714  1.251901 -0.468502  4.418227   \n",
       "...       ...       ...       ...       ...       ...       ...       ...   \n",
       "63235     S15  0.865633  0.244643  1.629236 -0.410947  0.970538   0.70914   \n",
       "63236     S15 -1.273168  0.628253  0.867698  0.372415  1.096055  1.256282   \n",
       "63237     S15  0.997929  0.658184 -0.618099 -0.600917 -0.528071 -0.022656   \n",
       "63238     S15  1.349351  0.576261 -0.295542  0.871115 -3.244451  0.467361   \n",
       "63239     S15 -0.657421  0.221449 -1.334743  0.615083 -0.184257  6.877879   \n",
       "\n",
       "          noise  bad  Minority  Majority Age >= 62 Age < 62  \\\n",
       "0     -0.785855  0.0  0.173852  0.826148       1.0      0.0   \n",
       "1      0.421849  0.0  0.154426  0.845574       0.0      1.0   \n",
       "2     -0.975268  0.0  0.302137  0.697863       1.0      0.0   \n",
       "3     -1.446028  0.0  0.224366  0.775634       0.0      1.0   \n",
       "4      3.781825  1.0  0.103299  0.896701       1.0      0.0   \n",
       "...         ...  ...       ...       ...       ...      ...   \n",
       "63235 -0.860192  0.0  0.208858  0.791142       1.0      0.0   \n",
       "63236  0.973674  0.0  0.711011  0.288989       0.0      1.0   \n",
       "63237 -1.237266  0.0  0.011205  0.988795       1.0      0.0   \n",
       "63238 -0.106663  0.0  0.752349  0.247651       0.0      1.0   \n",
       "63239   3.63785  1.0  0.961675  0.038325       1.0      0.0   \n",
       "\n",
       "      Best Linear Estimate of Y Best Logistic Estimate of BAD  \n",
       "0                     -0.331529                      0.066508  \n",
       "1                      0.257137                       0.11331  \n",
       "2                      2.834243                      0.640497  \n",
       "3                      1.713377                      0.364506  \n",
       "4                      0.609743                      0.152934  \n",
       "...                         ...                           ...  \n",
       "63235                  1.556579                      0.163854  \n",
       "63236                  0.294422                       0.05366  \n",
       "63237                  1.173896                      0.103913  \n",
       "63238                  0.502698                      0.046988  \n",
       "63239                  3.305998                      0.532103  \n",
       "\n",
       "[63240 rows x 15 columns]"
      ]
     },
     "metadata": {},
     "output_type": "display_data"
    }
   ],
   "source": [
    "exp = Experiment()\n",
    "exp.data_loader(df)"
   ]
  },
  {
   "cell_type": "code",
   "execution_count": 49,
   "metadata": {
    "collapsed": false
   },
   "outputs": [
    {
     "data": {
      "application/vnd.jupyter.widget-view+json": {
       "model_id": "7ef43ce86d0b4e13aba8141f3cb18410",
       "version_major": 2,
       "version_minor": 0
      },
      "text/plain": [
       "HTML(value='\\n        <style>\\n\\n        .left-label {\\n            width: 30%;\\n        }\\n\\n        .card-pa…"
      ]
     },
     "metadata": {},
     "output_type": "display_data"
    },
    {
     "data": {
      "application/vnd.jupyter.widget-view+json": {
       "model_id": "eeb79caa7c1e43dbbe139d2c213b351e",
       "version_major": 2,
       "version_minor": 0
      },
      "text/plain": [
       "HTML(value='\\n        <style>\\n\\n        .left-label {\\n            width: 30%;\\n        }\\n\\n        .card-pa…"
      ]
     },
     "metadata": {},
     "output_type": "display_data"
    },
    {
     "data": {
      "application/vnd.jupyter.widget-view+json": {
       "model_id": "0720cc364a1c4b1998c2e6aa497d35de",
       "version_major": 2,
       "version_minor": 0
      },
      "text/plain": [
       "HTML(value='Data Shape:(63240, 15)')"
      ]
     },
     "metadata": {},
     "output_type": "display_data"
    },
    {
     "data": {
      "application/vnd.jupyter.widget-view+json": {
       "model_id": "dadeeaafb1694db4a792aacd6ca1da56",
       "version_major": 2,
       "version_minor": 0
      },
      "text/plain": [
       "Tab(children=(Output(), Output()), layout=Layout(height='350px'), _titles={'0': 'Numerical Attributes', '1': '…"
      ]
     },
     "metadata": {},
     "output_type": "display_data"
    }
   ],
   "source": [
    "exp.data_summary(\n",
    "    feature_exclude=[x for x in df if x not in features + [label]],\n",
    "    feature_type={key: 'numerical' if key != 'Segment' else 'categorical' for key in features}\n",
    ")"
   ]
  },
  {
   "cell_type": "code",
   "execution_count": 50,
   "metadata": {
    "collapsed": false
   },
   "outputs": [
    {
     "data": {
      "application/vnd.jupyter.widget-view+json": {
       "model_id": "a90b41475d574c2584d531c2e2c074ac",
       "version_major": 2,
       "version_minor": 0
      },
      "text/plain": [
       "HTML(value='\\n        <style>\\n\\n        .left-label {\\n            width: 30%;\\n        }\\n\\n        .card-pa…"
      ]
     },
     "metadata": {},
     "output_type": "display_data"
    },
    {
     "data": {
      "application/vnd.jupyter.widget-view+json": {
       "model_id": "7fdfd580fae64e6ebb36b986c58d611d",
       "version_major": 2,
       "version_minor": 0
      },
      "text/plain": [
       "HTML(value='\\n        <style>\\n\\n        .left-label {\\n            width: 30%;\\n        }\\n\\n        .card-pa…"
      ]
     },
     "metadata": {},
     "output_type": "display_data"
    },
    {
     "data": {
      "text/html": [
       "<div>\n",
       "<style scoped>\n",
       "    .dataframe tbody tr th:only-of-type {\n",
       "        vertical-align: middle;\n",
       "    }\n",
       "\n",
       "    .dataframe tbody tr th {\n",
       "        vertical-align: top;\n",
       "    }\n",
       "\n",
       "    .dataframe thead th {\n",
       "        text-align: right;\n",
       "    }\n",
       "</style>\n",
       "<table border=\"1\" class=\"dataframe\">\n",
       "  <thead>\n",
       "    <tr style=\"text-align: right;\">\n",
       "      <th></th>\n",
       "      <th>0</th>\n",
       "      <th>1</th>\n",
       "    </tr>\n",
       "  </thead>\n",
       "  <tbody>\n",
       "    <tr>\n",
       "      <th>0</th>\n",
       "      <td>Excluded columns</td>\n",
       "      <td>[y, noise, Minority, Majority, Age &gt;= 62, Age &lt; 62, Best Linear Estimate of Y, Best Logistic Estimate of BAD]</td>\n",
       "    </tr>\n",
       "    <tr>\n",
       "      <th>1</th>\n",
       "      <td>Target variable</td>\n",
       "      <td>bad</td>\n",
       "    </tr>\n",
       "    <tr>\n",
       "      <th>2</th>\n",
       "      <td>Sample weight</td>\n",
       "      <td>None</td>\n",
       "    </tr>\n",
       "    <tr>\n",
       "      <th>3</th>\n",
       "      <td>Task type</td>\n",
       "      <td>Classification</td>\n",
       "    </tr>\n",
       "    <tr>\n",
       "      <th>4</th>\n",
       "      <td>Split method</td>\n",
       "      <td>Random</td>\n",
       "    </tr>\n",
       "    <tr>\n",
       "      <th>5</th>\n",
       "      <td>Test ratio</td>\n",
       "      <td>0.2</td>\n",
       "    </tr>\n",
       "    <tr>\n",
       "      <th>6</th>\n",
       "      <td>Random state</td>\n",
       "      <td>31415</td>\n",
       "    </tr>\n",
       "  </tbody>\n",
       "</table>\n",
       "</div>"
      ],
      "text/plain": [
       "                  0  \\\n",
       "0  Excluded columns   \n",
       "1   Target variable   \n",
       "2     Sample weight   \n",
       "3         Task type   \n",
       "4      Split method   \n",
       "5        Test ratio   \n",
       "6      Random state   \n",
       "\n",
       "                                                                                                               1  \n",
       "0  [y, noise, Minority, Majority, Age >= 62, Age < 62, Best Linear Estimate of Y, Best Logistic Estimate of BAD]  \n",
       "1                                                                                                            bad  \n",
       "2                                                                                                           None  \n",
       "3                                                                                                 Classification  \n",
       "4                                                                                                         Random  \n",
       "5                                                                                                            0.2  \n",
       "6                                                                                                          31415  "
      ]
     },
     "metadata": {},
     "output_type": "display_data"
    }
   ],
   "source": [
    "exp.data_prepare(\n",
    "    target=label,\n",
    "    task_type='Classification',\n",
    "    test_ratio=0.2,\n",
    "    random_state=31415,\n",
    "    with_display=True,\n",
    ")"
   ]
  },
  {
   "cell_type": "code",
   "execution_count": 51,
   "metadata": {
    "collapsed": false
   },
   "outputs": [
    {
     "data": {
      "application/vnd.jupyter.widget-view+json": {
       "model_id": "d54539ad064147b8814f05cf59348e37",
       "version_major": 2,
       "version_minor": 0
      },
      "text/plain": [
       "HTML(value='\\n        <style>\\n\\n        .left-label {\\n            width: 30%;\\n        }\\n\\n        .card-pa…"
      ]
     },
     "metadata": {},
     "output_type": "display_data"
    },
    {
     "data": {
      "application/vnd.jupyter.widget-view+json": {
       "model_id": "bc0706ca7cc748fa83a375317cd4e80a",
       "version_major": 2,
       "version_minor": 0
      },
      "text/plain": [
       "HTML(value='\\n        <style>\\n\\n        .left-label {\\n            width: 30%;\\n        }\\n\\n        .card-pa…"
      ]
     },
     "metadata": {},
     "output_type": "display_data"
    }
   ],
   "source": [
    "if show_piml_results:\n",
    "    exp.eda(\n",
    "        show='all',\n",
    "        uni_feature='Segment',\n",
    "        bi_features=['x1', 'x2'],\n",
    "        multi_type='correlation_heatmap',\n",
    "    )"
   ]
  },
  {
   "cell_type": "code",
   "execution_count": 52,
   "metadata": {
    "collapsed": false
   },
   "outputs": [
    {
     "data": {
      "application/vnd.jupyter.widget-view+json": {
       "model_id": "e1b4993903fa4d888022fdea8e948dcd",
       "version_major": 2,
       "version_minor": 0
      },
      "text/plain": [
       "HTML(value='\\n        <style>\\n\\n        .left-label {\\n            width: 30%;\\n        }\\n\\n        .card-pa…"
      ]
     },
     "metadata": {},
     "output_type": "display_data"
    },
    {
     "data": {
      "application/vnd.jupyter.widget-view+json": {
       "model_id": "d18778bfdee94b21a68916c0f69e5318",
       "version_major": 2,
       "version_minor": 0
      },
      "text/plain": [
       "HTML(value='\\n        <style>\\n\\n        .left-label {\\n            width: 30%;\\n        }\\n\\n        .card-pa…"
      ]
     },
     "metadata": {},
     "output_type": "display_data"
    },
    {
     "data": {
      "application/vnd.jupyter.widget-view+json": {
       "model_id": "2bd9fe0c858c4306a9c3def912a3a957",
       "version_major": 2,
       "version_minor": 0
      },
      "text/plain": [
       "HTML(value=\"<p class='notification info'>Register EBM Done</p>\")"
      ]
     },
     "metadata": {},
     "output_type": "display_data"
    },
    {
     "data": {
      "text/html": [
       "<div>\n",
       "<style scoped>\n",
       "    .dataframe tbody tr th:only-of-type {\n",
       "        vertical-align: middle;\n",
       "    }\n",
       "\n",
       "    .dataframe tbody tr th {\n",
       "        vertical-align: top;\n",
       "    }\n",
       "\n",
       "    .dataframe thead th {\n",
       "        text-align: right;\n",
       "    }\n",
       "</style>\n",
       "<table border=\"1\" class=\"dataframe\">\n",
       "  <thead>\n",
       "    <tr style=\"text-align: right;\">\n",
       "      <th></th>\n",
       "      <th>ACC</th>\n",
       "      <th>AUC</th>\n",
       "      <th>Recall</th>\n",
       "      <th>Precision</th>\n",
       "      <th>F1</th>\n",
       "    </tr>\n",
       "    <tr>\n",
       "      <th></th>\n",
       "      <th></th>\n",
       "      <th></th>\n",
       "      <th></th>\n",
       "      <th></th>\n",
       "      <th></th>\n",
       "    </tr>\n",
       "  </thead>\n",
       "  <tbody>\n",
       "    <tr>\n",
       "      <th>Train</th>\n",
       "      <td>0.8530</td>\n",
       "      <td>0.8558</td>\n",
       "      <td>0.4938</td>\n",
       "      <td>0.7843</td>\n",
       "      <td>0.6060</td>\n",
       "    </tr>\n",
       "    <tr>\n",
       "      <th>Test</th>\n",
       "      <td>0.8477</td>\n",
       "      <td>0.8465</td>\n",
       "      <td>0.4790</td>\n",
       "      <td>0.7830</td>\n",
       "      <td>0.5944</td>\n",
       "    </tr>\n",
       "    <tr>\n",
       "      <th>Gap</th>\n",
       "      <td>-0.0053</td>\n",
       "      <td>-0.0092</td>\n",
       "      <td>-0.0148</td>\n",
       "      <td>-0.0012</td>\n",
       "      <td>-0.0117</td>\n",
       "    </tr>\n",
       "  </tbody>\n",
       "</table>\n",
       "</div>"
      ],
      "text/plain": [
       "           ACC      AUC   Recall Precision       F1\n",
       "                                                   \n",
       "Train   0.8530   0.8558   0.4938    0.7843   0.6060\n",
       "Test    0.8477   0.8465   0.4790    0.7830   0.5944\n",
       "Gap    -0.0053  -0.0092  -0.0148   -0.0012  -0.0117"
      ]
     },
     "metadata": {},
     "output_type": "display_data"
    }
   ],
   "source": [
    "ebm = ExplainableBoostingClassifier()\n",
    "exp.model_train(model=ebm, name='EBM')\n",
    "exp.model_diagnose(model=\"EBM\", show='accuracy_result')"
   ]
  },
  {
   "cell_type": "code",
   "execution_count": 54,
   "metadata": {
    "collapsed": false,
    "pycharm": {
     "is_executing": true
    }
   },
   "outputs": [
    {
     "data": {
      "application/vnd.jupyter.widget-view+json": {
       "model_id": "844a44daff594d0293bf680527438a67",
       "version_major": 2,
       "version_minor": 0
      },
      "text/plain": [
       "HTML(value='\\n        <style>\\n\\n        .left-label {\\n            width: 30%;\\n        }\\n\\n        .card-pa…"
      ]
     },
     "metadata": {},
     "output_type": "display_data"
    },
    {
     "data": {
      "application/vnd.jupyter.widget-view+json": {
       "model_id": "d054a1b621904b3b8a370030091c0094",
       "version_major": 2,
       "version_minor": 0
      },
      "text/plain": [
       "HTML(value='\\n        <style>\\n\\n        .left-label {\\n            width: 30%;\\n        }\\n\\n        .card-pa…"
      ]
     },
     "metadata": {},
     "output_type": "display_data"
    },
    {
     "data": {
      "image/png": "[encoded data removed]",
      "text/plain": [
       "<Figure size 800x390 with 2 Axes>"
      ]
     },
     "metadata": {},
     "output_type": "display_data"
    }
   ],
   "source": [
    "exp.model_explain(\n",
    "    model='EBM',\n",
    "    show='global_shap_summary',\n",
    "    sample_size=500,\n",
    ")\n",
    "if show_piml_results:\n",
    "    exp.model_interpret(model='EBM', show='global_fi')\n",
    "    exp.model_interpret(model='EBM', show='global_effect_plot', bi_features=['x1', 'x2'])\n",
    "    # for f_i in features:\n",
    "    #     exp.model_interpret(model='EBM', show='global_effect_plot', uni_feature=f_i)"
   ]
  },
  {
   "cell_type": "markdown",
   "metadata": {},
   "source": [
    "PiML Uses the random seed for train_test_split sent into `piml.Experiment().data_prepare()`, so we can get the same train/test split using the following code (I couldn't figure out how to do this via PiML directly).  \n",
    "\n",
    "Note that at SolasAI, we use the train/validation/test nomenclature but PiML uses train/test.  Clearly we are correct.  :-)"
   ]
  },
  {
   "cell_type": "code",
   "execution_count": 55,
   "metadata": {
    "collapsed": false,
    "pycharm": {
     "is_executing": true
    }
   },
   "outputs": [
    {
     "data": {
      "application/vnd.jupyter.widget-view+json": {
       "model_id": "4845f99a18e8402caa7db1c8f394ccc8",
       "version_major": 2,
       "version_minor": 0
      },
      "text/plain": [
       "HTML(value='\\n        <style>\\n\\n        .left-label {\\n            width: 30%;\\n        }\\n\\n        .card-pa…"
      ]
     },
     "metadata": {},
     "output_type": "display_data"
    },
    {
     "data": {
      "application/vnd.jupyter.widget-view+json": {
       "model_id": "2db01beed478451d9352f6c11064304d",
       "version_major": 2,
       "version_minor": 0
      },
      "text/plain": [
       "HTML(value='\\n        <style>\\n\\n        .left-label {\\n            width: 30%;\\n        }\\n\\n        .card-pa…"
      ]
     },
     "metadata": {},
     "output_type": "display_data"
    }
   ],
   "source": [
    "from sklearn.model_selection import train_test_split\n",
    "train, valid = train_test_split(df, test_size=0.2, random_state=31415)\n",
    "train = train.copy()\n",
    "valid = valid.copy()\n",
    "\n",
    "# Double-Check that the random_state assumption is correct.\n",
    "check_same_split = pd.DataFrame(data=exp.get_raw_data().train_x, columns=exp.get_feature_names())\n",
    "assert np.all(np.abs(train[['x1', 'x2', 'x3', 'x4', 'x5']].values - check_same_split[['x1', 'x2', 'x3', 'x4', 'x5']].values) == 0), \"PiML and train_test_split() not producing the same train/test sets\"\n",
    "del check_same_split"
   ]
  },
  {
   "cell_type": "markdown",
   "metadata": {},
   "source": [
    "Calculate predicted probabilities from the EBM for the training / validation splits."
   ]
  },
  {
   "cell_type": "code",
   "execution_count": 58,
   "metadata": {
    "pycharm": {
     "is_executing": true
    }
   },
   "outputs": [
    {
     "data": {
      "application/vnd.jupyter.widget-view+json": {
       "model_id": "491f686feba34a95b326826cf6d69a74",
       "version_major": 2,
       "version_minor": 0
      },
      "text/plain": [
       "HTML(value='\\n        <style>\\n\\n        .left-label {\\n            width: 30%;\\n        }\\n\\n        .card-pa…"
      ]
     },
     "metadata": {},
     "output_type": "display_data"
    },
    {
     "data": {
      "application/vnd.jupyter.widget-view+json": {
       "model_id": "4075d1056b54470db19de8a2eb4fa344",
       "version_major": 2,
       "version_minor": 0
      },
      "text/plain": [
       "HTML(value='\\n        <style>\\n\\n        .left-label {\\n            width: 30%;\\n        }\\n\\n        .card-pa…"
      ]
     },
     "metadata": {},
     "output_type": "display_data"
    }
   ],
   "source": [
    "train['EBM Prediction'] = exp.get_model(model='EBM').predict_proba(exp.get_raw_data().train_x)[:, 1]\n",
    "valid['EBM Prediction'] = exp.get_model(model='EBM').predict_proba(exp.get_raw_data().test_x)[:, 1]"
   ]
  },
  {
   "cell_type": "markdown",
   "metadata": {},
   "source": [
    "We know the functional form that the data takes: it is the Friedman #1 with segmentation and custom coefficients.  Given that we know this information, when we created the dataset, we were able to create the \"best possible\" predictions using a logit and the features specified \n",
    "exactly as they entered the data generating process.  In order to test whether the EBM does a decent job finding the data's functional form, we compare the predictions from the PiML EBM to the \"best possible\" predictions.  We also calculate train/validation KS and AUC values for the EBM model itself."
   ]
  },
  {
   "cell_type": "markdown",
   "metadata": {},
   "source": [
    "Below, we perform another comparison of the best possible model predictions to the EBM logit.  Here, the OLS coefficients would ideally be beta0 = 0 and beta1 = 1 with an r^2 = 1.  Obviously, it is unlikely that we will get exactly that.  "
   ]
  },
  {
   "cell_type": "markdown",
   "metadata": {},
   "source": [
    "## Disparity Analysis Using SolasAI\n",
    "\n",
    "Here, we begin the analysis of the PiML EBM model's predictions assuming that they are used to generate some rankable outcome for consumers.  "
   ]
  },
  {
   "cell_type": "markdown",
   "metadata": {},
   "source": [
    "### Outcomes Analyzed\n",
    "\n",
    "Analyses are performed on three `outcomes` generated using the model predictions.  These are:\n",
    "1. The model's output itself, in probability (`valid['EBM Prediction']`).\n",
    "2. A binary \"Offer\" or \"No Offer\" outcome based on a single threshold cutoff (`valid['Offer']`).\n",
    "3. Using two cutoff values, we create a waterfall of offers, where the worst scoring group gets no offer, the middle scoring group gets a \"good\" offer, and the best scoring consumers get the \"best\" offer (`valid['Tiered Offer']`).\n",
    "\n",
    "Note, in this simulated data a lower model score is considered a more favorable result for the consumer.  A real-world exmaple of this is credit default models, where the lower the score, the lower the probability of default.  \n",
    "A lower probability of default is more likely to get an offer or more likely to get a better offer.  Thus, a low score is a favorable outcome from the perspective of the person being scored."
   ]
  },
  {
   "cell_type": "markdown",
   "metadata": {},
   "source": [
    "### Disparity Tests Performed\n",
    "\n",
    "\n",
    "We perform the following tests:\n",
    "1. `Standardized Mean Difference (SMD)` in the model predictions\n",
    "2. `Adverse Impact Ratio (AIR) by Quantile` of model predictions.  Decile cutoffs were used for the quantiles.\n",
    "3. Using the single \"Offer\" calculated, a standard `AIR` is calculated.\n",
    "4. Using the single \"Offer\" calculated, a standard `Odds Ratio (OR)` is calculated.\n",
    "5. Using the single \"Offer\" calculated, we create a `Segmented AIR`.  This calculates AIRs for indvidual \"segments\" of the data and then calculates aggregated AIRs and CMH statistical tests.\n",
    "6. Using the tiered set of offers, we run a `Categorical AIR`, which calculates disparity comparing: \n",
    "    - best vs (good + no offer), and \n",
    "    - (best + good) v. no offer."
   ]
  },
  {
   "cell_type": "markdown",
   "metadata": {},
   "source": [
    "#### Calculate Offers\n",
    "\n",
    "This code calculates the single and tiered offers for the EBM model."
   ]
  },
  {
   "cell_type": "code",
   "execution_count": 59,
   "metadata": {},
   "outputs": [
    {
     "data": {
      "application/vnd.jupyter.widget-view+json": {
       "model_id": "04f9e9782aa249e58e4a8577f0121741",
       "version_major": 2,
       "version_minor": 0
      },
      "text/plain": [
       "HTML(value='\\n        <style>\\n\\n        .left-label {\\n            width: 30%;\\n        }\\n\\n        .card-pa…"
      ]
     },
     "metadata": {},
     "output_type": "display_data"
    },
    {
     "data": {
      "application/vnd.jupyter.widget-view+json": {
       "model_id": "557dfb64065d47679500e48cb43dcc52",
       "version_major": 2,
       "version_minor": 0
      },
      "text/plain": [
       "HTML(value='\\n        <style>\\n\\n        .left-label {\\n            width: 30%;\\n        }\\n\\n        .card-pa…"
      ]
     },
     "metadata": {},
     "output_type": "display_data"
    },
    {
     "data": {
      "text/plain": [
       "1    0.575585\n",
       "0    0.424415\n",
       "Name: Offer, dtype: float64"
      ]
     },
     "metadata": {},
     "output_type": "display_data"
    },
    {
     "data": {
      "text/plain": [
       "Good Offer    0.487034\n",
       "No Offer      0.333096\n",
       "Best Offer    0.179870\n",
       "Name: Tiered Offer, dtype: float64"
      ]
     },
     "metadata": {},
     "output_type": "display_data"
    }
   ],
   "source": [
    "single_decision_threshold = 0.15\n",
    "good_offer_threshold = 0.20\n",
    "best_offer_threshold = 0.05\n",
    "\n",
    "valid['Offer'] = (valid['EBM Prediction'] <= single_decision_threshold).astype(int)\n",
    "\n",
    "valid['Tiered Offer'] = np.where(\n",
    "    valid['EBM Prediction'] <= best_offer_threshold, \n",
    "    'Best Offer', \n",
    "    np.where(\n",
    "        valid['EBM Prediction'] <= good_offer_threshold, \n",
    "        'Good Offer', \n",
    "        'No Offer'\n",
    "    )\n",
    ")\n",
    "display(valid['Offer'].value_counts(dropna=False, normalize=True))\n",
    "display(valid['Tiered Offer'].value_counts(dropna=False, normalize=True))"
   ]
  },
  {
   "cell_type": "markdown",
   "metadata": {},
   "source": [
    "#### _Standardized Mean Difference (SMD) of Model Predictions_"
   ]
  },
  {
   "cell_type": "code",
   "execution_count": 60,
   "metadata": {},
   "outputs": [
    {
     "data": {
      "application/vnd.jupyter.widget-view+json": {
       "model_id": "67693ceb60f94189ae5a0402bea38964",
       "version_major": 2,
       "version_minor": 0
      },
      "text/plain": [
       "HTML(value='\\n        <style>\\n\\n        .left-label {\\n            width: 30%;\\n        }\\n\\n        .card-pa…"
      ]
     },
     "metadata": {},
     "output_type": "display_data"
    },
    {
     "data": {
      "application/vnd.jupyter.widget-view+json": {
       "model_id": "adced92e74f74e2d879ed327fac535aa",
       "version_major": 2,
       "version_minor": 0
      },
      "text/plain": [
       "HTML(value='\\n        <style>\\n\\n        .left-label {\\n            width: 30%;\\n        }\\n\\n        .card-pa…"
      ]
     },
     "metadata": {},
     "output_type": "display_data"
    },
    {
     "data": {
      "text/markdown": [
       "## Disparity Calculation: SMD"
      ]
     },
     "metadata": {},
     "output_type": "display_data"
    },
    {
     "data": {
      "text/html": [
       "<pre style=\"white-space:pre;overflow-x:auto;line-height:normal;font-family:Menlo,'DejaVu Sans Mono',consolas,'Courier New',monospace\">┌──────────────────────────────────────────────────────────┬──────────────────────────────────────────────────────┐\n",
       "│ Protected Groups                                         │ Minority, Age &gt;= 62                                  │\n",
       "│ Reference Groups                                         │ Majority, Age &lt; 62                                   │\n",
       "│ Group Categories                                         │ Race, Age                                            │\n",
       "│ SMD Threshold                                            │ 30.0                                                 │\n",
       "│ Affected Groups                                          │ Minority                                             │\n",
       "│ Affected Reference                                       │ Majority                                             │\n",
       "│ Affected Categories                                      │ Race                                                 │\n",
       "└──────────────────────────────────────────────────────────┴──────────────────────────────────────────────────────┘\n",
       "</pre>\n"
      ],
      "text/plain": [
       "┌──────────────────────────────────────────────────────────┬──────────────────────────────────────────────────────┐\n",
       "│ Protected Groups                                         │ Minority, Age >= 62                                  │\n",
       "│ Reference Groups                                         │ Majority, Age < 62                                   │\n",
       "│ Group Categories                                         │ Race, Age                                            │\n",
       "│ SMD Threshold                                            │ 30.0                                                 │\n",
       "│ Affected Groups                                          │ Minority                                             │\n",
       "│ Affected Reference                                       │ Majority                                             │\n",
       "│ Affected Categories                                      │ Race                                                 │\n",
       "└──────────────────────────────────────────────────────────┴──────────────────────────────────────────────────────┘\n"
      ]
     },
     "metadata": {},
     "output_type": "display_data"
    },
    {
     "data": {
      "text/markdown": [
       "\\* Percent Missing: Age: 0.00%, Race: 0.00%"
      ]
     },
     "metadata": {},
     "output_type": "display_data"
    },
    {
     "data": {
      "text/markdown": [
       "## SMD Summary Table"
      ]
     },
     "metadata": {},
     "output_type": "display_data"
    },
    {
     "data": {
      "text/html": [
       "<div>\n",
       "<style scoped>\n",
       "    .dataframe tbody tr th:only-of-type {\n",
       "        vertical-align: middle;\n",
       "    }\n",
       "\n",
       "    .dataframe tbody tr th {\n",
       "        vertical-align: top;\n",
       "    }\n",
       "\n",
       "    .dataframe thead th {\n",
       "        text-align: right;\n",
       "    }\n",
       "</style>\n",
       "<table class=\"dataframe\">\n",
       "  <thead>\n",
       "    <tr style=\"text-align: right;\">\n",
       "      <th>Group Category</th>\n",
       "      <th>Group</th>\n",
       "      <th>Reference Group</th>\n",
       "      <th>Observations</th>\n",
       "      <th>Percent Missing</th>\n",
       "      <th>Total</th>\n",
       "      <th>Average Label</th>\n",
       "      <th>Average Outcome</th>\n",
       "      <th>Std. Dev. of Outcomes</th>\n",
       "      <th>SMD</th>\n",
       "      <th>P-Values</th>\n",
       "      <th>Practically Significant</th>\n",
       "    </tr>\n",
       "  </thead>\n",
       "  <tbody>\n",
       "    <tr>\n",
       "      <td>Race</td>\n",
       "      <td>Minority</td>\n",
       "      <td>Majority</td>\n",
       "      <td>12,648</td>\n",
       "      <td>0.00%</td>\n",
       "      <td>6,005.0</td>\n",
       "      <td>0.35</td>\n",
       "      <td>0.29</td>\n",
       "      <td>0.25</td>\n",
       "      <td>45.617</td>\n",
       "      <td>0.000</td>\n",
       "      <td>Yes</td>\n",
       "    </tr>\n",
       "    <tr>\n",
       "      <td>Race</td>\n",
       "      <td>Majority</td>\n",
       "      <td></td>\n",
       "      <td>12,648</td>\n",
       "      <td>0.00%</td>\n",
       "      <td>6,643.0</td>\n",
       "      <td>0.12</td>\n",
       "      <td>0.17</td>\n",
       "      <td>0.25</td>\n",
       "      <td></td>\n",
       "      <td></td>\n",
       "      <td></td>\n",
       "    </tr>\n",
       "    <tr>\n",
       "      <td>Age</td>\n",
       "      <td>Age &gt;= 62</td>\n",
       "      <td>Age &lt; 62</td>\n",
       "      <td>12,648</td>\n",
       "      <td>0.00%</td>\n",
       "      <td>6,392.0</td>\n",
       "      <td>0.23</td>\n",
       "      <td>0.23</td>\n",
       "      <td>0.25</td>\n",
       "      <td>0.928</td>\n",
       "      <td>0.602</td>\n",
       "      <td>No</td>\n",
       "    </tr>\n",
       "    <tr>\n",
       "      <td>Age</td>\n",
       "      <td>Age &lt; 62</td>\n",
       "      <td></td>\n",
       "      <td>12,648</td>\n",
       "      <td>0.00%</td>\n",
       "      <td>6,256.0</td>\n",
       "      <td>0.23</td>\n",
       "      <td>0.23</td>\n",
       "      <td>0.25</td>\n",
       "      <td></td>\n",
       "      <td></td>\n",
       "      <td></td>\n",
       "    </tr>\n",
       "  </tbody>\n",
       "</table>\n",
       "</div>"
      ],
      "text/plain": [
       "<IPython.core.display.HTML object>"
      ]
     },
     "metadata": {},
     "output_type": "display_data"
    },
    {
     "data": {
      "application/vnd.plotly.v1+json": {
       "config": {
        "plotlyServerURL": "https://plot.ly"
       },
       "data": [
        {
         "cliponaxis": false,
         "hovertemplate": "%{x}, %{y}<extra></extra>",
         "marker": {
          "color": "RGBA(78, 121, 167, 1.0)",
          "line": {
           "color": "rgb(8,48,107)",
           "width": 0
          },
          "pattern": {
           "shape": "/"
          }
         },
         "name": "Race",
         "showlegend": true,
         "text": "45.617",
         "textfont": {
          "color": "Black"
         },
         "type": "bar",
         "x": [
          [
           "Race"
          ],
          [
           "Minority"
          ]
         ],
         "y": [
          45.61695427918799
         ]
        },
        {
         "cliponaxis": false,
         "hovertemplate": "%{x}, %{y}<extra></extra>",
         "marker": {
          "color": "RGBA(242, 142, 45, 1.0)",
          "line": {
           "color": "rgb(8,48,107)",
           "width": 0
          },
          "pattern": {
           "shape": ""
          }
         },
         "name": "Age",
         "showlegend": true,
         "text": "0.928",
         "textfont": {
          "color": "Black"
         },
         "type": "bar",
         "x": [
          [
           "Age"
          ],
          [
           "Age >= 62"
          ]
         ],
         "y": [
          0.9276735375594127
         ]
        },
        {
         "line": {
          "color": "Black",
          "dash": "dot",
          "width": 0.25
         },
         "mode": "lines",
         "name": "SMD Threshold",
         "text": "SMD Threshold",
         "type": "scatter",
         "x": [
          [
           "Race",
           "Age"
          ],
          [
           "Minority",
           "Age >= 62"
          ]
         ],
         "y": [
          30,
          30
         ]
        }
       ],
       "layout": {
        "legend": {
         "title": {
          "text": "Legend"
         }
        },
        "scene": {
         "yaxis": {
          "exponentformat": "none",
          "separatethousands": true
         }
        },
        "shapes": [
         {
          "line": {
           "color": "Black",
           "dash": "dot",
           "width": 1.25
          },
          "name": "SMD Threshold",
          "type": "line",
          "x0": 0,
          "x1": 1,
          "xref": "paper",
          "y0": 0.6247677086368449,
          "y1": 0.6247677086368449,
          "yref": "paper"
         }
        ],
        "template": {
         "data": {
          "bar": [
           {
            "error_x": {
             "color": "#2a3f5f"
            },
            "error_y": {
             "color": "#2a3f5f"
            },
            "marker": {
             "line": {
              "color": "#E5ECF6",
              "width": 0.5
             },
             "pattern": {
              "fillmode": "overlay",
              "size": 10,
              "solidity": 0.2
             }
            },
            "type": "bar"
           }
          ],
          "barpolar": [
           {
            "marker": {
             "line": {
              "color": "#E5ECF6",
              "width": 0.5
             },
             "pattern": {
              "fillmode": "overlay",
              "size": 10,
              "solidity": 0.2
             }
            },
            "type": "barpolar"
           }
          ],
          "carpet": [
           {
            "aaxis": {
             "endlinecolor": "#2a3f5f",
             "gridcolor": "white",
             "linecolor": "white",
             "minorgridcolor": "white",
             "startlinecolor": "#2a3f5f"
            },
            "baxis": {
             "endlinecolor": "#2a3f5f",
             "gridcolor": "white",
             "linecolor": "white",
             "minorgridcolor": "white",
             "startlinecolor": "#2a3f5f"
            },
            "type": "carpet"
           }
          ],
          "choropleth": [
           {
            "colorbar": {
             "outlinewidth": 0,
             "ticks": ""
            },
            "type": "choropleth"
           }
          ],
          "contour": [
           {
            "colorbar": {
             "outlinewidth": 0,
             "ticks": ""
            },
            "colorscale": [
             [
              0,
              "#0d0887"
             ],
             [
              0.1111111111111111,
              "#46039f"
             ],
             [
              0.2222222222222222,
              "#7201a8"
             ],
             [
              0.3333333333333333,
              "#9c179e"
             ],
             [
              0.4444444444444444,
              "#bd3786"
             ],
             [
              0.5555555555555556,
              "#d8576b"
             ],
             [
              0.6666666666666666,
              "#ed7953"
             ],
             [
              0.7777777777777778,
              "#fb9f3a"
             ],
             [
              0.8888888888888888,
              "#fdca26"
             ],
             [
              1,
              "#f0f921"
             ]
            ],
            "type": "contour"
           }
          ],
          "contourcarpet": [
           {
            "colorbar": {
             "outlinewidth": 0,
             "ticks": ""
            },
            "type": "contourcarpet"
           }
          ],
          "heatmap": [
           {
            "colorbar": {
             "outlinewidth": 0,
             "ticks": ""
            },
            "colorscale": [
             [
              0,
              "#0d0887"
             ],
             [
              0.1111111111111111,
              "#46039f"
             ],
             [
              0.2222222222222222,
              "#7201a8"
             ],
             [
              0.3333333333333333,
              "#9c179e"
             ],
             [
              0.4444444444444444,
              "#bd3786"
             ],
             [
              0.5555555555555556,
              "#d8576b"
             ],
             [
              0.6666666666666666,
              "#ed7953"
             ],
             [
              0.7777777777777778,
              "#fb9f3a"
             ],
             [
              0.8888888888888888,
              "#fdca26"
             ],
             [
              1,
              "#f0f921"
             ]
            ],
            "type": "heatmap"
           }
          ],
          "heatmapgl": [
           {
            "colorbar": {
             "outlinewidth": 0,
             "ticks": ""
            },
            "colorscale": [
             [
              0,
              "#0d0887"
             ],
             [
              0.1111111111111111,
              "#46039f"
             ],
             [
              0.2222222222222222,
              "#7201a8"
             ],
             [
              0.3333333333333333,
              "#9c179e"
             ],
             [
              0.4444444444444444,
              "#bd3786"
             ],
             [
              0.5555555555555556,
              "#d8576b"
             ],
             [
              0.6666666666666666,
              "#ed7953"
             ],
             [
              0.7777777777777778,
              "#fb9f3a"
             ],
             [
              0.8888888888888888,
              "#fdca26"
             ],
             [
              1,
              "#f0f921"
             ]
            ],
            "type": "heatmapgl"
           }
          ],
          "histogram": [
           {
            "marker": {
             "pattern": {
              "fillmode": "overlay",
              "size": 10,
              "solidity": 0.2
             }
            },
            "type": "histogram"
           }
          ],
          "histogram2d": [
           {
            "colorbar": {
             "outlinewidth": 0,
             "ticks": ""
            },
            "colorscale": [
             [
              0,
              "#0d0887"
             ],
             [
              0.1111111111111111,
              "#46039f"
             ],
             [
              0.2222222222222222,
              "#7201a8"
             ],
             [
              0.3333333333333333,
              "#9c179e"
             ],
             [
              0.4444444444444444,
              "#bd3786"
             ],
             [
              0.5555555555555556,
              "#d8576b"
             ],
             [
              0.6666666666666666,
              "#ed7953"
             ],
             [
              0.7777777777777778,
              "#fb9f3a"
             ],
             [
              0.8888888888888888,
              "#fdca26"
             ],
             [
              1,
              "#f0f921"
             ]
            ],
            "type": "histogram2d"
           }
          ],
          "histogram2dcontour": [
           {
            "colorbar": {
             "outlinewidth": 0,
             "ticks": ""
            },
            "colorscale": [
             [
              0,
              "#0d0887"
             ],
             [
              0.1111111111111111,
              "#46039f"
             ],
             [
              0.2222222222222222,
              "#7201a8"
             ],
             [
              0.3333333333333333,
              "#9c179e"
             ],
             [
              0.4444444444444444,
              "#bd3786"
             ],
             [
              0.5555555555555556,
              "#d8576b"
             ],
             [
              0.6666666666666666,
              "#ed7953"
             ],
             [
              0.7777777777777778,
              "#fb9f3a"
             ],
             [
              0.8888888888888888,
              "#fdca26"
             ],
             [
              1,
              "#f0f921"
             ]
            ],
            "type": "histogram2dcontour"
           }
          ],
          "mesh3d": [
           {
            "colorbar": {
             "outlinewidth": 0,
             "ticks": ""
            },
            "type": "mesh3d"
           }
          ],
          "parcoords": [
           {
            "line": {
             "colorbar": {
              "outlinewidth": 0,
              "ticks": ""
             }
            },
            "type": "parcoords"
           }
          ],
          "pie": [
           {
            "automargin": true,
            "type": "pie"
           }
          ],
          "scatter": [
           {
            "fillpattern": {
             "fillmode": "overlay",
             "size": 10,
             "solidity": 0.2
            },
            "type": "scatter"
           }
          ],
          "scatter3d": [
           {
            "line": {
             "colorbar": {
              "outlinewidth": 0,
              "ticks": ""
             }
            },
            "marker": {
             "colorbar": {
              "outlinewidth": 0,
              "ticks": ""
             }
            },
            "type": "scatter3d"
           }
          ],
          "scattercarpet": [
           {
            "marker": {
             "colorbar": {
              "outlinewidth": 0,
              "ticks": ""
             }
            },
            "type": "scattercarpet"
           }
          ],
          "scattergeo": [
           {
            "marker": {
             "colorbar": {
              "outlinewidth": 0,
              "ticks": ""
             }
            },
            "type": "scattergeo"
           }
          ],
          "scattergl": [
           {
            "marker": {
             "colorbar": {
              "outlinewidth": 0,
              "ticks": ""
             }
            },
            "type": "scattergl"
           }
          ],
          "scattermapbox": [
           {
            "marker": {
             "colorbar": {
              "outlinewidth": 0,
              "ticks": ""
             }
            },
            "type": "scattermapbox"
           }
          ],
          "scatterpolar": [
           {
            "marker": {
             "colorbar": {
              "outlinewidth": 0,
              "ticks": ""
             }
            },
            "type": "scatterpolar"
           }
          ],
          "scatterpolargl": [
           {
            "marker": {
             "colorbar": {
              "outlinewidth": 0,
              "ticks": ""
             }
            },
            "type": "scatterpolargl"
           }
          ],
          "scatterternary": [
           {
            "marker": {
             "colorbar": {
              "outlinewidth": 0,
              "ticks": ""
             }
            },
            "type": "scatterternary"
           }
          ],
          "surface": [
           {
            "colorbar": {
             "outlinewidth": 0,
             "ticks": ""
            },
            "colorscale": [
             [
              0,
              "#0d0887"
             ],
             [
              0.1111111111111111,
              "#46039f"
             ],
             [
              0.2222222222222222,
              "#7201a8"
             ],
             [
              0.3333333333333333,
              "#9c179e"
             ],
             [
              0.4444444444444444,
              "#bd3786"
             ],
             [
              0.5555555555555556,
              "#d8576b"
             ],
             [
              0.6666666666666666,
              "#ed7953"
             ],
             [
              0.7777777777777778,
              "#fb9f3a"
             ],
             [
              0.8888888888888888,
              "#fdca26"
             ],
             [
              1,
              "#f0f921"
             ]
            ],
            "type": "surface"
           }
          ],
          "table": [
           {
            "cells": {
             "fill": {
              "color": "#EBF0F8"
             },
             "line": {
              "color": "white"
             }
            },
            "header": {
             "fill": {
              "color": "#C8D4E3"
             },
             "line": {
              "color": "white"
             }
            },
            "type": "table"
           }
          ]
         },
         "layout": {
          "annotationdefaults": {
           "arrowcolor": "#2a3f5f",
           "arrowhead": 0,
           "arrowwidth": 1
          },
          "autotypenumbers": "strict",
          "coloraxis": {
           "colorbar": {
            "outlinewidth": 0,
            "ticks": ""
           }
          },
          "colorscale": {
           "diverging": [
            [
             0,
             "#8e0152"
            ],
            [
             0.1,
             "#c51b7d"
            ],
            [
             0.2,
             "#de77ae"
            ],
            [
             0.3,
             "#f1b6da"
            ],
            [
             0.4,
             "#fde0ef"
            ],
            [
             0.5,
             "#f7f7f7"
            ],
            [
             0.6,
             "#e6f5d0"
            ],
            [
             0.7,
             "#b8e186"
            ],
            [
             0.8,
             "#7fbc41"
            ],
            [
             0.9,
             "#4d9221"
            ],
            [
             1,
             "#276419"
            ]
           ],
           "sequential": [
            [
             0,
             "#0d0887"
            ],
            [
             0.1111111111111111,
             "#46039f"
            ],
            [
             0.2222222222222222,
             "#7201a8"
            ],
            [
             0.3333333333333333,
             "#9c179e"
            ],
            [
             0.4444444444444444,
             "#bd3786"
            ],
            [
             0.5555555555555556,
             "#d8576b"
            ],
            [
             0.6666666666666666,
             "#ed7953"
            ],
            [
             0.7777777777777778,
             "#fb9f3a"
            ],
            [
             0.8888888888888888,
             "#fdca26"
            ],
            [
             1,
             "#f0f921"
            ]
           ],
           "sequentialminus": [
            [
             0,
             "#0d0887"
            ],
            [
             0.1111111111111111,
             "#46039f"
            ],
            [
             0.2222222222222222,
             "#7201a8"
            ],
            [
             0.3333333333333333,
             "#9c179e"
            ],
            [
             0.4444444444444444,
             "#bd3786"
            ],
            [
             0.5555555555555556,
             "#d8576b"
            ],
            [
             0.6666666666666666,
             "#ed7953"
            ],
            [
             0.7777777777777778,
             "#fb9f3a"
            ],
            [
             0.8888888888888888,
             "#fdca26"
            ],
            [
             1,
             "#f0f921"
            ]
           ]
          },
          "colorway": [
           "#636efa",
           "#EF553B",
           "#00cc96",
           "#ab63fa",
           "#FFA15A",
           "#19d3f3",
           "#FF6692",
           "#B6E880",
           "#FF97FF",
           "#FECB52"
          ],
          "font": {
           "color": "#2a3f5f"
          },
          "geo": {
           "bgcolor": "white",
           "lakecolor": "white",
           "landcolor": "#E5ECF6",
           "showlakes": true,
           "showland": true,
           "subunitcolor": "white"
          },
          "hoverlabel": {
           "align": "left"
          },
          "hovermode": "closest",
          "mapbox": {
           "style": "light"
          },
          "paper_bgcolor": "white",
          "plot_bgcolor": "#E5ECF6",
          "polar": {
           "angularaxis": {
            "gridcolor": "white",
            "linecolor": "white",
            "ticks": ""
           },
           "bgcolor": "#E5ECF6",
           "radialaxis": {
            "gridcolor": "white",
            "linecolor": "white",
            "ticks": ""
           }
          },
          "scene": {
           "xaxis": {
            "backgroundcolor": "#E5ECF6",
            "gridcolor": "white",
            "gridwidth": 2,
            "linecolor": "white",
            "showbackground": true,
            "ticks": "",
            "zerolinecolor": "white"
           },
           "yaxis": {
            "backgroundcolor": "#E5ECF6",
            "gridcolor": "white",
            "gridwidth": 2,
            "linecolor": "white",
            "showbackground": true,
            "ticks": "",
            "zerolinecolor": "white"
           },
           "zaxis": {
            "backgroundcolor": "#E5ECF6",
            "gridcolor": "white",
            "gridwidth": 2,
            "linecolor": "white",
            "showbackground": true,
            "ticks": "",
            "zerolinecolor": "white"
           }
          },
          "shapedefaults": {
           "line": {
            "color": "#2a3f5f"
           }
          },
          "ternary": {
           "aaxis": {
            "gridcolor": "white",
            "linecolor": "white",
            "ticks": ""
           },
           "baxis": {
            "gridcolor": "white",
            "linecolor": "white",
            "ticks": ""
           },
           "bgcolor": "#E5ECF6",
           "caxis": {
            "gridcolor": "white",
            "linecolor": "white",
            "ticks": ""
           }
          },
          "title": {
           "x": 0.05
          },
          "xaxis": {
           "automargin": true,
           "gridcolor": "white",
           "linecolor": "white",
           "ticks": "",
           "title": {
            "standoff": 15
           },
           "zerolinecolor": "white",
           "zerolinewidth": 2
          },
          "yaxis": {
           "automargin": true,
           "gridcolor": "white",
           "linecolor": "white",
           "ticks": "",
           "title": {
            "standoff": 15
           },
           "zerolinecolor": "white",
           "zerolinewidth": 2
          }
         }
        },
        "title": {
         "text": "Standardized Mean Difference (SMD)"
        },
        "uniformtext": {
         "minsize": 8,
         "mode": "hide"
        },
        "xaxis": {
         "fixedrange": true,
         "title": {
          "text": "Group"
         }
        },
        "yaxis": {
         "fixedrange": true,
         "tickformat": "0,.3f",
         "ticksuffix": "  ",
         "title": {
          "text": "SMD"
         },
         "zeroline": true,
         "zerolinecolor": "Black",
         "zerolinewidth": 1
        }
       }
      }
     },
     "metadata": {},
     "output_type": "display_data"
    }
   ],
   "source": [
    "smd = sd.standardized_mean_difference(\n",
    "    group_data=valid,\n",
    "    **common_disp_info,\n",
    "    outcome=valid['EBM Prediction'],\n",
    "    smd_threshold=30,\n",
    "    label=valid[label], \n",
    "    lower_score_favorable=True,\n",
    ")\n",
    "smd"
   ]
  },
  {
   "cell_type": "markdown",
   "metadata": {},
   "source": [
    "#### _Adverse Impact Ratio (AIR) by Decile of Model Predictions_"
   ]
  },
  {
   "cell_type": "code",
   "execution_count": 39,
   "metadata": {
    "collapsed": false
   },
   "outputs": [
    {
     "data": {
      "application/vnd.jupyter.widget-view+json": {
       "model_id": "08b8e5558e14419a8045e330a48df304",
       "version_major": 2,
       "version_minor": 0
      },
      "text/plain": [
       "HTML(value='\\n        <style>\\n\\n        .left-label {\\n            width: 30%;\\n        }\\n\\n        .card-pa…"
      ]
     },
     "metadata": {},
     "output_type": "display_data"
    },
    {
     "data": {
      "text/markdown": [
       "## Disparity Calculation: AIR by Quantile"
      ]
     },
     "metadata": {},
     "output_type": "display_data"
    },
    {
     "data": {
      "text/html": [
       "<pre style=\"white-space:pre;overflow-x:auto;line-height:normal;font-family:Menlo,'DejaVu Sans Mono',consolas,'Courier New',monospace\">┌──────────────────────────────────────────────────────────┬──────────────────────────────────────────────────────┐\n",
       "│ Protected Groups                                         │ Minority, Age &gt;= 62                                  │\n",
       "│ Reference Groups                                         │ Majority, Age &lt; 62                                   │\n",
       "│ Group Categories                                         │ Race, Age                                            │\n",
       "│ AIR Threshold                                            │ 0.9                                                  │\n",
       "│ % Diff Threshold                                         │ 0.0                                                  │\n",
       "│ Affected Groups                                          │ Minority                                             │\n",
       "│ Affected Reference                                       │ Majority                                             │\n",
       "│ Affected Categories                                      │ Race                                                 │\n",
       "└──────────────────────────────────────────────────────────┴──────────────────────────────────────────────────────┘\n",
       "</pre>\n"
      ],
      "text/plain": [
       "┌──────────────────────────────────────────────────────────┬──────────────────────────────────────────────────────┐\n",
       "│ Protected Groups                                         │ Minority, Age >= 62                                  │\n",
       "│ Reference Groups                                         │ Majority, Age < 62                                   │\n",
       "│ Group Categories                                         │ Race, Age                                            │\n",
       "│ AIR Threshold                                            │ 0.9                                                  │\n",
       "│ % Diff Threshold                                         │ 0.0                                                  │\n",
       "│ Affected Groups                                          │ Minority                                             │\n",
       "│ Affected Reference                                       │ Majority                                             │\n",
       "│ Affected Categories                                      │ Race                                                 │\n",
       "└──────────────────────────────────────────────────────────┴──────────────────────────────────────────────────────┘\n"
      ]
     },
     "metadata": {},
     "output_type": "display_data"
    },
    {
     "data": {
      "text/markdown": [
       "## AIR by Quantile Summary Table"
      ]
     },
     "metadata": {},
     "output_type": "display_data"
    },
    {
     "data": {
      "text/html": [
       "<div>\n",
       "<style scoped>\n",
       "    .dataframe tbody tr th:only-of-type {\n",
       "        vertical-align: middle;\n",
       "    }\n",
       "\n",
       "    .dataframe tbody tr th {\n",
       "        vertical-align: top;\n",
       "    }\n",
       "\n",
       "    .dataframe thead th {\n",
       "        text-align: right;\n",
       "    }\n",
       "</style>\n",
       "<table class=\"dataframe\">\n",
       "  <thead>\n",
       "    <tr style=\"text-align: right;\">\n",
       "      <th>Group Category</th>\n",
       "      <th>Group</th>\n",
       "      <th>Reference Group</th>\n",
       "      <th>Quantile</th>\n",
       "      <th>Quantile Cutoff</th>\n",
       "      <th>Observations</th>\n",
       "      <th>Percent Missing</th>\n",
       "      <th>Total</th>\n",
       "      <th>Label Favorable</th>\n",
       "      <th>Percent Label Favorable</th>\n",
       "      <th>Favorable</th>\n",
       "      <th>Percent Favorable</th>\n",
       "      <th>Percent Difference Favorable</th>\n",
       "      <th>AIR</th>\n",
       "      <th>P-Values</th>\n",
       "      <th>Practically Significant</th>\n",
       "      <th>Shortfall</th>\n",
       "    </tr>\n",
       "  </thead>\n",
       "  <tbody>\n",
       "    <tr>\n",
       "      <td>Race</td>\n",
       "      <td>Minority</td>\n",
       "      <td>Majority</td>\n",
       "      <td>10.0%</td>\n",
       "      <td>0.035844</td>\n",
       "      <td>12,648</td>\n",
       "      <td>0.00%</td>\n",
       "      <td>6,005.0</td>\n",
       "      <td>3,888.6</td>\n",
       "      <td>64.76%</td>\n",
       "      <td>383.7</td>\n",
       "      <td>6.39%</td>\n",
       "      <td>6.88%</td>\n",
       "      <td>0.482</td>\n",
       "      <td>0.000</td>\n",
       "      <td>Yes</td>\n",
       "      <td>412.905108</td>\n",
       "    </tr>\n",
       "    <tr>\n",
       "      <td>Race</td>\n",
       "      <td>Majority</td>\n",
       "      <td></td>\n",
       "      <td>10.0%</td>\n",
       "      <td>0.035844</td>\n",
       "      <td>12,648</td>\n",
       "      <td>0.00%</td>\n",
       "      <td>6,643.0</td>\n",
       "      <td>5,813.4</td>\n",
       "      <td>87.51%</td>\n",
       "      <td>881.3</td>\n",
       "      <td>13.27%</td>\n",
       "      <td></td>\n",
       "      <td></td>\n",
       "      <td></td>\n",
       "      <td></td>\n",
       "      <td></td>\n",
       "    </tr>\n",
       "    <tr>\n",
       "      <td>Age</td>\n",
       "      <td>Age &gt;= 62</td>\n",
       "      <td>Age &lt; 62</td>\n",
       "      <td>10.0%</td>\n",
       "      <td>0.035844</td>\n",
       "      <td>12,648</td>\n",
       "      <td>0.00%</td>\n",
       "      <td>6,392.0</td>\n",
       "      <td>4,897.0</td>\n",
       "      <td>76.61%</td>\n",
       "      <td>640.0</td>\n",
       "      <td>10.01%</td>\n",
       "      <td>-0.02%</td>\n",
       "      <td>1.002</td>\n",
       "      <td>0.991</td>\n",
       "      <td>No</td>\n",
       "      <td></td>\n",
       "    </tr>\n",
       "    <tr>\n",
       "      <td>Age</td>\n",
       "      <td>Age &lt; 62</td>\n",
       "      <td></td>\n",
       "      <td>10.0%</td>\n",
       "      <td>0.035844</td>\n",
       "      <td>12,648</td>\n",
       "      <td>0.00%</td>\n",
       "      <td>6,256.0</td>\n",
       "      <td>4,805.0</td>\n",
       "      <td>76.81%</td>\n",
       "      <td>625.0</td>\n",
       "      <td>9.99%</td>\n",
       "      <td></td>\n",
       "      <td></td>\n",
       "      <td></td>\n",
       "      <td></td>\n",
       "      <td></td>\n",
       "    </tr>\n",
       "    <tr>\n",
       "      <td>Race</td>\n",
       "      <td>Minority</td>\n",
       "      <td>Majority</td>\n",
       "      <td>20.0%</td>\n",
       "      <td>0.053450</td>\n",
       "      <td>12,648</td>\n",
       "      <td>0.00%</td>\n",
       "      <td>6,005.0</td>\n",
       "      <td>3,888.6</td>\n",
       "      <td>64.76%</td>\n",
       "      <td>855.9</td>\n",
       "      <td>14.25%</td>\n",
       "      <td>10.95%</td>\n",
       "      <td>0.566</td>\n",
       "      <td>0.000</td>\n",
       "      <td>Yes</td>\n",
       "      <td>657.506267</td>\n",
       "    </tr>\n",
       "    <tr>\n",
       "      <td>Race</td>\n",
       "      <td>Majority</td>\n",
       "      <td></td>\n",
       "      <td>20.0%</td>\n",
       "      <td>0.053450</td>\n",
       "      <td>12,648</td>\n",
       "      <td>0.00%</td>\n",
       "      <td>6,643.0</td>\n",
       "      <td>5,813.4</td>\n",
       "      <td>87.51%</td>\n",
       "      <td>1,674.1</td>\n",
       "      <td>25.20%</td>\n",
       "      <td></td>\n",
       "      <td></td>\n",
       "      <td></td>\n",
       "      <td></td>\n",
       "      <td></td>\n",
       "    </tr>\n",
       "    <tr>\n",
       "      <td>Age</td>\n",
       "      <td>Age &gt;= 62</td>\n",
       "      <td>Age &lt; 62</td>\n",
       "      <td>20.0%</td>\n",
       "      <td>0.053450</td>\n",
       "      <td>12,648</td>\n",
       "      <td>0.00%</td>\n",
       "      <td>6,392.0</td>\n",
       "      <td>4,897.0</td>\n",
       "      <td>76.61%</td>\n",
       "      <td>1,266.0</td>\n",
       "      <td>19.81%</td>\n",
       "      <td>0.40%</td>\n",
       "      <td>0.980</td>\n",
       "      <td>0.591</td>\n",
       "      <td>No</td>\n",
       "      <td></td>\n",
       "    </tr>\n",
       "    <tr>\n",
       "      <td>Age</td>\n",
       "      <td>Age &lt; 62</td>\n",
       "      <td></td>\n",
       "      <td>20.0%</td>\n",
       "      <td>0.053450</td>\n",
       "      <td>12,648</td>\n",
       "      <td>0.00%</td>\n",
       "      <td>6,256.0</td>\n",
       "      <td>4,805.0</td>\n",
       "      <td>76.81%</td>\n",
       "      <td>1,264.0</td>\n",
       "      <td>20.20%</td>\n",
       "      <td></td>\n",
       "      <td></td>\n",
       "      <td></td>\n",
       "      <td></td>\n",
       "      <td></td>\n",
       "    </tr>\n",
       "    <tr>\n",
       "      <td>Race</td>\n",
       "      <td>Minority</td>\n",
       "      <td>Majority</td>\n",
       "      <td>30.0%</td>\n",
       "      <td>0.072239</td>\n",
       "      <td>12,648</td>\n",
       "      <td>0.00%</td>\n",
       "      <td>6,005.0</td>\n",
       "      <td>3,888.6</td>\n",
       "      <td>64.76%</td>\n",
       "      <td>1,335.4</td>\n",
       "      <td>22.24%</td>\n",
       "      <td>14.79%</td>\n",
       "      <td>0.601</td>\n",
       "      <td>0.000</td>\n",
       "      <td>Yes</td>\n",
       "      <td>887.941617</td>\n",
       "    </tr>\n",
       "    <tr>\n",
       "      <td>Race</td>\n",
       "      <td>Majority</td>\n",
       "      <td></td>\n",
       "      <td>30.0%</td>\n",
       "      <td>0.072239</td>\n",
       "      <td>12,648</td>\n",
       "      <td>0.00%</td>\n",
       "      <td>6,643.0</td>\n",
       "      <td>5,813.4</td>\n",
       "      <td>87.51%</td>\n",
       "      <td>2,459.6</td>\n",
       "      <td>37.03%</td>\n",
       "      <td></td>\n",
       "      <td></td>\n",
       "      <td></td>\n",
       "      <td></td>\n",
       "      <td></td>\n",
       "    </tr>\n",
       "    <tr>\n",
       "      <td>Age</td>\n",
       "      <td>Age &gt;= 62</td>\n",
       "      <td>Age &lt; 62</td>\n",
       "      <td>30.0%</td>\n",
       "      <td>0.072239</td>\n",
       "      <td>12,648</td>\n",
       "      <td>0.00%</td>\n",
       "      <td>6,392.0</td>\n",
       "      <td>4,897.0</td>\n",
       "      <td>76.61%</td>\n",
       "      <td>1,914.0</td>\n",
       "      <td>29.94%</td>\n",
       "      <td>0.12%</td>\n",
       "      <td>0.996</td>\n",
       "      <td>0.895</td>\n",
       "      <td>No</td>\n",
       "      <td></td>\n",
       "    </tr>\n",
       "    <tr>\n",
       "      <td>Age</td>\n",
       "      <td>Age &lt; 62</td>\n",
       "      <td></td>\n",
       "      <td>30.0%</td>\n",
       "      <td>0.072239</td>\n",
       "      <td>12,648</td>\n",
       "      <td>0.00%</td>\n",
       "      <td>6,256.0</td>\n",
       "      <td>4,805.0</td>\n",
       "      <td>76.81%</td>\n",
       "      <td>1,881.0</td>\n",
       "      <td>30.07%</td>\n",
       "      <td></td>\n",
       "      <td></td>\n",
       "      <td></td>\n",
       "      <td></td>\n",
       "      <td></td>\n",
       "    </tr>\n",
       "    <tr>\n",
       "      <td>Race</td>\n",
       "      <td>Minority</td>\n",
       "      <td>Majority</td>\n",
       "      <td>40.0%</td>\n",
       "      <td>0.093526</td>\n",
       "      <td>12,648</td>\n",
       "      <td>0.00%</td>\n",
       "      <td>6,005.0</td>\n",
       "      <td>3,888.6</td>\n",
       "      <td>64.76%</td>\n",
       "      <td>1,847.6</td>\n",
       "      <td>30.77%</td>\n",
       "      <td>17.59%</td>\n",
       "      <td>0.636</td>\n",
       "      <td>0.000</td>\n",
       "      <td>Yes</td>\n",
       "      <td>1056.351644</td>\n",
       "    </tr>\n",
       "    <tr>\n",
       "      <td>Race</td>\n",
       "      <td>Majority</td>\n",
       "      <td></td>\n",
       "      <td>40.0%</td>\n",
       "      <td>0.093526</td>\n",
       "      <td>12,648</td>\n",
       "      <td>0.00%</td>\n",
       "      <td>6,643.0</td>\n",
       "      <td>5,813.4</td>\n",
       "      <td>87.51%</td>\n",
       "      <td>3,212.4</td>\n",
       "      <td>48.36%</td>\n",
       "      <td></td>\n",
       "      <td></td>\n",
       "      <td></td>\n",
       "      <td></td>\n",
       "      <td></td>\n",
       "    </tr>\n",
       "    <tr>\n",
       "      <td>Age</td>\n",
       "      <td>Age &gt;= 62</td>\n",
       "      <td>Age &lt; 62</td>\n",
       "      <td>40.0%</td>\n",
       "      <td>0.093526</td>\n",
       "      <td>12,648</td>\n",
       "      <td>0.00%</td>\n",
       "      <td>6,392.0</td>\n",
       "      <td>4,897.0</td>\n",
       "      <td>76.61%</td>\n",
       "      <td>2,572.0</td>\n",
       "      <td>40.24%</td>\n",
       "      <td>-0.47%</td>\n",
       "      <td>1.012</td>\n",
       "      <td>0.604</td>\n",
       "      <td>No</td>\n",
       "      <td></td>\n",
       "    </tr>\n",
       "    <tr>\n",
       "      <td>Age</td>\n",
       "      <td>Age &lt; 62</td>\n",
       "      <td></td>\n",
       "      <td>40.0%</td>\n",
       "      <td>0.093526</td>\n",
       "      <td>12,648</td>\n",
       "      <td>0.00%</td>\n",
       "      <td>6,256.0</td>\n",
       "      <td>4,805.0</td>\n",
       "      <td>76.81%</td>\n",
       "      <td>2,488.0</td>\n",
       "      <td>39.77%</td>\n",
       "      <td></td>\n",
       "      <td></td>\n",
       "      <td></td>\n",
       "      <td></td>\n",
       "      <td></td>\n",
       "    </tr>\n",
       "    <tr>\n",
       "      <td>Race</td>\n",
       "      <td>Minority</td>\n",
       "      <td>Majority</td>\n",
       "      <td>50.0%</td>\n",
       "      <td>0.121630</td>\n",
       "      <td>12,648</td>\n",
       "      <td>0.00%</td>\n",
       "      <td>6,005.0</td>\n",
       "      <td>3,888.6</td>\n",
       "      <td>64.76%</td>\n",
       "      <td>2,400.2</td>\n",
       "      <td>39.97%</td>\n",
       "      <td>19.10%</td>\n",
       "      <td>0.677</td>\n",
       "      <td>0.000</td>\n",
       "      <td>Yes</td>\n",
       "      <td>1146.790423</td>\n",
       "    </tr>\n",
       "    <tr>\n",
       "      <td>Race</td>\n",
       "      <td>Majority</td>\n",
       "      <td></td>\n",
       "      <td>50.0%</td>\n",
       "      <td>0.121630</td>\n",
       "      <td>12,648</td>\n",
       "      <td>0.00%</td>\n",
       "      <td>6,643.0</td>\n",
       "      <td>5,813.4</td>\n",
       "      <td>87.51%</td>\n",
       "      <td>3,923.8</td>\n",
       "      <td>59.07%</td>\n",
       "      <td></td>\n",
       "      <td></td>\n",
       "      <td></td>\n",
       "      <td></td>\n",
       "      <td></td>\n",
       "    </tr>\n",
       "    <tr>\n",
       "      <td>Age</td>\n",
       "      <td>Age &gt;= 62</td>\n",
       "      <td>Age &lt; 62</td>\n",
       "      <td>50.0%</td>\n",
       "      <td>0.121630</td>\n",
       "      <td>12,648</td>\n",
       "      <td>0.00%</td>\n",
       "      <td>6,392.0</td>\n",
       "      <td>4,897.0</td>\n",
       "      <td>76.61%</td>\n",
       "      <td>3,199.0</td>\n",
       "      <td>50.05%</td>\n",
       "      <td>-0.09%</td>\n",
       "      <td>1.002</td>\n",
       "      <td>0.929</td>\n",
       "      <td>No</td>\n",
       "      <td></td>\n",
       "    </tr>\n",
       "    <tr>\n",
       "      <td>Age</td>\n",
       "      <td>Age &lt; 62</td>\n",
       "      <td></td>\n",
       "      <td>50.0%</td>\n",
       "      <td>0.121630</td>\n",
       "      <td>12,648</td>\n",
       "      <td>0.00%</td>\n",
       "      <td>6,256.0</td>\n",
       "      <td>4,805.0</td>\n",
       "      <td>76.81%</td>\n",
       "      <td>3,125.0</td>\n",
       "      <td>49.95%</td>\n",
       "      <td></td>\n",
       "      <td></td>\n",
       "      <td></td>\n",
       "      <td></td>\n",
       "      <td></td>\n",
       "    </tr>\n",
       "    <tr>\n",
       "      <td>Race</td>\n",
       "      <td>Minority</td>\n",
       "      <td>Majority</td>\n",
       "      <td>60.0%</td>\n",
       "      <td>0.160946</td>\n",
       "      <td>12,648</td>\n",
       "      <td>0.00%</td>\n",
       "      <td>6,005.0</td>\n",
       "      <td>3,888.6</td>\n",
       "      <td>64.76%</td>\n",
       "      <td>2,971.6</td>\n",
       "      <td>49.49%</td>\n",
       "      <td>20.02%</td>\n",
       "      <td>0.712</td>\n",
       "      <td>0.000</td>\n",
       "      <td>Yes</td>\n",
       "      <td>1202.282805</td>\n",
       "    </tr>\n",
       "    <tr>\n",
       "      <td>Race</td>\n",
       "      <td>Majority</td>\n",
       "      <td></td>\n",
       "      <td>60.0%</td>\n",
       "      <td>0.160946</td>\n",
       "      <td>12,648</td>\n",
       "      <td>0.00%</td>\n",
       "      <td>6,643.0</td>\n",
       "      <td>5,813.4</td>\n",
       "      <td>87.51%</td>\n",
       "      <td>4,617.4</td>\n",
       "      <td>69.51%</td>\n",
       "      <td></td>\n",
       "      <td></td>\n",
       "      <td></td>\n",
       "      <td></td>\n",
       "      <td></td>\n",
       "    </tr>\n",
       "    <tr>\n",
       "      <td>Age</td>\n",
       "      <td>Age &gt;= 62</td>\n",
       "      <td>Age &lt; 62</td>\n",
       "      <td>60.0%</td>\n",
       "      <td>0.160946</td>\n",
       "      <td>12,648</td>\n",
       "      <td>0.00%</td>\n",
       "      <td>6,392.0</td>\n",
       "      <td>4,897.0</td>\n",
       "      <td>76.61%</td>\n",
       "      <td>3,835.0</td>\n",
       "      <td>60.00%</td>\n",
       "      <td>0.01%</td>\n",
       "      <td>1.000</td>\n",
       "      <td>1.000</td>\n",
       "      <td>No</td>\n",
       "      <td></td>\n",
       "    </tr>\n",
       "    <tr>\n",
       "      <td>Age</td>\n",
       "      <td>Age &lt; 62</td>\n",
       "      <td></td>\n",
       "      <td>60.0%</td>\n",
       "      <td>0.160946</td>\n",
       "      <td>12,648</td>\n",
       "      <td>0.00%</td>\n",
       "      <td>6,256.0</td>\n",
       "      <td>4,805.0</td>\n",
       "      <td>76.81%</td>\n",
       "      <td>3,754.0</td>\n",
       "      <td>60.01%</td>\n",
       "      <td></td>\n",
       "      <td></td>\n",
       "      <td></td>\n",
       "      <td></td>\n",
       "      <td></td>\n",
       "    </tr>\n",
       "    <tr>\n",
       "      <td>Race</td>\n",
       "      <td>Minority</td>\n",
       "      <td>Majority</td>\n",
       "      <td>70.0%</td>\n",
       "      <td>0.224837</td>\n",
       "      <td>12,648</td>\n",
       "      <td>0.00%</td>\n",
       "      <td>6,005.0</td>\n",
       "      <td>3,888.6</td>\n",
       "      <td>64.76%</td>\n",
       "      <td>3,613.7</td>\n",
       "      <td>60.18%</td>\n",
       "      <td>18.71%</td>\n",
       "      <td>0.763</td>\n",
       "      <td>0.000</td>\n",
       "      <td>Yes</td>\n",
       "      <td>1123.344323</td>\n",
       "    </tr>\n",
       "    <tr>\n",
       "      <td>Race</td>\n",
       "      <td>Majority</td>\n",
       "      <td></td>\n",
       "      <td>70.0%</td>\n",
       "      <td>0.224837</td>\n",
       "      <td>12,648</td>\n",
       "      <td>0.00%</td>\n",
       "      <td>6,643.0</td>\n",
       "      <td>5,813.4</td>\n",
       "      <td>87.51%</td>\n",
       "      <td>5,240.3</td>\n",
       "      <td>78.88%</td>\n",
       "      <td></td>\n",
       "      <td></td>\n",
       "      <td></td>\n",
       "      <td></td>\n",
       "      <td></td>\n",
       "    </tr>\n",
       "    <tr>\n",
       "      <td>Age</td>\n",
       "      <td>Age &gt;= 62</td>\n",
       "      <td>Age &lt; 62</td>\n",
       "      <td>70.0%</td>\n",
       "      <td>0.224837</td>\n",
       "      <td>12,648</td>\n",
       "      <td>0.00%</td>\n",
       "      <td>6,392.0</td>\n",
       "      <td>4,897.0</td>\n",
       "      <td>76.61%</td>\n",
       "      <td>4,451.0</td>\n",
       "      <td>69.63%</td>\n",
       "      <td>0.75%</td>\n",
       "      <td>0.989</td>\n",
       "      <td>0.370</td>\n",
       "      <td>No</td>\n",
       "      <td></td>\n",
       "    </tr>\n",
       "    <tr>\n",
       "      <td>Age</td>\n",
       "      <td>Age &lt; 62</td>\n",
       "      <td></td>\n",
       "      <td>70.0%</td>\n",
       "      <td>0.224837</td>\n",
       "      <td>12,648</td>\n",
       "      <td>0.00%</td>\n",
       "      <td>6,256.0</td>\n",
       "      <td>4,805.0</td>\n",
       "      <td>76.81%</td>\n",
       "      <td>4,403.0</td>\n",
       "      <td>70.38%</td>\n",
       "      <td></td>\n",
       "      <td></td>\n",
       "      <td></td>\n",
       "      <td></td>\n",
       "      <td></td>\n",
       "    </tr>\n",
       "    <tr>\n",
       "      <td>Race</td>\n",
       "      <td>Minority</td>\n",
       "      <td>Majority</td>\n",
       "      <td>80.0%</td>\n",
       "      <td>0.354686</td>\n",
       "      <td>12,648</td>\n",
       "      <td>0.00%</td>\n",
       "      <td>6,005.0</td>\n",
       "      <td>3,888.6</td>\n",
       "      <td>64.76%</td>\n",
       "      <td>4,318.4</td>\n",
       "      <td>71.91%</td>\n",
       "      <td>15.41%</td>\n",
       "      <td>0.824</td>\n",
       "      <td>0.000</td>\n",
       "      <td>Yes</td>\n",
       "      <td>925.152179</td>\n",
       "    </tr>\n",
       "    <tr>\n",
       "      <td>Race</td>\n",
       "      <td>Majority</td>\n",
       "      <td></td>\n",
       "      <td>80.0%</td>\n",
       "      <td>0.354686</td>\n",
       "      <td>12,648</td>\n",
       "      <td>0.00%</td>\n",
       "      <td>6,643.0</td>\n",
       "      <td>5,813.4</td>\n",
       "      <td>87.51%</td>\n",
       "      <td>5,800.6</td>\n",
       "      <td>87.32%</td>\n",
       "      <td></td>\n",
       "      <td></td>\n",
       "      <td></td>\n",
       "      <td></td>\n",
       "      <td></td>\n",
       "    </tr>\n",
       "    <tr>\n",
       "      <td>Age</td>\n",
       "      <td>Age &gt;= 62</td>\n",
       "      <td>Age &lt; 62</td>\n",
       "      <td>80.0%</td>\n",
       "      <td>0.354686</td>\n",
       "      <td>12,648</td>\n",
       "      <td>0.00%</td>\n",
       "      <td>6,392.0</td>\n",
       "      <td>4,897.0</td>\n",
       "      <td>76.61%</td>\n",
       "      <td>5,095.0</td>\n",
       "      <td>79.71%</td>\n",
       "      <td>0.60%</td>\n",
       "      <td>0.993</td>\n",
       "      <td>0.413</td>\n",
       "      <td>No</td>\n",
       "      <td></td>\n",
       "    </tr>\n",
       "    <tr>\n",
       "      <td>Age</td>\n",
       "      <td>Age &lt; 62</td>\n",
       "      <td></td>\n",
       "      <td>80.0%</td>\n",
       "      <td>0.354686</td>\n",
       "      <td>12,648</td>\n",
       "      <td>0.00%</td>\n",
       "      <td>6,256.0</td>\n",
       "      <td>4,805.0</td>\n",
       "      <td>76.81%</td>\n",
       "      <td>5,024.0</td>\n",
       "      <td>80.31%</td>\n",
       "      <td></td>\n",
       "      <td></td>\n",
       "      <td></td>\n",
       "      <td></td>\n",
       "      <td></td>\n",
       "    </tr>\n",
       "    <tr>\n",
       "      <td>Race</td>\n",
       "      <td>Minority</td>\n",
       "      <td>Majority</td>\n",
       "      <td>90.0%</td>\n",
       "      <td>0.648540</td>\n",
       "      <td>12,648</td>\n",
       "      <td>0.00%</td>\n",
       "      <td>6,005.0</td>\n",
       "      <td>3,888.6</td>\n",
       "      <td>64.76%</td>\n",
       "      <td>5,092.4</td>\n",
       "      <td>84.80%</td>\n",
       "      <td>9.91%</td>\n",
       "      <td>0.895</td>\n",
       "      <td>0.000</td>\n",
       "      <td>Yes</td>\n",
       "      <td>594.918111</td>\n",
       "    </tr>\n",
       "    <tr>\n",
       "      <td>Race</td>\n",
       "      <td>Majority</td>\n",
       "      <td></td>\n",
       "      <td>90.0%</td>\n",
       "      <td>0.648540</td>\n",
       "      <td>12,648</td>\n",
       "      <td>0.00%</td>\n",
       "      <td>6,643.0</td>\n",
       "      <td>5,813.4</td>\n",
       "      <td>87.51%</td>\n",
       "      <td>6,291.6</td>\n",
       "      <td>94.71%</td>\n",
       "      <td></td>\n",
       "      <td></td>\n",
       "      <td></td>\n",
       "      <td></td>\n",
       "      <td></td>\n",
       "    </tr>\n",
       "    <tr>\n",
       "      <td>Age</td>\n",
       "      <td>Age &gt;= 62</td>\n",
       "      <td>Age &lt; 62</td>\n",
       "      <td>90.0%</td>\n",
       "      <td>0.648540</td>\n",
       "      <td>12,648</td>\n",
       "      <td>0.00%</td>\n",
       "      <td>6,392.0</td>\n",
       "      <td>4,897.0</td>\n",
       "      <td>76.61%</td>\n",
       "      <td>5,741.0</td>\n",
       "      <td>89.82%</td>\n",
       "      <td>0.39%</td>\n",
       "      <td>0.996</td>\n",
       "      <td>0.488</td>\n",
       "      <td>No</td>\n",
       "      <td></td>\n",
       "    </tr>\n",
       "    <tr>\n",
       "      <td>Age</td>\n",
       "      <td>Age &lt; 62</td>\n",
       "      <td></td>\n",
       "      <td>90.0%</td>\n",
       "      <td>0.648540</td>\n",
       "      <td>12,648</td>\n",
       "      <td>0.00%</td>\n",
       "      <td>6,256.0</td>\n",
       "      <td>4,805.0</td>\n",
       "      <td>76.81%</td>\n",
       "      <td>5,643.0</td>\n",
       "      <td>90.20%</td>\n",
       "      <td></td>\n",
       "      <td></td>\n",
       "      <td></td>\n",
       "      <td></td>\n",
       "      <td></td>\n",
       "    </tr>\n",
       "    <tr>\n",
       "      <td>Race</td>\n",
       "      <td>Minority</td>\n",
       "      <td>Majority</td>\n",
       "      <td>100.0%</td>\n",
       "      <td>0.996847</td>\n",
       "      <td>12,648</td>\n",
       "      <td>0.00%</td>\n",
       "      <td>6,005.0</td>\n",
       "      <td>3,888.6</td>\n",
       "      <td>64.76%</td>\n",
       "      <td>6,005.0</td>\n",
       "      <td>100.00%</td>\n",
       "      <td>0.00%</td>\n",
       "      <td>1.000</td>\n",
       "      <td>1.000</td>\n",
       "      <td>No</td>\n",
       "      <td></td>\n",
       "    </tr>\n",
       "    <tr>\n",
       "      <td>Race</td>\n",
       "      <td>Majority</td>\n",
       "      <td></td>\n",
       "      <td>100.0%</td>\n",
       "      <td>0.996847</td>\n",
       "      <td>12,648</td>\n",
       "      <td>0.00%</td>\n",
       "      <td>6,643.0</td>\n",
       "      <td>5,813.4</td>\n",
       "      <td>87.51%</td>\n",
       "      <td>6,643.0</td>\n",
       "      <td>100.00%</td>\n",
       "      <td></td>\n",
       "      <td></td>\n",
       "      <td></td>\n",
       "      <td></td>\n",
       "      <td></td>\n",
       "    </tr>\n",
       "    <tr>\n",
       "      <td>Age</td>\n",
       "      <td>Age &gt;= 62</td>\n",
       "      <td>Age &lt; 62</td>\n",
       "      <td>100.0%</td>\n",
       "      <td>0.996847</td>\n",
       "      <td>12,648</td>\n",
       "      <td>0.00%</td>\n",
       "      <td>6,392.0</td>\n",
       "      <td>4,897.0</td>\n",
       "      <td>76.61%</td>\n",
       "      <td>6,392.0</td>\n",
       "      <td>100.00%</td>\n",
       "      <td>0.00%</td>\n",
       "      <td>1.000</td>\n",
       "      <td>1.000</td>\n",
       "      <td>No</td>\n",
       "      <td></td>\n",
       "    </tr>\n",
       "    <tr>\n",
       "      <td>Age</td>\n",
       "      <td>Age &lt; 62</td>\n",
       "      <td></td>\n",
       "      <td>100.0%</td>\n",
       "      <td>0.996847</td>\n",
       "      <td>12,648</td>\n",
       "      <td>0.00%</td>\n",
       "      <td>6,256.0</td>\n",
       "      <td>4,805.0</td>\n",
       "      <td>76.81%</td>\n",
       "      <td>6,256.0</td>\n",
       "      <td>100.00%</td>\n",
       "      <td></td>\n",
       "      <td></td>\n",
       "      <td></td>\n",
       "      <td></td>\n",
       "      <td></td>\n",
       "    </tr>\n",
       "  </tbody>\n",
       "</table>\n",
       "</div>"
      ],
      "text/plain": [
       "<IPython.core.display.HTML object>"
      ]
     },
     "metadata": {},
     "output_type": "display_data"
    },
    {
     "data": {
      "application/vnd.plotly.v1+json": {
       "config": {
        "plotlyServerURL": "https://plot.ly"
       },
       "data": [
        {
         "cliponaxis": false,
         "hovertemplate": "%{x}, %{y}<extra></extra>",
         "marker": {
          "color": "RGB(78, 121, 167)",
          "pattern": {
           "shape": [
            "/",
            "/",
            "/",
            "/",
            "/",
            "/",
            "/",
            "/",
            "/",
            ""
           ]
          }
         },
         "name": "Minority",
         "text": [
          "0.482",
          "0.566",
          "0.601",
          "0.636",
          "0.677",
          "0.712",
          "0.763",
          "0.824",
          "0.895",
          "1.000"
         ],
         "textfont": {
          "color": "Black"
         },
         "type": "bar",
         "x": [
          "0.1",
          "0.2",
          "0.3",
          "0.4",
          "0.5",
          "0.6",
          "0.7",
          "0.8",
          "0.9",
          "1.0"
         ],
         "xaxis": "x",
         "y": [
          0.4816887988326476,
          0.5655332104871909,
          0.6006318712902133,
          0.6362325784091434,
          0.6766854575489718,
          0.7119538198863028,
          0.762859533474637,
          0.8235634613273881,
          0.8953962318059303,
          1
         ],
         "yaxis": "y"
        },
        {
         "line": {
          "color": "Black",
          "dash": "dot",
          "width": 0.25
         },
         "mode": "lines",
         "name": "AIR Threshold",
         "showlegend": false,
         "type": "scatter",
         "x": [
          "0.1",
          "0.2",
          "0.3",
          "0.4",
          "0.5",
          "0.6",
          "0.7",
          "0.8",
          "0.9",
          "1.0"
         ],
         "xaxis": "x",
         "y": [
          0.9,
          0.9,
          0.9,
          0.9,
          0.9,
          0.9,
          0.9,
          0.9,
          0.9,
          0.9
         ],
         "yaxis": "y"
        },
        {
         "cliponaxis": false,
         "hovertemplate": "%{x}, %{y}<extra></extra>",
         "marker": {
          "color": "RGB(225, 87, 89)",
          "pattern": {
           "shape": [
            "",
            "",
            "",
            "",
            "",
            "",
            "",
            "",
            "",
            ""
           ]
          }
         },
         "name": "Age >= 62",
         "text": [
          "1.002",
          "0.980",
          "0.996",
          "1.012",
          "1.002",
          "1.000",
          "0.989",
          "0.993",
          "0.996",
          "1.000"
         ],
         "textfont": {
          "color": "Black"
         },
         "type": "bar",
         "x": [
          "0.1",
          "0.2",
          "0.3",
          "0.4",
          "0.5",
          "0.6",
          "0.7",
          "0.8",
          "0.9",
          "1.0"
         ],
         "xaxis": "x2",
         "y": [
          1.0022127659574467,
          0.9802720172367357,
          0.9958939902948862,
          1.0117671204761578,
          1.0018995744680852,
          0.9998413040274772,
          0.9893931120464288,
          0.9925548854858381,
          0.9957205500318602,
          1
         ],
         "yaxis": "y2"
        },
        {
         "line": {
          "color": "Black",
          "dash": "dot",
          "width": 0.25
         },
         "mode": "lines",
         "name": "AIR Threshold",
         "showlegend": false,
         "type": "scatter",
         "x": [
          "0.1",
          "0.2",
          "0.3",
          "0.4",
          "0.5",
          "0.6",
          "0.7",
          "0.8",
          "0.9",
          "1.0"
         ],
         "xaxis": "x2",
         "y": [
          0.9,
          0.9,
          0.9,
          0.9,
          0.9,
          0.9,
          0.9,
          0.9,
          0.9,
          0.9
         ],
         "yaxis": "y2"
        }
       ],
       "layout": {
        "annotations": [
         {
          "font": {
           "size": 16
          },
          "showarrow": false,
          "text": "Minority",
          "x": 0.225,
          "xanchor": "center",
          "xref": "paper",
          "y": 1,
          "yanchor": "bottom",
          "yref": "paper"
         },
         {
          "font": {
           "size": 16
          },
          "showarrow": false,
          "text": "Age >= 62",
          "x": 0.775,
          "xanchor": "center",
          "xref": "paper",
          "y": 1,
          "yanchor": "bottom",
          "yref": "paper"
         }
        ],
        "autosize": true,
        "height": 275,
        "legend": {
         "title": {
          "text": "Legend"
         }
        },
        "shapes": [
         {
          "line": {
           "color": "Black",
           "dash": "dot",
           "width": 1.25
          },
          "type": "line",
          "x0": -0.75,
          "x1": 10,
          "xref": "x",
          "y0": 0.9,
          "y1": 0.9,
          "yref": "y"
         },
         {
          "line": {
           "color": "Black",
           "dash": "dot",
           "width": 1.25
          },
          "type": "line",
          "x0": -0.75,
          "x1": 10,
          "xref": "x2",
          "y0": 0.9,
          "y1": 0.9,
          "yref": "y2"
         }
        ],
        "template": {
         "data": {
          "bar": [
           {
            "error_x": {
             "color": "#2a3f5f"
            },
            "error_y": {
             "color": "#2a3f5f"
            },
            "marker": {
             "line": {
              "color": "#E5ECF6",
              "width": 0.5
             },
             "pattern": {
              "fillmode": "overlay",
              "size": 10,
              "solidity": 0.2
             }
            },
            "type": "bar"
           }
          ],
          "barpolar": [
           {
            "marker": {
             "line": {
              "color": "#E5ECF6",
              "width": 0.5
             },
             "pattern": {
              "fillmode": "overlay",
              "size": 10,
              "solidity": 0.2
             }
            },
            "type": "barpolar"
           }
          ],
          "carpet": [
           {
            "aaxis": {
             "endlinecolor": "#2a3f5f",
             "gridcolor": "white",
             "linecolor": "white",
             "minorgridcolor": "white",
             "startlinecolor": "#2a3f5f"
            },
            "baxis": {
             "endlinecolor": "#2a3f5f",
             "gridcolor": "white",
             "linecolor": "white",
             "minorgridcolor": "white",
             "startlinecolor": "#2a3f5f"
            },
            "type": "carpet"
           }
          ],
          "choropleth": [
           {
            "colorbar": {
             "outlinewidth": 0,
             "ticks": ""
            },
            "type": "choropleth"
           }
          ],
          "contour": [
           {
            "colorbar": {
             "outlinewidth": 0,
             "ticks": ""
            },
            "colorscale": [
             [
              0,
              "#0d0887"
             ],
             [
              0.1111111111111111,
              "#46039f"
             ],
             [
              0.2222222222222222,
              "#7201a8"
             ],
             [
              0.3333333333333333,
              "#9c179e"
             ],
             [
              0.4444444444444444,
              "#bd3786"
             ],
             [
              0.5555555555555556,
              "#d8576b"
             ],
             [
              0.6666666666666666,
              "#ed7953"
             ],
             [
              0.7777777777777778,
              "#fb9f3a"
             ],
             [
              0.8888888888888888,
              "#fdca26"
             ],
             [
              1,
              "#f0f921"
             ]
            ],
            "type": "contour"
           }
          ],
          "contourcarpet": [
           {
            "colorbar": {
             "outlinewidth": 0,
             "ticks": ""
            },
            "type": "contourcarpet"
           }
          ],
          "heatmap": [
           {
            "colorbar": {
             "outlinewidth": 0,
             "ticks": ""
            },
            "colorscale": [
             [
              0,
              "#0d0887"
             ],
             [
              0.1111111111111111,
              "#46039f"
             ],
             [
              0.2222222222222222,
              "#7201a8"
             ],
             [
              0.3333333333333333,
              "#9c179e"
             ],
             [
              0.4444444444444444,
              "#bd3786"
             ],
             [
              0.5555555555555556,
              "#d8576b"
             ],
             [
              0.6666666666666666,
              "#ed7953"
             ],
             [
              0.7777777777777778,
              "#fb9f3a"
             ],
             [
              0.8888888888888888,
              "#fdca26"
             ],
             [
              1,
              "#f0f921"
             ]
            ],
            "type": "heatmap"
           }
          ],
          "heatmapgl": [
           {
            "colorbar": {
             "outlinewidth": 0,
             "ticks": ""
            },
            "colorscale": [
             [
              0,
              "#0d0887"
             ],
             [
              0.1111111111111111,
              "#46039f"
             ],
             [
              0.2222222222222222,
              "#7201a8"
             ],
             [
              0.3333333333333333,
              "#9c179e"
             ],
             [
              0.4444444444444444,
              "#bd3786"
             ],
             [
              0.5555555555555556,
              "#d8576b"
             ],
             [
              0.6666666666666666,
              "#ed7953"
             ],
             [
              0.7777777777777778,
              "#fb9f3a"
             ],
             [
              0.8888888888888888,
              "#fdca26"
             ],
             [
              1,
              "#f0f921"
             ]
            ],
            "type": "heatmapgl"
           }
          ],
          "histogram": [
           {
            "marker": {
             "pattern": {
              "fillmode": "overlay",
              "size": 10,
              "solidity": 0.2
             }
            },
            "type": "histogram"
           }
          ],
          "histogram2d": [
           {
            "colorbar": {
             "outlinewidth": 0,
             "ticks": ""
            },
            "colorscale": [
             [
              0,
              "#0d0887"
             ],
             [
              0.1111111111111111,
              "#46039f"
             ],
             [
              0.2222222222222222,
              "#7201a8"
             ],
             [
              0.3333333333333333,
              "#9c179e"
             ],
             [
              0.4444444444444444,
              "#bd3786"
             ],
             [
              0.5555555555555556,
              "#d8576b"
             ],
             [
              0.6666666666666666,
              "#ed7953"
             ],
             [
              0.7777777777777778,
              "#fb9f3a"
             ],
             [
              0.8888888888888888,
              "#fdca26"
             ],
             [
              1,
              "#f0f921"
             ]
            ],
            "type": "histogram2d"
           }
          ],
          "histogram2dcontour": [
           {
            "colorbar": {
             "outlinewidth": 0,
             "ticks": ""
            },
            "colorscale": [
             [
              0,
              "#0d0887"
             ],
             [
              0.1111111111111111,
              "#46039f"
             ],
             [
              0.2222222222222222,
              "#7201a8"
             ],
             [
              0.3333333333333333,
              "#9c179e"
             ],
             [
              0.4444444444444444,
              "#bd3786"
             ],
             [
              0.5555555555555556,
              "#d8576b"
             ],
             [
              0.6666666666666666,
              "#ed7953"
             ],
             [
              0.7777777777777778,
              "#fb9f3a"
             ],
             [
              0.8888888888888888,
              "#fdca26"
             ],
             [
              1,
              "#f0f921"
             ]
            ],
            "type": "histogram2dcontour"
           }
          ],
          "mesh3d": [
           {
            "colorbar": {
             "outlinewidth": 0,
             "ticks": ""
            },
            "type": "mesh3d"
           }
          ],
          "parcoords": [
           {
            "line": {
             "colorbar": {
              "outlinewidth": 0,
              "ticks": ""
             }
            },
            "type": "parcoords"
           }
          ],
          "pie": [
           {
            "automargin": true,
            "type": "pie"
           }
          ],
          "scatter": [
           {
            "fillpattern": {
             "fillmode": "overlay",
             "size": 10,
             "solidity": 0.2
            },
            "type": "scatter"
           }
          ],
          "scatter3d": [
           {
            "line": {
             "colorbar": {
              "outlinewidth": 0,
              "ticks": ""
             }
            },
            "marker": {
             "colorbar": {
              "outlinewidth": 0,
              "ticks": ""
             }
            },
            "type": "scatter3d"
           }
          ],
          "scattercarpet": [
           {
            "marker": {
             "colorbar": {
              "outlinewidth": 0,
              "ticks": ""
             }
            },
            "type": "scattercarpet"
           }
          ],
          "scattergeo": [
           {
            "marker": {
             "colorbar": {
              "outlinewidth": 0,
              "ticks": ""
             }
            },
            "type": "scattergeo"
           }
          ],
          "scattergl": [
           {
            "marker": {
             "colorbar": {
              "outlinewidth": 0,
              "ticks": ""
             }
            },
            "type": "scattergl"
           }
          ],
          "scattermapbox": [
           {
            "marker": {
             "colorbar": {
              "outlinewidth": 0,
              "ticks": ""
             }
            },
            "type": "scattermapbox"
           }
          ],
          "scatterpolar": [
           {
            "marker": {
             "colorbar": {
              "outlinewidth": 0,
              "ticks": ""
             }
            },
            "type": "scatterpolar"
           }
          ],
          "scatterpolargl": [
           {
            "marker": {
             "colorbar": {
              "outlinewidth": 0,
              "ticks": ""
             }
            },
            "type": "scatterpolargl"
           }
          ],
          "scatterternary": [
           {
            "marker": {
             "colorbar": {
              "outlinewidth": 0,
              "ticks": ""
             }
            },
            "type": "scatterternary"
           }
          ],
          "surface": [
           {
            "colorbar": {
             "outlinewidth": 0,
             "ticks": ""
            },
            "colorscale": [
             [
              0,
              "#0d0887"
             ],
             [
              0.1111111111111111,
              "#46039f"
             ],
             [
              0.2222222222222222,
              "#7201a8"
             ],
             [
              0.3333333333333333,
              "#9c179e"
             ],
             [
              0.4444444444444444,
              "#bd3786"
             ],
             [
              0.5555555555555556,
              "#d8576b"
             ],
             [
              0.6666666666666666,
              "#ed7953"
             ],
             [
              0.7777777777777778,
              "#fb9f3a"
             ],
             [
              0.8888888888888888,
              "#fdca26"
             ],
             [
              1,
              "#f0f921"
             ]
            ],
            "type": "surface"
           }
          ],
          "table": [
           {
            "cells": {
             "fill": {
              "color": "#EBF0F8"
             },
             "line": {
              "color": "white"
             }
            },
            "header": {
             "fill": {
              "color": "#C8D4E3"
             },
             "line": {
              "color": "white"
             }
            },
            "type": "table"
           }
          ]
         },
         "layout": {
          "annotationdefaults": {
           "arrowcolor": "#2a3f5f",
           "arrowhead": 0,
           "arrowwidth": 1
          },
          "autotypenumbers": "strict",
          "coloraxis": {
           "colorbar": {
            "outlinewidth": 0,
            "ticks": ""
           }
          },
          "colorscale": {
           "diverging": [
            [
             0,
             "#8e0152"
            ],
            [
             0.1,
             "#c51b7d"
            ],
            [
             0.2,
             "#de77ae"
            ],
            [
             0.3,
             "#f1b6da"
            ],
            [
             0.4,
             "#fde0ef"
            ],
            [
             0.5,
             "#f7f7f7"
            ],
            [
             0.6,
             "#e6f5d0"
            ],
            [
             0.7,
             "#b8e186"
            ],
            [
             0.8,
             "#7fbc41"
            ],
            [
             0.9,
             "#4d9221"
            ],
            [
             1,
             "#276419"
            ]
           ],
           "sequential": [
            [
             0,
             "#0d0887"
            ],
            [
             0.1111111111111111,
             "#46039f"
            ],
            [
             0.2222222222222222,
             "#7201a8"
            ],
            [
             0.3333333333333333,
             "#9c179e"
            ],
            [
             0.4444444444444444,
             "#bd3786"
            ],
            [
             0.5555555555555556,
             "#d8576b"
            ],
            [
             0.6666666666666666,
             "#ed7953"
            ],
            [
             0.7777777777777778,
             "#fb9f3a"
            ],
            [
             0.8888888888888888,
             "#fdca26"
            ],
            [
             1,
             "#f0f921"
            ]
           ],
           "sequentialminus": [
            [
             0,
             "#0d0887"
            ],
            [
             0.1111111111111111,
             "#46039f"
            ],
            [
             0.2222222222222222,
             "#7201a8"
            ],
            [
             0.3333333333333333,
             "#9c179e"
            ],
            [
             0.4444444444444444,
             "#bd3786"
            ],
            [
             0.5555555555555556,
             "#d8576b"
            ],
            [
             0.6666666666666666,
             "#ed7953"
            ],
            [
             0.7777777777777778,
             "#fb9f3a"
            ],
            [
             0.8888888888888888,
             "#fdca26"
            ],
            [
             1,
             "#f0f921"
            ]
           ]
          },
          "colorway": [
           "#636efa",
           "#EF553B",
           "#00cc96",
           "#ab63fa",
           "#FFA15A",
           "#19d3f3",
           "#FF6692",
           "#B6E880",
           "#FF97FF",
           "#FECB52"
          ],
          "font": {
           "color": "#2a3f5f"
          },
          "geo": {
           "bgcolor": "white",
           "lakecolor": "white",
           "landcolor": "#E5ECF6",
           "showlakes": true,
           "showland": true,
           "subunitcolor": "white"
          },
          "hoverlabel": {
           "align": "left"
          },
          "hovermode": "closest",
          "mapbox": {
           "style": "light"
          },
          "paper_bgcolor": "white",
          "plot_bgcolor": "#E5ECF6",
          "polar": {
           "angularaxis": {
            "gridcolor": "white",
            "linecolor": "white",
            "ticks": ""
           },
           "bgcolor": "#E5ECF6",
           "radialaxis": {
            "gridcolor": "white",
            "linecolor": "white",
            "ticks": ""
           }
          },
          "scene": {
           "xaxis": {
            "backgroundcolor": "#E5ECF6",
            "gridcolor": "white",
            "gridwidth": 2,
            "linecolor": "white",
            "showbackground": true,
            "ticks": "",
            "zerolinecolor": "white"
           },
           "yaxis": {
            "backgroundcolor": "#E5ECF6",
            "gridcolor": "white",
            "gridwidth": 2,
            "linecolor": "white",
            "showbackground": true,
            "ticks": "",
            "zerolinecolor": "white"
           },
           "zaxis": {
            "backgroundcolor": "#E5ECF6",
            "gridcolor": "white",
            "gridwidth": 2,
            "linecolor": "white",
            "showbackground": true,
            "ticks": "",
            "zerolinecolor": "white"
           }
          },
          "shapedefaults": {
           "line": {
            "color": "#2a3f5f"
           }
          },
          "ternary": {
           "aaxis": {
            "gridcolor": "white",
            "linecolor": "white",
            "ticks": ""
           },
           "baxis": {
            "gridcolor": "white",
            "linecolor": "white",
            "ticks": ""
           },
           "bgcolor": "#E5ECF6",
           "caxis": {
            "gridcolor": "white",
            "linecolor": "white",
            "ticks": ""
           }
          },
          "title": {
           "x": 0.05
          },
          "xaxis": {
           "automargin": true,
           "gridcolor": "white",
           "linecolor": "white",
           "ticks": "",
           "title": {
            "standoff": 15
           },
           "zerolinecolor": "white",
           "zerolinewidth": 2
          },
          "yaxis": {
           "automargin": true,
           "gridcolor": "white",
           "linecolor": "white",
           "ticks": "",
           "title": {
            "standoff": 15
           },
           "zerolinecolor": "white",
           "zerolinewidth": 2
          }
         }
        },
        "title": {
         "text": "Adverse Impact Ratio By Quantile"
        },
        "xaxis": {
         "anchor": "y",
         "domain": [
          0,
          0.45
         ],
         "title": {
          "text": "Quantile"
         }
        },
        "xaxis2": {
         "anchor": "y2",
         "domain": [
          0.55,
          1
         ],
         "title": {
          "text": "Quantile"
         }
        },
        "yaxis": {
         "anchor": "x",
         "domain": [
          0,
          1
         ],
         "tickformat": "0,.3f",
         "title": {
          "text": "AIR"
         },
         "zeroline": true,
         "zerolinecolor": "Black",
         "zerolinewidth": 1
        },
        "yaxis2": {
         "anchor": "x2",
         "domain": [
          0,
          1
         ],
         "tickformat": "0,.3f",
         "title": {
          "text": "AIR"
         },
         "zeroline": true,
         "zerolinecolor": "Black",
         "zerolinewidth": 1
        }
       }
      }
     },
     "metadata": {},
     "output_type": "display_data"
    }
   ],
   "source": [
    "air_by_quantile = sd.adverse_impact_ratio_by_quantile(\n",
    "    group_data=valid,\n",
    "    **common_disp_info,\n",
    "    outcome=valid['EBM Prediction'],\n",
    "    air_threshold=0.9,\n",
    "    percent_difference_threshold=0.0,\n",
    "    label=valid[label],\n",
    "    lower_score_favorable=True,\n",
    "    quantiles=[x / 100 for x in range(10, 101, 10)]\n",
    ")\n",
    "air_by_quantile"
   ]
  },
  {
   "cell_type": "markdown",
   "metadata": {},
   "source": [
    "#### _Adverse Impact Ratio (AIR) Assuming a Single Offer_"
   ]
  },
  {
   "cell_type": "code",
   "execution_count": 40,
   "metadata": {},
   "outputs": [
    {
     "data": {
      "application/vnd.jupyter.widget-view+json": {
       "model_id": "44a059396cf24bb5b13206949a7580f6",
       "version_major": 2,
       "version_minor": 0
      },
      "text/plain": [
       "HTML(value='\\n        <style>\\n\\n        .left-label {\\n            width: 30%;\\n        }\\n\\n        .card-pa…"
      ]
     },
     "metadata": {},
     "output_type": "display_data"
    },
    {
     "data": {
      "text/markdown": [
       "## Disparity Calculation: Adverse Impact Ratio"
      ]
     },
     "metadata": {},
     "output_type": "display_data"
    },
    {
     "data": {
      "text/html": [
       "<pre style=\"white-space:pre;overflow-x:auto;line-height:normal;font-family:Menlo,'DejaVu Sans Mono',consolas,'Courier New',monospace\">┌──────────────────────────────────────────────────────────┬──────────────────────────────────────────────────────┐\n",
       "│ Protected Groups                                         │ Minority, Age &gt;= 62                                  │\n",
       "│ Reference Groups                                         │ Majority, Age &lt; 62                                   │\n",
       "│ Group Categories                                         │ Race, Age                                            │\n",
       "│ AIR Threshold                                            │ 0.8                                                  │\n",
       "│ % Diff Threshold                                         │ 0.0                                                  │\n",
       "│ Affected Groups                                          │ Minority                                             │\n",
       "│ Affected Reference                                       │ Majority                                             │\n",
       "│ Affected Categories                                      │ Race                                                 │\n",
       "└──────────────────────────────────────────────────────────┴──────────────────────────────────────────────────────┘\n",
       "</pre>\n"
      ],
      "text/plain": [
       "┌──────────────────────────────────────────────────────────┬──────────────────────────────────────────────────────┐\n",
       "│ Protected Groups                                         │ Minority, Age >= 62                                  │\n",
       "│ Reference Groups                                         │ Majority, Age < 62                                   │\n",
       "│ Group Categories                                         │ Race, Age                                            │\n",
       "│ AIR Threshold                                            │ 0.8                                                  │\n",
       "│ % Diff Threshold                                         │ 0.0                                                  │\n",
       "│ Affected Groups                                          │ Minority                                             │\n",
       "│ Affected Reference                                       │ Majority                                             │\n",
       "│ Affected Categories                                      │ Race                                                 │\n",
       "└──────────────────────────────────────────────────────────┴──────────────────────────────────────────────────────┘\n"
      ]
     },
     "metadata": {},
     "output_type": "display_data"
    },
    {
     "data": {
      "text/markdown": [
       "\\* Percent Missing: Age: 0.00%, Race: 0.00%"
      ]
     },
     "metadata": {},
     "output_type": "display_data"
    },
    {
     "data": {
      "text/markdown": [
       "## Adverse Impact Ratio Summary Table"
      ]
     },
     "metadata": {},
     "output_type": "display_data"
    },
    {
     "data": {
      "text/html": [
       "<div>\n",
       "<style scoped>\n",
       "    .dataframe tbody tr th:only-of-type {\n",
       "        vertical-align: middle;\n",
       "    }\n",
       "\n",
       "    .dataframe tbody tr th {\n",
       "        vertical-align: top;\n",
       "    }\n",
       "\n",
       "    .dataframe thead th {\n",
       "        text-align: right;\n",
       "    }\n",
       "</style>\n",
       "<table class=\"dataframe\">\n",
       "  <thead>\n",
       "    <tr style=\"text-align: right;\">\n",
       "      <th>Group Category</th>\n",
       "      <th>Group</th>\n",
       "      <th>Reference Group</th>\n",
       "      <th>Observations</th>\n",
       "      <th>Percent Missing</th>\n",
       "      <th>Total</th>\n",
       "      <th>Label Favorable</th>\n",
       "      <th>Percent Label Favorable</th>\n",
       "      <th>Favorable</th>\n",
       "      <th>Percent Favorable</th>\n",
       "      <th>Percent Difference Favorable</th>\n",
       "      <th>AIR</th>\n",
       "      <th>P-Values</th>\n",
       "      <th>Practically Significant</th>\n",
       "      <th>Shortfall</th>\n",
       "    </tr>\n",
       "  </thead>\n",
       "  <tbody>\n",
       "    <tr>\n",
       "      <td>Race</td>\n",
       "      <td>Minority</td>\n",
       "      <td>Majority</td>\n",
       "      <td>12,648</td>\n",
       "      <td>0.00%</td>\n",
       "      <td>6,005.0</td>\n",
       "      <td>2,116.4</td>\n",
       "      <td>35.24%</td>\n",
       "      <td>2,826.9</td>\n",
       "      <td>47.08%</td>\n",
       "      <td>19.96%</td>\n",
       "      <td>0.702</td>\n",
       "      <td>0.000</td>\n",
       "      <td>Yes</td>\n",
       "      <td>1198.61037</td>\n",
       "    </tr>\n",
       "    <tr>\n",
       "      <td>Race</td>\n",
       "      <td>Majority</td>\n",
       "      <td></td>\n",
       "      <td>12,648</td>\n",
       "      <td>0.00%</td>\n",
       "      <td>6,643.0</td>\n",
       "      <td>829.6</td>\n",
       "      <td>12.49%</td>\n",
       "      <td>4,453.1</td>\n",
       "      <td>67.04%</td>\n",
       "      <td></td>\n",
       "      <td></td>\n",
       "      <td></td>\n",
       "      <td></td>\n",
       "      <td></td>\n",
       "    </tr>\n",
       "    <tr>\n",
       "      <td>Age</td>\n",
       "      <td>Age &gt;= 62</td>\n",
       "      <td>Age &lt; 62</td>\n",
       "      <td>12,648</td>\n",
       "      <td>0.00%</td>\n",
       "      <td>6,392.0</td>\n",
       "      <td>1,495.0</td>\n",
       "      <td>23.39%</td>\n",
       "      <td>3,675.0</td>\n",
       "      <td>57.49%</td>\n",
       "      <td>0.13%</td>\n",
       "      <td>0.998</td>\n",
       "      <td>0.896</td>\n",
       "      <td>No</td>\n",
       "      <td></td>\n",
       "    </tr>\n",
       "    <tr>\n",
       "      <td>Age</td>\n",
       "      <td>Age &lt; 62</td>\n",
       "      <td></td>\n",
       "      <td>12,648</td>\n",
       "      <td>0.00%</td>\n",
       "      <td>6,256.0</td>\n",
       "      <td>1,451.0</td>\n",
       "      <td>23.19%</td>\n",
       "      <td>3,605.0</td>\n",
       "      <td>57.62%</td>\n",
       "      <td></td>\n",
       "      <td></td>\n",
       "      <td></td>\n",
       "      <td></td>\n",
       "      <td></td>\n",
       "    </tr>\n",
       "  </tbody>\n",
       "</table>\n",
       "</div>"
      ],
      "text/plain": [
       "<IPython.core.display.HTML object>"
      ]
     },
     "metadata": {},
     "output_type": "display_data"
    },
    {
     "data": {
      "application/vnd.plotly.v1+json": {
       "config": {
        "plotlyServerURL": "https://plot.ly"
       },
       "data": [
        {
         "cliponaxis": false,
         "hovertemplate": "%{x}, %{y}<extra></extra>",
         "marker": {
          "color": "RGBA(78, 121, 167, 1.0)",
          "line": {
           "color": "rgb(8,48,107)",
           "width": 0
          },
          "pattern": {
           "shape": "/"
          }
         },
         "name": "Race",
         "showlegend": true,
         "text": "0.702",
         "textfont": {
          "color": "Black"
         },
         "type": "bar",
         "x": [
          [
           "Race"
          ],
          [
           "Minority"
          ]
         ],
         "y": [
          0.7022436115849106
         ]
        },
        {
         "cliponaxis": false,
         "hovertemplate": "%{x}, %{y}<extra></extra>",
         "marker": {
          "color": "RGBA(242, 142, 45, 1.0)",
          "line": {
           "color": "rgb(8,48,107)",
           "width": 0
          },
          "pattern": {
           "shape": ""
          }
         },
         "name": "Age",
         "showlegend": true,
         "text": "0.998",
         "textfont": {
          "color": "Black"
         },
         "type": "bar",
         "x": [
          [
           "Age"
          ],
          [
           "Age >= 62"
          ]
         ],
         "y": [
          0.9977277422020243
         ]
        },
        {
         "line": {
          "color": "Black",
          "dash": "dot",
          "width": 0.25
         },
         "mode": "lines",
         "name": "AIR Threshold",
         "text": "AIR Threshold",
         "type": "scatter",
         "x": [
          [
           "Race",
           "Age"
          ],
          [
           "Minority",
           "Age >= 62"
          ]
         ],
         "y": [
          0.8,
          0.8
         ]
        }
       ],
       "layout": {
        "legend": {
         "title": {
          "text": "Legend"
         }
        },
        "scene": {
         "yaxis": {
          "exponentformat": "none",
          "separatethousands": true
         }
        },
        "shapes": [
         {
          "line": {
           "color": "Black",
           "dash": "dot",
           "width": 1.25
          },
          "name": "AIR Threshold",
          "type": "line",
          "x0": 0,
          "x1": 1,
          "xref": "paper",
          "y0": 0.7617308488612838,
          "y1": 0.7617308488612838,
          "yref": "paper"
         }
        ],
        "template": {
         "data": {
          "bar": [
           {
            "error_x": {
             "color": "#2a3f5f"
            },
            "error_y": {
             "color": "#2a3f5f"
            },
            "marker": {
             "line": {
              "color": "#E5ECF6",
              "width": 0.5
             },
             "pattern": {
              "fillmode": "overlay",
              "size": 10,
              "solidity": 0.2
             }
            },
            "type": "bar"
           }
          ],
          "barpolar": [
           {
            "marker": {
             "line": {
              "color": "#E5ECF6",
              "width": 0.5
             },
             "pattern": {
              "fillmode": "overlay",
              "size": 10,
              "solidity": 0.2
             }
            },
            "type": "barpolar"
           }
          ],
          "carpet": [
           {
            "aaxis": {
             "endlinecolor": "#2a3f5f",
             "gridcolor": "white",
             "linecolor": "white",
             "minorgridcolor": "white",
             "startlinecolor": "#2a3f5f"
            },
            "baxis": {
             "endlinecolor": "#2a3f5f",
             "gridcolor": "white",
             "linecolor": "white",
             "minorgridcolor": "white",
             "startlinecolor": "#2a3f5f"
            },
            "type": "carpet"
           }
          ],
          "choropleth": [
           {
            "colorbar": {
             "outlinewidth": 0,
             "ticks": ""
            },
            "type": "choropleth"
           }
          ],
          "contour": [
           {
            "colorbar": {
             "outlinewidth": 0,
             "ticks": ""
            },
            "colorscale": [
             [
              0,
              "#0d0887"
             ],
             [
              0.1111111111111111,
              "#46039f"
             ],
             [
              0.2222222222222222,
              "#7201a8"
             ],
             [
              0.3333333333333333,
              "#9c179e"
             ],
             [
              0.4444444444444444,
              "#bd3786"
             ],
             [
              0.5555555555555556,
              "#d8576b"
             ],
             [
              0.6666666666666666,
              "#ed7953"
             ],
             [
              0.7777777777777778,
              "#fb9f3a"
             ],
             [
              0.8888888888888888,
              "#fdca26"
             ],
             [
              1,
              "#f0f921"
             ]
            ],
            "type": "contour"
           }
          ],
          "contourcarpet": [
           {
            "colorbar": {
             "outlinewidth": 0,
             "ticks": ""
            },
            "type": "contourcarpet"
           }
          ],
          "heatmap": [
           {
            "colorbar": {
             "outlinewidth": 0,
             "ticks": ""
            },
            "colorscale": [
             [
              0,
              "#0d0887"
             ],
             [
              0.1111111111111111,
              "#46039f"
             ],
             [
              0.2222222222222222,
              "#7201a8"
             ],
             [
              0.3333333333333333,
              "#9c179e"
             ],
             [
              0.4444444444444444,
              "#bd3786"
             ],
             [
              0.5555555555555556,
              "#d8576b"
             ],
             [
              0.6666666666666666,
              "#ed7953"
             ],
             [
              0.7777777777777778,
              "#fb9f3a"
             ],
             [
              0.8888888888888888,
              "#fdca26"
             ],
             [
              1,
              "#f0f921"
             ]
            ],
            "type": "heatmap"
           }
          ],
          "heatmapgl": [
           {
            "colorbar": {
             "outlinewidth": 0,
             "ticks": ""
            },
            "colorscale": [
             [
              0,
              "#0d0887"
             ],
             [
              0.1111111111111111,
              "#46039f"
             ],
             [
              0.2222222222222222,
              "#7201a8"
             ],
             [
              0.3333333333333333,
              "#9c179e"
             ],
             [
              0.4444444444444444,
              "#bd3786"
             ],
             [
              0.5555555555555556,
              "#d8576b"
             ],
             [
              0.6666666666666666,
              "#ed7953"
             ],
             [
              0.7777777777777778,
              "#fb9f3a"
             ],
             [
              0.8888888888888888,
              "#fdca26"
             ],
             [
              1,
              "#f0f921"
             ]
            ],
            "type": "heatmapgl"
           }
          ],
          "histogram": [
           {
            "marker": {
             "pattern": {
              "fillmode": "overlay",
              "size": 10,
              "solidity": 0.2
             }
            },
            "type": "histogram"
           }
          ],
          "histogram2d": [
           {
            "colorbar": {
             "outlinewidth": 0,
             "ticks": ""
            },
            "colorscale": [
             [
              0,
              "#0d0887"
             ],
             [
              0.1111111111111111,
              "#46039f"
             ],
             [
              0.2222222222222222,
              "#7201a8"
             ],
             [
              0.3333333333333333,
              "#9c179e"
             ],
             [
              0.4444444444444444,
              "#bd3786"
             ],
             [
              0.5555555555555556,
              "#d8576b"
             ],
             [
              0.6666666666666666,
              "#ed7953"
             ],
             [
              0.7777777777777778,
              "#fb9f3a"
             ],
             [
              0.8888888888888888,
              "#fdca26"
             ],
             [
              1,
              "#f0f921"
             ]
            ],
            "type": "histogram2d"
           }
          ],
          "histogram2dcontour": [
           {
            "colorbar": {
             "outlinewidth": 0,
             "ticks": ""
            },
            "colorscale": [
             [
              0,
              "#0d0887"
             ],
             [
              0.1111111111111111,
              "#46039f"
             ],
             [
              0.2222222222222222,
              "#7201a8"
             ],
             [
              0.3333333333333333,
              "#9c179e"
             ],
             [
              0.4444444444444444,
              "#bd3786"
             ],
             [
              0.5555555555555556,
              "#d8576b"
             ],
             [
              0.6666666666666666,
              "#ed7953"
             ],
             [
              0.7777777777777778,
              "#fb9f3a"
             ],
             [
              0.8888888888888888,
              "#fdca26"
             ],
             [
              1,
              "#f0f921"
             ]
            ],
            "type": "histogram2dcontour"
           }
          ],
          "mesh3d": [
           {
            "colorbar": {
             "outlinewidth": 0,
             "ticks": ""
            },
            "type": "mesh3d"
           }
          ],
          "parcoords": [
           {
            "line": {
             "colorbar": {
              "outlinewidth": 0,
              "ticks": ""
             }
            },
            "type": "parcoords"
           }
          ],
          "pie": [
           {
            "automargin": true,
            "type": "pie"
           }
          ],
          "scatter": [
           {
            "fillpattern": {
             "fillmode": "overlay",
             "size": 10,
             "solidity": 0.2
            },
            "type": "scatter"
           }
          ],
          "scatter3d": [
           {
            "line": {
             "colorbar": {
              "outlinewidth": 0,
              "ticks": ""
             }
            },
            "marker": {
             "colorbar": {
              "outlinewidth": 0,
              "ticks": ""
             }
            },
            "type": "scatter3d"
           }
          ],
          "scattercarpet": [
           {
            "marker": {
             "colorbar": {
              "outlinewidth": 0,
              "ticks": ""
             }
            },
            "type": "scattercarpet"
           }
          ],
          "scattergeo": [
           {
            "marker": {
             "colorbar": {
              "outlinewidth": 0,
              "ticks": ""
             }
            },
            "type": "scattergeo"
           }
          ],
          "scattergl": [
           {
            "marker": {
             "colorbar": {
              "outlinewidth": 0,
              "ticks": ""
             }
            },
            "type": "scattergl"
           }
          ],
          "scattermapbox": [
           {
            "marker": {
             "colorbar": {
              "outlinewidth": 0,
              "ticks": ""
             }
            },
            "type": "scattermapbox"
           }
          ],
          "scatterpolar": [
           {
            "marker": {
             "colorbar": {
              "outlinewidth": 0,
              "ticks": ""
             }
            },
            "type": "scatterpolar"
           }
          ],
          "scatterpolargl": [
           {
            "marker": {
             "colorbar": {
              "outlinewidth": 0,
              "ticks": ""
             }
            },
            "type": "scatterpolargl"
           }
          ],
          "scatterternary": [
           {
            "marker": {
             "colorbar": {
              "outlinewidth": 0,
              "ticks": ""
             }
            },
            "type": "scatterternary"
           }
          ],
          "surface": [
           {
            "colorbar": {
             "outlinewidth": 0,
             "ticks": ""
            },
            "colorscale": [
             [
              0,
              "#0d0887"
             ],
             [
              0.1111111111111111,
              "#46039f"
             ],
             [
              0.2222222222222222,
              "#7201a8"
             ],
             [
              0.3333333333333333,
              "#9c179e"
             ],
             [
              0.4444444444444444,
              "#bd3786"
             ],
             [
              0.5555555555555556,
              "#d8576b"
             ],
             [
              0.6666666666666666,
              "#ed7953"
             ],
             [
              0.7777777777777778,
              "#fb9f3a"
             ],
             [
              0.8888888888888888,
              "#fdca26"
             ],
             [
              1,
              "#f0f921"
             ]
            ],
            "type": "surface"
           }
          ],
          "table": [
           {
            "cells": {
             "fill": {
              "color": "#EBF0F8"
             },
             "line": {
              "color": "white"
             }
            },
            "header": {
             "fill": {
              "color": "#C8D4E3"
             },
             "line": {
              "color": "white"
             }
            },
            "type": "table"
           }
          ]
         },
         "layout": {
          "annotationdefaults": {
           "arrowcolor": "#2a3f5f",
           "arrowhead": 0,
           "arrowwidth": 1
          },
          "autotypenumbers": "strict",
          "coloraxis": {
           "colorbar": {
            "outlinewidth": 0,
            "ticks": ""
           }
          },
          "colorscale": {
           "diverging": [
            [
             0,
             "#8e0152"
            ],
            [
             0.1,
             "#c51b7d"
            ],
            [
             0.2,
             "#de77ae"
            ],
            [
             0.3,
             "#f1b6da"
            ],
            [
             0.4,
             "#fde0ef"
            ],
            [
             0.5,
             "#f7f7f7"
            ],
            [
             0.6,
             "#e6f5d0"
            ],
            [
             0.7,
             "#b8e186"
            ],
            [
             0.8,
             "#7fbc41"
            ],
            [
             0.9,
             "#4d9221"
            ],
            [
             1,
             "#276419"
            ]
           ],
           "sequential": [
            [
             0,
             "#0d0887"
            ],
            [
             0.1111111111111111,
             "#46039f"
            ],
            [
             0.2222222222222222,
             "#7201a8"
            ],
            [
             0.3333333333333333,
             "#9c179e"
            ],
            [
             0.4444444444444444,
             "#bd3786"
            ],
            [
             0.5555555555555556,
             "#d8576b"
            ],
            [
             0.6666666666666666,
             "#ed7953"
            ],
            [
             0.7777777777777778,
             "#fb9f3a"
            ],
            [
             0.8888888888888888,
             "#fdca26"
            ],
            [
             1,
             "#f0f921"
            ]
           ],
           "sequentialminus": [
            [
             0,
             "#0d0887"
            ],
            [
             0.1111111111111111,
             "#46039f"
            ],
            [
             0.2222222222222222,
             "#7201a8"
            ],
            [
             0.3333333333333333,
             "#9c179e"
            ],
            [
             0.4444444444444444,
             "#bd3786"
            ],
            [
             0.5555555555555556,
             "#d8576b"
            ],
            [
             0.6666666666666666,
             "#ed7953"
            ],
            [
             0.7777777777777778,
             "#fb9f3a"
            ],
            [
             0.8888888888888888,
             "#fdca26"
            ],
            [
             1,
             "#f0f921"
            ]
           ]
          },
          "colorway": [
           "#636efa",
           "#EF553B",
           "#00cc96",
           "#ab63fa",
           "#FFA15A",
           "#19d3f3",
           "#FF6692",
           "#B6E880",
           "#FF97FF",
           "#FECB52"
          ],
          "font": {
           "color": "#2a3f5f"
          },
          "geo": {
           "bgcolor": "white",
           "lakecolor": "white",
           "landcolor": "#E5ECF6",
           "showlakes": true,
           "showland": true,
           "subunitcolor": "white"
          },
          "hoverlabel": {
           "align": "left"
          },
          "hovermode": "closest",
          "mapbox": {
           "style": "light"
          },
          "paper_bgcolor": "white",
          "plot_bgcolor": "#E5ECF6",
          "polar": {
           "angularaxis": {
            "gridcolor": "white",
            "linecolor": "white",
            "ticks": ""
           },
           "bgcolor": "#E5ECF6",
           "radialaxis": {
            "gridcolor": "white",
            "linecolor": "white",
            "ticks": ""
           }
          },
          "scene": {
           "xaxis": {
            "backgroundcolor": "#E5ECF6",
            "gridcolor": "white",
            "gridwidth": 2,
            "linecolor": "white",
            "showbackground": true,
            "ticks": "",
            "zerolinecolor": "white"
           },
           "yaxis": {
            "backgroundcolor": "#E5ECF6",
            "gridcolor": "white",
            "gridwidth": 2,
            "linecolor": "white",
            "showbackground": true,
            "ticks": "",
            "zerolinecolor": "white"
           },
           "zaxis": {
            "backgroundcolor": "#E5ECF6",
            "gridcolor": "white",
            "gridwidth": 2,
            "linecolor": "white",
            "showbackground": true,
            "ticks": "",
            "zerolinecolor": "white"
           }
          },
          "shapedefaults": {
           "line": {
            "color": "#2a3f5f"
           }
          },
          "ternary": {
           "aaxis": {
            "gridcolor": "white",
            "linecolor": "white",
            "ticks": ""
           },
           "baxis": {
            "gridcolor": "white",
            "linecolor": "white",
            "ticks": ""
           },
           "bgcolor": "#E5ECF6",
           "caxis": {
            "gridcolor": "white",
            "linecolor": "white",
            "ticks": ""
           }
          },
          "title": {
           "x": 0.05
          },
          "xaxis": {
           "automargin": true,
           "gridcolor": "white",
           "linecolor": "white",
           "ticks": "",
           "title": {
            "standoff": 15
           },
           "zerolinecolor": "white",
           "zerolinewidth": 2
          },
          "yaxis": {
           "automargin": true,
           "gridcolor": "white",
           "linecolor": "white",
           "ticks": "",
           "title": {
            "standoff": 15
           },
           "zerolinecolor": "white",
           "zerolinewidth": 2
          }
         }
        },
        "title": {
         "text": "Adverse Impact Ratio (AIR)"
        },
        "uniformtext": {
         "minsize": 8,
         "mode": "hide"
        },
        "xaxis": {
         "fixedrange": true,
         "title": {
          "text": "Group"
         }
        },
        "yaxis": {
         "fixedrange": true,
         "tickformat": "0,.3f",
         "ticksuffix": "  ",
         "title": {
          "text": "AIR"
         },
         "zeroline": true,
         "zerolinecolor": "Black",
         "zerolinewidth": 1
        }
       }
      }
     },
     "metadata": {},
     "output_type": "display_data"
    }
   ],
   "source": [
    "air = sd.adverse_impact_ratio(\n",
    "    group_data=valid,\n",
    "    **common_disp_info,\n",
    "    outcome=valid['Offer'],\n",
    "    air_threshold=0.8,\n",
    "    percent_difference_threshold=0.0,\n",
    "    label=valid[label],\n",
    ")\n",
    "air"
   ]
  },
  {
   "cell_type": "markdown",
   "metadata": {},
   "source": [
    "#### _Segmented Adverse Impact Ratio (AIR) Assuming a Single Offer_"
   ]
  },
  {
   "cell_type": "code",
   "execution_count": 41,
   "metadata": {},
   "outputs": [
    {
     "data": {
      "application/vnd.jupyter.widget-view+json": {
       "model_id": "f0482f1120564a218dc86f8251ff3971",
       "version_major": 2,
       "version_minor": 0
      },
      "text/plain": [
       "HTML(value='\\n        <style>\\n\\n        .left-label {\\n            width: 30%;\\n        }\\n\\n        .card-pa…"
      ]
     },
     "metadata": {},
     "output_type": "display_data"
    },
    {
     "data": {
      "text/markdown": [
       "## Disparity Calculation: Segmented AIR"
      ]
     },
     "metadata": {},
     "output_type": "display_data"
    },
    {
     "data": {
      "text/html": [
       "<pre style=\"white-space:pre;overflow-x:auto;line-height:normal;font-family:Menlo,'DejaVu Sans Mono',consolas,'Courier New',monospace\">┌──────────────────────┬──────────────────────────────────────────────────────────────────────────────────────────┐\n",
       "│ Protected Groups     │ Minority, Age &gt;= 62                                                                      │\n",
       "│ Reference Groups     │ Majority, Age &lt; 62                                                                       │\n",
       "│ Group Categories     │ Race, Age                                                                                │\n",
       "│ AIR Threshold        │ 0.8                                                                                      │\n",
       "│ % Diff Threshold     │ 0.0                                                                                      │\n",
       "│ FDR Threshold        │ 0.2                                                                                      │\n",
       "│ Segments             │ ['S13', 'S11', 'S15', 'S06', 'S05', 'S12', 'S14', 'S10', 'S03', 'S04', 'S09', 'S07',     │\n",
       "│                      │ 'S08', 'S02', 'S01']                                                                     │\n",
       "│ Affected Groups      │ Minority                                                                                 │\n",
       "│ Affected Reference   │ Majority                                                                                 │\n",
       "│ Affected Categories  │ Race                                                                                     │\n",
       "└──────────────────────┴──────────────────────────────────────────────────────────────────────────────────────────┘\n",
       "</pre>\n"
      ],
      "text/plain": [
       "┌──────────────────────┬──────────────────────────────────────────────────────────────────────────────────────────┐\n",
       "│ Protected Groups     │ Minority, Age >= 62                                                                      │\n",
       "│ Reference Groups     │ Majority, Age < 62                                                                       │\n",
       "│ Group Categories     │ Race, Age                                                                                │\n",
       "│ AIR Threshold        │ 0.8                                                                                      │\n",
       "│ % Diff Threshold     │ 0.0                                                                                      │\n",
       "│ FDR Threshold        │ 0.2                                                                                      │\n",
       "│ Segments             │ ['S13', 'S11', 'S15', 'S06', 'S05', 'S12', 'S14', 'S10', 'S03', 'S04', 'S09', 'S07',     │\n",
       "│                      │ 'S08', 'S02', 'S01']                                                                     │\n",
       "│ Affected Groups      │ Minority                                                                                 │\n",
       "│ Affected Reference   │ Majority                                                                                 │\n",
       "│ Affected Categories  │ Race                                                                                     │\n",
       "└──────────────────────┴──────────────────────────────────────────────────────────────────────────────────────────┘\n"
      ]
     },
     "metadata": {},
     "output_type": "display_data"
    },
    {
     "data": {
      "text/markdown": [
       "## Segmented AIR Summary Table"
      ]
     },
     "metadata": {},
     "output_type": "display_data"
    },
    {
     "data": {
      "text/html": [
       "<div>\n",
       "<style scoped>\n",
       "    .dataframe tbody tr th:only-of-type {\n",
       "        vertical-align: middle;\n",
       "    }\n",
       "\n",
       "    .dataframe tbody tr th {\n",
       "        vertical-align: top;\n",
       "    }\n",
       "\n",
       "    .dataframe thead th {\n",
       "        text-align: right;\n",
       "    }\n",
       "</style>\n",
       "<table class=\"dataframe\">\n",
       "  <thead>\n",
       "    <tr style=\"text-align: right;\">\n",
       "      <th>Group Category</th>\n",
       "      <th>Group</th>\n",
       "      <th>Reference Group</th>\n",
       "      <th>Segment</th>\n",
       "      <th>Observations</th>\n",
       "      <th>Percent Missing</th>\n",
       "      <th>Total</th>\n",
       "      <th>Label Favorable</th>\n",
       "      <th>Percent Label Favorable</th>\n",
       "      <th>Favorable</th>\n",
       "      <th>Percent Favorable</th>\n",
       "      <th>AIR</th>\n",
       "      <th>P-Values</th>\n",
       "      <th>Benjamani-Hochberg Critical Value</th>\n",
       "      <th>Practically Significant</th>\n",
       "    </tr>\n",
       "  </thead>\n",
       "  <tbody>\n",
       "    <tr>\n",
       "      <td>Race</td>\n",
       "      <td>Minority</td>\n",
       "      <td>Majority</td>\n",
       "      <td>S13</td>\n",
       "      <td>2,978</td>\n",
       "      <td>0.00%</td>\n",
       "      <td>1,424.6</td>\n",
       "      <td>625.2</td>\n",
       "      <td>43.89%</td>\n",
       "      <td>471.7</td>\n",
       "      <td>33.11%</td>\n",
       "      <td>0.619</td>\n",
       "      <td>0.000</td>\n",
       "      <td></td>\n",
       "      <td>Yes</td>\n",
       "    </tr>\n",
       "    <tr>\n",
       "      <td>Race</td>\n",
       "      <td>Majority</td>\n",
       "      <td></td>\n",
       "      <td>S13</td>\n",
       "      <td>2,978</td>\n",
       "      <td>0.00%</td>\n",
       "      <td>1,553.4</td>\n",
       "      <td>265.8</td>\n",
       "      <td>17.11%</td>\n",
       "      <td>830.3</td>\n",
       "      <td>53.45%</td>\n",
       "      <td></td>\n",
       "      <td></td>\n",
       "      <td></td>\n",
       "      <td></td>\n",
       "    </tr>\n",
       "    <tr>\n",
       "      <td>Age</td>\n",
       "      <td>Age &gt;= 62</td>\n",
       "      <td>Age &lt; 62</td>\n",
       "      <td>S13</td>\n",
       "      <td>2,978</td>\n",
       "      <td>0.00%</td>\n",
       "      <td>1,521.0</td>\n",
       "      <td>462.0</td>\n",
       "      <td>30.37%</td>\n",
       "      <td>664.0</td>\n",
       "      <td>43.66%</td>\n",
       "      <td>0.997</td>\n",
       "      <td>0.971</td>\n",
       "      <td></td>\n",
       "      <td>No</td>\n",
       "    </tr>\n",
       "    <tr>\n",
       "      <td>Age</td>\n",
       "      <td>Age &lt; 62</td>\n",
       "      <td></td>\n",
       "      <td>S13</td>\n",
       "      <td>2,978</td>\n",
       "      <td>0.00%</td>\n",
       "      <td>1,457.0</td>\n",
       "      <td>429.0</td>\n",
       "      <td>29.44%</td>\n",
       "      <td>638.0</td>\n",
       "      <td>43.79%</td>\n",
       "      <td></td>\n",
       "      <td></td>\n",
       "      <td></td>\n",
       "      <td></td>\n",
       "    </tr>\n",
       "    <tr>\n",
       "      <td>Race</td>\n",
       "      <td>Minority</td>\n",
       "      <td>Majority</td>\n",
       "      <td>S11</td>\n",
       "      <td>1,050</td>\n",
       "      <td>0.00%</td>\n",
       "      <td>529.5</td>\n",
       "      <td>228.2</td>\n",
       "      <td>43.10%</td>\n",
       "      <td>210.4</td>\n",
       "      <td>39.74%</td>\n",
       "      <td>0.690</td>\n",
       "      <td>0.000</td>\n",
       "      <td></td>\n",
       "      <td>Yes</td>\n",
       "    </tr>\n",
       "    <tr>\n",
       "      <td>Race</td>\n",
       "      <td>Majority</td>\n",
       "      <td></td>\n",
       "      <td>S11</td>\n",
       "      <td>1,050</td>\n",
       "      <td>0.00%</td>\n",
       "      <td>520.5</td>\n",
       "      <td>78.8</td>\n",
       "      <td>15.13%</td>\n",
       "      <td>299.6</td>\n",
       "      <td>57.56%</td>\n",
       "      <td></td>\n",
       "      <td></td>\n",
       "      <td></td>\n",
       "      <td></td>\n",
       "    </tr>\n",
       "    <tr>\n",
       "      <td>Age</td>\n",
       "      <td>Age &gt;= 62</td>\n",
       "      <td>Age &lt; 62</td>\n",
       "      <td>S11</td>\n",
       "      <td>1,050</td>\n",
       "      <td>0.00%</td>\n",
       "      <td>533.0</td>\n",
       "      <td>155.0</td>\n",
       "      <td>29.08%</td>\n",
       "      <td>262.0</td>\n",
       "      <td>49.16%</td>\n",
       "      <td>1.025</td>\n",
       "      <td>0.747</td>\n",
       "      <td></td>\n",
       "      <td>No</td>\n",
       "    </tr>\n",
       "    <tr>\n",
       "      <td>Age</td>\n",
       "      <td>Age &lt; 62</td>\n",
       "      <td></td>\n",
       "      <td>S11</td>\n",
       "      <td>1,050</td>\n",
       "      <td>0.00%</td>\n",
       "      <td>517.0</td>\n",
       "      <td>152.0</td>\n",
       "      <td>29.40%</td>\n",
       "      <td>248.0</td>\n",
       "      <td>47.97%</td>\n",
       "      <td></td>\n",
       "      <td></td>\n",
       "      <td></td>\n",
       "      <td></td>\n",
       "    </tr>\n",
       "    <tr>\n",
       "      <td>Race</td>\n",
       "      <td>Minority</td>\n",
       "      <td>Majority</td>\n",
       "      <td>S15</td>\n",
       "      <td>2,043</td>\n",
       "      <td>0.00%</td>\n",
       "      <td>990.8</td>\n",
       "      <td>280.9</td>\n",
       "      <td>28.35%</td>\n",
       "      <td>570.6</td>\n",
       "      <td>57.59%</td>\n",
       "      <td>0.740</td>\n",
       "      <td>0.000</td>\n",
       "      <td></td>\n",
       "      <td>Yes</td>\n",
       "    </tr>\n",
       "    <tr>\n",
       "      <td>Race</td>\n",
       "      <td>Majority</td>\n",
       "      <td></td>\n",
       "      <td>S15</td>\n",
       "      <td>2,043</td>\n",
       "      <td>0.00%</td>\n",
       "      <td>1,052.2</td>\n",
       "      <td>89.1</td>\n",
       "      <td>8.47%</td>\n",
       "      <td>819.4</td>\n",
       "      <td>77.87%</td>\n",
       "      <td></td>\n",
       "      <td></td>\n",
       "      <td></td>\n",
       "      <td></td>\n",
       "    </tr>\n",
       "    <tr>\n",
       "      <td>Age</td>\n",
       "      <td>Age &gt;= 62</td>\n",
       "      <td>Age &lt; 62</td>\n",
       "      <td>S15</td>\n",
       "      <td>2,043</td>\n",
       "      <td>0.00%</td>\n",
       "      <td>1,036.0</td>\n",
       "      <td>199.0</td>\n",
       "      <td>19.21%</td>\n",
       "      <td>692.0</td>\n",
       "      <td>66.80%</td>\n",
       "      <td>0.964</td>\n",
       "      <td>0.241</td>\n",
       "      <td></td>\n",
       "      <td>No</td>\n",
       "    </tr>\n",
       "    <tr>\n",
       "      <td>Age</td>\n",
       "      <td>Age &lt; 62</td>\n",
       "      <td></td>\n",
       "      <td>S15</td>\n",
       "      <td>2,043</td>\n",
       "      <td>0.00%</td>\n",
       "      <td>1,007.0</td>\n",
       "      <td>171.0</td>\n",
       "      <td>16.98%</td>\n",
       "      <td>698.0</td>\n",
       "      <td>69.31%</td>\n",
       "      <td></td>\n",
       "      <td></td>\n",
       "      <td></td>\n",
       "      <td></td>\n",
       "    </tr>\n",
       "    <tr>\n",
       "      <td>Race</td>\n",
       "      <td>Minority</td>\n",
       "      <td>Majority</td>\n",
       "      <td>S06</td>\n",
       "      <td>1,977</td>\n",
       "      <td>0.00%</td>\n",
       "      <td>910.2</td>\n",
       "      <td>323.1</td>\n",
       "      <td>35.50%</td>\n",
       "      <td>414.2</td>\n",
       "      <td>45.50%</td>\n",
       "      <td>0.674</td>\n",
       "      <td>0.000</td>\n",
       "      <td></td>\n",
       "      <td>Yes</td>\n",
       "    </tr>\n",
       "    <tr>\n",
       "      <td>Race</td>\n",
       "      <td>Majority</td>\n",
       "      <td></td>\n",
       "      <td>S06</td>\n",
       "      <td>1,977</td>\n",
       "      <td>0.00%</td>\n",
       "      <td>1,066.8</td>\n",
       "      <td>137.9</td>\n",
       "      <td>12.93%</td>\n",
       "      <td>719.8</td>\n",
       "      <td>67.48%</td>\n",
       "      <td></td>\n",
       "      <td></td>\n",
       "      <td></td>\n",
       "      <td></td>\n",
       "    </tr>\n",
       "    <tr>\n",
       "      <td>Age</td>\n",
       "      <td>Age &gt;= 62</td>\n",
       "      <td>Age &lt; 62</td>\n",
       "      <td>S06</td>\n",
       "      <td>1,977</td>\n",
       "      <td>0.00%</td>\n",
       "      <td>967.0</td>\n",
       "      <td>226.0</td>\n",
       "      <td>23.37%</td>\n",
       "      <td>555.0</td>\n",
       "      <td>57.39%</td>\n",
       "      <td>1.001</td>\n",
       "      <td>1.000</td>\n",
       "      <td></td>\n",
       "      <td>No</td>\n",
       "    </tr>\n",
       "    <tr>\n",
       "      <td>Age</td>\n",
       "      <td>Age &lt; 62</td>\n",
       "      <td></td>\n",
       "      <td>S06</td>\n",
       "      <td>1,977</td>\n",
       "      <td>0.00%</td>\n",
       "      <td>1,010.0</td>\n",
       "      <td>235.0</td>\n",
       "      <td>23.27%</td>\n",
       "      <td>579.0</td>\n",
       "      <td>57.33%</td>\n",
       "      <td></td>\n",
       "      <td></td>\n",
       "      <td></td>\n",
       "      <td></td>\n",
       "    </tr>\n",
       "    <tr>\n",
       "      <td>Race</td>\n",
       "      <td>Minority</td>\n",
       "      <td>Majority</td>\n",
       "      <td>S05</td>\n",
       "      <td>1,040</td>\n",
       "      <td>0.00%</td>\n",
       "      <td>484.2</td>\n",
       "      <td>182.0</td>\n",
       "      <td>37.59%</td>\n",
       "      <td>220.9</td>\n",
       "      <td>45.62%</td>\n",
       "      <td>0.706</td>\n",
       "      <td>0.000</td>\n",
       "      <td></td>\n",
       "      <td>Yes</td>\n",
       "    </tr>\n",
       "    <tr>\n",
       "      <td>Race</td>\n",
       "      <td>Majority</td>\n",
       "      <td></td>\n",
       "      <td>S05</td>\n",
       "      <td>1,040</td>\n",
       "      <td>0.00%</td>\n",
       "      <td>555.8</td>\n",
       "      <td>81.0</td>\n",
       "      <td>14.57%</td>\n",
       "      <td>359.1</td>\n",
       "      <td>64.61%</td>\n",
       "      <td></td>\n",
       "      <td></td>\n",
       "      <td></td>\n",
       "      <td></td>\n",
       "    </tr>\n",
       "    <tr>\n",
       "      <td>Age</td>\n",
       "      <td>Age &gt;= 62</td>\n",
       "      <td>Age &lt; 62</td>\n",
       "      <td>S05</td>\n",
       "      <td>1,040</td>\n",
       "      <td>0.00%</td>\n",
       "      <td>486.0</td>\n",
       "      <td>110.0</td>\n",
       "      <td>22.63%</td>\n",
       "      <td>275.0</td>\n",
       "      <td>56.58%</td>\n",
       "      <td>1.028</td>\n",
       "      <td>0.665</td>\n",
       "      <td></td>\n",
       "      <td>No</td>\n",
       "    </tr>\n",
       "    <tr>\n",
       "      <td>Age</td>\n",
       "      <td>Age &lt; 62</td>\n",
       "      <td></td>\n",
       "      <td>S05</td>\n",
       "      <td>1,040</td>\n",
       "      <td>0.00%</td>\n",
       "      <td>554.0</td>\n",
       "      <td>153.0</td>\n",
       "      <td>27.62%</td>\n",
       "      <td>305.0</td>\n",
       "      <td>55.05%</td>\n",
       "      <td></td>\n",
       "      <td></td>\n",
       "      <td></td>\n",
       "      <td></td>\n",
       "    </tr>\n",
       "    <tr>\n",
       "      <td>Race</td>\n",
       "      <td>Minority</td>\n",
       "      <td>Majority</td>\n",
       "      <td>S12</td>\n",
       "      <td>2,006</td>\n",
       "      <td>0.00%</td>\n",
       "      <td>907.4</td>\n",
       "      <td>226.7</td>\n",
       "      <td>24.98%</td>\n",
       "      <td>605.3</td>\n",
       "      <td>66.71%</td>\n",
       "      <td>0.802</td>\n",
       "      <td>0.000</td>\n",
       "      <td></td>\n",
       "      <td>Yes</td>\n",
       "    </tr>\n",
       "    <tr>\n",
       "      <td>Race</td>\n",
       "      <td>Majority</td>\n",
       "      <td></td>\n",
       "      <td>S12</td>\n",
       "      <td>2,006</td>\n",
       "      <td>0.00%</td>\n",
       "      <td>1,098.6</td>\n",
       "      <td>67.3</td>\n",
       "      <td>6.13%</td>\n",
       "      <td>913.7</td>\n",
       "      <td>83.17%</td>\n",
       "      <td></td>\n",
       "      <td></td>\n",
       "      <td></td>\n",
       "      <td></td>\n",
       "    </tr>\n",
       "    <tr>\n",
       "      <td>Age</td>\n",
       "      <td>Age &gt;= 62</td>\n",
       "      <td>Age &lt; 62</td>\n",
       "      <td>S12</td>\n",
       "      <td>2,006</td>\n",
       "      <td>0.00%</td>\n",
       "      <td>1,021.0</td>\n",
       "      <td>143.0</td>\n",
       "      <td>14.01%</td>\n",
       "      <td>782.0</td>\n",
       "      <td>76.59%</td>\n",
       "      <td>1.024</td>\n",
       "      <td>0.383</td>\n",
       "      <td></td>\n",
       "      <td>No</td>\n",
       "    </tr>\n",
       "    <tr>\n",
       "      <td>Age</td>\n",
       "      <td>Age &lt; 62</td>\n",
       "      <td></td>\n",
       "      <td>S12</td>\n",
       "      <td>2,006</td>\n",
       "      <td>0.00%</td>\n",
       "      <td>985.0</td>\n",
       "      <td>151.0</td>\n",
       "      <td>15.33%</td>\n",
       "      <td>737.0</td>\n",
       "      <td>74.82%</td>\n",
       "      <td></td>\n",
       "      <td></td>\n",
       "      <td></td>\n",
       "      <td></td>\n",
       "    </tr>\n",
       "    <tr>\n",
       "      <td>Race</td>\n",
       "      <td>Minority</td>\n",
       "      <td>Majority</td>\n",
       "      <td>S14</td>\n",
       "      <td>940</td>\n",
       "      <td>0.00%</td>\n",
       "      <td>493.0</td>\n",
       "      <td>178.1</td>\n",
       "      <td>36.13%</td>\n",
       "      <td>168.5</td>\n",
       "      <td>34.17%</td>\n",
       "      <td>0.617</td>\n",
       "      <td>0.000</td>\n",
       "      <td></td>\n",
       "      <td>Yes</td>\n",
       "    </tr>\n",
       "    <tr>\n",
       "      <td>Race</td>\n",
       "      <td>Majority</td>\n",
       "      <td></td>\n",
       "      <td>S14</td>\n",
       "      <td>940</td>\n",
       "      <td>0.00%</td>\n",
       "      <td>447.0</td>\n",
       "      <td>68.9</td>\n",
       "      <td>15.41%</td>\n",
       "      <td>247.5</td>\n",
       "      <td>55.38%</td>\n",
       "      <td></td>\n",
       "      <td></td>\n",
       "      <td></td>\n",
       "      <td></td>\n",
       "    </tr>\n",
       "    <tr>\n",
       "      <td>Age</td>\n",
       "      <td>Age &gt;= 62</td>\n",
       "      <td>Age &lt; 62</td>\n",
       "      <td>S14</td>\n",
       "      <td>940</td>\n",
       "      <td>0.00%</td>\n",
       "      <td>504.0</td>\n",
       "      <td>131.0</td>\n",
       "      <td>25.99%</td>\n",
       "      <td>217.0</td>\n",
       "      <td>43.06%</td>\n",
       "      <td>0.943</td>\n",
       "      <td>0.465</td>\n",
       "      <td></td>\n",
       "      <td>No</td>\n",
       "    </tr>\n",
       "    <tr>\n",
       "      <td>Age</td>\n",
       "      <td>Age &lt; 62</td>\n",
       "      <td></td>\n",
       "      <td>S14</td>\n",
       "      <td>940</td>\n",
       "      <td>0.00%</td>\n",
       "      <td>436.0</td>\n",
       "      <td>116.0</td>\n",
       "      <td>26.61%</td>\n",
       "      <td>199.0</td>\n",
       "      <td>45.64%</td>\n",
       "      <td></td>\n",
       "      <td></td>\n",
       "      <td></td>\n",
       "      <td></td>\n",
       "    </tr>\n",
       "    <tr>\n",
       "      <td>Race</td>\n",
       "      <td>Minority</td>\n",
       "      <td>Majority</td>\n",
       "      <td>S10</td>\n",
       "      <td>182</td>\n",
       "      <td>0.00%</td>\n",
       "      <td>88.7</td>\n",
       "      <td>27.5</td>\n",
       "      <td>30.97%</td>\n",
       "      <td>55.6</td>\n",
       "      <td>62.71%</td>\n",
       "      <td>0.776</td>\n",
       "      <td>0.005</td>\n",
       "      <td></td>\n",
       "      <td>Yes</td>\n",
       "    </tr>\n",
       "    <tr>\n",
       "      <td>Race</td>\n",
       "      <td>Majority</td>\n",
       "      <td></td>\n",
       "      <td>S10</td>\n",
       "      <td>182</td>\n",
       "      <td>0.00%</td>\n",
       "      <td>93.3</td>\n",
       "      <td>7.5</td>\n",
       "      <td>8.07%</td>\n",
       "      <td>75.4</td>\n",
       "      <td>80.79%</td>\n",
       "      <td></td>\n",
       "      <td></td>\n",
       "      <td></td>\n",
       "      <td></td>\n",
       "    </tr>\n",
       "    <tr>\n",
       "      <td>Age</td>\n",
       "      <td>Age &gt;= 62</td>\n",
       "      <td>Age &lt; 62</td>\n",
       "      <td>S10</td>\n",
       "      <td>182</td>\n",
       "      <td>0.00%</td>\n",
       "      <td>95.0</td>\n",
       "      <td>20.0</td>\n",
       "      <td>21.05%</td>\n",
       "      <td>70.0</td>\n",
       "      <td>73.68%</td>\n",
       "      <td>1.051</td>\n",
       "      <td>0.623</td>\n",
       "      <td></td>\n",
       "      <td>No</td>\n",
       "    </tr>\n",
       "    <tr>\n",
       "      <td>Age</td>\n",
       "      <td>Age &lt; 62</td>\n",
       "      <td></td>\n",
       "      <td>S10</td>\n",
       "      <td>182</td>\n",
       "      <td>0.00%</td>\n",
       "      <td>87.0</td>\n",
       "      <td>15.0</td>\n",
       "      <td>17.24%</td>\n",
       "      <td>61.0</td>\n",
       "      <td>70.11%</td>\n",
       "      <td></td>\n",
       "      <td></td>\n",
       "      <td></td>\n",
       "      <td></td>\n",
       "    </tr>\n",
       "    <tr>\n",
       "      <td>Race</td>\n",
       "      <td>Minority</td>\n",
       "      <td>Majority</td>\n",
       "      <td>S03</td>\n",
       "      <td>102</td>\n",
       "      <td>0.00%</td>\n",
       "      <td>19.7</td>\n",
       "      <td>3.4</td>\n",
       "      <td>17.18%</td>\n",
       "      <td>13.4</td>\n",
       "      <td>68.05%</td>\n",
       "      <td>1.107</td>\n",
       "      <td>0.792</td>\n",
       "      <td></td>\n",
       "      <td>Yes</td>\n",
       "    </tr>\n",
       "    <tr>\n",
       "      <td>Race</td>\n",
       "      <td>Majority</td>\n",
       "      <td></td>\n",
       "      <td>S03</td>\n",
       "      <td>102</td>\n",
       "      <td>0.00%</td>\n",
       "      <td>82.3</td>\n",
       "      <td>20.6</td>\n",
       "      <td>25.05%</td>\n",
       "      <td>50.6</td>\n",
       "      <td>61.48%</td>\n",
       "      <td></td>\n",
       "      <td></td>\n",
       "      <td></td>\n",
       "      <td></td>\n",
       "    </tr>\n",
       "    <tr>\n",
       "      <td>Age</td>\n",
       "      <td>Age &gt;= 62</td>\n",
       "      <td>Age &lt; 62</td>\n",
       "      <td>S03</td>\n",
       "      <td>102</td>\n",
       "      <td>0.00%</td>\n",
       "      <td>54.0</td>\n",
       "      <td>18.0</td>\n",
       "      <td>33.33%</td>\n",
       "      <td>34.0</td>\n",
       "      <td>62.96%</td>\n",
       "      <td>1.007</td>\n",
       "      <td>1.000</td>\n",
       "      <td></td>\n",
       "      <td>No</td>\n",
       "    </tr>\n",
       "    <tr>\n",
       "      <td>Age</td>\n",
       "      <td>Age &lt; 62</td>\n",
       "      <td></td>\n",
       "      <td>S03</td>\n",
       "      <td>102</td>\n",
       "      <td>0.00%</td>\n",
       "      <td>48.0</td>\n",
       "      <td>6.0</td>\n",
       "      <td>12.50%</td>\n",
       "      <td>30.0</td>\n",
       "      <td>62.50%</td>\n",
       "      <td></td>\n",
       "      <td></td>\n",
       "      <td></td>\n",
       "      <td></td>\n",
       "    </tr>\n",
       "    <tr>\n",
       "      <td>Race</td>\n",
       "      <td>Minority</td>\n",
       "      <td>Majority</td>\n",
       "      <td>S04</td>\n",
       "      <td>187</td>\n",
       "      <td>0.00%</td>\n",
       "      <td>88.5</td>\n",
       "      <td>23.0</td>\n",
       "      <td>25.98%</td>\n",
       "      <td>53.9</td>\n",
       "      <td>60.83%</td>\n",
       "      <td>0.757</td>\n",
       "      <td>0.003</td>\n",
       "      <td></td>\n",
       "      <td>Yes</td>\n",
       "    </tr>\n",
       "    <tr>\n",
       "      <td>Race</td>\n",
       "      <td>Majority</td>\n",
       "      <td></td>\n",
       "      <td>S04</td>\n",
       "      <td>187</td>\n",
       "      <td>0.00%</td>\n",
       "      <td>98.5</td>\n",
       "      <td>9.0</td>\n",
       "      <td>9.14%</td>\n",
       "      <td>79.1</td>\n",
       "      <td>80.38%</td>\n",
       "      <td></td>\n",
       "      <td></td>\n",
       "      <td></td>\n",
       "      <td></td>\n",
       "    </tr>\n",
       "    <tr>\n",
       "      <td>Age</td>\n",
       "      <td>Age &gt;= 62</td>\n",
       "      <td>Age &lt; 62</td>\n",
       "      <td>S04</td>\n",
       "      <td>187</td>\n",
       "      <td>0.00%</td>\n",
       "      <td>103.0</td>\n",
       "      <td>20.0</td>\n",
       "      <td>19.42%</td>\n",
       "      <td>74.0</td>\n",
       "      <td>71.84%</td>\n",
       "      <td>1.023</td>\n",
       "      <td>0.872</td>\n",
       "      <td></td>\n",
       "      <td>No</td>\n",
       "    </tr>\n",
       "    <tr>\n",
       "      <td>Age</td>\n",
       "      <td>Age &lt; 62</td>\n",
       "      <td></td>\n",
       "      <td>S04</td>\n",
       "      <td>187</td>\n",
       "      <td>0.00%</td>\n",
       "      <td>84.0</td>\n",
       "      <td>12.0</td>\n",
       "      <td>14.29%</td>\n",
       "      <td>59.0</td>\n",
       "      <td>70.24%</td>\n",
       "      <td></td>\n",
       "      <td></td>\n",
       "      <td></td>\n",
       "      <td></td>\n",
       "    </tr>\n",
       "    <tr>\n",
       "      <td>Race</td>\n",
       "      <td>Minority</td>\n",
       "      <td>Majority</td>\n",
       "      <td>S09</td>\n",
       "      <td>93</td>\n",
       "      <td>0.00%</td>\n",
       "      <td>47.6</td>\n",
       "      <td>15.0</td>\n",
       "      <td>31.55%</td>\n",
       "      <td>29.8</td>\n",
       "      <td>62.52%</td>\n",
       "      <td>0.742</td>\n",
       "      <td>0.031</td>\n",
       "      <td></td>\n",
       "      <td>Yes</td>\n",
       "    </tr>\n",
       "    <tr>\n",
       "      <td>Race</td>\n",
       "      <td>Majority</td>\n",
       "      <td></td>\n",
       "      <td>S09</td>\n",
       "      <td>93</td>\n",
       "      <td>0.00%</td>\n",
       "      <td>45.4</td>\n",
       "      <td>1.0</td>\n",
       "      <td>2.14%</td>\n",
       "      <td>38.2</td>\n",
       "      <td>84.25%</td>\n",
       "      <td></td>\n",
       "      <td></td>\n",
       "      <td></td>\n",
       "      <td></td>\n",
       "    </tr>\n",
       "    <tr>\n",
       "      <td>Age</td>\n",
       "      <td>Age &gt;= 62</td>\n",
       "      <td>Age &lt; 62</td>\n",
       "      <td>S09</td>\n",
       "      <td>93</td>\n",
       "      <td>0.00%</td>\n",
       "      <td>45.0</td>\n",
       "      <td>9.0</td>\n",
       "      <td>20.00%</td>\n",
       "      <td>32.0</td>\n",
       "      <td>71.11%</td>\n",
       "      <td>0.948</td>\n",
       "      <td>0.815</td>\n",
       "      <td></td>\n",
       "      <td>No</td>\n",
       "    </tr>\n",
       "    <tr>\n",
       "      <td>Age</td>\n",
       "      <td>Age &lt; 62</td>\n",
       "      <td></td>\n",
       "      <td>S09</td>\n",
       "      <td>93</td>\n",
       "      <td>0.00%</td>\n",
       "      <td>48.0</td>\n",
       "      <td>7.0</td>\n",
       "      <td>14.58%</td>\n",
       "      <td>36.0</td>\n",
       "      <td>75.00%</td>\n",
       "      <td></td>\n",
       "      <td></td>\n",
       "      <td></td>\n",
       "      <td></td>\n",
       "    </tr>\n",
       "    <tr>\n",
       "      <td>Race</td>\n",
       "      <td>Minority</td>\n",
       "      <td>Majority</td>\n",
       "      <td>S07</td>\n",
       "      <td>5</td>\n",
       "      <td>0.00%</td>\n",
       "      <td>1.4</td>\n",
       "      <td>0.0</td>\n",
       "      <td>0.00%</td>\n",
       "      <td>1.2</td>\n",
       "      <td>82.35%</td>\n",
       "      <td>1.609</td>\n",
       "      <td>1.000</td>\n",
       "      <td></td>\n",
       "      <td>Yes</td>\n",
       "    </tr>\n",
       "    <tr>\n",
       "      <td>Race</td>\n",
       "      <td>Majority</td>\n",
       "      <td></td>\n",
       "      <td>S07</td>\n",
       "      <td>5</td>\n",
       "      <td>0.00%</td>\n",
       "      <td>3.6</td>\n",
       "      <td>0.0</td>\n",
       "      <td>0.00%</td>\n",
       "      <td>1.8</td>\n",
       "      <td>51.19%</td>\n",
       "      <td></td>\n",
       "      <td></td>\n",
       "      <td></td>\n",
       "      <td></td>\n",
       "    </tr>\n",
       "    <tr>\n",
       "      <td>Age</td>\n",
       "      <td>Age &gt;= 62</td>\n",
       "      <td>Age &lt; 62</td>\n",
       "      <td>S07</td>\n",
       "      <td>5</td>\n",
       "      <td>0.00%</td>\n",
       "      <td>3.0</td>\n",
       "      <td>0.0</td>\n",
       "      <td>0.00%</td>\n",
       "      <td>2.0</td>\n",
       "      <td>66.67%</td>\n",
       "      <td>1.333</td>\n",
       "      <td>1.000</td>\n",
       "      <td></td>\n",
       "      <td>No</td>\n",
       "    </tr>\n",
       "    <tr>\n",
       "      <td>Age</td>\n",
       "      <td>Age &lt; 62</td>\n",
       "      <td></td>\n",
       "      <td>S07</td>\n",
       "      <td>5</td>\n",
       "      <td>0.00%</td>\n",
       "      <td>2.0</td>\n",
       "      <td>0.0</td>\n",
       "      <td>0.00%</td>\n",
       "      <td>1.0</td>\n",
       "      <td>50.00%</td>\n",
       "      <td></td>\n",
       "      <td></td>\n",
       "      <td></td>\n",
       "      <td></td>\n",
       "    </tr>\n",
       "    <tr>\n",
       "      <td>Race</td>\n",
       "      <td>Minority</td>\n",
       "      <td>Majority</td>\n",
       "      <td>S08</td>\n",
       "      <td>19</td>\n",
       "      <td>0.00%</td>\n",
       "      <td>9.7</td>\n",
       "      <td>1.7</td>\n",
       "      <td>17.60%</td>\n",
       "      <td>6.4</td>\n",
       "      <td>65.90%</td>\n",
       "      <td>1.093</td>\n",
       "      <td>1.000</td>\n",
       "      <td></td>\n",
       "      <td>Yes</td>\n",
       "    </tr>\n",
       "    <tr>\n",
       "      <td>Race</td>\n",
       "      <td>Majority</td>\n",
       "      <td></td>\n",
       "      <td>S08</td>\n",
       "      <td>19</td>\n",
       "      <td>0.00%</td>\n",
       "      <td>9.3</td>\n",
       "      <td>1.3</td>\n",
       "      <td>13.90%</td>\n",
       "      <td>5.6</td>\n",
       "      <td>60.31%</td>\n",
       "      <td></td>\n",
       "      <td></td>\n",
       "      <td></td>\n",
       "      <td></td>\n",
       "    </tr>\n",
       "    <tr>\n",
       "      <td>Age</td>\n",
       "      <td>Age &gt;= 62</td>\n",
       "      <td>Age &lt; 62</td>\n",
       "      <td>S08</td>\n",
       "      <td>19</td>\n",
       "      <td>0.00%</td>\n",
       "      <td>11.0</td>\n",
       "      <td>1.0</td>\n",
       "      <td>9.09%</td>\n",
       "      <td>7.0</td>\n",
       "      <td>63.64%</td>\n",
       "      <td>1.018</td>\n",
       "      <td>1.000</td>\n",
       "      <td></td>\n",
       "      <td>No</td>\n",
       "    </tr>\n",
       "    <tr>\n",
       "      <td>Age</td>\n",
       "      <td>Age &lt; 62</td>\n",
       "      <td></td>\n",
       "      <td>S08</td>\n",
       "      <td>19</td>\n",
       "      <td>0.00%</td>\n",
       "      <td>8.0</td>\n",
       "      <td>2.0</td>\n",
       "      <td>25.00%</td>\n",
       "      <td>5.0</td>\n",
       "      <td>62.50%</td>\n",
       "      <td></td>\n",
       "      <td></td>\n",
       "      <td></td>\n",
       "      <td></td>\n",
       "    </tr>\n",
       "    <tr>\n",
       "      <td>Race</td>\n",
       "      <td>Minority</td>\n",
       "      <td>Majority</td>\n",
       "      <td>S02</td>\n",
       "      <td>18</td>\n",
       "      <td>0.00%</td>\n",
       "      <td>7.1</td>\n",
       "      <td>1.2</td>\n",
       "      <td>17.19%</td>\n",
       "      <td>3.7</td>\n",
       "      <td>51.95%</td>\n",
       "      <td>0.608</td>\n",
       "      <td>0.118</td>\n",
       "      <td></td>\n",
       "      <td>Yes</td>\n",
       "    </tr>\n",
       "    <tr>\n",
       "      <td>Race</td>\n",
       "      <td>Majority</td>\n",
       "      <td></td>\n",
       "      <td>S02</td>\n",
       "      <td>18</td>\n",
       "      <td>0.00%</td>\n",
       "      <td>10.9</td>\n",
       "      <td>0.8</td>\n",
       "      <td>7.15%</td>\n",
       "      <td>9.3</td>\n",
       "      <td>85.45%</td>\n",
       "      <td></td>\n",
       "      <td></td>\n",
       "      <td></td>\n",
       "      <td></td>\n",
       "    </tr>\n",
       "    <tr>\n",
       "      <td>Age</td>\n",
       "      <td>Age &gt;= 62</td>\n",
       "      <td>Age &lt; 62</td>\n",
       "      <td>S02</td>\n",
       "      <td>18</td>\n",
       "      <td>0.00%</td>\n",
       "      <td>12.0</td>\n",
       "      <td>1.0</td>\n",
       "      <td>8.33%</td>\n",
       "      <td>9.0</td>\n",
       "      <td>75.00%</td>\n",
       "      <td>1.125</td>\n",
       "      <td>1.000</td>\n",
       "      <td></td>\n",
       "      <td>No</td>\n",
       "    </tr>\n",
       "    <tr>\n",
       "      <td>Age</td>\n",
       "      <td>Age &lt; 62</td>\n",
       "      <td></td>\n",
       "      <td>S02</td>\n",
       "      <td>18</td>\n",
       "      <td>0.00%</td>\n",
       "      <td>6.0</td>\n",
       "      <td>1.0</td>\n",
       "      <td>16.67%</td>\n",
       "      <td>4.0</td>\n",
       "      <td>66.67%</td>\n",
       "      <td></td>\n",
       "      <td></td>\n",
       "      <td></td>\n",
       "      <td></td>\n",
       "    </tr>\n",
       "    <tr>\n",
       "      <td>Race</td>\n",
       "      <td>Minority</td>\n",
       "      <td>Majority</td>\n",
       "      <td>S01</td>\n",
       "      <td>8</td>\n",
       "      <td>0.00%</td>\n",
       "      <td>2.6</td>\n",
       "      <td>0.3</td>\n",
       "      <td>12.93%</td>\n",
       "      <td>1.4</td>\n",
       "      <td>54.45%</td>\n",
       "      <td>0.821</td>\n",
       "      <td>1.000</td>\n",
       "      <td></td>\n",
       "      <td>Yes</td>\n",
       "    </tr>\n",
       "    <tr>\n",
       "      <td>Race</td>\n",
       "      <td>Majority</td>\n",
       "      <td></td>\n",
       "      <td>S01</td>\n",
       "      <td>8</td>\n",
       "      <td>0.00%</td>\n",
       "      <td>5.4</td>\n",
       "      <td>0.7</td>\n",
       "      <td>12.30%</td>\n",
       "      <td>3.6</td>\n",
       "      <td>66.34%</td>\n",
       "      <td></td>\n",
       "      <td></td>\n",
       "      <td></td>\n",
       "      <td></td>\n",
       "    </tr>\n",
       "    <tr>\n",
       "      <td>Age</td>\n",
       "      <td>Age &gt;= 62</td>\n",
       "      <td>Age &lt; 62</td>\n",
       "      <td>S01</td>\n",
       "      <td>8</td>\n",
       "      <td>0.00%</td>\n",
       "      <td>1.0</td>\n",
       "      <td>0.0</td>\n",
       "      <td>0.00%</td>\n",
       "      <td>0.0</td>\n",
       "      <td>0.00%</td>\n",
       "      <td>0.000</td>\n",
       "      <td>0.375</td>\n",
       "      <td></td>\n",
       "      <td>No</td>\n",
       "    </tr>\n",
       "    <tr>\n",
       "      <td>Age</td>\n",
       "      <td>Age &lt; 62</td>\n",
       "      <td></td>\n",
       "      <td>S01</td>\n",
       "      <td>8</td>\n",
       "      <td>0.00%</td>\n",
       "      <td>7.0</td>\n",
       "      <td>1.0</td>\n",
       "      <td>14.29%</td>\n",
       "      <td>5.0</td>\n",
       "      <td>71.43%</td>\n",
       "      <td></td>\n",
       "      <td></td>\n",
       "      <td></td>\n",
       "      <td></td>\n",
       "    </tr>\n",
       "    <tr>\n",
       "      <td>Race</td>\n",
       "      <td>Minority</td>\n",
       "      <td>Majority</td>\n",
       "      <td>CMH Test</td>\n",
       "      <td>12,648</td>\n",
       "      <td>0.00%</td>\n",
       "      <td>6,005.0</td>\n",
       "      <td></td>\n",
       "      <td></td>\n",
       "      <td></td>\n",
       "      <td></td>\n",
       "      <td>0.706</td>\n",
       "      <td>0.000</td>\n",
       "      <td></td>\n",
       "      <td>Yes</td>\n",
       "    </tr>\n",
       "    <tr>\n",
       "      <td>Race</td>\n",
       "      <td>Majority</td>\n",
       "      <td></td>\n",
       "      <td>CMH Test</td>\n",
       "      <td>12,648</td>\n",
       "      <td>0.00%</td>\n",
       "      <td>6,643.0</td>\n",
       "      <td></td>\n",
       "      <td></td>\n",
       "      <td></td>\n",
       "      <td></td>\n",
       "      <td></td>\n",
       "      <td></td>\n",
       "      <td></td>\n",
       "      <td></td>\n",
       "    </tr>\n",
       "    <tr>\n",
       "      <td>Age</td>\n",
       "      <td>Age &gt;= 62</td>\n",
       "      <td>Age &lt; 62</td>\n",
       "      <td>CMH Test</td>\n",
       "      <td>12,648</td>\n",
       "      <td>0.00%</td>\n",
       "      <td>6,392.0</td>\n",
       "      <td></td>\n",
       "      <td></td>\n",
       "      <td></td>\n",
       "      <td></td>\n",
       "      <td>0.999</td>\n",
       "      <td>0.936</td>\n",
       "      <td></td>\n",
       "      <td>No</td>\n",
       "    </tr>\n",
       "    <tr>\n",
       "      <td>Age</td>\n",
       "      <td>Age &lt; 62</td>\n",
       "      <td></td>\n",
       "      <td>CMH Test</td>\n",
       "      <td>12,648</td>\n",
       "      <td>0.00%</td>\n",
       "      <td>6,256.0</td>\n",
       "      <td></td>\n",
       "      <td></td>\n",
       "      <td></td>\n",
       "      <td></td>\n",
       "      <td></td>\n",
       "      <td></td>\n",
       "      <td></td>\n",
       "      <td></td>\n",
       "    </tr>\n",
       "    <tr>\n",
       "      <td>Race</td>\n",
       "      <td>Minority</td>\n",
       "      <td>Majority</td>\n",
       "      <td>Breslow-Day Test</td>\n",
       "      <td>12,648</td>\n",
       "      <td>0.00%</td>\n",
       "      <td>6,005.0</td>\n",
       "      <td></td>\n",
       "      <td></td>\n",
       "      <td></td>\n",
       "      <td></td>\n",
       "      <td>0.706</td>\n",
       "      <td>0.641</td>\n",
       "      <td></td>\n",
       "      <td></td>\n",
       "    </tr>\n",
       "    <tr>\n",
       "      <td>Race</td>\n",
       "      <td>Majority</td>\n",
       "      <td></td>\n",
       "      <td>Breslow-Day Test</td>\n",
       "      <td>12,648</td>\n",
       "      <td>0.00%</td>\n",
       "      <td>6,643.0</td>\n",
       "      <td></td>\n",
       "      <td></td>\n",
       "      <td></td>\n",
       "      <td></td>\n",
       "      <td></td>\n",
       "      <td></td>\n",
       "      <td></td>\n",
       "      <td></td>\n",
       "    </tr>\n",
       "    <tr>\n",
       "      <td>Age</td>\n",
       "      <td>Age &gt;= 62</td>\n",
       "      <td>Age &lt; 62</td>\n",
       "      <td>Breslow-Day Test</td>\n",
       "      <td>12,648</td>\n",
       "      <td>0.00%</td>\n",
       "      <td>6,392.0</td>\n",
       "      <td></td>\n",
       "      <td></td>\n",
       "      <td></td>\n",
       "      <td></td>\n",
       "      <td>0.999</td>\n",
       "      <td>0.978</td>\n",
       "      <td></td>\n",
       "      <td></td>\n",
       "    </tr>\n",
       "    <tr>\n",
       "      <td>Age</td>\n",
       "      <td>Age &lt; 62</td>\n",
       "      <td></td>\n",
       "      <td>Breslow-Day Test</td>\n",
       "      <td>12,648</td>\n",
       "      <td>0.00%</td>\n",
       "      <td>6,256.0</td>\n",
       "      <td></td>\n",
       "      <td></td>\n",
       "      <td></td>\n",
       "      <td></td>\n",
       "      <td></td>\n",
       "      <td></td>\n",
       "      <td></td>\n",
       "      <td></td>\n",
       "    </tr>\n",
       "  </tbody>\n",
       "</table>\n",
       "</div>"
      ],
      "text/plain": [
       "<IPython.core.display.HTML object>"
      ]
     },
     "metadata": {},
     "output_type": "display_data"
    },
    {
     "data": {
      "application/vnd.plotly.v1+json": {
       "config": {
        "plotlyServerURL": "https://plot.ly"
       },
       "data": [
        {
         "hovertemplate": "%{x}, %{y}<extra></extra>",
         "marker": {
          "color": "RGB(78, 121, 167)"
         },
         "name": "Minority",
         "orientation": "h",
         "text": [
          "0.619",
          "0.690",
          "0.740",
          "0.674",
          "0.706",
          "0.802",
          "0.617",
          "0.776",
          "1.107",
          "0.757",
          "0.742",
          "1.609",
          "1.093",
          "0.608",
          "0.821"
         ],
         "type": "bar",
         "x": [
          0.6194147379411619,
          0.6904034579734845,
          0.7396223903134319,
          0.6743869209050906,
          0.7061340256376979,
          0.8020861807514325,
          0.6170633155163674,
          0.7761798430220341,
          1.106961202854632,
          0.7567203593789631,
          0.7421113988327329,
          1.6085848721746665,
          1.0927721882926327,
          0.6080087875040804,
          0.8208845509853931
         ],
         "xaxis": "x",
         "y": [
          "S13",
          "S11",
          "S15",
          "S06",
          "S05",
          "S12",
          "S14",
          "S10",
          "S03",
          "S04",
          "S09",
          "S07",
          "S08",
          "S02",
          "S01"
         ],
         "yaxis": "y"
        },
        {
         "hovertemplate": "%{x}, %{y}<extra></extra>",
         "marker": {
          "color": "RGB(242, 142, 45)"
         },
         "name": "Age >= 62",
         "orientation": "h",
         "text": [
          "0.997",
          "1.025",
          "0.964",
          "1.001",
          "1.028",
          "1.024",
          "0.943",
          "1.051",
          "1.007",
          "1.023",
          "0.948",
          "1.333",
          "1.018",
          "1.125",
          "0.000"
         ],
         "type": "bar",
         "x": [
          0.9969600102226097,
          1.0247382436603523,
          0.9636523547698332,
          1.0011734384962843,
          1.0277946434594887,
          1.0236459054562463,
          0.9433277498604132,
          1.0509059534081104,
          1.0074074074074075,
          1.0228731281882508,
          0.9481481481481482,
          1.3333333333333333,
          1.018181818181818,
          1.125,
          0
         ],
         "xaxis": "x2",
         "y": [
          "S13",
          "S11",
          "S15",
          "S06",
          "S05",
          "S12",
          "S14",
          "S10",
          "S03",
          "S04",
          "S09",
          "S07",
          "S08",
          "S02",
          "S01"
         ],
         "yaxis": "y2"
        },
        {
         "line": {
          "color": "black",
          "dash": "dot",
          "width": 2
         },
         "mode": "lines",
         "name": "AIR Threshold",
         "showlegend": true,
         "type": "scatter",
         "x": [
          0.8
         ],
         "xaxis": "x2",
         "y": [
          "S13"
         ],
         "yaxis": "y2"
        }
       ],
       "layout": {
        "annotations": [
         {
          "font": {
           "size": 16
          },
          "showarrow": false,
          "text": "Minority",
          "x": 0.225,
          "xanchor": "center",
          "xref": "paper",
          "y": 1,
          "yanchor": "bottom",
          "yref": "paper"
         },
         {
          "font": {
           "size": 16
          },
          "showarrow": false,
          "text": "Age >= 62",
          "x": 0.775,
          "xanchor": "center",
          "xref": "paper",
          "y": 1,
          "yanchor": "bottom",
          "yref": "paper"
         }
        ],
        "height": 450,
        "legend": {
         "title": {
          "text": "Legend"
         }
        },
        "shapes": [
         {
          "line": {
           "color": "black",
           "dash": "dot",
           "width": 2
          },
          "type": "line",
          "x0": 0.8,
          "x1": 0.8,
          "xref": "x",
          "y0": -0.75,
          "y1": 15,
          "yref": "y"
         },
         {
          "line": {
           "color": "black",
           "dash": "dot",
           "width": 2
          },
          "type": "line",
          "x0": 0.8,
          "x1": 0.8,
          "xref": "x2",
          "y0": -0.75,
          "y1": 15,
          "yref": "y2"
         }
        ],
        "template": {
         "data": {
          "bar": [
           {
            "error_x": {
             "color": "#2a3f5f"
            },
            "error_y": {
             "color": "#2a3f5f"
            },
            "marker": {
             "line": {
              "color": "#E5ECF6",
              "width": 0.5
             },
             "pattern": {
              "fillmode": "overlay",
              "size": 10,
              "solidity": 0.2
             }
            },
            "type": "bar"
           }
          ],
          "barpolar": [
           {
            "marker": {
             "line": {
              "color": "#E5ECF6",
              "width": 0.5
             },
             "pattern": {
              "fillmode": "overlay",
              "size": 10,
              "solidity": 0.2
             }
            },
            "type": "barpolar"
           }
          ],
          "carpet": [
           {
            "aaxis": {
             "endlinecolor": "#2a3f5f",
             "gridcolor": "white",
             "linecolor": "white",
             "minorgridcolor": "white",
             "startlinecolor": "#2a3f5f"
            },
            "baxis": {
             "endlinecolor": "#2a3f5f",
             "gridcolor": "white",
             "linecolor": "white",
             "minorgridcolor": "white",
             "startlinecolor": "#2a3f5f"
            },
            "type": "carpet"
           }
          ],
          "choropleth": [
           {
            "colorbar": {
             "outlinewidth": 0,
             "ticks": ""
            },
            "type": "choropleth"
           }
          ],
          "contour": [
           {
            "colorbar": {
             "outlinewidth": 0,
             "ticks": ""
            },
            "colorscale": [
             [
              0,
              "#0d0887"
             ],
             [
              0.1111111111111111,
              "#46039f"
             ],
             [
              0.2222222222222222,
              "#7201a8"
             ],
             [
              0.3333333333333333,
              "#9c179e"
             ],
             [
              0.4444444444444444,
              "#bd3786"
             ],
             [
              0.5555555555555556,
              "#d8576b"
             ],
             [
              0.6666666666666666,
              "#ed7953"
             ],
             [
              0.7777777777777778,
              "#fb9f3a"
             ],
             [
              0.8888888888888888,
              "#fdca26"
             ],
             [
              1,
              "#f0f921"
             ]
            ],
            "type": "contour"
           }
          ],
          "contourcarpet": [
           {
            "colorbar": {
             "outlinewidth": 0,
             "ticks": ""
            },
            "type": "contourcarpet"
           }
          ],
          "heatmap": [
           {
            "colorbar": {
             "outlinewidth": 0,
             "ticks": ""
            },
            "colorscale": [
             [
              0,
              "#0d0887"
             ],
             [
              0.1111111111111111,
              "#46039f"
             ],
             [
              0.2222222222222222,
              "#7201a8"
             ],
             [
              0.3333333333333333,
              "#9c179e"
             ],
             [
              0.4444444444444444,
              "#bd3786"
             ],
             [
              0.5555555555555556,
              "#d8576b"
             ],
             [
              0.6666666666666666,
              "#ed7953"
             ],
             [
              0.7777777777777778,
              "#fb9f3a"
             ],
             [
              0.8888888888888888,
              "#fdca26"
             ],
             [
              1,
              "#f0f921"
             ]
            ],
            "type": "heatmap"
           }
          ],
          "heatmapgl": [
           {
            "colorbar": {
             "outlinewidth": 0,
             "ticks": ""
            },
            "colorscale": [
             [
              0,
              "#0d0887"
             ],
             [
              0.1111111111111111,
              "#46039f"
             ],
             [
              0.2222222222222222,
              "#7201a8"
             ],
             [
              0.3333333333333333,
              "#9c179e"
             ],
             [
              0.4444444444444444,
              "#bd3786"
             ],
             [
              0.5555555555555556,
              "#d8576b"
             ],
             [
              0.6666666666666666,
              "#ed7953"
             ],
             [
              0.7777777777777778,
              "#fb9f3a"
             ],
             [
              0.8888888888888888,
              "#fdca26"
             ],
             [
              1,
              "#f0f921"
             ]
            ],
            "type": "heatmapgl"
           }
          ],
          "histogram": [
           {
            "marker": {
             "pattern": {
              "fillmode": "overlay",
              "size": 10,
              "solidity": 0.2
             }
            },
            "type": "histogram"
           }
          ],
          "histogram2d": [
           {
            "colorbar": {
             "outlinewidth": 0,
             "ticks": ""
            },
            "colorscale": [
             [
              0,
              "#0d0887"
             ],
             [
              0.1111111111111111,
              "#46039f"
             ],
             [
              0.2222222222222222,
              "#7201a8"
             ],
             [
              0.3333333333333333,
              "#9c179e"
             ],
             [
              0.4444444444444444,
              "#bd3786"
             ],
             [
              0.5555555555555556,
              "#d8576b"
             ],
             [
              0.6666666666666666,
              "#ed7953"
             ],
             [
              0.7777777777777778,
              "#fb9f3a"
             ],
             [
              0.8888888888888888,
              "#fdca26"
             ],
             [
              1,
              "#f0f921"
             ]
            ],
            "type": "histogram2d"
           }
          ],
          "histogram2dcontour": [
           {
            "colorbar": {
             "outlinewidth": 0,
             "ticks": ""
            },
            "colorscale": [
             [
              0,
              "#0d0887"
             ],
             [
              0.1111111111111111,
              "#46039f"
             ],
             [
              0.2222222222222222,
              "#7201a8"
             ],
             [
              0.3333333333333333,
              "#9c179e"
             ],
             [
              0.4444444444444444,
              "#bd3786"
             ],
             [
              0.5555555555555556,
              "#d8576b"
             ],
             [
              0.6666666666666666,
              "#ed7953"
             ],
             [
              0.7777777777777778,
              "#fb9f3a"
             ],
             [
              0.8888888888888888,
              "#fdca26"
             ],
             [
              1,
              "#f0f921"
             ]
            ],
            "type": "histogram2dcontour"
           }
          ],
          "mesh3d": [
           {
            "colorbar": {
             "outlinewidth": 0,
             "ticks": ""
            },
            "type": "mesh3d"
           }
          ],
          "parcoords": [
           {
            "line": {
             "colorbar": {
              "outlinewidth": 0,
              "ticks": ""
             }
            },
            "type": "parcoords"
           }
          ],
          "pie": [
           {
            "automargin": true,
            "type": "pie"
           }
          ],
          "scatter": [
           {
            "fillpattern": {
             "fillmode": "overlay",
             "size": 10,
             "solidity": 0.2
            },
            "type": "scatter"
           }
          ],
          "scatter3d": [
           {
            "line": {
             "colorbar": {
              "outlinewidth": 0,
              "ticks": ""
             }
            },
            "marker": {
             "colorbar": {
              "outlinewidth": 0,
              "ticks": ""
             }
            },
            "type": "scatter3d"
           }
          ],
          "scattercarpet": [
           {
            "marker": {
             "colorbar": {
              "outlinewidth": 0,
              "ticks": ""
             }
            },
            "type": "scattercarpet"
           }
          ],
          "scattergeo": [
           {
            "marker": {
             "colorbar": {
              "outlinewidth": 0,
              "ticks": ""
             }
            },
            "type": "scattergeo"
           }
          ],
          "scattergl": [
           {
            "marker": {
             "colorbar": {
              "outlinewidth": 0,
              "ticks": ""
             }
            },
            "type": "scattergl"
           }
          ],
          "scattermapbox": [
           {
            "marker": {
             "colorbar": {
              "outlinewidth": 0,
              "ticks": ""
             }
            },
            "type": "scattermapbox"
           }
          ],
          "scatterpolar": [
           {
            "marker": {
             "colorbar": {
              "outlinewidth": 0,
              "ticks": ""
             }
            },
            "type": "scatterpolar"
           }
          ],
          "scatterpolargl": [
           {
            "marker": {
             "colorbar": {
              "outlinewidth": 0,
              "ticks": ""
             }
            },
            "type": "scatterpolargl"
           }
          ],
          "scatterternary": [
           {
            "marker": {
             "colorbar": {
              "outlinewidth": 0,
              "ticks": ""
             }
            },
            "type": "scatterternary"
           }
          ],
          "surface": [
           {
            "colorbar": {
             "outlinewidth": 0,
             "ticks": ""
            },
            "colorscale": [
             [
              0,
              "#0d0887"
             ],
             [
              0.1111111111111111,
              "#46039f"
             ],
             [
              0.2222222222222222,
              "#7201a8"
             ],
             [
              0.3333333333333333,
              "#9c179e"
             ],
             [
              0.4444444444444444,
              "#bd3786"
             ],
             [
              0.5555555555555556,
              "#d8576b"
             ],
             [
              0.6666666666666666,
              "#ed7953"
             ],
             [
              0.7777777777777778,
              "#fb9f3a"
             ],
             [
              0.8888888888888888,
              "#fdca26"
             ],
             [
              1,
              "#f0f921"
             ]
            ],
            "type": "surface"
           }
          ],
          "table": [
           {
            "cells": {
             "fill": {
              "color": "#EBF0F8"
             },
             "line": {
              "color": "white"
             }
            },
            "header": {
             "fill": {
              "color": "#C8D4E3"
             },
             "line": {
              "color": "white"
             }
            },
            "type": "table"
           }
          ]
         },
         "layout": {
          "annotationdefaults": {
           "arrowcolor": "#2a3f5f",
           "arrowhead": 0,
           "arrowwidth": 1
          },
          "autotypenumbers": "strict",
          "coloraxis": {
           "colorbar": {
            "outlinewidth": 0,
            "ticks": ""
           }
          },
          "colorscale": {
           "diverging": [
            [
             0,
             "#8e0152"
            ],
            [
             0.1,
             "#c51b7d"
            ],
            [
             0.2,
             "#de77ae"
            ],
            [
             0.3,
             "#f1b6da"
            ],
            [
             0.4,
             "#fde0ef"
            ],
            [
             0.5,
             "#f7f7f7"
            ],
            [
             0.6,
             "#e6f5d0"
            ],
            [
             0.7,
             "#b8e186"
            ],
            [
             0.8,
             "#7fbc41"
            ],
            [
             0.9,
             "#4d9221"
            ],
            [
             1,
             "#276419"
            ]
           ],
           "sequential": [
            [
             0,
             "#0d0887"
            ],
            [
             0.1111111111111111,
             "#46039f"
            ],
            [
             0.2222222222222222,
             "#7201a8"
            ],
            [
             0.3333333333333333,
             "#9c179e"
            ],
            [
             0.4444444444444444,
             "#bd3786"
            ],
            [
             0.5555555555555556,
             "#d8576b"
            ],
            [
             0.6666666666666666,
             "#ed7953"
            ],
            [
             0.7777777777777778,
             "#fb9f3a"
            ],
            [
             0.8888888888888888,
             "#fdca26"
            ],
            [
             1,
             "#f0f921"
            ]
           ],
           "sequentialminus": [
            [
             0,
             "#0d0887"
            ],
            [
             0.1111111111111111,
             "#46039f"
            ],
            [
             0.2222222222222222,
             "#7201a8"
            ],
            [
             0.3333333333333333,
             "#9c179e"
            ],
            [
             0.4444444444444444,
             "#bd3786"
            ],
            [
             0.5555555555555556,
             "#d8576b"
            ],
            [
             0.6666666666666666,
             "#ed7953"
            ],
            [
             0.7777777777777778,
             "#fb9f3a"
            ],
            [
             0.8888888888888888,
             "#fdca26"
            ],
            [
             1,
             "#f0f921"
            ]
           ]
          },
          "colorway": [
           "#636efa",
           "#EF553B",
           "#00cc96",
           "#ab63fa",
           "#FFA15A",
           "#19d3f3",
           "#FF6692",
           "#B6E880",
           "#FF97FF",
           "#FECB52"
          ],
          "font": {
           "color": "#2a3f5f"
          },
          "geo": {
           "bgcolor": "white",
           "lakecolor": "white",
           "landcolor": "#E5ECF6",
           "showlakes": true,
           "showland": true,
           "subunitcolor": "white"
          },
          "hoverlabel": {
           "align": "left"
          },
          "hovermode": "closest",
          "mapbox": {
           "style": "light"
          },
          "paper_bgcolor": "white",
          "plot_bgcolor": "#E5ECF6",
          "polar": {
           "angularaxis": {
            "gridcolor": "white",
            "linecolor": "white",
            "ticks": ""
           },
           "bgcolor": "#E5ECF6",
           "radialaxis": {
            "gridcolor": "white",
            "linecolor": "white",
            "ticks": ""
           }
          },
          "scene": {
           "xaxis": {
            "backgroundcolor": "#E5ECF6",
            "gridcolor": "white",
            "gridwidth": 2,
            "linecolor": "white",
            "showbackground": true,
            "ticks": "",
            "zerolinecolor": "white"
           },
           "yaxis": {
            "backgroundcolor": "#E5ECF6",
            "gridcolor": "white",
            "gridwidth": 2,
            "linecolor": "white",
            "showbackground": true,
            "ticks": "",
            "zerolinecolor": "white"
           },
           "zaxis": {
            "backgroundcolor": "#E5ECF6",
            "gridcolor": "white",
            "gridwidth": 2,
            "linecolor": "white",
            "showbackground": true,
            "ticks": "",
            "zerolinecolor": "white"
           }
          },
          "shapedefaults": {
           "line": {
            "color": "#2a3f5f"
           }
          },
          "ternary": {
           "aaxis": {
            "gridcolor": "white",
            "linecolor": "white",
            "ticks": ""
           },
           "baxis": {
            "gridcolor": "white",
            "linecolor": "white",
            "ticks": ""
           },
           "bgcolor": "#E5ECF6",
           "caxis": {
            "gridcolor": "white",
            "linecolor": "white",
            "ticks": ""
           }
          },
          "title": {
           "x": 0.05
          },
          "xaxis": {
           "automargin": true,
           "gridcolor": "white",
           "linecolor": "white",
           "ticks": "",
           "title": {
            "standoff": 15
           },
           "zerolinecolor": "white",
           "zerolinewidth": 2
          },
          "yaxis": {
           "automargin": true,
           "gridcolor": "white",
           "linecolor": "white",
           "ticks": "",
           "title": {
            "standoff": 15
           },
           "zerolinecolor": "white",
           "zerolinewidth": 2
          }
         }
        },
        "title": {
         "text": "Segmented Adverse Impact Ratio"
        },
        "width": 1200,
        "xaxis": {
         "anchor": "y",
         "domain": [
          0,
          0.45
         ]
        },
        "xaxis2": {
         "anchor": "y2",
         "domain": [
          0.55,
          1
         ]
        },
        "yaxis": {
         "anchor": "x",
         "domain": [
          0,
          1
         ],
         "tickformat": "0,.3f",
         "ticksuffix": " "
        },
        "yaxis2": {
         "anchor": "x2",
         "domain": [
          0,
          1
         ],
         "tickformat": "0,.3f",
         "ticksuffix": " "
        }
       }
      }
     },
     "metadata": {},
     "output_type": "display_data"
    }
   ],
   "source": [
    "said = sd.segmented_adverse_impact_ratio(\n",
    "    group_data=valid,\n",
    "    **common_disp_info,\n",
    "    outcome=valid['Offer'],\n",
    "    air_threshold=0.8,\n",
    "    percent_difference_threshold=0.0,\n",
    "    label=valid[label],\n",
    "    segment=valid['Segment'],\n",
    "    fdr_threshold=0.20,\n",
    ")\n",
    "said"
   ]
  },
  {
   "cell_type": "markdown",
   "metadata": {},
   "source": [
    "#### _Odds Ratio (OR) Assuming Single Offer_"
   ]
  },
  {
   "cell_type": "code",
   "execution_count": 42,
   "metadata": {},
   "outputs": [
    {
     "data": {
      "application/vnd.jupyter.widget-view+json": {
       "model_id": "f6595f3c126848e0adcb594230cf53d1",
       "version_major": 2,
       "version_minor": 0
      },
      "text/plain": [
       "HTML(value='\\n        <style>\\n\\n        .left-label {\\n            width: 30%;\\n        }\\n\\n        .card-pa…"
      ]
     },
     "metadata": {},
     "output_type": "display_data"
    },
    {
     "data": {
      "text/markdown": [
       "## Disparity Calculation: Odds Ratio"
      ]
     },
     "metadata": {},
     "output_type": "display_data"
    },
    {
     "data": {
      "text/html": [
       "<pre style=\"white-space:pre;overflow-x:auto;line-height:normal;font-family:Menlo,'DejaVu Sans Mono',consolas,'Courier New',monospace\">┌──────────────────────────────────────────────────────────┬──────────────────────────────────────────────────────┐\n",
       "│ Protected Groups                                         │ Minority, Age &gt;= 62                                  │\n",
       "│ Reference Groups                                         │ Majority, Age &lt; 62                                   │\n",
       "│ Group Categories                                         │ Race, Age                                            │\n",
       "│ Odds Ratio Threshold                                     │ 0.9                                                  │\n",
       "│ % Diff Threshold                                         │ 0.0                                                  │\n",
       "│ Affected Groups                                          │ Minority                                             │\n",
       "│ Affected Reference                                       │ Majority                                             │\n",
       "│ Affected Categories                                      │ Race                                                 │\n",
       "└──────────────────────────────────────────────────────────┴──────────────────────────────────────────────────────┘\n",
       "</pre>\n"
      ],
      "text/plain": [
       "┌──────────────────────────────────────────────────────────┬──────────────────────────────────────────────────────┐\n",
       "│ Protected Groups                                         │ Minority, Age >= 62                                  │\n",
       "│ Reference Groups                                         │ Majority, Age < 62                                   │\n",
       "│ Group Categories                                         │ Race, Age                                            │\n",
       "│ Odds Ratio Threshold                                     │ 0.9                                                  │\n",
       "│ % Diff Threshold                                         │ 0.0                                                  │\n",
       "│ Affected Groups                                          │ Minority                                             │\n",
       "│ Affected Reference                                       │ Majority                                             │\n",
       "│ Affected Categories                                      │ Race                                                 │\n",
       "└──────────────────────────────────────────────────────────┴──────────────────────────────────────────────────────┘\n"
      ]
     },
     "metadata": {},
     "output_type": "display_data"
    },
    {
     "data": {
      "text/markdown": [
       "\\* Percent Missing: Age: 0.00%, Race: 0.00%"
      ]
     },
     "metadata": {},
     "output_type": "display_data"
    },
    {
     "data": {
      "text/markdown": [
       "## Odds Ratio Summary Table"
      ]
     },
     "metadata": {},
     "output_type": "display_data"
    },
    {
     "data": {
      "text/html": [
       "<div>\n",
       "<style scoped>\n",
       "    .dataframe tbody tr th:only-of-type {\n",
       "        vertical-align: middle;\n",
       "    }\n",
       "\n",
       "    .dataframe tbody tr th {\n",
       "        vertical-align: top;\n",
       "    }\n",
       "\n",
       "    .dataframe thead th {\n",
       "        text-align: right;\n",
       "    }\n",
       "</style>\n",
       "<table class=\"dataframe\">\n",
       "  <thead>\n",
       "    <tr style=\"text-align: right;\">\n",
       "      <th>Group Category</th>\n",
       "      <th>Group</th>\n",
       "      <th>Reference Group</th>\n",
       "      <th>Observations</th>\n",
       "      <th>Percent Missing</th>\n",
       "      <th>Total</th>\n",
       "      <th>Label Favorable</th>\n",
       "      <th>Percent Label Favorable</th>\n",
       "      <th>Label Odds</th>\n",
       "      <th>Favorable</th>\n",
       "      <th>Percent Favorable</th>\n",
       "      <th>Odds</th>\n",
       "      <th>Percent Difference Favorable</th>\n",
       "      <th>Odds Ratio</th>\n",
       "      <th>P-Values</th>\n",
       "      <th>Practically Significant</th>\n",
       "    </tr>\n",
       "  </thead>\n",
       "  <tbody>\n",
       "    <tr>\n",
       "      <td>Race</td>\n",
       "      <td>Minority</td>\n",
       "      <td>Majority</td>\n",
       "      <td>12,648</td>\n",
       "      <td>0.00%</td>\n",
       "      <td>6,005.0</td>\n",
       "      <td>2,116.4</td>\n",
       "      <td>35.24%</td>\n",
       "      <td>0.544265</td>\n",
       "      <td>2,826.9</td>\n",
       "      <td>47.08%</td>\n",
       "      <td>0.889467</td>\n",
       "      <td>19.96%</td>\n",
       "      <td>0.437399</td>\n",
       "      <td>0.000</td>\n",
       "      <td>Yes</td>\n",
       "    </tr>\n",
       "    <tr>\n",
       "      <td>Race</td>\n",
       "      <td>Majority</td>\n",
       "      <td></td>\n",
       "      <td>12,648</td>\n",
       "      <td>0.00%</td>\n",
       "      <td>6,643.0</td>\n",
       "      <td>829.6</td>\n",
       "      <td>12.49%</td>\n",
       "      <td>0.142700</td>\n",
       "      <td>4,453.1</td>\n",
       "      <td>67.04%</td>\n",
       "      <td>2.033538</td>\n",
       "      <td></td>\n",
       "      <td></td>\n",
       "      <td></td>\n",
       "      <td></td>\n",
       "    </tr>\n",
       "    <tr>\n",
       "      <td>Age</td>\n",
       "      <td>Age &gt;= 62</td>\n",
       "      <td>Age &lt; 62</td>\n",
       "      <td>12,648</td>\n",
       "      <td>0.00%</td>\n",
       "      <td>6,392.0</td>\n",
       "      <td>1,495.0</td>\n",
       "      <td>23.39%</td>\n",
       "      <td>0.305289</td>\n",
       "      <td>3,675.0</td>\n",
       "      <td>57.49%</td>\n",
       "      <td>1.352595</td>\n",
       "      <td>0.13%</td>\n",
       "      <td>0.994654</td>\n",
       "      <td>0.896</td>\n",
       "      <td>No</td>\n",
       "    </tr>\n",
       "    <tr>\n",
       "      <td>Age</td>\n",
       "      <td>Age &lt; 62</td>\n",
       "      <td></td>\n",
       "      <td>12,648</td>\n",
       "      <td>0.00%</td>\n",
       "      <td>6,256.0</td>\n",
       "      <td>1,451.0</td>\n",
       "      <td>23.19%</td>\n",
       "      <td>0.301977</td>\n",
       "      <td>3,605.0</td>\n",
       "      <td>57.62%</td>\n",
       "      <td>1.359864</td>\n",
       "      <td></td>\n",
       "      <td></td>\n",
       "      <td></td>\n",
       "      <td></td>\n",
       "    </tr>\n",
       "  </tbody>\n",
       "</table>\n",
       "</div>"
      ],
      "text/plain": [
       "<IPython.core.display.HTML object>"
      ]
     },
     "metadata": {},
     "output_type": "display_data"
    },
    {
     "data": {
      "application/vnd.plotly.v1+json": {
       "config": {
        "plotlyServerURL": "https://plot.ly"
       },
       "data": [
        {
         "cliponaxis": false,
         "hovertemplate": "%{x}, %{y}<extra></extra>",
         "marker": {
          "color": "RGBA(78, 121, 167, 1.0)",
          "line": {
           "color": "rgb(8,48,107)",
           "width": 0
          },
          "pattern": {
           "shape": "/"
          }
         },
         "name": "Race",
         "showlegend": true,
         "text": "0.44",
         "textfont": {
          "color": "Black"
         },
         "type": "bar",
         "x": [
          [
           "Race"
          ],
          [
           "Minority"
          ]
         ],
         "y": [
          0.43739902712882595
         ]
        },
        {
         "cliponaxis": false,
         "hovertemplate": "%{x}, %{y}<extra></extra>",
         "marker": {
          "color": "RGBA(242, 142, 45, 1.0)",
          "line": {
           "color": "rgb(8,48,107)",
           "width": 0
          },
          "pattern": {
           "shape": ""
          }
         },
         "name": "Age",
         "showlegend": true,
         "text": "0.99",
         "textfont": {
          "color": "Black"
         },
         "type": "bar",
         "x": [
          [
           "Age"
          ],
          [
           "Age >= 62"
          ]
         ],
         "y": [
          0.9946542981801028
         ]
        },
        {
         "line": {
          "color": "Black",
          "dash": "dot",
          "width": 0.25
         },
         "mode": "lines",
         "name": "Odds Ratio Threshold",
         "text": "Odds Ratio Threshold",
         "type": "scatter",
         "x": [
          [
           "Race",
           "Age"
          ],
          [
           "Minority",
           "Age >= 62"
          ]
         ],
         "y": [
          0.9,
          0.9
         ]
        }
       ],
       "layout": {
        "legend": {
         "title": {
          "text": "Legend"
         }
        },
        "scene": {
         "yaxis": {
          "exponentformat": "none",
          "separatethousands": true
         }
        },
        "shapes": [
         {
          "line": {
           "color": "Black",
           "dash": "dot",
           "width": 1.25
          },
          "name": "Odds Ratio Threshold",
          "type": "line",
          "x0": 0,
          "x1": 1,
          "xref": "paper",
          "y0": 0.8595951393005337,
          "y1": 0.8595951393005337,
          "yref": "paper"
         }
        ],
        "template": {
         "data": {
          "bar": [
           {
            "error_x": {
             "color": "#2a3f5f"
            },
            "error_y": {
             "color": "#2a3f5f"
            },
            "marker": {
             "line": {
              "color": "#E5ECF6",
              "width": 0.5
             },
             "pattern": {
              "fillmode": "overlay",
              "size": 10,
              "solidity": 0.2
             }
            },
            "type": "bar"
           }
          ],
          "barpolar": [
           {
            "marker": {
             "line": {
              "color": "#E5ECF6",
              "width": 0.5
             },
             "pattern": {
              "fillmode": "overlay",
              "size": 10,
              "solidity": 0.2
             }
            },
            "type": "barpolar"
           }
          ],
          "carpet": [
           {
            "aaxis": {
             "endlinecolor": "#2a3f5f",
             "gridcolor": "white",
             "linecolor": "white",
             "minorgridcolor": "white",
             "startlinecolor": "#2a3f5f"
            },
            "baxis": {
             "endlinecolor": "#2a3f5f",
             "gridcolor": "white",
             "linecolor": "white",
             "minorgridcolor": "white",
             "startlinecolor": "#2a3f5f"
            },
            "type": "carpet"
           }
          ],
          "choropleth": [
           {
            "colorbar": {
             "outlinewidth": 0,
             "ticks": ""
            },
            "type": "choropleth"
           }
          ],
          "contour": [
           {
            "colorbar": {
             "outlinewidth": 0,
             "ticks": ""
            },
            "colorscale": [
             [
              0,
              "#0d0887"
             ],
             [
              0.1111111111111111,
              "#46039f"
             ],
             [
              0.2222222222222222,
              "#7201a8"
             ],
             [
              0.3333333333333333,
              "#9c179e"
             ],
             [
              0.4444444444444444,
              "#bd3786"
             ],
             [
              0.5555555555555556,
              "#d8576b"
             ],
             [
              0.6666666666666666,
              "#ed7953"
             ],
             [
              0.7777777777777778,
              "#fb9f3a"
             ],
             [
              0.8888888888888888,
              "#fdca26"
             ],
             [
              1,
              "#f0f921"
             ]
            ],
            "type": "contour"
           }
          ],
          "contourcarpet": [
           {
            "colorbar": {
             "outlinewidth": 0,
             "ticks": ""
            },
            "type": "contourcarpet"
           }
          ],
          "heatmap": [
           {
            "colorbar": {
             "outlinewidth": 0,
             "ticks": ""
            },
            "colorscale": [
             [
              0,
              "#0d0887"
             ],
             [
              0.1111111111111111,
              "#46039f"
             ],
             [
              0.2222222222222222,
              "#7201a8"
             ],
             [
              0.3333333333333333,
              "#9c179e"
             ],
             [
              0.4444444444444444,
              "#bd3786"
             ],
             [
              0.5555555555555556,
              "#d8576b"
             ],
             [
              0.6666666666666666,
              "#ed7953"
             ],
             [
              0.7777777777777778,
              "#fb9f3a"
             ],
             [
              0.8888888888888888,
              "#fdca26"
             ],
             [
              1,
              "#f0f921"
             ]
            ],
            "type": "heatmap"
           }
          ],
          "heatmapgl": [
           {
            "colorbar": {
             "outlinewidth": 0,
             "ticks": ""
            },
            "colorscale": [
             [
              0,
              "#0d0887"
             ],
             [
              0.1111111111111111,
              "#46039f"
             ],
             [
              0.2222222222222222,
              "#7201a8"
             ],
             [
              0.3333333333333333,
              "#9c179e"
             ],
             [
              0.4444444444444444,
              "#bd3786"
             ],
             [
              0.5555555555555556,
              "#d8576b"
             ],
             [
              0.6666666666666666,
              "#ed7953"
             ],
             [
              0.7777777777777778,
              "#fb9f3a"
             ],
             [
              0.8888888888888888,
              "#fdca26"
             ],
             [
              1,
              "#f0f921"
             ]
            ],
            "type": "heatmapgl"
           }
          ],
          "histogram": [
           {
            "marker": {
             "pattern": {
              "fillmode": "overlay",
              "size": 10,
              "solidity": 0.2
             }
            },
            "type": "histogram"
           }
          ],
          "histogram2d": [
           {
            "colorbar": {
             "outlinewidth": 0,
             "ticks": ""
            },
            "colorscale": [
             [
              0,
              "#0d0887"
             ],
             [
              0.1111111111111111,
              "#46039f"
             ],
             [
              0.2222222222222222,
              "#7201a8"
             ],
             [
              0.3333333333333333,
              "#9c179e"
             ],
             [
              0.4444444444444444,
              "#bd3786"
             ],
             [
              0.5555555555555556,
              "#d8576b"
             ],
             [
              0.6666666666666666,
              "#ed7953"
             ],
             [
              0.7777777777777778,
              "#fb9f3a"
             ],
             [
              0.8888888888888888,
              "#fdca26"
             ],
             [
              1,
              "#f0f921"
             ]
            ],
            "type": "histogram2d"
           }
          ],
          "histogram2dcontour": [
           {
            "colorbar": {
             "outlinewidth": 0,
             "ticks": ""
            },
            "colorscale": [
             [
              0,
              "#0d0887"
             ],
             [
              0.1111111111111111,
              "#46039f"
             ],
             [
              0.2222222222222222,
              "#7201a8"
             ],
             [
              0.3333333333333333,
              "#9c179e"
             ],
             [
              0.4444444444444444,
              "#bd3786"
             ],
             [
              0.5555555555555556,
              "#d8576b"
             ],
             [
              0.6666666666666666,
              "#ed7953"
             ],
             [
              0.7777777777777778,
              "#fb9f3a"
             ],
             [
              0.8888888888888888,
              "#fdca26"
             ],
             [
              1,
              "#f0f921"
             ]
            ],
            "type": "histogram2dcontour"
           }
          ],
          "mesh3d": [
           {
            "colorbar": {
             "outlinewidth": 0,
             "ticks": ""
            },
            "type": "mesh3d"
           }
          ],
          "parcoords": [
           {
            "line": {
             "colorbar": {
              "outlinewidth": 0,
              "ticks": ""
             }
            },
            "type": "parcoords"
           }
          ],
          "pie": [
           {
            "automargin": true,
            "type": "pie"
           }
          ],
          "scatter": [
           {
            "fillpattern": {
             "fillmode": "overlay",
             "size": 10,
             "solidity": 0.2
            },
            "type": "scatter"
           }
          ],
          "scatter3d": [
           {
            "line": {
             "colorbar": {
              "outlinewidth": 0,
              "ticks": ""
             }
            },
            "marker": {
             "colorbar": {
              "outlinewidth": 0,
              "ticks": ""
             }
            },
            "type": "scatter3d"
           }
          ],
          "scattercarpet": [
           {
            "marker": {
             "colorbar": {
              "outlinewidth": 0,
              "ticks": ""
             }
            },
            "type": "scattercarpet"
           }
          ],
          "scattergeo": [
           {
            "marker": {
             "colorbar": {
              "outlinewidth": 0,
              "ticks": ""
             }
            },
            "type": "scattergeo"
           }
          ],
          "scattergl": [
           {
            "marker": {
             "colorbar": {
              "outlinewidth": 0,
              "ticks": ""
             }
            },
            "type": "scattergl"
           }
          ],
          "scattermapbox": [
           {
            "marker": {
             "colorbar": {
              "outlinewidth": 0,
              "ticks": ""
             }
            },
            "type": "scattermapbox"
           }
          ],
          "scatterpolar": [
           {
            "marker": {
             "colorbar": {
              "outlinewidth": 0,
              "ticks": ""
             }
            },
            "type": "scatterpolar"
           }
          ],
          "scatterpolargl": [
           {
            "marker": {
             "colorbar": {
              "outlinewidth": 0,
              "ticks": ""
             }
            },
            "type": "scatterpolargl"
           }
          ],
          "scatterternary": [
           {
            "marker": {
             "colorbar": {
              "outlinewidth": 0,
              "ticks": ""
             }
            },
            "type": "scatterternary"
           }
          ],
          "surface": [
           {
            "colorbar": {
             "outlinewidth": 0,
             "ticks": ""
            },
            "colorscale": [
             [
              0,
              "#0d0887"
             ],
             [
              0.1111111111111111,
              "#46039f"
             ],
             [
              0.2222222222222222,
              "#7201a8"
             ],
             [
              0.3333333333333333,
              "#9c179e"
             ],
             [
              0.4444444444444444,
              "#bd3786"
             ],
             [
              0.5555555555555556,
              "#d8576b"
             ],
             [
              0.6666666666666666,
              "#ed7953"
             ],
             [
              0.7777777777777778,
              "#fb9f3a"
             ],
             [
              0.8888888888888888,
              "#fdca26"
             ],
             [
              1,
              "#f0f921"
             ]
            ],
            "type": "surface"
           }
          ],
          "table": [
           {
            "cells": {
             "fill": {
              "color": "#EBF0F8"
             },
             "line": {
              "color": "white"
             }
            },
            "header": {
             "fill": {
              "color": "#C8D4E3"
             },
             "line": {
              "color": "white"
             }
            },
            "type": "table"
           }
          ]
         },
         "layout": {
          "annotationdefaults": {
           "arrowcolor": "#2a3f5f",
           "arrowhead": 0,
           "arrowwidth": 1
          },
          "autotypenumbers": "strict",
          "coloraxis": {
           "colorbar": {
            "outlinewidth": 0,
            "ticks": ""
           }
          },
          "colorscale": {
           "diverging": [
            [
             0,
             "#8e0152"
            ],
            [
             0.1,
             "#c51b7d"
            ],
            [
             0.2,
             "#de77ae"
            ],
            [
             0.3,
             "#f1b6da"
            ],
            [
             0.4,
             "#fde0ef"
            ],
            [
             0.5,
             "#f7f7f7"
            ],
            [
             0.6,
             "#e6f5d0"
            ],
            [
             0.7,
             "#b8e186"
            ],
            [
             0.8,
             "#7fbc41"
            ],
            [
             0.9,
             "#4d9221"
            ],
            [
             1,
             "#276419"
            ]
           ],
           "sequential": [
            [
             0,
             "#0d0887"
            ],
            [
             0.1111111111111111,
             "#46039f"
            ],
            [
             0.2222222222222222,
             "#7201a8"
            ],
            [
             0.3333333333333333,
             "#9c179e"
            ],
            [
             0.4444444444444444,
             "#bd3786"
            ],
            [
             0.5555555555555556,
             "#d8576b"
            ],
            [
             0.6666666666666666,
             "#ed7953"
            ],
            [
             0.7777777777777778,
             "#fb9f3a"
            ],
            [
             0.8888888888888888,
             "#fdca26"
            ],
            [
             1,
             "#f0f921"
            ]
           ],
           "sequentialminus": [
            [
             0,
             "#0d0887"
            ],
            [
             0.1111111111111111,
             "#46039f"
            ],
            [
             0.2222222222222222,
             "#7201a8"
            ],
            [
             0.3333333333333333,
             "#9c179e"
            ],
            [
             0.4444444444444444,
             "#bd3786"
            ],
            [
             0.5555555555555556,
             "#d8576b"
            ],
            [
             0.6666666666666666,
             "#ed7953"
            ],
            [
             0.7777777777777778,
             "#fb9f3a"
            ],
            [
             0.8888888888888888,
             "#fdca26"
            ],
            [
             1,
             "#f0f921"
            ]
           ]
          },
          "colorway": [
           "#636efa",
           "#EF553B",
           "#00cc96",
           "#ab63fa",
           "#FFA15A",
           "#19d3f3",
           "#FF6692",
           "#B6E880",
           "#FF97FF",
           "#FECB52"
          ],
          "font": {
           "color": "#2a3f5f"
          },
          "geo": {
           "bgcolor": "white",
           "lakecolor": "white",
           "landcolor": "#E5ECF6",
           "showlakes": true,
           "showland": true,
           "subunitcolor": "white"
          },
          "hoverlabel": {
           "align": "left"
          },
          "hovermode": "closest",
          "mapbox": {
           "style": "light"
          },
          "paper_bgcolor": "white",
          "plot_bgcolor": "#E5ECF6",
          "polar": {
           "angularaxis": {
            "gridcolor": "white",
            "linecolor": "white",
            "ticks": ""
           },
           "bgcolor": "#E5ECF6",
           "radialaxis": {
            "gridcolor": "white",
            "linecolor": "white",
            "ticks": ""
           }
          },
          "scene": {
           "xaxis": {
            "backgroundcolor": "#E5ECF6",
            "gridcolor": "white",
            "gridwidth": 2,
            "linecolor": "white",
            "showbackground": true,
            "ticks": "",
            "zerolinecolor": "white"
           },
           "yaxis": {
            "backgroundcolor": "#E5ECF6",
            "gridcolor": "white",
            "gridwidth": 2,
            "linecolor": "white",
            "showbackground": true,
            "ticks": "",
            "zerolinecolor": "white"
           },
           "zaxis": {
            "backgroundcolor": "#E5ECF6",
            "gridcolor": "white",
            "gridwidth": 2,
            "linecolor": "white",
            "showbackground": true,
            "ticks": "",
            "zerolinecolor": "white"
           }
          },
          "shapedefaults": {
           "line": {
            "color": "#2a3f5f"
           }
          },
          "ternary": {
           "aaxis": {
            "gridcolor": "white",
            "linecolor": "white",
            "ticks": ""
           },
           "baxis": {
            "gridcolor": "white",
            "linecolor": "white",
            "ticks": ""
           },
           "bgcolor": "#E5ECF6",
           "caxis": {
            "gridcolor": "white",
            "linecolor": "white",
            "ticks": ""
           }
          },
          "title": {
           "x": 0.05
          },
          "xaxis": {
           "automargin": true,
           "gridcolor": "white",
           "linecolor": "white",
           "ticks": "",
           "title": {
            "standoff": 15
           },
           "zerolinecolor": "white",
           "zerolinewidth": 2
          },
          "yaxis": {
           "automargin": true,
           "gridcolor": "white",
           "linecolor": "white",
           "ticks": "",
           "title": {
            "standoff": 15
           },
           "zerolinecolor": "white",
           "zerolinewidth": 2
          }
         }
        },
        "title": {
         "text": "Odds Ratio"
        },
        "uniformtext": {
         "minsize": 8,
         "mode": "hide"
        },
        "xaxis": {
         "fixedrange": true,
         "title": {
          "text": "Group"
         }
        },
        "yaxis": {
         "fixedrange": true,
         "tickformat": "0,.2f",
         "ticksuffix": "  ",
         "title": {
          "text": "Odds Ratio"
         },
         "zeroline": true,
         "zerolinecolor": "Black",
         "zerolinewidth": 1
        }
       }
      }
     },
     "metadata": {},
     "output_type": "display_data"
    }
   ],
   "source": [
    "odds_ratio = sd.odds_ratio(\n",
    "    group_data=valid,\n",
    "    **common_disp_info,\n",
    "    outcome=valid['Offer'],\n",
    "    odds_ratio_threshold=0.9,\n",
    "    percent_difference_threshold=0.0,\n",
    "    label=valid[label],\n",
    ")\n",
    "odds_ratio"
   ]
  },
  {
   "cell_type": "markdown",
   "metadata": {},
   "source": [
    "#### _Categorical Adverse Impact Ratio (AIR) Based on a Tiered Set of Offers_"
   ]
  },
  {
   "cell_type": "code",
   "execution_count": 43,
   "metadata": {},
   "outputs": [
    {
     "data": {
      "application/vnd.jupyter.widget-view+json": {
       "model_id": "731766c4a1a74f36a092fc513ab536fe",
       "version_major": 2,
       "version_minor": 0
      },
      "text/plain": [
       "HTML(value='\\n        <style>\\n\\n        .left-label {\\n            width: 30%;\\n        }\\n\\n        .card-pa…"
      ]
     },
     "metadata": {},
     "output_type": "display_data"
    },
    {
     "data": {
      "text/markdown": [
       "## Disparity Calculation: Categorical AIR"
      ]
     },
     "metadata": {},
     "output_type": "display_data"
    },
    {
     "data": {
      "text/html": [
       "<pre style=\"white-space:pre;overflow-x:auto;line-height:normal;font-family:Menlo,'DejaVu Sans Mono',consolas,'Courier New',monospace\">┌──────────────────────────────────────────────────────────┬──────────────────────────────────────────────────────┐\n",
       "│ Protected Groups                                         │ Minority, Age &gt;= 62                                  │\n",
       "│ Reference Groups                                         │ Majority, Age &lt; 62                                   │\n",
       "│ Group Categories                                         │ Race, Age                                            │\n",
       "│ Affected Groups                                          │ Minority                                             │\n",
       "│ Affected Reference                                       │ Majority                                             │\n",
       "│ Affected Categories                                      │ Race                                                 │\n",
       "└──────────────────────────────────────────────────────────┴──────────────────────────────────────────────────────┘\n",
       "</pre>\n"
      ],
      "text/plain": [
       "┌──────────────────────────────────────────────────────────┬──────────────────────────────────────────────────────┐\n",
       "│ Protected Groups                                         │ Minority, Age >= 62                                  │\n",
       "│ Reference Groups                                         │ Majority, Age < 62                                   │\n",
       "│ Group Categories                                         │ Race, Age                                            │\n",
       "│ Affected Groups                                          │ Minority                                             │\n",
       "│ Affected Reference                                       │ Majority                                             │\n",
       "│ Affected Categories                                      │ Race                                                 │\n",
       "└──────────────────────────────────────────────────────────┴──────────────────────────────────────────────────────┘\n"
      ]
     },
     "metadata": {},
     "output_type": "display_data"
    },
    {
     "data": {
      "text/markdown": [
       "## Categorical AIR Summary Table"
      ]
     },
     "metadata": {},
     "output_type": "display_data"
    },
    {
     "data": {
      "text/html": [
       "<div>\n",
       "<style scoped>\n",
       "    .dataframe tbody tr th:only-of-type {\n",
       "        vertical-align: middle;\n",
       "    }\n",
       "\n",
       "    .dataframe tbody tr th {\n",
       "        vertical-align: top;\n",
       "    }\n",
       "\n",
       "    .dataframe thead th {\n",
       "        text-align: right;\n",
       "    }\n",
       "</style>\n",
       "<table class=\"dataframe\">\n",
       "  <thead>\n",
       "    <tr style=\"text-align: right;\">\n",
       "      <th>Group Category</th>\n",
       "      <th>Group</th>\n",
       "      <th>Reference Group</th>\n",
       "      <th>Category</th>\n",
       "      <th>Category Ordinality</th>\n",
       "      <th>Observations</th>\n",
       "      <th>Percent Missing</th>\n",
       "      <th>Total</th>\n",
       "      <th>Label Favorable</th>\n",
       "      <th>Percent Label Favorable</th>\n",
       "      <th>Favorable</th>\n",
       "      <th>Percent Favorable</th>\n",
       "      <th>Percent Difference Favorable</th>\n",
       "      <th>AIR</th>\n",
       "      <th>P-Values</th>\n",
       "      <th>Practically Significant</th>\n",
       "      <th>Shortfall</th>\n",
       "    </tr>\n",
       "  </thead>\n",
       "  <tbody>\n",
       "    <tr>\n",
       "      <td>Race</td>\n",
       "      <td>Minority</td>\n",
       "      <td>Majority</td>\n",
       "      <td>No Offer</td>\n",
       "      <td>0</td>\n",
       "      <td>12,648</td>\n",
       "      <td>0.00%</td>\n",
       "      <td>6,005.0</td>\n",
       "      <td>6,005.0</td>\n",
       "      <td>100.00%</td>\n",
       "      <td>6,005.0</td>\n",
       "      <td>100.00%</td>\n",
       "      <td>0.00%</td>\n",
       "      <td>1.000</td>\n",
       "      <td>1.000</td>\n",
       "      <td>No</td>\n",
       "      <td></td>\n",
       "    </tr>\n",
       "    <tr>\n",
       "      <td>Race</td>\n",
       "      <td>Majority</td>\n",
       "      <td></td>\n",
       "      <td>No Offer</td>\n",
       "      <td>0</td>\n",
       "      <td>12,648</td>\n",
       "      <td>0.00%</td>\n",
       "      <td>6,643.0</td>\n",
       "      <td>6,643.0</td>\n",
       "      <td>100.00%</td>\n",
       "      <td>6,643.0</td>\n",
       "      <td>100.00%</td>\n",
       "      <td></td>\n",
       "      <td></td>\n",
       "      <td></td>\n",
       "      <td></td>\n",
       "      <td></td>\n",
       "    </tr>\n",
       "    <tr>\n",
       "      <td>Age</td>\n",
       "      <td>Age &gt;= 62</td>\n",
       "      <td>Age &lt; 62</td>\n",
       "      <td>No Offer</td>\n",
       "      <td>0</td>\n",
       "      <td>12,648</td>\n",
       "      <td>0.00%</td>\n",
       "      <td>6,392.0</td>\n",
       "      <td>6,392.0</td>\n",
       "      <td>100.00%</td>\n",
       "      <td>6,392.0</td>\n",
       "      <td>100.00%</td>\n",
       "      <td>0.00%</td>\n",
       "      <td>1.000</td>\n",
       "      <td>1.000</td>\n",
       "      <td>No</td>\n",
       "      <td></td>\n",
       "    </tr>\n",
       "    <tr>\n",
       "      <td>Age</td>\n",
       "      <td>Age &lt; 62</td>\n",
       "      <td></td>\n",
       "      <td>No Offer</td>\n",
       "      <td>0</td>\n",
       "      <td>12,648</td>\n",
       "      <td>0.00%</td>\n",
       "      <td>6,256.0</td>\n",
       "      <td>6,256.0</td>\n",
       "      <td>100.00%</td>\n",
       "      <td>6,256.0</td>\n",
       "      <td>100.00%</td>\n",
       "      <td></td>\n",
       "      <td></td>\n",
       "      <td></td>\n",
       "      <td></td>\n",
       "      <td></td>\n",
       "    </tr>\n",
       "    <tr>\n",
       "      <td>Race</td>\n",
       "      <td>Minority</td>\n",
       "      <td>Majority</td>\n",
       "      <td>Good Offer</td>\n",
       "      <td>1</td>\n",
       "      <td>12,648</td>\n",
       "      <td>0.00%</td>\n",
       "      <td>6,005.0</td>\n",
       "      <td>2,116.4</td>\n",
       "      <td>35.24%</td>\n",
       "      <td>3,395.7</td>\n",
       "      <td>56.55%</td>\n",
       "      <td>19.31%</td>\n",
       "      <td>0.745</td>\n",
       "      <td>0.000</td>\n",
       "      <td>Yes</td>\n",
       "      <td>1159.664458</td>\n",
       "    </tr>\n",
       "    <tr>\n",
       "      <td>Race</td>\n",
       "      <td>Majority</td>\n",
       "      <td></td>\n",
       "      <td>Good Offer</td>\n",
       "      <td>1</td>\n",
       "      <td>12,648</td>\n",
       "      <td>0.00%</td>\n",
       "      <td>6,643.0</td>\n",
       "      <td>829.6</td>\n",
       "      <td>12.49%</td>\n",
       "      <td>5,039.3</td>\n",
       "      <td>75.86%</td>\n",
       "      <td></td>\n",
       "      <td></td>\n",
       "      <td></td>\n",
       "      <td></td>\n",
       "      <td></td>\n",
       "    </tr>\n",
       "    <tr>\n",
       "      <td>Age</td>\n",
       "      <td>Age &gt;= 62</td>\n",
       "      <td>Age &lt; 62</td>\n",
       "      <td>Good Offer</td>\n",
       "      <td>1</td>\n",
       "      <td>12,648</td>\n",
       "      <td>0.00%</td>\n",
       "      <td>6,392.0</td>\n",
       "      <td>1,495.0</td>\n",
       "      <td>23.39%</td>\n",
       "      <td>4,255.0</td>\n",
       "      <td>66.57%</td>\n",
       "      <td>0.25%</td>\n",
       "      <td>0.996</td>\n",
       "      <td>0.782</td>\n",
       "      <td>No</td>\n",
       "      <td></td>\n",
       "    </tr>\n",
       "    <tr>\n",
       "      <td>Age</td>\n",
       "      <td>Age &lt; 62</td>\n",
       "      <td></td>\n",
       "      <td>Good Offer</td>\n",
       "      <td>1</td>\n",
       "      <td>12,648</td>\n",
       "      <td>0.00%</td>\n",
       "      <td>6,256.0</td>\n",
       "      <td>1,451.0</td>\n",
       "      <td>23.19%</td>\n",
       "      <td>4,180.0</td>\n",
       "      <td>66.82%</td>\n",
       "      <td></td>\n",
       "      <td></td>\n",
       "      <td></td>\n",
       "      <td></td>\n",
       "      <td></td>\n",
       "    </tr>\n",
       "    <tr>\n",
       "      <td>Race</td>\n",
       "      <td>Minority</td>\n",
       "      <td>Majority</td>\n",
       "      <td>Best Offer</td>\n",
       "      <td>2</td>\n",
       "      <td>12,648</td>\n",
       "      <td>0.00%</td>\n",
       "      <td>6,005.0</td>\n",
       "      <td>0.0</td>\n",
       "      <td>0.00%</td>\n",
       "      <td>753.5</td>\n",
       "      <td>12.55%</td>\n",
       "      <td>10.36%</td>\n",
       "      <td>0.548</td>\n",
       "      <td>0.000</td>\n",
       "      <td>Yes</td>\n",
       "      <td>621.940281</td>\n",
       "    </tr>\n",
       "    <tr>\n",
       "      <td>Race</td>\n",
       "      <td>Majority</td>\n",
       "      <td></td>\n",
       "      <td>Best Offer</td>\n",
       "      <td>2</td>\n",
       "      <td>12,648</td>\n",
       "      <td>0.00%</td>\n",
       "      <td>6,643.0</td>\n",
       "      <td>0.0</td>\n",
       "      <td>0.00%</td>\n",
       "      <td>1,521.5</td>\n",
       "      <td>22.90%</td>\n",
       "      <td></td>\n",
       "      <td></td>\n",
       "      <td></td>\n",
       "      <td></td>\n",
       "      <td></td>\n",
       "    </tr>\n",
       "    <tr>\n",
       "      <td>Age</td>\n",
       "      <td>Age &gt;= 62</td>\n",
       "      <td>Age &lt; 62</td>\n",
       "      <td>Best Offer</td>\n",
       "      <td>2</td>\n",
       "      <td>12,648</td>\n",
       "      <td>0.00%</td>\n",
       "      <td>6,392.0</td>\n",
       "      <td>0.0</td>\n",
       "      <td>0.00%</td>\n",
       "      <td>1,145.0</td>\n",
       "      <td>17.91%</td>\n",
       "      <td>0.15%</td>\n",
       "      <td>0.992</td>\n",
       "      <td>0.845</td>\n",
       "      <td>No</td>\n",
       "      <td></td>\n",
       "    </tr>\n",
       "    <tr>\n",
       "      <td>Age</td>\n",
       "      <td>Age &lt; 62</td>\n",
       "      <td></td>\n",
       "      <td>Best Offer</td>\n",
       "      <td>2</td>\n",
       "      <td>12,648</td>\n",
       "      <td>0.00%</td>\n",
       "      <td>6,256.0</td>\n",
       "      <td>0.0</td>\n",
       "      <td>0.00%</td>\n",
       "      <td>1,130.0</td>\n",
       "      <td>18.06%</td>\n",
       "      <td></td>\n",
       "      <td></td>\n",
       "      <td></td>\n",
       "      <td></td>\n",
       "      <td></td>\n",
       "    </tr>\n",
       "  </tbody>\n",
       "</table>\n",
       "</div>"
      ],
      "text/plain": [
       "<IPython.core.display.HTML object>"
      ]
     },
     "metadata": {},
     "output_type": "display_data"
    },
    {
     "data": {
      "application/vnd.plotly.v1+json": {
       "config": {
        "plotlyServerURL": "https://plot.ly"
       },
       "data": [
        {
         "cliponaxis": false,
         "hovertemplate": "%{x}, %{y}<extra></extra>",
         "marker": {
          "color": "RGB(78, 121, 167)",
          "pattern": {
           "shape": [
            "",
            "/",
            "/"
           ]
          }
         },
         "name": "Minority",
         "text": [
          "1.000",
          "0.745",
          "0.548"
         ],
         "textfont": {
          "color": "Black"
         },
         "type": "bar",
         "x": [
          "No Offer",
          "Good Offer",
          "Best Offer"
         ],
         "xaxis": "x",
         "y": [
          1,
          0.7454282013874067,
          0.5478142436871101
         ],
         "yaxis": "y"
        },
        {
         "line": {
          "color": "Black",
          "dash": "dot",
          "width": 0.25
         },
         "mode": "lines",
         "name": "AIR Threshold",
         "showlegend": false,
         "type": "scatter",
         "x": [
          "No Offer",
          "Good Offer",
          "Best Offer"
         ],
         "xaxis": "x",
         "y": [
          0.8,
          0.8,
          0.8
         ],
         "yaxis": "y"
        },
        {
         "cliponaxis": false,
         "hovertemplate": "%{x}, %{y}<extra></extra>",
         "marker": {
          "color": "RGB(225, 87, 89)",
          "pattern": {
           "shape": [
            "",
            "",
            ""
           ]
          }
         },
         "name": "Age >= 62",
         "text": [
          "1.000",
          "0.996",
          "0.992"
         ],
         "textfont": {
          "color": "Black"
         },
         "type": "bar",
         "x": [
          "No Offer",
          "Good Offer",
          "Best Offer"
         ],
         "xaxis": "x2",
         "y": [
          1,
          0.9962842308866944,
          0.9917153078516286
         ],
         "yaxis": "y2"
        },
        {
         "line": {
          "color": "Black",
          "dash": "dot",
          "width": 0.25
         },
         "mode": "lines",
         "name": "AIR Threshold",
         "showlegend": false,
         "type": "scatter",
         "x": [
          "No Offer",
          "Good Offer",
          "Best Offer"
         ],
         "xaxis": "x2",
         "y": [
          0.8,
          0.8,
          0.8
         ],
         "yaxis": "y2"
        }
       ],
       "layout": {
        "annotations": [
         {
          "font": {
           "size": 16
          },
          "showarrow": false,
          "text": "Minority",
          "x": 0.225,
          "xanchor": "center",
          "xref": "paper",
          "y": 1,
          "yanchor": "bottom",
          "yref": "paper"
         },
         {
          "font": {
           "size": 16
          },
          "showarrow": false,
          "text": "Age >= 62",
          "x": 0.775,
          "xanchor": "center",
          "xref": "paper",
          "y": 1,
          "yanchor": "bottom",
          "yref": "paper"
         }
        ],
        "autosize": true,
        "height": 275,
        "legend": {
         "title": {
          "text": "Legend"
         }
        },
        "shapes": [
         {
          "line": {
           "color": "Black",
           "dash": "dot",
           "width": 1.25
          },
          "type": "line",
          "x0": -0.75,
          "x1": 3,
          "xref": "x",
          "y0": 0.8,
          "y1": 0.8,
          "yref": "y"
         },
         {
          "line": {
           "color": "Black",
           "dash": "dot",
           "width": 1.25
          },
          "type": "line",
          "x0": -0.75,
          "x1": 3,
          "xref": "x2",
          "y0": 0.8,
          "y1": 0.8,
          "yref": "y2"
         }
        ],
        "template": {
         "data": {
          "bar": [
           {
            "error_x": {
             "color": "#2a3f5f"
            },
            "error_y": {
             "color": "#2a3f5f"
            },
            "marker": {
             "line": {
              "color": "#E5ECF6",
              "width": 0.5
             },
             "pattern": {
              "fillmode": "overlay",
              "size": 10,
              "solidity": 0.2
             }
            },
            "type": "bar"
           }
          ],
          "barpolar": [
           {
            "marker": {
             "line": {
              "color": "#E5ECF6",
              "width": 0.5
             },
             "pattern": {
              "fillmode": "overlay",
              "size": 10,
              "solidity": 0.2
             }
            },
            "type": "barpolar"
           }
          ],
          "carpet": [
           {
            "aaxis": {
             "endlinecolor": "#2a3f5f",
             "gridcolor": "white",
             "linecolor": "white",
             "minorgridcolor": "white",
             "startlinecolor": "#2a3f5f"
            },
            "baxis": {
             "endlinecolor": "#2a3f5f",
             "gridcolor": "white",
             "linecolor": "white",
             "minorgridcolor": "white",
             "startlinecolor": "#2a3f5f"
            },
            "type": "carpet"
           }
          ],
          "choropleth": [
           {
            "colorbar": {
             "outlinewidth": 0,
             "ticks": ""
            },
            "type": "choropleth"
           }
          ],
          "contour": [
           {
            "colorbar": {
             "outlinewidth": 0,
             "ticks": ""
            },
            "colorscale": [
             [
              0,
              "#0d0887"
             ],
             [
              0.1111111111111111,
              "#46039f"
             ],
             [
              0.2222222222222222,
              "#7201a8"
             ],
             [
              0.3333333333333333,
              "#9c179e"
             ],
             [
              0.4444444444444444,
              "#bd3786"
             ],
             [
              0.5555555555555556,
              "#d8576b"
             ],
             [
              0.6666666666666666,
              "#ed7953"
             ],
             [
              0.7777777777777778,
              "#fb9f3a"
             ],
             [
              0.8888888888888888,
              "#fdca26"
             ],
             [
              1,
              "#f0f921"
             ]
            ],
            "type": "contour"
           }
          ],
          "contourcarpet": [
           {
            "colorbar": {
             "outlinewidth": 0,
             "ticks": ""
            },
            "type": "contourcarpet"
           }
          ],
          "heatmap": [
           {
            "colorbar": {
             "outlinewidth": 0,
             "ticks": ""
            },
            "colorscale": [
             [
              0,
              "#0d0887"
             ],
             [
              0.1111111111111111,
              "#46039f"
             ],
             [
              0.2222222222222222,
              "#7201a8"
             ],
             [
              0.3333333333333333,
              "#9c179e"
             ],
             [
              0.4444444444444444,
              "#bd3786"
             ],
             [
              0.5555555555555556,
              "#d8576b"
             ],
             [
              0.6666666666666666,
              "#ed7953"
             ],
             [
              0.7777777777777778,
              "#fb9f3a"
             ],
             [
              0.8888888888888888,
              "#fdca26"
             ],
             [
              1,
              "#f0f921"
             ]
            ],
            "type": "heatmap"
           }
          ],
          "heatmapgl": [
           {
            "colorbar": {
             "outlinewidth": 0,
             "ticks": ""
            },
            "colorscale": [
             [
              0,
              "#0d0887"
             ],
             [
              0.1111111111111111,
              "#46039f"
             ],
             [
              0.2222222222222222,
              "#7201a8"
             ],
             [
              0.3333333333333333,
              "#9c179e"
             ],
             [
              0.4444444444444444,
              "#bd3786"
             ],
             [
              0.5555555555555556,
              "#d8576b"
             ],
             [
              0.6666666666666666,
              "#ed7953"
             ],
             [
              0.7777777777777778,
              "#fb9f3a"
             ],
             [
              0.8888888888888888,
              "#fdca26"
             ],
             [
              1,
              "#f0f921"
             ]
            ],
            "type": "heatmapgl"
           }
          ],
          "histogram": [
           {
            "marker": {
             "pattern": {
              "fillmode": "overlay",
              "size": 10,
              "solidity": 0.2
             }
            },
            "type": "histogram"
           }
          ],
          "histogram2d": [
           {
            "colorbar": {
             "outlinewidth": 0,
             "ticks": ""
            },
            "colorscale": [
             [
              0,
              "#0d0887"
             ],
             [
              0.1111111111111111,
              "#46039f"
             ],
             [
              0.2222222222222222,
              "#7201a8"
             ],
             [
              0.3333333333333333,
              "#9c179e"
             ],
             [
              0.4444444444444444,
              "#bd3786"
             ],
             [
              0.5555555555555556,
              "#d8576b"
             ],
             [
              0.6666666666666666,
              "#ed7953"
             ],
             [
              0.7777777777777778,
              "#fb9f3a"
             ],
             [
              0.8888888888888888,
              "#fdca26"
             ],
             [
              1,
              "#f0f921"
             ]
            ],
            "type": "histogram2d"
           }
          ],
          "histogram2dcontour": [
           {
            "colorbar": {
             "outlinewidth": 0,
             "ticks": ""
            },
            "colorscale": [
             [
              0,
              "#0d0887"
             ],
             [
              0.1111111111111111,
              "#46039f"
             ],
             [
              0.2222222222222222,
              "#7201a8"
             ],
             [
              0.3333333333333333,
              "#9c179e"
             ],
             [
              0.4444444444444444,
              "#bd3786"
             ],
             [
              0.5555555555555556,
              "#d8576b"
             ],
             [
              0.6666666666666666,
              "#ed7953"
             ],
             [
              0.7777777777777778,
              "#fb9f3a"
             ],
             [
              0.8888888888888888,
              "#fdca26"
             ],
             [
              1,
              "#f0f921"
             ]
            ],
            "type": "histogram2dcontour"
           }
          ],
          "mesh3d": [
           {
            "colorbar": {
             "outlinewidth": 0,
             "ticks": ""
            },
            "type": "mesh3d"
           }
          ],
          "parcoords": [
           {
            "line": {
             "colorbar": {
              "outlinewidth": 0,
              "ticks": ""
             }
            },
            "type": "parcoords"
           }
          ],
          "pie": [
           {
            "automargin": true,
            "type": "pie"
           }
          ],
          "scatter": [
           {
            "fillpattern": {
             "fillmode": "overlay",
             "size": 10,
             "solidity": 0.2
            },
            "type": "scatter"
           }
          ],
          "scatter3d": [
           {
            "line": {
             "colorbar": {
              "outlinewidth": 0,
              "ticks": ""
             }
            },
            "marker": {
             "colorbar": {
              "outlinewidth": 0,
              "ticks": ""
             }
            },
            "type": "scatter3d"
           }
          ],
          "scattercarpet": [
           {
            "marker": {
             "colorbar": {
              "outlinewidth": 0,
              "ticks": ""
             }
            },
            "type": "scattercarpet"
           }
          ],
          "scattergeo": [
           {
            "marker": {
             "colorbar": {
              "outlinewidth": 0,
              "ticks": ""
             }
            },
            "type": "scattergeo"
           }
          ],
          "scattergl": [
           {
            "marker": {
             "colorbar": {
              "outlinewidth": 0,
              "ticks": ""
             }
            },
            "type": "scattergl"
           }
          ],
          "scattermapbox": [
           {
            "marker": {
             "colorbar": {
              "outlinewidth": 0,
              "ticks": ""
             }
            },
            "type": "scattermapbox"
           }
          ],
          "scatterpolar": [
           {
            "marker": {
             "colorbar": {
              "outlinewidth": 0,
              "ticks": ""
             }
            },
            "type": "scatterpolar"
           }
          ],
          "scatterpolargl": [
           {
            "marker": {
             "colorbar": {
              "outlinewidth": 0,
              "ticks": ""
             }
            },
            "type": "scatterpolargl"
           }
          ],
          "scatterternary": [
           {
            "marker": {
             "colorbar": {
              "outlinewidth": 0,
              "ticks": ""
             }
            },
            "type": "scatterternary"
           }
          ],
          "surface": [
           {
            "colorbar": {
             "outlinewidth": 0,
             "ticks": ""
            },
            "colorscale": [
             [
              0,
              "#0d0887"
             ],
             [
              0.1111111111111111,
              "#46039f"
             ],
             [
              0.2222222222222222,
              "#7201a8"
             ],
             [
              0.3333333333333333,
              "#9c179e"
             ],
             [
              0.4444444444444444,
              "#bd3786"
             ],
             [
              0.5555555555555556,
              "#d8576b"
             ],
             [
              0.6666666666666666,
              "#ed7953"
             ],
             [
              0.7777777777777778,
              "#fb9f3a"
             ],
             [
              0.8888888888888888,
              "#fdca26"
             ],
             [
              1,
              "#f0f921"
             ]
            ],
            "type": "surface"
           }
          ],
          "table": [
           {
            "cells": {
             "fill": {
              "color": "#EBF0F8"
             },
             "line": {
              "color": "white"
             }
            },
            "header": {
             "fill": {
              "color": "#C8D4E3"
             },
             "line": {
              "color": "white"
             }
            },
            "type": "table"
           }
          ]
         },
         "layout": {
          "annotationdefaults": {
           "arrowcolor": "#2a3f5f",
           "arrowhead": 0,
           "arrowwidth": 1
          },
          "autotypenumbers": "strict",
          "coloraxis": {
           "colorbar": {
            "outlinewidth": 0,
            "ticks": ""
           }
          },
          "colorscale": {
           "diverging": [
            [
             0,
             "#8e0152"
            ],
            [
             0.1,
             "#c51b7d"
            ],
            [
             0.2,
             "#de77ae"
            ],
            [
             0.3,
             "#f1b6da"
            ],
            [
             0.4,
             "#fde0ef"
            ],
            [
             0.5,
             "#f7f7f7"
            ],
            [
             0.6,
             "#e6f5d0"
            ],
            [
             0.7,
             "#b8e186"
            ],
            [
             0.8,
             "#7fbc41"
            ],
            [
             0.9,
             "#4d9221"
            ],
            [
             1,
             "#276419"
            ]
           ],
           "sequential": [
            [
             0,
             "#0d0887"
            ],
            [
             0.1111111111111111,
             "#46039f"
            ],
            [
             0.2222222222222222,
             "#7201a8"
            ],
            [
             0.3333333333333333,
             "#9c179e"
            ],
            [
             0.4444444444444444,
             "#bd3786"
            ],
            [
             0.5555555555555556,
             "#d8576b"
            ],
            [
             0.6666666666666666,
             "#ed7953"
            ],
            [
             0.7777777777777778,
             "#fb9f3a"
            ],
            [
             0.8888888888888888,
             "#fdca26"
            ],
            [
             1,
             "#f0f921"
            ]
           ],
           "sequentialminus": [
            [
             0,
             "#0d0887"
            ],
            [
             0.1111111111111111,
             "#46039f"
            ],
            [
             0.2222222222222222,
             "#7201a8"
            ],
            [
             0.3333333333333333,
             "#9c179e"
            ],
            [
             0.4444444444444444,
             "#bd3786"
            ],
            [
             0.5555555555555556,
             "#d8576b"
            ],
            [
             0.6666666666666666,
             "#ed7953"
            ],
            [
             0.7777777777777778,
             "#fb9f3a"
            ],
            [
             0.8888888888888888,
             "#fdca26"
            ],
            [
             1,
             "#f0f921"
            ]
           ]
          },
          "colorway": [
           "#636efa",
           "#EF553B",
           "#00cc96",
           "#ab63fa",
           "#FFA15A",
           "#19d3f3",
           "#FF6692",
           "#B6E880",
           "#FF97FF",
           "#FECB52"
          ],
          "font": {
           "color": "#2a3f5f"
          },
          "geo": {
           "bgcolor": "white",
           "lakecolor": "white",
           "landcolor": "#E5ECF6",
           "showlakes": true,
           "showland": true,
           "subunitcolor": "white"
          },
          "hoverlabel": {
           "align": "left"
          },
          "hovermode": "closest",
          "mapbox": {
           "style": "light"
          },
          "paper_bgcolor": "white",
          "plot_bgcolor": "#E5ECF6",
          "polar": {
           "angularaxis": {
            "gridcolor": "white",
            "linecolor": "white",
            "ticks": ""
           },
           "bgcolor": "#E5ECF6",
           "radialaxis": {
            "gridcolor": "white",
            "linecolor": "white",
            "ticks": ""
           }
          },
          "scene": {
           "xaxis": {
            "backgroundcolor": "#E5ECF6",
            "gridcolor": "white",
            "gridwidth": 2,
            "linecolor": "white",
            "showbackground": true,
            "ticks": "",
            "zerolinecolor": "white"
           },
           "yaxis": {
            "backgroundcolor": "#E5ECF6",
            "gridcolor": "white",
            "gridwidth": 2,
            "linecolor": "white",
            "showbackground": true,
            "ticks": "",
            "zerolinecolor": "white"
           },
           "zaxis": {
            "backgroundcolor": "#E5ECF6",
            "gridcolor": "white",
            "gridwidth": 2,
            "linecolor": "white",
            "showbackground": true,
            "ticks": "",
            "zerolinecolor": "white"
           }
          },
          "shapedefaults": {
           "line": {
            "color": "#2a3f5f"
           }
          },
          "ternary": {
           "aaxis": {
            "gridcolor": "white",
            "linecolor": "white",
            "ticks": ""
           },
           "baxis": {
            "gridcolor": "white",
            "linecolor": "white",
            "ticks": ""
           },
           "bgcolor": "#E5ECF6",
           "caxis": {
            "gridcolor": "white",
            "linecolor": "white",
            "ticks": ""
           }
          },
          "title": {
           "x": 0.05
          },
          "xaxis": {
           "automargin": true,
           "gridcolor": "white",
           "linecolor": "white",
           "ticks": "",
           "title": {
            "standoff": 15
           },
           "zerolinecolor": "white",
           "zerolinewidth": 2
          },
          "yaxis": {
           "automargin": true,
           "gridcolor": "white",
           "linecolor": "white",
           "ticks": "",
           "title": {
            "standoff": 15
           },
           "zerolinecolor": "white",
           "zerolinewidth": 2
          }
         }
        },
        "title": {
         "text": "Adverse Impact Ratio By Category"
        },
        "xaxis": {
         "anchor": "y",
         "domain": [
          0,
          0.45
         ],
         "title": {
          "text": "Category"
         }
        },
        "xaxis2": {
         "anchor": "y2",
         "domain": [
          0.55,
          1
         ],
         "title": {
          "text": "Category"
         }
        },
        "yaxis": {
         "anchor": "x",
         "domain": [
          0,
          1
         ],
         "tickformat": "0,.3f",
         "title": {
          "text": "AIR"
         },
         "zeroline": true,
         "zerolinecolor": "Black",
         "zerolinewidth": 1
        },
        "yaxis2": {
         "anchor": "x2",
         "domain": [
          0,
          1
         ],
         "tickformat": "0,.3f",
         "title": {
          "text": "AIR"
         },
         "zeroline": true,
         "zerolinecolor": "Black",
         "zerolinewidth": 1
        }
       }
      }
     },
     "metadata": {},
     "output_type": "display_data"
    }
   ],
   "source": [
    "cair = sd.categorical_adverse_impact_ratio(\n",
    "    group_data=valid,\n",
    "    **common_disp_info,\n",
    "    outcome=valid['Tiered Offer'],\n",
    "    air_threshold=0.8,\n",
    "    percent_difference_threshold=0.0,\n",
    "    label=valid[label],\n",
    "    ordinal_categories=['No Offer', 'Good Offer', 'Best Offer'],\n",
    ")\n",
    "cair"
   ]
  },
  {
   "cell_type": "code",
   "execution_count": null,
   "metadata": {},
   "outputs": [],
   "source": []
  }
 ],
 "metadata": {
  "kernelspec": {
   "display_name": "northeastern",
   "language": "python",
   "name": "northeastern"
  },
  "language_info": {
   "codemirror_mode": {
    "name": "ipython",
    "version": 3
   },
   "file_extension": ".py",
   "mimetype": "text/x-python",
   "name": "python",
   "nbconvert_exporter": "python",
   "pygments_lexer": "ipython3",
   "version": "3.8.13"
  },
  "vscode": {
   "interpreter": {
    "hash": "b250bc9be8c256a4ec6fae7d8e448e36604bddb42eadc03539f14c57ab5f765d"
   }
  }
 },
 "nbformat": 4,
 "nbformat_minor": 0
}
