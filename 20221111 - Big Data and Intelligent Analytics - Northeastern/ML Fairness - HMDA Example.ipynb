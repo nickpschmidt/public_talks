{
 "cells": [
  {
   "cell_type": "markdown",
   "metadata": {},
   "source": [
    "# Measuring Discrimination with SolasAI"
   ]
  },
  {
   "cell_type": "code",
   "execution_count": 1,
   "metadata": {},
   "outputs": [],
   "source": [
    "# In some environments, plotly does not render properly.  If this is the case, run the following code:\n",
    "# import plotly.io as pio\n",
    "# pio.renderers.default = \"svg\""
   ]
  },
  {
   "cell_type": "code",
   "execution_count": 2,
   "metadata": {},
   "outputs": [],
   "source": [
    "import solas_disparity as sd"
   ]
  },
  {
   "cell_type": "code",
   "execution_count": 3,
   "metadata": {},
   "outputs": [],
   "source": [
    "import numpy as np\n",
    "import pandas as pd\n",
    "from sklearn import metrics\n",
    "from sklearn.model_selection import train_test_split\n",
    "import xgboost as xgb\n",
    "\n",
    "pd.set_option('display.max_columns', 500)"
   ]
  },
  {
   "cell_type": "markdown",
   "metadata": {},
   "source": [
    "## Importing Data and Building a Model"
   ]
  },
  {
   "cell_type": "code",
   "execution_count": 4,
   "metadata": {},
   "outputs": [
    {
     "data": {
      "text/html": [
       "<div>\n",
       "<style scoped>\n",
       "    .dataframe tbody tr th:only-of-type {\n",
       "        vertical-align: middle;\n",
       "    }\n",
       "\n",
       "    .dataframe tbody tr th {\n",
       "        vertical-align: top;\n",
       "    }\n",
       "\n",
       "    .dataframe thead th {\n",
       "        text-align: right;\n",
       "    }\n",
       "</style>\n",
       "<table border=\"1\" class=\"dataframe\">\n",
       "  <thead>\n",
       "    <tr style=\"text-align: right;\">\n",
       "      <th></th>\n",
       "      <th>Low-Priced</th>\n",
       "      <th>Interest Rate</th>\n",
       "      <th>Rate Spread</th>\n",
       "      <th>Loan Amount</th>\n",
       "      <th>Loan-to-Value Ratio</th>\n",
       "      <th>No Intro Rate Period</th>\n",
       "      <th>Intro Rate Period</th>\n",
       "      <th>Property Value</th>\n",
       "      <th>Income</th>\n",
       "      <th>Debt-to-Income Ratio</th>\n",
       "      <th>Term 360</th>\n",
       "      <th>Conforming</th>\n",
       "      <th>State</th>\n",
       "      <th>Product Type</th>\n",
       "      <th>Black</th>\n",
       "      <th>Asian</th>\n",
       "      <th>White</th>\n",
       "      <th>Native American</th>\n",
       "      <th>Hawaiian Or Pacific Islander</th>\n",
       "      <th>Hispanic</th>\n",
       "      <th>Non-Hispanic</th>\n",
       "      <th>Male</th>\n",
       "      <th>Female</th>\n",
       "      <th>Age &gt;= 62</th>\n",
       "      <th>Age &lt; 62</th>\n",
       "      <th>Race</th>\n",
       "      <th>Ethnicity</th>\n",
       "      <th>Sex</th>\n",
       "    </tr>\n",
       "    <tr>\n",
       "      <th>id</th>\n",
       "      <th></th>\n",
       "      <th></th>\n",
       "      <th></th>\n",
       "      <th></th>\n",
       "      <th></th>\n",
       "      <th></th>\n",
       "      <th></th>\n",
       "      <th></th>\n",
       "      <th></th>\n",
       "      <th></th>\n",
       "      <th></th>\n",
       "      <th></th>\n",
       "      <th></th>\n",
       "      <th></th>\n",
       "      <th></th>\n",
       "      <th></th>\n",
       "      <th></th>\n",
       "      <th></th>\n",
       "      <th></th>\n",
       "      <th></th>\n",
       "      <th></th>\n",
       "      <th></th>\n",
       "      <th></th>\n",
       "      <th></th>\n",
       "      <th></th>\n",
       "      <th></th>\n",
       "      <th></th>\n",
       "      <th></th>\n",
       "    </tr>\n",
       "  </thead>\n",
       "  <tbody>\n",
       "    <tr>\n",
       "      <th>13451</th>\n",
       "      <td>1.0</td>\n",
       "      <td>0.04875</td>\n",
       "      <td>0.00596</td>\n",
       "      <td>155000.0</td>\n",
       "      <td>0.9700</td>\n",
       "      <td>1</td>\n",
       "      <td>0</td>\n",
       "      <td>165000.0</td>\n",
       "      <td>35000.0</td>\n",
       "      <td>0.33</td>\n",
       "      <td>1.0</td>\n",
       "      <td>1.0</td>\n",
       "      <td>FL</td>\n",
       "      <td>conventional</td>\n",
       "      <td>0.0</td>\n",
       "      <td>0.0</td>\n",
       "      <td>1.0</td>\n",
       "      <td>0.0</td>\n",
       "      <td>0.0</td>\n",
       "      <td>1.0</td>\n",
       "      <td>0.0</td>\n",
       "      <td>1.0</td>\n",
       "      <td>0.0</td>\n",
       "      <td>NaN</td>\n",
       "      <td>NaN</td>\n",
       "      <td>White</td>\n",
       "      <td>Hispanic</td>\n",
       "      <td>Male</td>\n",
       "    </tr>\n",
       "    <tr>\n",
       "      <th>18248</th>\n",
       "      <td>1.0</td>\n",
       "      <td>0.05750</td>\n",
       "      <td>0.01268</td>\n",
       "      <td>305000.0</td>\n",
       "      <td>1.0000</td>\n",
       "      <td>1</td>\n",
       "      <td>0</td>\n",
       "      <td>295000.0</td>\n",
       "      <td>60000.0</td>\n",
       "      <td>0.55</td>\n",
       "      <td>1.0</td>\n",
       "      <td>1.0</td>\n",
       "      <td>CO</td>\n",
       "      <td>va</td>\n",
       "      <td>NaN</td>\n",
       "      <td>NaN</td>\n",
       "      <td>NaN</td>\n",
       "      <td>NaN</td>\n",
       "      <td>NaN</td>\n",
       "      <td>NaN</td>\n",
       "      <td>NaN</td>\n",
       "      <td>NaN</td>\n",
       "      <td>NaN</td>\n",
       "      <td>NaN</td>\n",
       "      <td>NaN</td>\n",
       "      <td>Unknown</td>\n",
       "      <td>Unknown</td>\n",
       "      <td>Unknown</td>\n",
       "    </tr>\n",
       "    <tr>\n",
       "      <th>19610</th>\n",
       "      <td>1.0</td>\n",
       "      <td>0.05500</td>\n",
       "      <td>0.01214</td>\n",
       "      <td>485000.0</td>\n",
       "      <td>0.9500</td>\n",
       "      <td>1</td>\n",
       "      <td>0</td>\n",
       "      <td>515000.0</td>\n",
       "      <td>100000.0</td>\n",
       "      <td>0.43</td>\n",
       "      <td>1.0</td>\n",
       "      <td>1.0</td>\n",
       "      <td>CO</td>\n",
       "      <td>conventional</td>\n",
       "      <td>0.0</td>\n",
       "      <td>0.0</td>\n",
       "      <td>1.0</td>\n",
       "      <td>0.0</td>\n",
       "      <td>0.0</td>\n",
       "      <td>0.0</td>\n",
       "      <td>1.0</td>\n",
       "      <td>NaN</td>\n",
       "      <td>NaN</td>\n",
       "      <td>1.0</td>\n",
       "      <td>0.0</td>\n",
       "      <td>White</td>\n",
       "      <td>Non-Hispanic</td>\n",
       "      <td>Unknown</td>\n",
       "    </tr>\n",
       "    <tr>\n",
       "      <th>3339</th>\n",
       "      <td>1.0</td>\n",
       "      <td>0.03875</td>\n",
       "      <td>-0.00087</td>\n",
       "      <td>675000.0</td>\n",
       "      <td>1.0000</td>\n",
       "      <td>1</td>\n",
       "      <td>0</td>\n",
       "      <td>675000.0</td>\n",
       "      <td>190000.0</td>\n",
       "      <td>0.33</td>\n",
       "      <td>1.0</td>\n",
       "      <td>1.0</td>\n",
       "      <td>VA</td>\n",
       "      <td>va</td>\n",
       "      <td>1.0</td>\n",
       "      <td>0.0</td>\n",
       "      <td>0.0</td>\n",
       "      <td>0.0</td>\n",
       "      <td>0.0</td>\n",
       "      <td>0.0</td>\n",
       "      <td>1.0</td>\n",
       "      <td>NaN</td>\n",
       "      <td>NaN</td>\n",
       "      <td>0.0</td>\n",
       "      <td>1.0</td>\n",
       "      <td>Black</td>\n",
       "      <td>Non-Hispanic</td>\n",
       "      <td>Unknown</td>\n",
       "    </tr>\n",
       "    <tr>\n",
       "      <th>19675</th>\n",
       "      <td>1.0</td>\n",
       "      <td>0.04375</td>\n",
       "      <td>0.00076</td>\n",
       "      <td>275000.0</td>\n",
       "      <td>0.3507</td>\n",
       "      <td>1</td>\n",
       "      <td>0</td>\n",
       "      <td>775000.0</td>\n",
       "      <td>209000.0</td>\n",
       "      <td>0.25</td>\n",
       "      <td>1.0</td>\n",
       "      <td>1.0</td>\n",
       "      <td>AZ</td>\n",
       "      <td>conventional</td>\n",
       "      <td>0.0</td>\n",
       "      <td>0.0</td>\n",
       "      <td>1.0</td>\n",
       "      <td>0.0</td>\n",
       "      <td>0.0</td>\n",
       "      <td>0.0</td>\n",
       "      <td>1.0</td>\n",
       "      <td>NaN</td>\n",
       "      <td>NaN</td>\n",
       "      <td>0.0</td>\n",
       "      <td>1.0</td>\n",
       "      <td>White</td>\n",
       "      <td>Non-Hispanic</td>\n",
       "      <td>Unknown</td>\n",
       "    </tr>\n",
       "  </tbody>\n",
       "</table>\n",
       "</div>"
      ],
      "text/plain": [
       "       Low-Priced  Interest Rate  Rate Spread  Loan Amount  \\\n",
       "id                                                           \n",
       "13451         1.0        0.04875      0.00596     155000.0   \n",
       "18248         1.0        0.05750      0.01268     305000.0   \n",
       "19610         1.0        0.05500      0.01214     485000.0   \n",
       "3339          1.0        0.03875     -0.00087     675000.0   \n",
       "19675         1.0        0.04375      0.00076     275000.0   \n",
       "\n",
       "       Loan-to-Value Ratio  No Intro Rate Period  Intro Rate Period  \\\n",
       "id                                                                    \n",
       "13451               0.9700                     1                  0   \n",
       "18248               1.0000                     1                  0   \n",
       "19610               0.9500                     1                  0   \n",
       "3339                1.0000                     1                  0   \n",
       "19675               0.3507                     1                  0   \n",
       "\n",
       "       Property Value    Income  Debt-to-Income Ratio  Term 360  Conforming  \\\n",
       "id                                                                            \n",
       "13451        165000.0   35000.0                  0.33       1.0         1.0   \n",
       "18248        295000.0   60000.0                  0.55       1.0         1.0   \n",
       "19610        515000.0  100000.0                  0.43       1.0         1.0   \n",
       "3339         675000.0  190000.0                  0.33       1.0         1.0   \n",
       "19675        775000.0  209000.0                  0.25       1.0         1.0   \n",
       "\n",
       "      State  Product Type  Black  Asian  White  Native American  \\\n",
       "id                                                                \n",
       "13451    FL  conventional    0.0    0.0    1.0              0.0   \n",
       "18248    CO            va    NaN    NaN    NaN              NaN   \n",
       "19610    CO  conventional    0.0    0.0    1.0              0.0   \n",
       "3339     VA            va    1.0    0.0    0.0              0.0   \n",
       "19675    AZ  conventional    0.0    0.0    1.0              0.0   \n",
       "\n",
       "       Hawaiian Or Pacific Islander  Hispanic  Non-Hispanic  Male  Female  \\\n",
       "id                                                                          \n",
       "13451                           0.0       1.0           0.0   1.0     0.0   \n",
       "18248                           NaN       NaN           NaN   NaN     NaN   \n",
       "19610                           0.0       0.0           1.0   NaN     NaN   \n",
       "3339                            0.0       0.0           1.0   NaN     NaN   \n",
       "19675                           0.0       0.0           1.0   NaN     NaN   \n",
       "\n",
       "       Age >= 62  Age < 62     Race     Ethnicity      Sex  \n",
       "id                                                          \n",
       "13451        NaN       NaN    White      Hispanic     Male  \n",
       "18248        NaN       NaN  Unknown       Unknown  Unknown  \n",
       "19610        1.0       0.0    White  Non-Hispanic  Unknown  \n",
       "3339         0.0       1.0    Black  Non-Hispanic  Unknown  \n",
       "19675        0.0       1.0    White  Non-Hispanic  Unknown  "
      ]
     },
     "execution_count": 4,
     "metadata": {},
     "output_type": "execute_result"
    }
   ],
   "source": [
    "df = pd.read_csv(\"hmda.csv.gz\", index_col=\"id\")\n",
    "df.sample(random_state=161803, n=5)"
   ]
  },
  {
   "cell_type": "code",
   "execution_count": 5,
   "metadata": {},
   "outputs": [
    {
     "data": {
      "text/html": [
       "<div>\n",
       "<style scoped>\n",
       "    .dataframe tbody tr th:only-of-type {\n",
       "        vertical-align: middle;\n",
       "    }\n",
       "\n",
       "    .dataframe tbody tr th {\n",
       "        vertical-align: top;\n",
       "    }\n",
       "\n",
       "    .dataframe thead th {\n",
       "        text-align: right;\n",
       "    }\n",
       "</style>\n",
       "<table border=\"1\" class=\"dataframe\">\n",
       "  <thead>\n",
       "    <tr style=\"text-align: right;\">\n",
       "      <th>train</th>\n",
       "      <th>train</th>\n",
       "      <th>valid</th>\n",
       "    </tr>\n",
       "    <tr>\n",
       "      <th>Low-Priced</th>\n",
       "      <th></th>\n",
       "      <th></th>\n",
       "    </tr>\n",
       "  </thead>\n",
       "  <tbody>\n",
       "    <tr>\n",
       "      <th>0.0</th>\n",
       "      <td>1531</td>\n",
       "      <td>383</td>\n",
       "    </tr>\n",
       "    <tr>\n",
       "      <th>1.0</th>\n",
       "      <td>14579</td>\n",
       "      <td>3507</td>\n",
       "    </tr>\n",
       "  </tbody>\n",
       "</table>\n",
       "</div>"
      ],
      "text/plain": [
       "train       train  valid\n",
       "Low-Priced              \n",
       "0.0          1531    383\n",
       "1.0         14579   3507"
      ]
     },
     "execution_count": 5,
     "metadata": {},
     "output_type": "execute_result"
    }
   ],
   "source": [
    "features = [\n",
    "    \"Loan Amount\",\n",
    "    \"Loan-to-Value Ratio\",\n",
    "    \"Intro Rate Period\",\n",
    "    \"Property Value\",\n",
    "    \"Income\",\n",
    "    \"Debt-to-Income Ratio\",\n",
    "    \"Term 360\",\n",
    "    \"Conforming\",\n",
    "]\n",
    "label = \"Low-Priced\"\n",
    "\n",
    "df['train'] = np.random.choice(a=['train', 'valid'], replace=True, size=len(df), p=[0.8, 0.2])\n",
    "train = (df['train'] == 'train')\n",
    "\n",
    "\n",
    "pd.crosstab(df[label], df['train'])"
   ]
  },
  {
   "cell_type": "code",
   "execution_count": 6,
   "metadata": {},
   "outputs": [],
   "source": [
    "params = dict(\n",
    "    objective=\"binary:logistic\",\n",
    "    max_depth=3,\n",
    "    learning_rate=0.02,\n",
    "    n_estimators=200,\n",
    "    base_score=df.loc[train, label].mean(),\n",
    "    random_state=31415,\n",
    ")\n",
    "xgb_classifier = xgb.XGBClassifier(**params).fit(X=df.loc[train, features], y=df.loc[train, label])"
   ]
  },
  {
   "cell_type": "code",
   "execution_count": 7,
   "metadata": {},
   "outputs": [
    {
     "name": "stdout",
     "output_type": "stream",
     "text": [
      "\n",
      "************************\n",
      "**** Model ROC-AUC: ****\n",
      "Training:          0.865\n",
      "Validation:        0.856\n",
      "Percent Change:   -1.02%\n",
      "************************\n"
     ]
    }
   ],
   "source": [
    "\n",
    "df.loc[train, 'predictions'] = xgb_classifier.predict_proba(df.loc[train, features])[:, 1]\n",
    "df.loc[~train, 'predictions'] = xgb_classifier.predict_proba(df.loc[~train, features])[:, 1]\n",
    "\n",
    "\n",
    "auc_train = metrics.roc_auc_score(y_score=df.loc[train, 'predictions'], y_true=df.loc[train, label])\n",
    "auc_valid = metrics.roc_auc_score(y_score=df.loc[~train, 'predictions'], y_true=df.loc[~train, label])\n",
    "\n",
    "print(\n",
    "    f\"\\n************************\"\n",
    "    f\"\\n**** Model ROC-AUC: ****\"\n",
    "    f\"\\nTraining:          {auc_train:0.3f}\"\n",
    "    f\"\\nValidation:        {auc_valid:0.3f}\"\n",
    "    f\"\\nPercent Change:   {auc_valid / auc_train - 1: 0.2%}\"\n",
    "    f\"\\n************************\"\n",
    ")"
   ]
  },
  {
   "cell_type": "code",
   "execution_count": 8,
   "metadata": {},
   "outputs": [
    {
     "data": {
      "text/plain": [
       "1    0.68145\n",
       "0    0.31855\n",
       "Name: Gets Offer, dtype: float64"
      ]
     },
     "execution_count": 8,
     "metadata": {},
     "output_type": "execute_result"
    }
   ],
   "source": [
    "df.loc[train, 'predictions'].describe()\n",
    "\n",
    "cutoff = 0.90\n",
    "\n",
    "df['Gets Offer'] = (df['predictions'] > cutoff).astype(int)\n",
    "df['Gets Offer'].value_counts(dropna=False, normalize=True)"
   ]
  },
  {
   "cell_type": "code",
   "execution_count": 9,
   "metadata": {},
   "outputs": [],
   "source": [
    "common_info_for_testing = dict(\n",
    "    group_data=df.loc[~train, :],\n",
    "    protected_groups=[\"Black\", \"Asian\", \"Native American\", \"Hispanic\", \"Female\"],\n",
    "    reference_groups=[\"White\", \"White\", \"White\", \"Non-Hispanic\", \"Male\"],\n",
    "    group_categories=[\"Race\", \"Race\", \"Race\", \"Ethnicity\", \"Sex\"],\n",
    ")"
   ]
  },
  {
   "cell_type": "markdown",
   "metadata": {},
   "source": [
    "## Adverse Impact Ratio (AIR)"
   ]
  },
  {
   "cell_type": "code",
   "execution_count": 10,
   "metadata": {},
   "outputs": [],
   "source": [
    "air = sd.adverse_impact_ratio(\n",
    "    **common_info_for_testing,\n",
    "    outcome=df.loc[~train, 'Gets Offer'],\n",
    "    air_threshold=0.8,\n",
    "    percent_difference_threshold=0.0,\n",
    ")"
   ]
  },
  {
   "cell_type": "code",
   "execution_count": 11,
   "metadata": {},
   "outputs": [
    {
     "data": {
      "text/markdown": [
       "## Disparity Calculation: Adverse Impact Ratio"
      ]
     },
     "metadata": {},
     "output_type": "display_data"
    },
    {
     "data": {
      "text/html": [
       "<pre style=\"white-space:pre;overflow-x:auto;line-height:normal;font-family:Menlo,'DejaVu Sans Mono',consolas,'Courier New',monospace\">┌───────────────────────────────────┬─────────────────────────────────────────────────────────────────────────────┐\n",
       "│ Protected Groups                  │ Black, Asian, Native American, Hispanic, Female                             │\n",
       "│ Reference Groups                  │ White, White, White, Non-Hispanic, Male                                     │\n",
       "│ Group Categories                  │ Race, Race, Race, Ethnicity, Sex                                            │\n",
       "│ AIR Threshold                     │ 0.8                                                                         │\n",
       "│ % Diff Threshold                  │ 0.0                                                                         │\n",
       "│ Affected Groups                   │ Black, Native American, Hispanic                                            │\n",
       "│ Affected Reference                │ White, White, Non-Hispanic                                                  │\n",
       "│ Affected Categories               │ Race, Race, Ethnicity                                                       │\n",
       "└───────────────────────────────────┴─────────────────────────────────────────────────────────────────────────────┘\n",
       "</pre>\n"
      ],
      "text/plain": [
       "┌───────────────────────────────────┬─────────────────────────────────────────────────────────────────────────────┐\n",
       "│ Protected Groups                  │ Black, Asian, Native American, Hispanic, Female                             │\n",
       "│ Reference Groups                  │ White, White, White, Non-Hispanic, Male                                     │\n",
       "│ Group Categories                  │ Race, Race, Race, Ethnicity, Sex                                            │\n",
       "│ AIR Threshold                     │ 0.8                                                                         │\n",
       "│ % Diff Threshold                  │ 0.0                                                                         │\n",
       "│ Affected Groups                   │ Black, Native American, Hispanic                                            │\n",
       "│ Affected Reference                │ White, White, Non-Hispanic                                                  │\n",
       "│ Affected Categories               │ Race, Race, Ethnicity                                                       │\n",
       "└───────────────────────────────────┴─────────────────────────────────────────────────────────────────────────────┘\n"
      ]
     },
     "metadata": {},
     "output_type": "display_data"
    },
    {
     "data": {
      "text/markdown": [
       "\\* Percent Missing: Ethnicity: 14.34%, Race: 13.16%, Sex: 45.71%"
      ]
     },
     "metadata": {},
     "output_type": "display_data"
    },
    {
     "data": {
      "text/markdown": [
       "## Adverse Impact Ratio Summary Table"
      ]
     },
     "metadata": {},
     "output_type": "display_data"
    },
    {
     "data": {
      "text/html": [
       "<div>\n",
       "<style scoped>\n",
       "    .dataframe tbody tr th:only-of-type {\n",
       "        vertical-align: middle;\n",
       "    }\n",
       "\n",
       "    .dataframe tbody tr th {\n",
       "        vertical-align: top;\n",
       "    }\n",
       "\n",
       "    .dataframe thead th {\n",
       "        text-align: right;\n",
       "    }\n",
       "</style>\n",
       "<table border=\"False\" class=\"dataframe\">\n",
       "  <thead>\n",
       "    <tr style=\"text-align: right;\">\n",
       "      <th>Group Category</th>\n",
       "      <th>Group</th>\n",
       "      <th>Reference Group</th>\n",
       "      <th>Observations</th>\n",
       "      <th>Percent Missing</th>\n",
       "      <th>Total</th>\n",
       "      <th>Favorable</th>\n",
       "      <th>Percent Favorable</th>\n",
       "      <th>Percent Difference Favorable</th>\n",
       "      <th>AIR</th>\n",
       "      <th>P-Values</th>\n",
       "      <th>Practically Significant</th>\n",
       "      <th>Shortfall</th>\n",
       "    </tr>\n",
       "  </thead>\n",
       "  <tbody>\n",
       "    <tr>\n",
       "      <td>Race</td>\n",
       "      <td>Black</td>\n",
       "      <td>White</td>\n",
       "      <td>3,378</td>\n",
       "      <td>13.16%</td>\n",
       "      <td>265.0</td>\n",
       "      <td>109.0</td>\n",
       "      <td>41.13%</td>\n",
       "      <td>26.78%</td>\n",
       "      <td>0.606</td>\n",
       "      <td>0.000</td>\n",
       "      <td>Yes</td>\n",
       "      <td>70.964776</td>\n",
       "    </tr>\n",
       "    <tr>\n",
       "      <td>Race</td>\n",
       "      <td>Asian</td>\n",
       "      <td>White</td>\n",
       "      <td>3,378</td>\n",
       "      <td>13.16%</td>\n",
       "      <td>250.0</td>\n",
       "      <td>214.0</td>\n",
       "      <td>85.60%</td>\n",
       "      <td>-17.69%</td>\n",
       "      <td>1.260</td>\n",
       "      <td>0.000</td>\n",
       "      <td>No</td>\n",
       "      <td></td>\n",
       "    </tr>\n",
       "    <tr>\n",
       "      <td>Race</td>\n",
       "      <td>Native American</td>\n",
       "      <td>White</td>\n",
       "      <td>3,378</td>\n",
       "      <td>13.16%</td>\n",
       "      <td>21.0</td>\n",
       "      <td>9.0</td>\n",
       "      <td>42.86%</td>\n",
       "      <td>25.05%</td>\n",
       "      <td>0.631</td>\n",
       "      <td>0.019</td>\n",
       "      <td>Yes</td>\n",
       "      <td>5.261360</td>\n",
       "    </tr>\n",
       "    <tr>\n",
       "      <td>Race</td>\n",
       "      <td>White</td>\n",
       "      <td></td>\n",
       "      <td>3,378</td>\n",
       "      <td>13.16%</td>\n",
       "      <td>2,839.0</td>\n",
       "      <td>1,928.0</td>\n",
       "      <td>67.91%</td>\n",
       "      <td></td>\n",
       "      <td></td>\n",
       "      <td></td>\n",
       "      <td></td>\n",
       "      <td></td>\n",
       "    </tr>\n",
       "    <tr>\n",
       "      <td>Ethnicity</td>\n",
       "      <td>Hispanic</td>\n",
       "      <td>Non-Hispanic</td>\n",
       "      <td>3,332</td>\n",
       "      <td>14.34%</td>\n",
       "      <td>417.0</td>\n",
       "      <td>188.0</td>\n",
       "      <td>45.08%</td>\n",
       "      <td>24.62%</td>\n",
       "      <td>0.647</td>\n",
       "      <td>0.000</td>\n",
       "      <td>Yes</td>\n",
       "      <td>102.684048</td>\n",
       "    </tr>\n",
       "    <tr>\n",
       "      <td>Ethnicity</td>\n",
       "      <td>Non-Hispanic</td>\n",
       "      <td></td>\n",
       "      <td>3,332</td>\n",
       "      <td>14.34%</td>\n",
       "      <td>2,915.0</td>\n",
       "      <td>2,032.0</td>\n",
       "      <td>69.71%</td>\n",
       "      <td></td>\n",
       "      <td></td>\n",
       "      <td></td>\n",
       "      <td></td>\n",
       "      <td></td>\n",
       "    </tr>\n",
       "    <tr>\n",
       "      <td>Sex</td>\n",
       "      <td>Female</td>\n",
       "      <td>Male</td>\n",
       "      <td>2,112</td>\n",
       "      <td>45.71%</td>\n",
       "      <td>856.0</td>\n",
       "      <td>520.0</td>\n",
       "      <td>60.75%</td>\n",
       "      <td>0.40%</td>\n",
       "      <td>0.993</td>\n",
       "      <td>0.889</td>\n",
       "      <td>No</td>\n",
       "      <td></td>\n",
       "    </tr>\n",
       "    <tr>\n",
       "      <td>Sex</td>\n",
       "      <td>Male</td>\n",
       "      <td></td>\n",
       "      <td>2,112</td>\n",
       "      <td>45.71%</td>\n",
       "      <td>1,256.0</td>\n",
       "      <td>768.0</td>\n",
       "      <td>61.15%</td>\n",
       "      <td></td>\n",
       "      <td></td>\n",
       "      <td></td>\n",
       "      <td></td>\n",
       "      <td></td>\n",
       "    </tr>\n",
       "  </tbody>\n",
       "</table>\n",
       "</div>"
      ],
      "text/plain": [
       "<IPython.core.display.HTML object>"
      ]
     },
     "metadata": {},
     "output_type": "display_data"
    },
    {
     "data": {
      "application/vnd.plotly.v1+json": {
       "config": {
        "plotlyServerURL": "https://plot.ly"
       },
       "data": [
        {
         "cliponaxis": false,
         "hovertemplate": "%{x}, %{y}<extra></extra>",
         "marker": {
          "color": "RGBA(78, 121, 167, 1.0)",
          "line": {
           "color": "rgb(8,48,107)",
           "width": 0
          },
          "pattern": {
           "shape": "/"
          }
         },
         "name": "Race",
         "showlegend": true,
         "text": "0.606",
         "textfont": {
          "color": "Black"
         },
         "type": "bar",
         "x": [
          [
           "Race"
          ],
          [
           "Black"
          ]
         ],
         "y": [
          0.605674078133563
         ]
        },
        {
         "cliponaxis": false,
         "hovertemplate": "%{x}, %{y}<extra></extra>",
         "marker": {
          "color": "RGBA(78, 121, 167, 0.6666666666666667)",
          "line": {
           "color": "rgb(8,48,107)",
           "width": 0
          },
          "pattern": {
           "shape": ""
          }
         },
         "name": "Race",
         "showlegend": false,
         "text": "1.260",
         "textfont": {
          "color": "Black"
         },
         "type": "bar",
         "x": [
          [
           "Race"
          ],
          [
           "Asian"
          ]
         ],
         "y": [
          1.2604688796680499
         ]
        },
        {
         "cliponaxis": false,
         "hovertemplate": "%{x}, %{y}<extra></extra>",
         "marker": {
          "color": "RGBA(78, 121, 167, 0.3333333333333334)",
          "line": {
           "color": "rgb(8,48,107)",
           "width": 0
          },
          "pattern": {
           "shape": "/"
          }
         },
         "name": "Race",
         "showlegend": false,
         "text": "0.631",
         "textfont": {
          "color": "Black"
         },
         "type": "bar",
         "x": [
          [
           "Race"
          ],
          [
           "Native American"
          ]
         ],
         "y": [
          0.6310758743331357
         ]
        },
        {
         "cliponaxis": false,
         "hovertemplate": "%{x}, %{y}<extra></extra>",
         "marker": {
          "color": "RGBA(242, 142, 45, 1.0)",
          "line": {
           "color": "rgb(8,48,107)",
           "width": 0
          },
          "pattern": {
           "shape": "/"
          }
         },
         "name": "Ethnicity",
         "showlegend": true,
         "text": "0.647",
         "textfont": {
          "color": "Black"
         },
         "type": "bar",
         "x": [
          [
           "Ethnicity"
          ],
          [
           "Hispanic"
          ]
         ],
         "y": [
          0.6467503162824071
         ]
        },
        {
         "cliponaxis": false,
         "hovertemplate": "%{x}, %{y}<extra></extra>",
         "marker": {
          "color": "RGBA(225, 87, 89, 1.0)",
          "line": {
           "color": "rgb(8,48,107)",
           "width": 0
          },
          "pattern": {
           "shape": ""
          }
         },
         "name": "Sex",
         "showlegend": true,
         "text": "0.993",
         "textfont": {
          "color": "Black"
         },
         "type": "bar",
         "x": [
          [
           "Sex"
          ],
          [
           "Female"
          ]
         ],
         "y": [
          0.9934774143302181
         ]
        },
        {
         "line": {
          "color": "Black",
          "dash": "dot",
          "width": 0.25
         },
         "mode": "lines",
         "name": "AIR Threshold",
         "text": "AIR Threshold",
         "type": "scatter",
         "x": [
          [
           "Race",
           "Race",
           "Race",
           "Ethnicity",
           "Sex"
          ],
          [
           "Black",
           "Asian",
           "Native American",
           "Hispanic",
           "Female"
          ]
         ],
         "y": [
          0.8,
          0.8,
          0.8,
          0.8,
          0.8
         ]
        }
       ],
       "layout": {
        "legend": {
         "title": {
          "text": "Legend"
         }
        },
        "scene": {
         "yaxis": {
          "exponentformat": "none",
          "separatethousands": true
         }
        },
        "shapes": [
         {
          "line": {
           "color": "Black",
           "dash": "dot",
           "width": 1.25
          },
          "name": "AIR Threshold",
          "type": "line",
          "x0": 0,
          "x1": 1,
          "xref": "paper",
          "y0": 0.6029502292830502,
          "y1": 0.6029502292830502,
          "yref": "paper"
         }
        ],
        "template": {
         "data": {
          "bar": [
           {
            "error_x": {
             "color": "#2a3f5f"
            },
            "error_y": {
             "color": "#2a3f5f"
            },
            "marker": {
             "line": {
              "color": "#E5ECF6",
              "width": 0.5
             },
             "pattern": {
              "fillmode": "overlay",
              "size": 10,
              "solidity": 0.2
             }
            },
            "type": "bar"
           }
          ],
          "barpolar": [
           {
            "marker": {
             "line": {
              "color": "#E5ECF6",
              "width": 0.5
             },
             "pattern": {
              "fillmode": "overlay",
              "size": 10,
              "solidity": 0.2
             }
            },
            "type": "barpolar"
           }
          ],
          "carpet": [
           {
            "aaxis": {
             "endlinecolor": "#2a3f5f",
             "gridcolor": "white",
             "linecolor": "white",
             "minorgridcolor": "white",
             "startlinecolor": "#2a3f5f"
            },
            "baxis": {
             "endlinecolor": "#2a3f5f",
             "gridcolor": "white",
             "linecolor": "white",
             "minorgridcolor": "white",
             "startlinecolor": "#2a3f5f"
            },
            "type": "carpet"
           }
          ],
          "choropleth": [
           {
            "colorbar": {
             "outlinewidth": 0,
             "ticks": ""
            },
            "type": "choropleth"
           }
          ],
          "contour": [
           {
            "colorbar": {
             "outlinewidth": 0,
             "ticks": ""
            },
            "colorscale": [
             [
              0,
              "#0d0887"
             ],
             [
              0.1111111111111111,
              "#46039f"
             ],
             [
              0.2222222222222222,
              "#7201a8"
             ],
             [
              0.3333333333333333,
              "#9c179e"
             ],
             [
              0.4444444444444444,
              "#bd3786"
             ],
             [
              0.5555555555555556,
              "#d8576b"
             ],
             [
              0.6666666666666666,
              "#ed7953"
             ],
             [
              0.7777777777777778,
              "#fb9f3a"
             ],
             [
              0.8888888888888888,
              "#fdca26"
             ],
             [
              1,
              "#f0f921"
             ]
            ],
            "type": "contour"
           }
          ],
          "contourcarpet": [
           {
            "colorbar": {
             "outlinewidth": 0,
             "ticks": ""
            },
            "type": "contourcarpet"
           }
          ],
          "heatmap": [
           {
            "colorbar": {
             "outlinewidth": 0,
             "ticks": ""
            },
            "colorscale": [
             [
              0,
              "#0d0887"
             ],
             [
              0.1111111111111111,
              "#46039f"
             ],
             [
              0.2222222222222222,
              "#7201a8"
             ],
             [
              0.3333333333333333,
              "#9c179e"
             ],
             [
              0.4444444444444444,
              "#bd3786"
             ],
             [
              0.5555555555555556,
              "#d8576b"
             ],
             [
              0.6666666666666666,
              "#ed7953"
             ],
             [
              0.7777777777777778,
              "#fb9f3a"
             ],
             [
              0.8888888888888888,
              "#fdca26"
             ],
             [
              1,
              "#f0f921"
             ]
            ],
            "type": "heatmap"
           }
          ],
          "heatmapgl": [
           {
            "colorbar": {
             "outlinewidth": 0,
             "ticks": ""
            },
            "colorscale": [
             [
              0,
              "#0d0887"
             ],
             [
              0.1111111111111111,
              "#46039f"
             ],
             [
              0.2222222222222222,
              "#7201a8"
             ],
             [
              0.3333333333333333,
              "#9c179e"
             ],
             [
              0.4444444444444444,
              "#bd3786"
             ],
             [
              0.5555555555555556,
              "#d8576b"
             ],
             [
              0.6666666666666666,
              "#ed7953"
             ],
             [
              0.7777777777777778,
              "#fb9f3a"
             ],
             [
              0.8888888888888888,
              "#fdca26"
             ],
             [
              1,
              "#f0f921"
             ]
            ],
            "type": "heatmapgl"
           }
          ],
          "histogram": [
           {
            "marker": {
             "pattern": {
              "fillmode": "overlay",
              "size": 10,
              "solidity": 0.2
             }
            },
            "type": "histogram"
           }
          ],
          "histogram2d": [
           {
            "colorbar": {
             "outlinewidth": 0,
             "ticks": ""
            },
            "colorscale": [
             [
              0,
              "#0d0887"
             ],
             [
              0.1111111111111111,
              "#46039f"
             ],
             [
              0.2222222222222222,
              "#7201a8"
             ],
             [
              0.3333333333333333,
              "#9c179e"
             ],
             [
              0.4444444444444444,
              "#bd3786"
             ],
             [
              0.5555555555555556,
              "#d8576b"
             ],
             [
              0.6666666666666666,
              "#ed7953"
             ],
             [
              0.7777777777777778,
              "#fb9f3a"
             ],
             [
              0.8888888888888888,
              "#fdca26"
             ],
             [
              1,
              "#f0f921"
             ]
            ],
            "type": "histogram2d"
           }
          ],
          "histogram2dcontour": [
           {
            "colorbar": {
             "outlinewidth": 0,
             "ticks": ""
            },
            "colorscale": [
             [
              0,
              "#0d0887"
             ],
             [
              0.1111111111111111,
              "#46039f"
             ],
             [
              0.2222222222222222,
              "#7201a8"
             ],
             [
              0.3333333333333333,
              "#9c179e"
             ],
             [
              0.4444444444444444,
              "#bd3786"
             ],
             [
              0.5555555555555556,
              "#d8576b"
             ],
             [
              0.6666666666666666,
              "#ed7953"
             ],
             [
              0.7777777777777778,
              "#fb9f3a"
             ],
             [
              0.8888888888888888,
              "#fdca26"
             ],
             [
              1,
              "#f0f921"
             ]
            ],
            "type": "histogram2dcontour"
           }
          ],
          "mesh3d": [
           {
            "colorbar": {
             "outlinewidth": 0,
             "ticks": ""
            },
            "type": "mesh3d"
           }
          ],
          "parcoords": [
           {
            "line": {
             "colorbar": {
              "outlinewidth": 0,
              "ticks": ""
             }
            },
            "type": "parcoords"
           }
          ],
          "pie": [
           {
            "automargin": true,
            "type": "pie"
           }
          ],
          "scatter": [
           {
            "fillpattern": {
             "fillmode": "overlay",
             "size": 10,
             "solidity": 0.2
            },
            "type": "scatter"
           }
          ],
          "scatter3d": [
           {
            "line": {
             "colorbar": {
              "outlinewidth": 0,
              "ticks": ""
             }
            },
            "marker": {
             "colorbar": {
              "outlinewidth": 0,
              "ticks": ""
             }
            },
            "type": "scatter3d"
           }
          ],
          "scattercarpet": [
           {
            "marker": {
             "colorbar": {
              "outlinewidth": 0,
              "ticks": ""
             }
            },
            "type": "scattercarpet"
           }
          ],
          "scattergeo": [
           {
            "marker": {
             "colorbar": {
              "outlinewidth": 0,
              "ticks": ""
             }
            },
            "type": "scattergeo"
           }
          ],
          "scattergl": [
           {
            "marker": {
             "colorbar": {
              "outlinewidth": 0,
              "ticks": ""
             }
            },
            "type": "scattergl"
           }
          ],
          "scattermapbox": [
           {
            "marker": {
             "colorbar": {
              "outlinewidth": 0,
              "ticks": ""
             }
            },
            "type": "scattermapbox"
           }
          ],
          "scatterpolar": [
           {
            "marker": {
             "colorbar": {
              "outlinewidth": 0,
              "ticks": ""
             }
            },
            "type": "scatterpolar"
           }
          ],
          "scatterpolargl": [
           {
            "marker": {
             "colorbar": {
              "outlinewidth": 0,
              "ticks": ""
             }
            },
            "type": "scatterpolargl"
           }
          ],
          "scatterternary": [
           {
            "marker": {
             "colorbar": {
              "outlinewidth": 0,
              "ticks": ""
             }
            },
            "type": "scatterternary"
           }
          ],
          "surface": [
           {
            "colorbar": {
             "outlinewidth": 0,
             "ticks": ""
            },
            "colorscale": [
             [
              0,
              "#0d0887"
             ],
             [
              0.1111111111111111,
              "#46039f"
             ],
             [
              0.2222222222222222,
              "#7201a8"
             ],
             [
              0.3333333333333333,
              "#9c179e"
             ],
             [
              0.4444444444444444,
              "#bd3786"
             ],
             [
              0.5555555555555556,
              "#d8576b"
             ],
             [
              0.6666666666666666,
              "#ed7953"
             ],
             [
              0.7777777777777778,
              "#fb9f3a"
             ],
             [
              0.8888888888888888,
              "#fdca26"
             ],
             [
              1,
              "#f0f921"
             ]
            ],
            "type": "surface"
           }
          ],
          "table": [
           {
            "cells": {
             "fill": {
              "color": "#EBF0F8"
             },
             "line": {
              "color": "white"
             }
            },
            "header": {
             "fill": {
              "color": "#C8D4E3"
             },
             "line": {
              "color": "white"
             }
            },
            "type": "table"
           }
          ]
         },
         "layout": {
          "annotationdefaults": {
           "arrowcolor": "#2a3f5f",
           "arrowhead": 0,
           "arrowwidth": 1
          },
          "autotypenumbers": "strict",
          "coloraxis": {
           "colorbar": {
            "outlinewidth": 0,
            "ticks": ""
           }
          },
          "colorscale": {
           "diverging": [
            [
             0,
             "#8e0152"
            ],
            [
             0.1,
             "#c51b7d"
            ],
            [
             0.2,
             "#de77ae"
            ],
            [
             0.3,
             "#f1b6da"
            ],
            [
             0.4,
             "#fde0ef"
            ],
            [
             0.5,
             "#f7f7f7"
            ],
            [
             0.6,
             "#e6f5d0"
            ],
            [
             0.7,
             "#b8e186"
            ],
            [
             0.8,
             "#7fbc41"
            ],
            [
             0.9,
             "#4d9221"
            ],
            [
             1,
             "#276419"
            ]
           ],
           "sequential": [
            [
             0,
             "#0d0887"
            ],
            [
             0.1111111111111111,
             "#46039f"
            ],
            [
             0.2222222222222222,
             "#7201a8"
            ],
            [
             0.3333333333333333,
             "#9c179e"
            ],
            [
             0.4444444444444444,
             "#bd3786"
            ],
            [
             0.5555555555555556,
             "#d8576b"
            ],
            [
             0.6666666666666666,
             "#ed7953"
            ],
            [
             0.7777777777777778,
             "#fb9f3a"
            ],
            [
             0.8888888888888888,
             "#fdca26"
            ],
            [
             1,
             "#f0f921"
            ]
           ],
           "sequentialminus": [
            [
             0,
             "#0d0887"
            ],
            [
             0.1111111111111111,
             "#46039f"
            ],
            [
             0.2222222222222222,
             "#7201a8"
            ],
            [
             0.3333333333333333,
             "#9c179e"
            ],
            [
             0.4444444444444444,
             "#bd3786"
            ],
            [
             0.5555555555555556,
             "#d8576b"
            ],
            [
             0.6666666666666666,
             "#ed7953"
            ],
            [
             0.7777777777777778,
             "#fb9f3a"
            ],
            [
             0.8888888888888888,
             "#fdca26"
            ],
            [
             1,
             "#f0f921"
            ]
           ]
          },
          "colorway": [
           "#636efa",
           "#EF553B",
           "#00cc96",
           "#ab63fa",
           "#FFA15A",
           "#19d3f3",
           "#FF6692",
           "#B6E880",
           "#FF97FF",
           "#FECB52"
          ],
          "font": {
           "color": "#2a3f5f"
          },
          "geo": {
           "bgcolor": "white",
           "lakecolor": "white",
           "landcolor": "#E5ECF6",
           "showlakes": true,
           "showland": true,
           "subunitcolor": "white"
          },
          "hoverlabel": {
           "align": "left"
          },
          "hovermode": "closest",
          "mapbox": {
           "style": "light"
          },
          "paper_bgcolor": "white",
          "plot_bgcolor": "#E5ECF6",
          "polar": {
           "angularaxis": {
            "gridcolor": "white",
            "linecolor": "white",
            "ticks": ""
           },
           "bgcolor": "#E5ECF6",
           "radialaxis": {
            "gridcolor": "white",
            "linecolor": "white",
            "ticks": ""
           }
          },
          "scene": {
           "xaxis": {
            "backgroundcolor": "#E5ECF6",
            "gridcolor": "white",
            "gridwidth": 2,
            "linecolor": "white",
            "showbackground": true,
            "ticks": "",
            "zerolinecolor": "white"
           },
           "yaxis": {
            "backgroundcolor": "#E5ECF6",
            "gridcolor": "white",
            "gridwidth": 2,
            "linecolor": "white",
            "showbackground": true,
            "ticks": "",
            "zerolinecolor": "white"
           },
           "zaxis": {
            "backgroundcolor": "#E5ECF6",
            "gridcolor": "white",
            "gridwidth": 2,
            "linecolor": "white",
            "showbackground": true,
            "ticks": "",
            "zerolinecolor": "white"
           }
          },
          "shapedefaults": {
           "line": {
            "color": "#2a3f5f"
           }
          },
          "ternary": {
           "aaxis": {
            "gridcolor": "white",
            "linecolor": "white",
            "ticks": ""
           },
           "baxis": {
            "gridcolor": "white",
            "linecolor": "white",
            "ticks": ""
           },
           "bgcolor": "#E5ECF6",
           "caxis": {
            "gridcolor": "white",
            "linecolor": "white",
            "ticks": ""
           }
          },
          "title": {
           "x": 0.05
          },
          "xaxis": {
           "automargin": true,
           "gridcolor": "white",
           "linecolor": "white",
           "ticks": "",
           "title": {
            "standoff": 15
           },
           "zerolinecolor": "white",
           "zerolinewidth": 2
          },
          "yaxis": {
           "automargin": true,
           "gridcolor": "white",
           "linecolor": "white",
           "ticks": "",
           "title": {
            "standoff": 15
           },
           "zerolinecolor": "white",
           "zerolinewidth": 2
          }
         }
        },
        "title": {
         "text": "Adverse Impact Ratio (AIR)"
        },
        "uniformtext": {
         "minsize": 8,
         "mode": "hide"
        },
        "xaxis": {
         "fixedrange": true,
         "title": {
          "text": "Group"
         }
        },
        "yaxis": {
         "fixedrange": true,
         "tickformat": "0,.3f",
         "ticksuffix": "  ",
         "title": {
          "text": "AIR"
         },
         "zeroline": true,
         "zerolinecolor": "Black",
         "zerolinewidth": 1
        }
       }
      }
     },
     "metadata": {},
     "output_type": "display_data"
    }
   ],
   "source": [
    "air"
   ]
  },
  {
   "cell_type": "markdown",
   "metadata": {},
   "source": [
    "## Adverse Impact Ratio by Quantile"
   ]
  },
  {
   "cell_type": "code",
   "execution_count": 12,
   "metadata": {},
   "outputs": [
    {
     "data": {
      "application/vnd.plotly.v1+json": {
       "config": {
        "plotlyServerURL": "https://plot.ly"
       },
       "data": [
        {
         "cliponaxis": false,
         "hovertemplate": "%{x}, %{y}<extra></extra>",
         "marker": {
          "color": "RGB(78, 121, 167)",
          "pattern": {
           "shape": [
            "/",
            "/",
            "/",
            "/",
            "/",
            "/",
            "/",
            "/",
            "",
            ""
           ]
          }
         },
         "name": "Black",
         "text": [
          "0.192",
          "0.286",
          "0.285",
          "0.339",
          "0.407",
          "0.524",
          "0.606",
          "0.656",
          "0.807",
          "1.000"
         ],
         "textfont": {
          "color": "Black"
         },
         "type": "bar",
         "x": [
          "0.1",
          "0.2",
          "0.3",
          "0.4",
          "0.5",
          "0.6",
          "0.7",
          "0.8",
          "0.9",
          "1.0"
         ],
         "xaxis": "x",
         "y": [
          0.19199296679515793,
          0.2859397032162761,
          0.28485985385538226,
          0.33860884257955504,
          0.40654476988557264,
          0.523812243284205,
          0.6058063791554358,
          0.6564807753806795,
          0.8072161791723775,
          1
         ],
         "yaxis": "y"
        },
        {
         "line": {
          "color": "Black",
          "dash": "dot",
          "width": 0.25
         },
         "mode": "lines",
         "name": "AIR Threshold",
         "showlegend": false,
         "type": "scatter",
         "x": [
          "0.1",
          "0.2",
          "0.3",
          "0.4",
          "0.5",
          "0.6",
          "0.7",
          "0.8",
          "0.9",
          "1.0"
         ],
         "xaxis": "x",
         "y": [
          0.8,
          0.8,
          0.8,
          0.8,
          0.8,
          0.8,
          0.8,
          0.8,
          0.8,
          0.8
         ],
         "yaxis": "y"
        },
        {
         "cliponaxis": false,
         "hovertemplate": "%{x}, %{y}<extra></extra>",
         "marker": {
          "color": "RGB(242, 142, 45)",
          "pattern": {
           "shape": [
            "",
            "",
            "",
            "",
            "",
            "",
            "",
            "",
            "",
            ""
           ]
          }
         },
         "name": "Asian",
         "text": [
          "2.239",
          "1.879",
          "1.641",
          "1.665",
          "1.524",
          "1.335",
          "1.222",
          "1.170",
          "1.053",
          "1.000"
         ],
         "textfont": {
          "color": "Black"
         },
         "type": "bar",
         "x": [
          "0.1",
          "0.2",
          "0.3",
          "0.4",
          "0.5",
          "0.6",
          "0.7",
          "0.8",
          "0.9",
          "1.0"
         ],
         "xaxis": "x2",
         "y": [
          2.238637992831541,
          1.8791957295373667,
          1.6410404624277457,
          1.6650149253731343,
          1.524241742796908,
          1.3352223515715949,
          1.2223472222222223,
          1.1696531942633637,
          1.0531066460587326,
          1
         ],
         "yaxis": "y2"
        },
        {
         "line": {
          "color": "Black",
          "dash": "dot",
          "width": 0.25
         },
         "mode": "lines",
         "name": "AIR Threshold",
         "showlegend": false,
         "type": "scatter",
         "x": [
          "0.1",
          "0.2",
          "0.3",
          "0.4",
          "0.5",
          "0.6",
          "0.7",
          "0.8",
          "0.9",
          "1.0"
         ],
         "xaxis": "x2",
         "y": [
          0.8,
          0.8,
          0.8,
          0.8,
          0.8,
          0.8,
          0.8,
          0.8,
          0.8,
          0.8
         ],
         "yaxis": "y2"
        },
        {
         "cliponaxis": false,
         "hovertemplate": "%{x}, %{y}<extra></extra>",
         "marker": {
          "color": "RGB(225, 87, 89)",
          "pattern": {
           "shape": [
            "",
            "",
            "",
            "/",
            "",
            "/",
            "/",
            "",
            "",
            ""
           ]
          }
         },
         "name": "Native American",
         "text": [
          "0.000",
          "0.241",
          "0.313",
          "0.356",
          "0.570",
          "0.472",
          "0.604",
          "0.881",
          "0.940",
          "1.000"
         ],
         "textfont": {
          "color": "Black"
         },
         "type": "bar",
         "x": [
          "0.1",
          "0.2",
          "0.3",
          "0.4",
          "0.5",
          "0.6",
          "0.7",
          "0.8",
          "0.9",
          "1.0"
         ],
         "xaxis": "x3",
         "y": [
          0,
          0.24055244873750212,
          0.312579135700523,
          0.35607675906183367,
          0.5700230900511997,
          0.47214368867453843,
          0.6035289115646258,
          0.8812938473955424,
          0.9402737911238683,
          1
         ],
         "yaxis": "y3"
        },
        {
         "line": {
          "color": "Black",
          "dash": "dot",
          "width": 0.25
         },
         "mode": "lines",
         "name": "AIR Threshold",
         "showlegend": false,
         "type": "scatter",
         "x": [
          "0.1",
          "0.2",
          "0.3",
          "0.4",
          "0.5",
          "0.6",
          "0.7",
          "0.8",
          "0.9",
          "1.0"
         ],
         "xaxis": "x3",
         "y": [
          0.8,
          0.8,
          0.8,
          0.8,
          0.8,
          0.8,
          0.8,
          0.8,
          0.8,
          0.8
         ],
         "yaxis": "y3"
        },
        {
         "cliponaxis": false,
         "hovertemplate": "%{x}, %{y}<extra></extra>",
         "marker": {
          "color": "RGB(89, 161, 79)",
          "pattern": {
           "shape": [
            "/",
            "/",
            "/",
            "/",
            "/",
            "/",
            "/",
            "/",
            "",
            ""
           ]
          }
         },
         "name": "Hispanic",
         "text": [
          "0.260",
          "0.347",
          "0.458",
          "0.495",
          "0.538",
          "0.611",
          "0.679",
          "0.775",
          "0.873",
          "1.000"
         ],
         "textfont": {
          "color": "Black"
         },
         "type": "bar",
         "x": [
          "0.1",
          "0.2",
          "0.3",
          "0.4",
          "0.5",
          "0.6",
          "0.7",
          "0.8",
          "0.9",
          "1.0"
         ],
         "xaxis": "x4",
         "y": [
          0.25970554825489456,
          0.3467242206235012,
          0.4580181182658599,
          0.4952487521383545,
          0.5380774327906096,
          0.6113722883079675,
          0.6788411052304533,
          0.7747628747691935,
          0.8734730789477237,
          1
         ],
         "yaxis": "y4"
        },
        {
         "line": {
          "color": "Black",
          "dash": "dot",
          "width": 0.25
         },
         "mode": "lines",
         "name": "AIR Threshold",
         "showlegend": false,
         "type": "scatter",
         "x": [
          "0.1",
          "0.2",
          "0.3",
          "0.4",
          "0.5",
          "0.6",
          "0.7",
          "0.8",
          "0.9",
          "1.0"
         ],
         "xaxis": "x4",
         "y": [
          0.8,
          0.8,
          0.8,
          0.8,
          0.8,
          0.8,
          0.8,
          0.8,
          0.8,
          0.8
         ],
         "yaxis": "y4"
        },
        {
         "cliponaxis": false,
         "hovertemplate": "%{x}, %{y}<extra></extra>",
         "marker": {
          "color": "RGB(175, 122, 161)",
          "pattern": {
           "shape": [
            "",
            "",
            "",
            "",
            "",
            "",
            "",
            "",
            "",
            ""
           ]
          }
         },
         "name": "Female",
         "text": [
          "0.931",
          "1.042",
          "1.222",
          "1.128",
          "1.047",
          "1.011",
          "0.993",
          "0.979",
          "0.991",
          "1.000"
         ],
         "textfont": {
          "color": "Black"
         },
         "type": "bar",
         "x": [
          "0.1",
          "0.2",
          "0.3",
          "0.4",
          "0.5",
          "0.6",
          "0.7",
          "0.8",
          "0.9",
          "1.0"
         ],
         "xaxis": "x5",
         "y": [
          0.9308612199778916,
          1.042336959297278,
          1.2218521665250637,
          1.1275356115193456,
          1.0468547807332853,
          1.0109984043765672,
          0.9926848967347409,
          0.9792068180717641,
          0.9905865437476212,
          1
         ],
         "yaxis": "y5"
        },
        {
         "line": {
          "color": "Black",
          "dash": "dot",
          "width": 0.25
         },
         "mode": "lines",
         "name": "AIR Threshold",
         "showlegend": false,
         "type": "scatter",
         "x": [
          "0.1",
          "0.2",
          "0.3",
          "0.4",
          "0.5",
          "0.6",
          "0.7",
          "0.8",
          "0.9",
          "1.0"
         ],
         "xaxis": "x5",
         "y": [
          0.8,
          0.8,
          0.8,
          0.8,
          0.8,
          0.8,
          0.8,
          0.8,
          0.8,
          0.8
         ],
         "yaxis": "y5"
        }
       ],
       "layout": {
        "annotations": [
         {
          "font": {
           "size": 16
          },
          "showarrow": false,
          "text": "Black",
          "x": 0.225,
          "xanchor": "center",
          "xref": "paper",
          "y": 1,
          "yanchor": "bottom",
          "yref": "paper"
         },
         {
          "font": {
           "size": 16
          },
          "showarrow": false,
          "text": "Asian",
          "x": 0.775,
          "xanchor": "center",
          "xref": "paper",
          "y": 1,
          "yanchor": "bottom",
          "yref": "paper"
         },
         {
          "font": {
           "size": 16
          },
          "showarrow": false,
          "text": "Native American",
          "x": 0.225,
          "xanchor": "center",
          "xref": "paper",
          "y": 0.6111111111111112,
          "yanchor": "bottom",
          "yref": "paper"
         },
         {
          "font": {
           "size": 16
          },
          "showarrow": false,
          "text": "Hispanic",
          "x": 0.775,
          "xanchor": "center",
          "xref": "paper",
          "y": 0.6111111111111112,
          "yanchor": "bottom",
          "yref": "paper"
         },
         {
          "font": {
           "size": 16
          },
          "showarrow": false,
          "text": "Female",
          "x": 0.225,
          "xanchor": "center",
          "xref": "paper",
          "y": 0.22222222222222224,
          "yanchor": "bottom",
          "yref": "paper"
         }
        ],
        "autosize": true,
        "height": 825,
        "legend": {
         "title": {
          "text": "Legend"
         }
        },
        "shapes": [
         {
          "line": {
           "color": "Black",
           "dash": "dot",
           "width": 1.25
          },
          "type": "line",
          "x0": -0.75,
          "x1": 10,
          "xref": "x",
          "y0": 0.8,
          "y1": 0.8,
          "yref": "y"
         },
         {
          "line": {
           "color": "Black",
           "dash": "dot",
           "width": 1.25
          },
          "type": "line",
          "x0": -0.75,
          "x1": 10,
          "xref": "x2",
          "y0": 0.8,
          "y1": 0.8,
          "yref": "y2"
         },
         {
          "line": {
           "color": "Black",
           "dash": "dot",
           "width": 1.25
          },
          "type": "line",
          "x0": -0.75,
          "x1": 10,
          "xref": "x3",
          "y0": 0.8,
          "y1": 0.8,
          "yref": "y3"
         },
         {
          "line": {
           "color": "Black",
           "dash": "dot",
           "width": 1.25
          },
          "type": "line",
          "x0": -0.75,
          "x1": 10,
          "xref": "x4",
          "y0": 0.8,
          "y1": 0.8,
          "yref": "y4"
         },
         {
          "line": {
           "color": "Black",
           "dash": "dot",
           "width": 1.25
          },
          "type": "line",
          "x0": -0.75,
          "x1": 10,
          "xref": "x5",
          "y0": 0.8,
          "y1": 0.8,
          "yref": "y5"
         }
        ],
        "template": {
         "data": {
          "bar": [
           {
            "error_x": {
             "color": "#2a3f5f"
            },
            "error_y": {
             "color": "#2a3f5f"
            },
            "marker": {
             "line": {
              "color": "#E5ECF6",
              "width": 0.5
             },
             "pattern": {
              "fillmode": "overlay",
              "size": 10,
              "solidity": 0.2
             }
            },
            "type": "bar"
           }
          ],
          "barpolar": [
           {
            "marker": {
             "line": {
              "color": "#E5ECF6",
              "width": 0.5
             },
             "pattern": {
              "fillmode": "overlay",
              "size": 10,
              "solidity": 0.2
             }
            },
            "type": "barpolar"
           }
          ],
          "carpet": [
           {
            "aaxis": {
             "endlinecolor": "#2a3f5f",
             "gridcolor": "white",
             "linecolor": "white",
             "minorgridcolor": "white",
             "startlinecolor": "#2a3f5f"
            },
            "baxis": {
             "endlinecolor": "#2a3f5f",
             "gridcolor": "white",
             "linecolor": "white",
             "minorgridcolor": "white",
             "startlinecolor": "#2a3f5f"
            },
            "type": "carpet"
           }
          ],
          "choropleth": [
           {
            "colorbar": {
             "outlinewidth": 0,
             "ticks": ""
            },
            "type": "choropleth"
           }
          ],
          "contour": [
           {
            "colorbar": {
             "outlinewidth": 0,
             "ticks": ""
            },
            "colorscale": [
             [
              0,
              "#0d0887"
             ],
             [
              0.1111111111111111,
              "#46039f"
             ],
             [
              0.2222222222222222,
              "#7201a8"
             ],
             [
              0.3333333333333333,
              "#9c179e"
             ],
             [
              0.4444444444444444,
              "#bd3786"
             ],
             [
              0.5555555555555556,
              "#d8576b"
             ],
             [
              0.6666666666666666,
              "#ed7953"
             ],
             [
              0.7777777777777778,
              "#fb9f3a"
             ],
             [
              0.8888888888888888,
              "#fdca26"
             ],
             [
              1,
              "#f0f921"
             ]
            ],
            "type": "contour"
           }
          ],
          "contourcarpet": [
           {
            "colorbar": {
             "outlinewidth": 0,
             "ticks": ""
            },
            "type": "contourcarpet"
           }
          ],
          "heatmap": [
           {
            "colorbar": {
             "outlinewidth": 0,
             "ticks": ""
            },
            "colorscale": [
             [
              0,
              "#0d0887"
             ],
             [
              0.1111111111111111,
              "#46039f"
             ],
             [
              0.2222222222222222,
              "#7201a8"
             ],
             [
              0.3333333333333333,
              "#9c179e"
             ],
             [
              0.4444444444444444,
              "#bd3786"
             ],
             [
              0.5555555555555556,
              "#d8576b"
             ],
             [
              0.6666666666666666,
              "#ed7953"
             ],
             [
              0.7777777777777778,
              "#fb9f3a"
             ],
             [
              0.8888888888888888,
              "#fdca26"
             ],
             [
              1,
              "#f0f921"
             ]
            ],
            "type": "heatmap"
           }
          ],
          "heatmapgl": [
           {
            "colorbar": {
             "outlinewidth": 0,
             "ticks": ""
            },
            "colorscale": [
             [
              0,
              "#0d0887"
             ],
             [
              0.1111111111111111,
              "#46039f"
             ],
             [
              0.2222222222222222,
              "#7201a8"
             ],
             [
              0.3333333333333333,
              "#9c179e"
             ],
             [
              0.4444444444444444,
              "#bd3786"
             ],
             [
              0.5555555555555556,
              "#d8576b"
             ],
             [
              0.6666666666666666,
              "#ed7953"
             ],
             [
              0.7777777777777778,
              "#fb9f3a"
             ],
             [
              0.8888888888888888,
              "#fdca26"
             ],
             [
              1,
              "#f0f921"
             ]
            ],
            "type": "heatmapgl"
           }
          ],
          "histogram": [
           {
            "marker": {
             "pattern": {
              "fillmode": "overlay",
              "size": 10,
              "solidity": 0.2
             }
            },
            "type": "histogram"
           }
          ],
          "histogram2d": [
           {
            "colorbar": {
             "outlinewidth": 0,
             "ticks": ""
            },
            "colorscale": [
             [
              0,
              "#0d0887"
             ],
             [
              0.1111111111111111,
              "#46039f"
             ],
             [
              0.2222222222222222,
              "#7201a8"
             ],
             [
              0.3333333333333333,
              "#9c179e"
             ],
             [
              0.4444444444444444,
              "#bd3786"
             ],
             [
              0.5555555555555556,
              "#d8576b"
             ],
             [
              0.6666666666666666,
              "#ed7953"
             ],
             [
              0.7777777777777778,
              "#fb9f3a"
             ],
             [
              0.8888888888888888,
              "#fdca26"
             ],
             [
              1,
              "#f0f921"
             ]
            ],
            "type": "histogram2d"
           }
          ],
          "histogram2dcontour": [
           {
            "colorbar": {
             "outlinewidth": 0,
             "ticks": ""
            },
            "colorscale": [
             [
              0,
              "#0d0887"
             ],
             [
              0.1111111111111111,
              "#46039f"
             ],
             [
              0.2222222222222222,
              "#7201a8"
             ],
             [
              0.3333333333333333,
              "#9c179e"
             ],
             [
              0.4444444444444444,
              "#bd3786"
             ],
             [
              0.5555555555555556,
              "#d8576b"
             ],
             [
              0.6666666666666666,
              "#ed7953"
             ],
             [
              0.7777777777777778,
              "#fb9f3a"
             ],
             [
              0.8888888888888888,
              "#fdca26"
             ],
             [
              1,
              "#f0f921"
             ]
            ],
            "type": "histogram2dcontour"
           }
          ],
          "mesh3d": [
           {
            "colorbar": {
             "outlinewidth": 0,
             "ticks": ""
            },
            "type": "mesh3d"
           }
          ],
          "parcoords": [
           {
            "line": {
             "colorbar": {
              "outlinewidth": 0,
              "ticks": ""
             }
            },
            "type": "parcoords"
           }
          ],
          "pie": [
           {
            "automargin": true,
            "type": "pie"
           }
          ],
          "scatter": [
           {
            "fillpattern": {
             "fillmode": "overlay",
             "size": 10,
             "solidity": 0.2
            },
            "type": "scatter"
           }
          ],
          "scatter3d": [
           {
            "line": {
             "colorbar": {
              "outlinewidth": 0,
              "ticks": ""
             }
            },
            "marker": {
             "colorbar": {
              "outlinewidth": 0,
              "ticks": ""
             }
            },
            "type": "scatter3d"
           }
          ],
          "scattercarpet": [
           {
            "marker": {
             "colorbar": {
              "outlinewidth": 0,
              "ticks": ""
             }
            },
            "type": "scattercarpet"
           }
          ],
          "scattergeo": [
           {
            "marker": {
             "colorbar": {
              "outlinewidth": 0,
              "ticks": ""
             }
            },
            "type": "scattergeo"
           }
          ],
          "scattergl": [
           {
            "marker": {
             "colorbar": {
              "outlinewidth": 0,
              "ticks": ""
             }
            },
            "type": "scattergl"
           }
          ],
          "scattermapbox": [
           {
            "marker": {
             "colorbar": {
              "outlinewidth": 0,
              "ticks": ""
             }
            },
            "type": "scattermapbox"
           }
          ],
          "scatterpolar": [
           {
            "marker": {
             "colorbar": {
              "outlinewidth": 0,
              "ticks": ""
             }
            },
            "type": "scatterpolar"
           }
          ],
          "scatterpolargl": [
           {
            "marker": {
             "colorbar": {
              "outlinewidth": 0,
              "ticks": ""
             }
            },
            "type": "scatterpolargl"
           }
          ],
          "scatterternary": [
           {
            "marker": {
             "colorbar": {
              "outlinewidth": 0,
              "ticks": ""
             }
            },
            "type": "scatterternary"
           }
          ],
          "surface": [
           {
            "colorbar": {
             "outlinewidth": 0,
             "ticks": ""
            },
            "colorscale": [
             [
              0,
              "#0d0887"
             ],
             [
              0.1111111111111111,
              "#46039f"
             ],
             [
              0.2222222222222222,
              "#7201a8"
             ],
             [
              0.3333333333333333,
              "#9c179e"
             ],
             [
              0.4444444444444444,
              "#bd3786"
             ],
             [
              0.5555555555555556,
              "#d8576b"
             ],
             [
              0.6666666666666666,
              "#ed7953"
             ],
             [
              0.7777777777777778,
              "#fb9f3a"
             ],
             [
              0.8888888888888888,
              "#fdca26"
             ],
             [
              1,
              "#f0f921"
             ]
            ],
            "type": "surface"
           }
          ],
          "table": [
           {
            "cells": {
             "fill": {
              "color": "#EBF0F8"
             },
             "line": {
              "color": "white"
             }
            },
            "header": {
             "fill": {
              "color": "#C8D4E3"
             },
             "line": {
              "color": "white"
             }
            },
            "type": "table"
           }
          ]
         },
         "layout": {
          "annotationdefaults": {
           "arrowcolor": "#2a3f5f",
           "arrowhead": 0,
           "arrowwidth": 1
          },
          "autotypenumbers": "strict",
          "coloraxis": {
           "colorbar": {
            "outlinewidth": 0,
            "ticks": ""
           }
          },
          "colorscale": {
           "diverging": [
            [
             0,
             "#8e0152"
            ],
            [
             0.1,
             "#c51b7d"
            ],
            [
             0.2,
             "#de77ae"
            ],
            [
             0.3,
             "#f1b6da"
            ],
            [
             0.4,
             "#fde0ef"
            ],
            [
             0.5,
             "#f7f7f7"
            ],
            [
             0.6,
             "#e6f5d0"
            ],
            [
             0.7,
             "#b8e186"
            ],
            [
             0.8,
             "#7fbc41"
            ],
            [
             0.9,
             "#4d9221"
            ],
            [
             1,
             "#276419"
            ]
           ],
           "sequential": [
            [
             0,
             "#0d0887"
            ],
            [
             0.1111111111111111,
             "#46039f"
            ],
            [
             0.2222222222222222,
             "#7201a8"
            ],
            [
             0.3333333333333333,
             "#9c179e"
            ],
            [
             0.4444444444444444,
             "#bd3786"
            ],
            [
             0.5555555555555556,
             "#d8576b"
            ],
            [
             0.6666666666666666,
             "#ed7953"
            ],
            [
             0.7777777777777778,
             "#fb9f3a"
            ],
            [
             0.8888888888888888,
             "#fdca26"
            ],
            [
             1,
             "#f0f921"
            ]
           ],
           "sequentialminus": [
            [
             0,
             "#0d0887"
            ],
            [
             0.1111111111111111,
             "#46039f"
            ],
            [
             0.2222222222222222,
             "#7201a8"
            ],
            [
             0.3333333333333333,
             "#9c179e"
            ],
            [
             0.4444444444444444,
             "#bd3786"
            ],
            [
             0.5555555555555556,
             "#d8576b"
            ],
            [
             0.6666666666666666,
             "#ed7953"
            ],
            [
             0.7777777777777778,
             "#fb9f3a"
            ],
            [
             0.8888888888888888,
             "#fdca26"
            ],
            [
             1,
             "#f0f921"
            ]
           ]
          },
          "colorway": [
           "#636efa",
           "#EF553B",
           "#00cc96",
           "#ab63fa",
           "#FFA15A",
           "#19d3f3",
           "#FF6692",
           "#B6E880",
           "#FF97FF",
           "#FECB52"
          ],
          "font": {
           "color": "#2a3f5f"
          },
          "geo": {
           "bgcolor": "white",
           "lakecolor": "white",
           "landcolor": "#E5ECF6",
           "showlakes": true,
           "showland": true,
           "subunitcolor": "white"
          },
          "hoverlabel": {
           "align": "left"
          },
          "hovermode": "closest",
          "mapbox": {
           "style": "light"
          },
          "paper_bgcolor": "white",
          "plot_bgcolor": "#E5ECF6",
          "polar": {
           "angularaxis": {
            "gridcolor": "white",
            "linecolor": "white",
            "ticks": ""
           },
           "bgcolor": "#E5ECF6",
           "radialaxis": {
            "gridcolor": "white",
            "linecolor": "white",
            "ticks": ""
           }
          },
          "scene": {
           "xaxis": {
            "backgroundcolor": "#E5ECF6",
            "gridcolor": "white",
            "gridwidth": 2,
            "linecolor": "white",
            "showbackground": true,
            "ticks": "",
            "zerolinecolor": "white"
           },
           "yaxis": {
            "backgroundcolor": "#E5ECF6",
            "gridcolor": "white",
            "gridwidth": 2,
            "linecolor": "white",
            "showbackground": true,
            "ticks": "",
            "zerolinecolor": "white"
           },
           "zaxis": {
            "backgroundcolor": "#E5ECF6",
            "gridcolor": "white",
            "gridwidth": 2,
            "linecolor": "white",
            "showbackground": true,
            "ticks": "",
            "zerolinecolor": "white"
           }
          },
          "shapedefaults": {
           "line": {
            "color": "#2a3f5f"
           }
          },
          "ternary": {
           "aaxis": {
            "gridcolor": "white",
            "linecolor": "white",
            "ticks": ""
           },
           "baxis": {
            "gridcolor": "white",
            "linecolor": "white",
            "ticks": ""
           },
           "bgcolor": "#E5ECF6",
           "caxis": {
            "gridcolor": "white",
            "linecolor": "white",
            "ticks": ""
           }
          },
          "title": {
           "x": 0.05
          },
          "xaxis": {
           "automargin": true,
           "gridcolor": "white",
           "linecolor": "white",
           "ticks": "",
           "title": {
            "standoff": 15
           },
           "zerolinecolor": "white",
           "zerolinewidth": 2
          },
          "yaxis": {
           "automargin": true,
           "gridcolor": "white",
           "linecolor": "white",
           "ticks": "",
           "title": {
            "standoff": 15
           },
           "zerolinecolor": "white",
           "zerolinewidth": 2
          }
         }
        },
        "title": {
         "text": "Adverse Impact Ratio By Quantile"
        },
        "xaxis": {
         "anchor": "y",
         "domain": [
          0,
          0.45
         ],
         "title": {
          "text": "Quantile"
         }
        },
        "xaxis2": {
         "anchor": "y2",
         "domain": [
          0.55,
          1
         ],
         "title": {
          "text": "Quantile"
         }
        },
        "xaxis3": {
         "anchor": "y3",
         "domain": [
          0,
          0.45
         ],
         "title": {
          "text": "Quantile"
         }
        },
        "xaxis4": {
         "anchor": "y4",
         "domain": [
          0.55,
          1
         ],
         "title": {
          "text": "Quantile"
         }
        },
        "xaxis5": {
         "anchor": "y5",
         "domain": [
          0,
          0.45
         ],
         "title": {
          "text": "Quantile"
         }
        },
        "xaxis6": {
         "anchor": "y6",
         "domain": [
          0.55,
          1
         ]
        },
        "yaxis": {
         "anchor": "x",
         "domain": [
          0.7777777777777778,
          1
         ],
         "tickformat": "0,.3f",
         "title": {
          "text": "AIR"
         },
         "zeroline": true,
         "zerolinecolor": "Black",
         "zerolinewidth": 1
        },
        "yaxis2": {
         "anchor": "x2",
         "domain": [
          0.7777777777777778,
          1
         ],
         "tickformat": "0,.3f",
         "title": {
          "text": "AIR"
         },
         "zeroline": true,
         "zerolinecolor": "Black",
         "zerolinewidth": 1
        },
        "yaxis3": {
         "anchor": "x3",
         "domain": [
          0.3888888888888889,
          0.6111111111111112
         ],
         "tickformat": "0,.3f",
         "title": {
          "text": "AIR"
         },
         "zeroline": true,
         "zerolinecolor": "Black",
         "zerolinewidth": 1
        },
        "yaxis4": {
         "anchor": "x4",
         "domain": [
          0.3888888888888889,
          0.6111111111111112
         ],
         "tickformat": "0,.3f",
         "title": {
          "text": "AIR"
         },
         "zeroline": true,
         "zerolinecolor": "Black",
         "zerolinewidth": 1
        },
        "yaxis5": {
         "anchor": "x5",
         "domain": [
          0,
          0.22222222222222224
         ],
         "tickformat": "0,.3f",
         "title": {
          "text": "AIR"
         },
         "zeroline": true,
         "zerolinecolor": "Black",
         "zerolinewidth": 1
        },
        "yaxis6": {
         "anchor": "x6",
         "domain": [
          0,
          0.22222222222222224
         ],
         "zeroline": true,
         "zerolinecolor": "Black",
         "zerolinewidth": 1
        }
       }
      }
     },
     "metadata": {},
     "output_type": "display_data"
    }
   ],
   "source": [
    "airq = sd.adverse_impact_ratio_by_quantile(\n",
    "    **common_info_for_testing,\n",
    "    outcome=df.loc[~train, 'predictions'],\n",
    "    air_threshold=0.8,\n",
    "    percent_difference_threshold=0.0,\n",
    "    quantiles=[decile / 10 for decile in range(1, 11)],\n",
    "    lower_score_favorable=False,\n",
    ")\n",
    "airq.plot()"
   ]
  },
  {
   "cell_type": "markdown",
   "metadata": {},
   "source": [
    "## Standardized Mean Difference (SMD)"
   ]
  },
  {
   "cell_type": "code",
   "execution_count": 13,
   "metadata": {},
   "outputs": [
    {
     "data": {
      "text/markdown": [
       "## Disparity Calculation: SMD"
      ]
     },
     "metadata": {},
     "output_type": "display_data"
    },
    {
     "data": {
      "text/html": [
       "<pre style=\"white-space:pre;overflow-x:auto;line-height:normal;font-family:Menlo,'DejaVu Sans Mono',consolas,'Courier New',monospace\">┌───────────────────────────────────┬─────────────────────────────────────────────────────────────────────────────┐\n",
       "│ Protected Groups                  │ Black, Asian, Native American, Hispanic, Female                             │\n",
       "│ Reference Groups                  │ White, White, White, Non-Hispanic, Male                                     │\n",
       "│ Group Categories                  │ Race, Race, Race, Ethnicity, Sex                                            │\n",
       "│ SMD Threshold                     │ -30.0                                                                       │\n",
       "│ Affected Groups                   │ Black, Native American, Hispanic                                            │\n",
       "│ Affected Reference                │ White, White, Non-Hispanic                                                  │\n",
       "│ Affected Categories               │ Race, Race, Ethnicity                                                       │\n",
       "└───────────────────────────────────┴─────────────────────────────────────────────────────────────────────────────┘\n",
       "</pre>\n"
      ],
      "text/plain": [
       "┌───────────────────────────────────┬─────────────────────────────────────────────────────────────────────────────┐\n",
       "│ Protected Groups                  │ Black, Asian, Native American, Hispanic, Female                             │\n",
       "│ Reference Groups                  │ White, White, White, Non-Hispanic, Male                                     │\n",
       "│ Group Categories                  │ Race, Race, Race, Ethnicity, Sex                                            │\n",
       "│ SMD Threshold                     │ -30.0                                                                       │\n",
       "│ Affected Groups                   │ Black, Native American, Hispanic                                            │\n",
       "│ Affected Reference                │ White, White, Non-Hispanic                                                  │\n",
       "│ Affected Categories               │ Race, Race, Ethnicity                                                       │\n",
       "└───────────────────────────────────┴─────────────────────────────────────────────────────────────────────────────┘\n"
      ]
     },
     "metadata": {},
     "output_type": "display_data"
    },
    {
     "data": {
      "text/markdown": [
       "\\* Percent Missing: Ethnicity: 14.34%, Race: 13.16%, Sex: 45.71%"
      ]
     },
     "metadata": {},
     "output_type": "display_data"
    },
    {
     "data": {
      "text/markdown": [
       "## SMD Summary Table"
      ]
     },
     "metadata": {},
     "output_type": "display_data"
    },
    {
     "data": {
      "text/html": [
       "<div>\n",
       "<style scoped>\n",
       "    .dataframe tbody tr th:only-of-type {\n",
       "        vertical-align: middle;\n",
       "    }\n",
       "\n",
       "    .dataframe tbody tr th {\n",
       "        vertical-align: top;\n",
       "    }\n",
       "\n",
       "    .dataframe thead th {\n",
       "        text-align: right;\n",
       "    }\n",
       "</style>\n",
       "<table border=\"False\" class=\"dataframe\">\n",
       "  <thead>\n",
       "    <tr style=\"text-align: right;\">\n",
       "      <th>Group Category</th>\n",
       "      <th>Group</th>\n",
       "      <th>Reference Group</th>\n",
       "      <th>Observations</th>\n",
       "      <th>Percent Missing</th>\n",
       "      <th>Total</th>\n",
       "      <th>Average Outcome</th>\n",
       "      <th>Std. Dev. of Outcomes</th>\n",
       "      <th>SMD</th>\n",
       "      <th>P-Values</th>\n",
       "      <th>Practically Significant</th>\n",
       "    </tr>\n",
       "  </thead>\n",
       "  <tbody>\n",
       "    <tr>\n",
       "      <td>Race</td>\n",
       "      <td>Black</td>\n",
       "      <td>White</td>\n",
       "      <td>3,378</td>\n",
       "      <td>13.16%</td>\n",
       "      <td>265.0</td>\n",
       "      <td>0.82</td>\n",
       "      <td>0.11</td>\n",
       "      <td>-77.472</td>\n",
       "      <td>0.000</td>\n",
       "      <td>Yes</td>\n",
       "    </tr>\n",
       "    <tr>\n",
       "      <td>Race</td>\n",
       "      <td>Asian</td>\n",
       "      <td>White</td>\n",
       "      <td>3,378</td>\n",
       "      <td>13.16%</td>\n",
       "      <td>250.0</td>\n",
       "      <td>0.95</td>\n",
       "      <td>0.11</td>\n",
       "      <td>41.198</td>\n",
       "      <td>0.000</td>\n",
       "      <td>No</td>\n",
       "    </tr>\n",
       "    <tr>\n",
       "      <td>Race</td>\n",
       "      <td>Native American</td>\n",
       "      <td>White</td>\n",
       "      <td>3,378</td>\n",
       "      <td>13.16%</td>\n",
       "      <td>21.0</td>\n",
       "      <td>0.85</td>\n",
       "      <td>0.11</td>\n",
       "      <td>-48.232</td>\n",
       "      <td>0.023</td>\n",
       "      <td>Yes</td>\n",
       "    </tr>\n",
       "    <tr>\n",
       "      <td>Race</td>\n",
       "      <td>White</td>\n",
       "      <td></td>\n",
       "      <td>3,378</td>\n",
       "      <td>13.16%</td>\n",
       "      <td>2,839.0</td>\n",
       "      <td>0.91</td>\n",
       "      <td>0.11</td>\n",
       "      <td></td>\n",
       "      <td></td>\n",
       "      <td></td>\n",
       "    </tr>\n",
       "    <tr>\n",
       "      <td>Ethnicity</td>\n",
       "      <td>Hispanic</td>\n",
       "      <td>Non-Hispanic</td>\n",
       "      <td>3,332</td>\n",
       "      <td>14.34%</td>\n",
       "      <td>417.0</td>\n",
       "      <td>0.85</td>\n",
       "      <td>0.11</td>\n",
       "      <td>-56.400</td>\n",
       "      <td>0.000</td>\n",
       "      <td>Yes</td>\n",
       "    </tr>\n",
       "    <tr>\n",
       "      <td>Ethnicity</td>\n",
       "      <td>Non-Hispanic</td>\n",
       "      <td></td>\n",
       "      <td>3,332</td>\n",
       "      <td>14.34%</td>\n",
       "      <td>2,915.0</td>\n",
       "      <td>0.91</td>\n",
       "      <td>0.11</td>\n",
       "      <td></td>\n",
       "      <td></td>\n",
       "      <td></td>\n",
       "    </tr>\n",
       "    <tr>\n",
       "      <td>Sex</td>\n",
       "      <td>Female</td>\n",
       "      <td>Male</td>\n",
       "      <td>2,112</td>\n",
       "      <td>45.71%</td>\n",
       "      <td>856.0</td>\n",
       "      <td>0.89</td>\n",
       "      <td>0.11</td>\n",
       "      <td>-0.466</td>\n",
       "      <td>0.920</td>\n",
       "      <td>No</td>\n",
       "    </tr>\n",
       "    <tr>\n",
       "      <td>Sex</td>\n",
       "      <td>Male</td>\n",
       "      <td></td>\n",
       "      <td>2,112</td>\n",
       "      <td>45.71%</td>\n",
       "      <td>1,256.0</td>\n",
       "      <td>0.89</td>\n",
       "      <td>0.11</td>\n",
       "      <td></td>\n",
       "      <td></td>\n",
       "      <td></td>\n",
       "    </tr>\n",
       "  </tbody>\n",
       "</table>\n",
       "</div>"
      ],
      "text/plain": [
       "<IPython.core.display.HTML object>"
      ]
     },
     "metadata": {},
     "output_type": "display_data"
    },
    {
     "data": {
      "application/vnd.plotly.v1+json": {
       "config": {
        "plotlyServerURL": "https://plot.ly"
       },
       "data": [
        {
         "cliponaxis": false,
         "hovertemplate": "%{x}, %{y}<extra></extra>",
         "marker": {
          "color": "RGBA(78, 121, 167, 1.0)",
          "line": {
           "color": "rgb(8,48,107)",
           "width": 0
          },
          "pattern": {
           "shape": "/"
          }
         },
         "name": "Race",
         "showlegend": true,
         "text": "-77.472",
         "textfont": {
          "color": "Black"
         },
         "type": "bar",
         "x": [
          [
           "Race"
          ],
          [
           "Black"
          ]
         ],
         "y": [
          -77.47169605843152
         ]
        },
        {
         "cliponaxis": false,
         "hovertemplate": "%{x}, %{y}<extra></extra>",
         "marker": {
          "color": "RGBA(78, 121, 167, 0.6666666666666667)",
          "line": {
           "color": "rgb(8,48,107)",
           "width": 0
          },
          "pattern": {
           "shape": ""
          }
         },
         "name": "Race",
         "showlegend": false,
         "text": "41.198",
         "textfont": {
          "color": "Black"
         },
         "type": "bar",
         "x": [
          [
           "Race"
          ],
          [
           "Asian"
          ]
         ],
         "y": [
          41.197879823706074
         ]
        },
        {
         "cliponaxis": false,
         "hovertemplate": "%{x}, %{y}<extra></extra>",
         "marker": {
          "color": "RGBA(78, 121, 167, 0.3333333333333334)",
          "line": {
           "color": "rgb(8,48,107)",
           "width": 0
          },
          "pattern": {
           "shape": "/"
          }
         },
         "name": "Race",
         "showlegend": false,
         "text": "-48.232",
         "textfont": {
          "color": "Black"
         },
         "type": "bar",
         "x": [
          [
           "Race"
          ],
          [
           "Native American"
          ]
         ],
         "y": [
          -48.23197035858077
         ]
        },
        {
         "cliponaxis": false,
         "hovertemplate": "%{x}, %{y}<extra></extra>",
         "marker": {
          "color": "RGBA(242, 142, 45, 1.0)",
          "line": {
           "color": "rgb(8,48,107)",
           "width": 0
          },
          "pattern": {
           "shape": "/"
          }
         },
         "name": "Ethnicity",
         "showlegend": true,
         "text": "-56.400",
         "textfont": {
          "color": "Black"
         },
         "type": "bar",
         "x": [
          [
           "Ethnicity"
          ],
          [
           "Hispanic"
          ]
         ],
         "y": [
          -56.4004038454193
         ]
        },
        {
         "cliponaxis": false,
         "hovertemplate": "%{x}, %{y}<extra></extra>",
         "marker": {
          "color": "RGBA(225, 87, 89, 1.0)",
          "line": {
           "color": "rgb(8,48,107)",
           "width": 0
          },
          "pattern": {
           "shape": ""
          }
         },
         "name": "Sex",
         "showlegend": true,
         "text": "-0.466",
         "textfont": {
          "color": "Black"
         },
         "type": "bar",
         "x": [
          [
           "Sex"
          ],
          [
           "Female"
          ]
         ],
         "y": [
          -0.4663399487991054
         ]
        },
        {
         "line": {
          "color": "Black",
          "dash": "dot",
          "width": 0.25
         },
         "mode": "lines",
         "name": "SMD Threshold",
         "text": "SMD Threshold",
         "type": "scatter",
         "x": [
          [
           "Race",
           "Race",
           "Race",
           "Ethnicity",
           "Sex"
          ],
          [
           "Black",
           "Asian",
           "Native American",
           "Hispanic",
           "Female"
          ]
         ],
         "y": [
          -30,
          -30,
          -30,
          -30,
          -30
         ]
        }
       ],
       "layout": {
        "legend": {
         "title": {
          "text": "Legend"
         }
        },
        "scene": {
         "yaxis": {
          "exponentformat": "none",
          "separatethousands": true
         }
        },
        "shapes": [
         {
          "line": {
           "color": "Black",
           "dash": "dot",
           "width": 1.25
          },
          "name": "SMD Threshold",
          "type": "line",
          "x0": 0,
          "x1": 1,
          "xref": "paper",
          "y0": 0.41002931783477753,
          "y1": 0.41002931783477753,
          "yref": "paper"
         }
        ],
        "template": {
         "data": {
          "bar": [
           {
            "error_x": {
             "color": "#2a3f5f"
            },
            "error_y": {
             "color": "#2a3f5f"
            },
            "marker": {
             "line": {
              "color": "#E5ECF6",
              "width": 0.5
             },
             "pattern": {
              "fillmode": "overlay",
              "size": 10,
              "solidity": 0.2
             }
            },
            "type": "bar"
           }
          ],
          "barpolar": [
           {
            "marker": {
             "line": {
              "color": "#E5ECF6",
              "width": 0.5
             },
             "pattern": {
              "fillmode": "overlay",
              "size": 10,
              "solidity": 0.2
             }
            },
            "type": "barpolar"
           }
          ],
          "carpet": [
           {
            "aaxis": {
             "endlinecolor": "#2a3f5f",
             "gridcolor": "white",
             "linecolor": "white",
             "minorgridcolor": "white",
             "startlinecolor": "#2a3f5f"
            },
            "baxis": {
             "endlinecolor": "#2a3f5f",
             "gridcolor": "white",
             "linecolor": "white",
             "minorgridcolor": "white",
             "startlinecolor": "#2a3f5f"
            },
            "type": "carpet"
           }
          ],
          "choropleth": [
           {
            "colorbar": {
             "outlinewidth": 0,
             "ticks": ""
            },
            "type": "choropleth"
           }
          ],
          "contour": [
           {
            "colorbar": {
             "outlinewidth": 0,
             "ticks": ""
            },
            "colorscale": [
             [
              0,
              "#0d0887"
             ],
             [
              0.1111111111111111,
              "#46039f"
             ],
             [
              0.2222222222222222,
              "#7201a8"
             ],
             [
              0.3333333333333333,
              "#9c179e"
             ],
             [
              0.4444444444444444,
              "#bd3786"
             ],
             [
              0.5555555555555556,
              "#d8576b"
             ],
             [
              0.6666666666666666,
              "#ed7953"
             ],
             [
              0.7777777777777778,
              "#fb9f3a"
             ],
             [
              0.8888888888888888,
              "#fdca26"
             ],
             [
              1,
              "#f0f921"
             ]
            ],
            "type": "contour"
           }
          ],
          "contourcarpet": [
           {
            "colorbar": {
             "outlinewidth": 0,
             "ticks": ""
            },
            "type": "contourcarpet"
           }
          ],
          "heatmap": [
           {
            "colorbar": {
             "outlinewidth": 0,
             "ticks": ""
            },
            "colorscale": [
             [
              0,
              "#0d0887"
             ],
             [
              0.1111111111111111,
              "#46039f"
             ],
             [
              0.2222222222222222,
              "#7201a8"
             ],
             [
              0.3333333333333333,
              "#9c179e"
             ],
             [
              0.4444444444444444,
              "#bd3786"
             ],
             [
              0.5555555555555556,
              "#d8576b"
             ],
             [
              0.6666666666666666,
              "#ed7953"
             ],
             [
              0.7777777777777778,
              "#fb9f3a"
             ],
             [
              0.8888888888888888,
              "#fdca26"
             ],
             [
              1,
              "#f0f921"
             ]
            ],
            "type": "heatmap"
           }
          ],
          "heatmapgl": [
           {
            "colorbar": {
             "outlinewidth": 0,
             "ticks": ""
            },
            "colorscale": [
             [
              0,
              "#0d0887"
             ],
             [
              0.1111111111111111,
              "#46039f"
             ],
             [
              0.2222222222222222,
              "#7201a8"
             ],
             [
              0.3333333333333333,
              "#9c179e"
             ],
             [
              0.4444444444444444,
              "#bd3786"
             ],
             [
              0.5555555555555556,
              "#d8576b"
             ],
             [
              0.6666666666666666,
              "#ed7953"
             ],
             [
              0.7777777777777778,
              "#fb9f3a"
             ],
             [
              0.8888888888888888,
              "#fdca26"
             ],
             [
              1,
              "#f0f921"
             ]
            ],
            "type": "heatmapgl"
           }
          ],
          "histogram": [
           {
            "marker": {
             "pattern": {
              "fillmode": "overlay",
              "size": 10,
              "solidity": 0.2
             }
            },
            "type": "histogram"
           }
          ],
          "histogram2d": [
           {
            "colorbar": {
             "outlinewidth": 0,
             "ticks": ""
            },
            "colorscale": [
             [
              0,
              "#0d0887"
             ],
             [
              0.1111111111111111,
              "#46039f"
             ],
             [
              0.2222222222222222,
              "#7201a8"
             ],
             [
              0.3333333333333333,
              "#9c179e"
             ],
             [
              0.4444444444444444,
              "#bd3786"
             ],
             [
              0.5555555555555556,
              "#d8576b"
             ],
             [
              0.6666666666666666,
              "#ed7953"
             ],
             [
              0.7777777777777778,
              "#fb9f3a"
             ],
             [
              0.8888888888888888,
              "#fdca26"
             ],
             [
              1,
              "#f0f921"
             ]
            ],
            "type": "histogram2d"
           }
          ],
          "histogram2dcontour": [
           {
            "colorbar": {
             "outlinewidth": 0,
             "ticks": ""
            },
            "colorscale": [
             [
              0,
              "#0d0887"
             ],
             [
              0.1111111111111111,
              "#46039f"
             ],
             [
              0.2222222222222222,
              "#7201a8"
             ],
             [
              0.3333333333333333,
              "#9c179e"
             ],
             [
              0.4444444444444444,
              "#bd3786"
             ],
             [
              0.5555555555555556,
              "#d8576b"
             ],
             [
              0.6666666666666666,
              "#ed7953"
             ],
             [
              0.7777777777777778,
              "#fb9f3a"
             ],
             [
              0.8888888888888888,
              "#fdca26"
             ],
             [
              1,
              "#f0f921"
             ]
            ],
            "type": "histogram2dcontour"
           }
          ],
          "mesh3d": [
           {
            "colorbar": {
             "outlinewidth": 0,
             "ticks": ""
            },
            "type": "mesh3d"
           }
          ],
          "parcoords": [
           {
            "line": {
             "colorbar": {
              "outlinewidth": 0,
              "ticks": ""
             }
            },
            "type": "parcoords"
           }
          ],
          "pie": [
           {
            "automargin": true,
            "type": "pie"
           }
          ],
          "scatter": [
           {
            "fillpattern": {
             "fillmode": "overlay",
             "size": 10,
             "solidity": 0.2
            },
            "type": "scatter"
           }
          ],
          "scatter3d": [
           {
            "line": {
             "colorbar": {
              "outlinewidth": 0,
              "ticks": ""
             }
            },
            "marker": {
             "colorbar": {
              "outlinewidth": 0,
              "ticks": ""
             }
            },
            "type": "scatter3d"
           }
          ],
          "scattercarpet": [
           {
            "marker": {
             "colorbar": {
              "outlinewidth": 0,
              "ticks": ""
             }
            },
            "type": "scattercarpet"
           }
          ],
          "scattergeo": [
           {
            "marker": {
             "colorbar": {
              "outlinewidth": 0,
              "ticks": ""
             }
            },
            "type": "scattergeo"
           }
          ],
          "scattergl": [
           {
            "marker": {
             "colorbar": {
              "outlinewidth": 0,
              "ticks": ""
             }
            },
            "type": "scattergl"
           }
          ],
          "scattermapbox": [
           {
            "marker": {
             "colorbar": {
              "outlinewidth": 0,
              "ticks": ""
             }
            },
            "type": "scattermapbox"
           }
          ],
          "scatterpolar": [
           {
            "marker": {
             "colorbar": {
              "outlinewidth": 0,
              "ticks": ""
             }
            },
            "type": "scatterpolar"
           }
          ],
          "scatterpolargl": [
           {
            "marker": {
             "colorbar": {
              "outlinewidth": 0,
              "ticks": ""
             }
            },
            "type": "scatterpolargl"
           }
          ],
          "scatterternary": [
           {
            "marker": {
             "colorbar": {
              "outlinewidth": 0,
              "ticks": ""
             }
            },
            "type": "scatterternary"
           }
          ],
          "surface": [
           {
            "colorbar": {
             "outlinewidth": 0,
             "ticks": ""
            },
            "colorscale": [
             [
              0,
              "#0d0887"
             ],
             [
              0.1111111111111111,
              "#46039f"
             ],
             [
              0.2222222222222222,
              "#7201a8"
             ],
             [
              0.3333333333333333,
              "#9c179e"
             ],
             [
              0.4444444444444444,
              "#bd3786"
             ],
             [
              0.5555555555555556,
              "#d8576b"
             ],
             [
              0.6666666666666666,
              "#ed7953"
             ],
             [
              0.7777777777777778,
              "#fb9f3a"
             ],
             [
              0.8888888888888888,
              "#fdca26"
             ],
             [
              1,
              "#f0f921"
             ]
            ],
            "type": "surface"
           }
          ],
          "table": [
           {
            "cells": {
             "fill": {
              "color": "#EBF0F8"
             },
             "line": {
              "color": "white"
             }
            },
            "header": {
             "fill": {
              "color": "#C8D4E3"
             },
             "line": {
              "color": "white"
             }
            },
            "type": "table"
           }
          ]
         },
         "layout": {
          "annotationdefaults": {
           "arrowcolor": "#2a3f5f",
           "arrowhead": 0,
           "arrowwidth": 1
          },
          "autotypenumbers": "strict",
          "coloraxis": {
           "colorbar": {
            "outlinewidth": 0,
            "ticks": ""
           }
          },
          "colorscale": {
           "diverging": [
            [
             0,
             "#8e0152"
            ],
            [
             0.1,
             "#c51b7d"
            ],
            [
             0.2,
             "#de77ae"
            ],
            [
             0.3,
             "#f1b6da"
            ],
            [
             0.4,
             "#fde0ef"
            ],
            [
             0.5,
             "#f7f7f7"
            ],
            [
             0.6,
             "#e6f5d0"
            ],
            [
             0.7,
             "#b8e186"
            ],
            [
             0.8,
             "#7fbc41"
            ],
            [
             0.9,
             "#4d9221"
            ],
            [
             1,
             "#276419"
            ]
           ],
           "sequential": [
            [
             0,
             "#0d0887"
            ],
            [
             0.1111111111111111,
             "#46039f"
            ],
            [
             0.2222222222222222,
             "#7201a8"
            ],
            [
             0.3333333333333333,
             "#9c179e"
            ],
            [
             0.4444444444444444,
             "#bd3786"
            ],
            [
             0.5555555555555556,
             "#d8576b"
            ],
            [
             0.6666666666666666,
             "#ed7953"
            ],
            [
             0.7777777777777778,
             "#fb9f3a"
            ],
            [
             0.8888888888888888,
             "#fdca26"
            ],
            [
             1,
             "#f0f921"
            ]
           ],
           "sequentialminus": [
            [
             0,
             "#0d0887"
            ],
            [
             0.1111111111111111,
             "#46039f"
            ],
            [
             0.2222222222222222,
             "#7201a8"
            ],
            [
             0.3333333333333333,
             "#9c179e"
            ],
            [
             0.4444444444444444,
             "#bd3786"
            ],
            [
             0.5555555555555556,
             "#d8576b"
            ],
            [
             0.6666666666666666,
             "#ed7953"
            ],
            [
             0.7777777777777778,
             "#fb9f3a"
            ],
            [
             0.8888888888888888,
             "#fdca26"
            ],
            [
             1,
             "#f0f921"
            ]
           ]
          },
          "colorway": [
           "#636efa",
           "#EF553B",
           "#00cc96",
           "#ab63fa",
           "#FFA15A",
           "#19d3f3",
           "#FF6692",
           "#B6E880",
           "#FF97FF",
           "#FECB52"
          ],
          "font": {
           "color": "#2a3f5f"
          },
          "geo": {
           "bgcolor": "white",
           "lakecolor": "white",
           "landcolor": "#E5ECF6",
           "showlakes": true,
           "showland": true,
           "subunitcolor": "white"
          },
          "hoverlabel": {
           "align": "left"
          },
          "hovermode": "closest",
          "mapbox": {
           "style": "light"
          },
          "paper_bgcolor": "white",
          "plot_bgcolor": "#E5ECF6",
          "polar": {
           "angularaxis": {
            "gridcolor": "white",
            "linecolor": "white",
            "ticks": ""
           },
           "bgcolor": "#E5ECF6",
           "radialaxis": {
            "gridcolor": "white",
            "linecolor": "white",
            "ticks": ""
           }
          },
          "scene": {
           "xaxis": {
            "backgroundcolor": "#E5ECF6",
            "gridcolor": "white",
            "gridwidth": 2,
            "linecolor": "white",
            "showbackground": true,
            "ticks": "",
            "zerolinecolor": "white"
           },
           "yaxis": {
            "backgroundcolor": "#E5ECF6",
            "gridcolor": "white",
            "gridwidth": 2,
            "linecolor": "white",
            "showbackground": true,
            "ticks": "",
            "zerolinecolor": "white"
           },
           "zaxis": {
            "backgroundcolor": "#E5ECF6",
            "gridcolor": "white",
            "gridwidth": 2,
            "linecolor": "white",
            "showbackground": true,
            "ticks": "",
            "zerolinecolor": "white"
           }
          },
          "shapedefaults": {
           "line": {
            "color": "#2a3f5f"
           }
          },
          "ternary": {
           "aaxis": {
            "gridcolor": "white",
            "linecolor": "white",
            "ticks": ""
           },
           "baxis": {
            "gridcolor": "white",
            "linecolor": "white",
            "ticks": ""
           },
           "bgcolor": "#E5ECF6",
           "caxis": {
            "gridcolor": "white",
            "linecolor": "white",
            "ticks": ""
           }
          },
          "title": {
           "x": 0.05
          },
          "xaxis": {
           "automargin": true,
           "gridcolor": "white",
           "linecolor": "white",
           "ticks": "",
           "title": {
            "standoff": 15
           },
           "zerolinecolor": "white",
           "zerolinewidth": 2
          },
          "yaxis": {
           "automargin": true,
           "gridcolor": "white",
           "linecolor": "white",
           "ticks": "",
           "title": {
            "standoff": 15
           },
           "zerolinecolor": "white",
           "zerolinewidth": 2
          }
         }
        },
        "title": {
         "text": "Standardized Mean Difference (SMD)"
        },
        "uniformtext": {
         "minsize": 8,
         "mode": "hide"
        },
        "xaxis": {
         "fixedrange": true,
         "title": {
          "text": "Group"
         }
        },
        "yaxis": {
         "fixedrange": true,
         "tickformat": "0,.3f",
         "ticksuffix": "  ",
         "title": {
          "text": "SMD"
         },
         "zeroline": true,
         "zerolinecolor": "Black",
         "zerolinewidth": 1
        }
       }
      }
     },
     "metadata": {},
     "output_type": "display_data"
    }
   ],
   "source": [
    "smd = sd.standardized_mean_difference(\n",
    "    **common_info_for_testing,\n",
    "    outcome=df.loc[~train, 'predictions'],\n",
    "    smd_threshold=-30,\n",
    "    lower_score_favorable=False,\n",
    ")\n",
    "smd"
   ]
  },
  {
   "cell_type": "markdown",
   "metadata": {},
   "source": [
    "## Residual Standardized Mean Difference"
   ]
  },
  {
   "cell_type": "code",
   "execution_count": 15,
   "metadata": {},
   "outputs": [
    {
     "data": {
      "application/vnd.plotly.v1+json": {
       "config": {
        "plotlyServerURL": "https://plot.ly"
       },
       "data": [
        {
         "cliponaxis": false,
         "hovertemplate": "%{x}, %{y}<extra></extra>",
         "marker": {
          "color": "RGBA(78, 121, 167, 1.0)",
          "line": {
           "color": "rgb(8,48,107)",
           "width": 0
          },
          "pattern": {
           "shape": ""
          }
         },
         "name": "Race",
         "showlegend": true,
         "text": "-10.72",
         "textfont": {
          "color": "Black"
         },
         "type": "bar",
         "x": [
          [
           "Race"
          ],
          [
           "Black"
          ]
         ],
         "y": [
          -10.718781751397112
         ]
        },
        {
         "cliponaxis": false,
         "hovertemplate": "%{x}, %{y}<extra></extra>",
         "marker": {
          "color": "RGBA(78, 121, 167, 0.6666666666666667)",
          "line": {
           "color": "rgb(8,48,107)",
           "width": 0
          },
          "pattern": {
           "shape": ""
          }
         },
         "name": "Race",
         "showlegend": false,
         "text": "-3.27",
         "textfont": {
          "color": "Black"
         },
         "type": "bar",
         "x": [
          [
           "Race"
          ],
          [
           "Asian"
          ]
         ],
         "y": [
          -3.2746028882908824
         ]
        },
        {
         "cliponaxis": false,
         "hovertemplate": "%{x}, %{y}<extra></extra>",
         "marker": {
          "color": "RGBA(78, 121, 167, 0.3333333333333334)",
          "line": {
           "color": "rgb(8,48,107)",
           "width": 0
          },
          "pattern": {
           "shape": ""
          }
         },
         "name": "Race",
         "showlegend": false,
         "text": "-35.25",
         "textfont": {
          "color": "Black"
         },
         "type": "bar",
         "x": [
          [
           "Race"
          ],
          [
           "Native American"
          ]
         ],
         "y": [
          -35.24671238218332
         ]
        },
        {
         "cliponaxis": false,
         "hovertemplate": "%{x}, %{y}<extra></extra>",
         "marker": {
          "color": "RGBA(242, 142, 45, 1.0)",
          "line": {
           "color": "rgb(8,48,107)",
           "width": 0
          },
          "pattern": {
           "shape": ""
          }
         },
         "name": "Ethnicity",
         "showlegend": true,
         "text": "-32.99",
         "textfont": {
          "color": "Black"
         },
         "type": "bar",
         "x": [
          [
           "Ethnicity"
          ],
          [
           "Hispanic"
          ]
         ],
         "y": [
          -32.98865113473302
         ]
        },
        {
         "cliponaxis": false,
         "hovertemplate": "%{x}, %{y}<extra></extra>",
         "marker": {
          "color": "RGBA(225, 87, 89, 1.0)",
          "line": {
           "color": "rgb(8,48,107)",
           "width": 0
          },
          "pattern": {
           "shape": ""
          }
         },
         "name": "Sex",
         "showlegend": true,
         "text": "2.15",
         "textfont": {
          "color": "Black"
         },
         "type": "bar",
         "x": [
          [
           "Sex"
          ],
          [
           "Female"
          ]
         ],
         "y": [
          2.1478634661879346
         ]
        },
        {
         "line": {
          "color": "Black",
          "dash": "dot",
          "width": 0.25
         },
         "mode": "lines",
         "name": "Residual SMD Threshold",
         "text": "Residual SMD Threshold",
         "type": "scatter",
         "x": [
          [
           "Race",
           "Race",
           "Race",
           "Ethnicity",
           "Sex"
          ],
          [
           "Black",
           "Asian",
           "Native American",
           "Hispanic",
           "Female"
          ]
         ],
         "y": [
          30,
          30,
          30,
          30,
          30
         ]
        }
       ],
       "layout": {
        "legend": {
         "title": {
          "text": "Legend"
         }
        },
        "scene": {
         "yaxis": {
          "exponentformat": "none",
          "separatethousands": true
         }
        },
        "shapes": [
         {
          "line": {
           "color": "Black",
           "dash": "dot",
           "width": 1.25
          },
          "name": "Residual SMD Threshold",
          "type": "line",
          "x0": 0,
          "x1": 1,
          "xref": "paper",
          "y0": 0.9500000000000001,
          "y1": 0.9500000000000001,
          "yref": "paper"
         }
        ],
        "template": {
         "data": {
          "bar": [
           {
            "error_x": {
             "color": "#2a3f5f"
            },
            "error_y": {
             "color": "#2a3f5f"
            },
            "marker": {
             "line": {
              "color": "#E5ECF6",
              "width": 0.5
             },
             "pattern": {
              "fillmode": "overlay",
              "size": 10,
              "solidity": 0.2
             }
            },
            "type": "bar"
           }
          ],
          "barpolar": [
           {
            "marker": {
             "line": {
              "color": "#E5ECF6",
              "width": 0.5
             },
             "pattern": {
              "fillmode": "overlay",
              "size": 10,
              "solidity": 0.2
             }
            },
            "type": "barpolar"
           }
          ],
          "carpet": [
           {
            "aaxis": {
             "endlinecolor": "#2a3f5f",
             "gridcolor": "white",
             "linecolor": "white",
             "minorgridcolor": "white",
             "startlinecolor": "#2a3f5f"
            },
            "baxis": {
             "endlinecolor": "#2a3f5f",
             "gridcolor": "white",
             "linecolor": "white",
             "minorgridcolor": "white",
             "startlinecolor": "#2a3f5f"
            },
            "type": "carpet"
           }
          ],
          "choropleth": [
           {
            "colorbar": {
             "outlinewidth": 0,
             "ticks": ""
            },
            "type": "choropleth"
           }
          ],
          "contour": [
           {
            "colorbar": {
             "outlinewidth": 0,
             "ticks": ""
            },
            "colorscale": [
             [
              0,
              "#0d0887"
             ],
             [
              0.1111111111111111,
              "#46039f"
             ],
             [
              0.2222222222222222,
              "#7201a8"
             ],
             [
              0.3333333333333333,
              "#9c179e"
             ],
             [
              0.4444444444444444,
              "#bd3786"
             ],
             [
              0.5555555555555556,
              "#d8576b"
             ],
             [
              0.6666666666666666,
              "#ed7953"
             ],
             [
              0.7777777777777778,
              "#fb9f3a"
             ],
             [
              0.8888888888888888,
              "#fdca26"
             ],
             [
              1,
              "#f0f921"
             ]
            ],
            "type": "contour"
           }
          ],
          "contourcarpet": [
           {
            "colorbar": {
             "outlinewidth": 0,
             "ticks": ""
            },
            "type": "contourcarpet"
           }
          ],
          "heatmap": [
           {
            "colorbar": {
             "outlinewidth": 0,
             "ticks": ""
            },
            "colorscale": [
             [
              0,
              "#0d0887"
             ],
             [
              0.1111111111111111,
              "#46039f"
             ],
             [
              0.2222222222222222,
              "#7201a8"
             ],
             [
              0.3333333333333333,
              "#9c179e"
             ],
             [
              0.4444444444444444,
              "#bd3786"
             ],
             [
              0.5555555555555556,
              "#d8576b"
             ],
             [
              0.6666666666666666,
              "#ed7953"
             ],
             [
              0.7777777777777778,
              "#fb9f3a"
             ],
             [
              0.8888888888888888,
              "#fdca26"
             ],
             [
              1,
              "#f0f921"
             ]
            ],
            "type": "heatmap"
           }
          ],
          "heatmapgl": [
           {
            "colorbar": {
             "outlinewidth": 0,
             "ticks": ""
            },
            "colorscale": [
             [
              0,
              "#0d0887"
             ],
             [
              0.1111111111111111,
              "#46039f"
             ],
             [
              0.2222222222222222,
              "#7201a8"
             ],
             [
              0.3333333333333333,
              "#9c179e"
             ],
             [
              0.4444444444444444,
              "#bd3786"
             ],
             [
              0.5555555555555556,
              "#d8576b"
             ],
             [
              0.6666666666666666,
              "#ed7953"
             ],
             [
              0.7777777777777778,
              "#fb9f3a"
             ],
             [
              0.8888888888888888,
              "#fdca26"
             ],
             [
              1,
              "#f0f921"
             ]
            ],
            "type": "heatmapgl"
           }
          ],
          "histogram": [
           {
            "marker": {
             "pattern": {
              "fillmode": "overlay",
              "size": 10,
              "solidity": 0.2
             }
            },
            "type": "histogram"
           }
          ],
          "histogram2d": [
           {
            "colorbar": {
             "outlinewidth": 0,
             "ticks": ""
            },
            "colorscale": [
             [
              0,
              "#0d0887"
             ],
             [
              0.1111111111111111,
              "#46039f"
             ],
             [
              0.2222222222222222,
              "#7201a8"
             ],
             [
              0.3333333333333333,
              "#9c179e"
             ],
             [
              0.4444444444444444,
              "#bd3786"
             ],
             [
              0.5555555555555556,
              "#d8576b"
             ],
             [
              0.6666666666666666,
              "#ed7953"
             ],
             [
              0.7777777777777778,
              "#fb9f3a"
             ],
             [
              0.8888888888888888,
              "#fdca26"
             ],
             [
              1,
              "#f0f921"
             ]
            ],
            "type": "histogram2d"
           }
          ],
          "histogram2dcontour": [
           {
            "colorbar": {
             "outlinewidth": 0,
             "ticks": ""
            },
            "colorscale": [
             [
              0,
              "#0d0887"
             ],
             [
              0.1111111111111111,
              "#46039f"
             ],
             [
              0.2222222222222222,
              "#7201a8"
             ],
             [
              0.3333333333333333,
              "#9c179e"
             ],
             [
              0.4444444444444444,
              "#bd3786"
             ],
             [
              0.5555555555555556,
              "#d8576b"
             ],
             [
              0.6666666666666666,
              "#ed7953"
             ],
             [
              0.7777777777777778,
              "#fb9f3a"
             ],
             [
              0.8888888888888888,
              "#fdca26"
             ],
             [
              1,
              "#f0f921"
             ]
            ],
            "type": "histogram2dcontour"
           }
          ],
          "mesh3d": [
           {
            "colorbar": {
             "outlinewidth": 0,
             "ticks": ""
            },
            "type": "mesh3d"
           }
          ],
          "parcoords": [
           {
            "line": {
             "colorbar": {
              "outlinewidth": 0,
              "ticks": ""
             }
            },
            "type": "parcoords"
           }
          ],
          "pie": [
           {
            "automargin": true,
            "type": "pie"
           }
          ],
          "scatter": [
           {
            "fillpattern": {
             "fillmode": "overlay",
             "size": 10,
             "solidity": 0.2
            },
            "type": "scatter"
           }
          ],
          "scatter3d": [
           {
            "line": {
             "colorbar": {
              "outlinewidth": 0,
              "ticks": ""
             }
            },
            "marker": {
             "colorbar": {
              "outlinewidth": 0,
              "ticks": ""
             }
            },
            "type": "scatter3d"
           }
          ],
          "scattercarpet": [
           {
            "marker": {
             "colorbar": {
              "outlinewidth": 0,
              "ticks": ""
             }
            },
            "type": "scattercarpet"
           }
          ],
          "scattergeo": [
           {
            "marker": {
             "colorbar": {
              "outlinewidth": 0,
              "ticks": ""
             }
            },
            "type": "scattergeo"
           }
          ],
          "scattergl": [
           {
            "marker": {
             "colorbar": {
              "outlinewidth": 0,
              "ticks": ""
             }
            },
            "type": "scattergl"
           }
          ],
          "scattermapbox": [
           {
            "marker": {
             "colorbar": {
              "outlinewidth": 0,
              "ticks": ""
             }
            },
            "type": "scattermapbox"
           }
          ],
          "scatterpolar": [
           {
            "marker": {
             "colorbar": {
              "outlinewidth": 0,
              "ticks": ""
             }
            },
            "type": "scatterpolar"
           }
          ],
          "scatterpolargl": [
           {
            "marker": {
             "colorbar": {
              "outlinewidth": 0,
              "ticks": ""
             }
            },
            "type": "scatterpolargl"
           }
          ],
          "scatterternary": [
           {
            "marker": {
             "colorbar": {
              "outlinewidth": 0,
              "ticks": ""
             }
            },
            "type": "scatterternary"
           }
          ],
          "surface": [
           {
            "colorbar": {
             "outlinewidth": 0,
             "ticks": ""
            },
            "colorscale": [
             [
              0,
              "#0d0887"
             ],
             [
              0.1111111111111111,
              "#46039f"
             ],
             [
              0.2222222222222222,
              "#7201a8"
             ],
             [
              0.3333333333333333,
              "#9c179e"
             ],
             [
              0.4444444444444444,
              "#bd3786"
             ],
             [
              0.5555555555555556,
              "#d8576b"
             ],
             [
              0.6666666666666666,
              "#ed7953"
             ],
             [
              0.7777777777777778,
              "#fb9f3a"
             ],
             [
              0.8888888888888888,
              "#fdca26"
             ],
             [
              1,
              "#f0f921"
             ]
            ],
            "type": "surface"
           }
          ],
          "table": [
           {
            "cells": {
             "fill": {
              "color": "#EBF0F8"
             },
             "line": {
              "color": "white"
             }
            },
            "header": {
             "fill": {
              "color": "#C8D4E3"
             },
             "line": {
              "color": "white"
             }
            },
            "type": "table"
           }
          ]
         },
         "layout": {
          "annotationdefaults": {
           "arrowcolor": "#2a3f5f",
           "arrowhead": 0,
           "arrowwidth": 1
          },
          "autotypenumbers": "strict",
          "coloraxis": {
           "colorbar": {
            "outlinewidth": 0,
            "ticks": ""
           }
          },
          "colorscale": {
           "diverging": [
            [
             0,
             "#8e0152"
            ],
            [
             0.1,
             "#c51b7d"
            ],
            [
             0.2,
             "#de77ae"
            ],
            [
             0.3,
             "#f1b6da"
            ],
            [
             0.4,
             "#fde0ef"
            ],
            [
             0.5,
             "#f7f7f7"
            ],
            [
             0.6,
             "#e6f5d0"
            ],
            [
             0.7,
             "#b8e186"
            ],
            [
             0.8,
             "#7fbc41"
            ],
            [
             0.9,
             "#4d9221"
            ],
            [
             1,
             "#276419"
            ]
           ],
           "sequential": [
            [
             0,
             "#0d0887"
            ],
            [
             0.1111111111111111,
             "#46039f"
            ],
            [
             0.2222222222222222,
             "#7201a8"
            ],
            [
             0.3333333333333333,
             "#9c179e"
            ],
            [
             0.4444444444444444,
             "#bd3786"
            ],
            [
             0.5555555555555556,
             "#d8576b"
            ],
            [
             0.6666666666666666,
             "#ed7953"
            ],
            [
             0.7777777777777778,
             "#fb9f3a"
            ],
            [
             0.8888888888888888,
             "#fdca26"
            ],
            [
             1,
             "#f0f921"
            ]
           ],
           "sequentialminus": [
            [
             0,
             "#0d0887"
            ],
            [
             0.1111111111111111,
             "#46039f"
            ],
            [
             0.2222222222222222,
             "#7201a8"
            ],
            [
             0.3333333333333333,
             "#9c179e"
            ],
            [
             0.4444444444444444,
             "#bd3786"
            ],
            [
             0.5555555555555556,
             "#d8576b"
            ],
            [
             0.6666666666666666,
             "#ed7953"
            ],
            [
             0.7777777777777778,
             "#fb9f3a"
            ],
            [
             0.8888888888888888,
             "#fdca26"
            ],
            [
             1,
             "#f0f921"
            ]
           ]
          },
          "colorway": [
           "#636efa",
           "#EF553B",
           "#00cc96",
           "#ab63fa",
           "#FFA15A",
           "#19d3f3",
           "#FF6692",
           "#B6E880",
           "#FF97FF",
           "#FECB52"
          ],
          "font": {
           "color": "#2a3f5f"
          },
          "geo": {
           "bgcolor": "white",
           "lakecolor": "white",
           "landcolor": "#E5ECF6",
           "showlakes": true,
           "showland": true,
           "subunitcolor": "white"
          },
          "hoverlabel": {
           "align": "left"
          },
          "hovermode": "closest",
          "mapbox": {
           "style": "light"
          },
          "paper_bgcolor": "white",
          "plot_bgcolor": "#E5ECF6",
          "polar": {
           "angularaxis": {
            "gridcolor": "white",
            "linecolor": "white",
            "ticks": ""
           },
           "bgcolor": "#E5ECF6",
           "radialaxis": {
            "gridcolor": "white",
            "linecolor": "white",
            "ticks": ""
           }
          },
          "scene": {
           "xaxis": {
            "backgroundcolor": "#E5ECF6",
            "gridcolor": "white",
            "gridwidth": 2,
            "linecolor": "white",
            "showbackground": true,
            "ticks": "",
            "zerolinecolor": "white"
           },
           "yaxis": {
            "backgroundcolor": "#E5ECF6",
            "gridcolor": "white",
            "gridwidth": 2,
            "linecolor": "white",
            "showbackground": true,
            "ticks": "",
            "zerolinecolor": "white"
           },
           "zaxis": {
            "backgroundcolor": "#E5ECF6",
            "gridcolor": "white",
            "gridwidth": 2,
            "linecolor": "white",
            "showbackground": true,
            "ticks": "",
            "zerolinecolor": "white"
           }
          },
          "shapedefaults": {
           "line": {
            "color": "#2a3f5f"
           }
          },
          "ternary": {
           "aaxis": {
            "gridcolor": "white",
            "linecolor": "white",
            "ticks": ""
           },
           "baxis": {
            "gridcolor": "white",
            "linecolor": "white",
            "ticks": ""
           },
           "bgcolor": "#E5ECF6",
           "caxis": {
            "gridcolor": "white",
            "linecolor": "white",
            "ticks": ""
           }
          },
          "title": {
           "x": 0.05
          },
          "xaxis": {
           "automargin": true,
           "gridcolor": "white",
           "linecolor": "white",
           "ticks": "",
           "title": {
            "standoff": 15
           },
           "zerolinecolor": "white",
           "zerolinewidth": 2
          },
          "yaxis": {
           "automargin": true,
           "gridcolor": "white",
           "linecolor": "white",
           "ticks": "",
           "title": {
            "standoff": 15
           },
           "zerolinecolor": "white",
           "zerolinewidth": 2
          }
         }
        },
        "title": {
         "text": "Residual - Standardized Mean Difference (SMD)"
        },
        "uniformtext": {
         "minsize": 8,
         "mode": "hide"
        },
        "xaxis": {
         "fixedrange": true,
         "title": {
          "text": "Group"
         }
        },
        "yaxis": {
         "fixedrange": true,
         "tickformat": "0,.2f",
         "ticksuffix": "  ",
         "title": {
          "text": "Residual SMD"
         },
         "zeroline": true,
         "zerolinecolor": "Black",
         "zerolinewidth": 1
        }
       }
      }
     },
     "metadata": {},
     "output_type": "display_data"
    },
    {
     "data": {
      "text/html": [
       "<div>\n",
       "<style scoped>\n",
       "    .dataframe tbody tr th:only-of-type {\n",
       "        vertical-align: middle;\n",
       "    }\n",
       "\n",
       "    .dataframe tbody tr th {\n",
       "        vertical-align: top;\n",
       "    }\n",
       "\n",
       "    .dataframe thead th {\n",
       "        text-align: right;\n",
       "    }\n",
       "</style>\n",
       "<table border=\"False\" class=\"dataframe\">\n",
       "  <thead>\n",
       "    <tr style=\"text-align: right;\">\n",
       "      <th>Group Category</th>\n",
       "      <th>Group</th>\n",
       "      <th>Reference Group</th>\n",
       "      <th>Observations</th>\n",
       "      <th>Percent Missing</th>\n",
       "      <th>Total</th>\n",
       "      <th>Average Prediction</th>\n",
       "      <th>Average Label</th>\n",
       "      <th>Average Residual</th>\n",
       "      <th>Std. Dev. of Residuals</th>\n",
       "      <th>Residual SMD</th>\n",
       "      <th>P-Values</th>\n",
       "      <th>Practically Significant</th>\n",
       "    </tr>\n",
       "  </thead>\n",
       "  <tbody>\n",
       "    <tr>\n",
       "      <td>Race</td>\n",
       "      <td>Black</td>\n",
       "      <td>White</td>\n",
       "      <td>3,378</td>\n",
       "      <td>13.16%</td>\n",
       "      <td>265.0</td>\n",
       "      <td>0.821731</td>\n",
       "      <td>0.80</td>\n",
       "      <td>-0.025505</td>\n",
       "      <td>0.268311</td>\n",
       "      <td>-10.718782</td>\n",
       "      <td>0.101</td>\n",
       "      <td>No</td>\n",
       "    </tr>\n",
       "    <tr>\n",
       "      <td>Race</td>\n",
       "      <td>Asian</td>\n",
       "      <td>White</td>\n",
       "      <td>3,378</td>\n",
       "      <td>13.16%</td>\n",
       "      <td>250.0</td>\n",
       "      <td>0.949531</td>\n",
       "      <td>0.94</td>\n",
       "      <td>-0.005531</td>\n",
       "      <td>0.268311</td>\n",
       "      <td>-3.274603</td>\n",
       "      <td>0.606</td>\n",
       "      <td>No</td>\n",
       "    </tr>\n",
       "    <tr>\n",
       "      <td>Race</td>\n",
       "      <td>Native American</td>\n",
       "      <td>White</td>\n",
       "      <td>3,378</td>\n",
       "      <td>13.16%</td>\n",
       "      <td>21.0</td>\n",
       "      <td>0.853220</td>\n",
       "      <td>0.76</td>\n",
       "      <td>-0.091316</td>\n",
       "      <td>0.268311</td>\n",
       "      <td>-35.246712</td>\n",
       "      <td>0.101</td>\n",
       "      <td>No</td>\n",
       "    </tr>\n",
       "    <tr>\n",
       "      <td>Race</td>\n",
       "      <td>White</td>\n",
       "      <td></td>\n",
       "      <td>3,378</td>\n",
       "      <td>13.16%</td>\n",
       "      <td>2,839.0</td>\n",
       "      <td>0.905163</td>\n",
       "      <td>0.91</td>\n",
       "      <td>0.003255</td>\n",
       "      <td>0.268311</td>\n",
       "      <td></td>\n",
       "      <td></td>\n",
       "      <td></td>\n",
       "    </tr>\n",
       "    <tr>\n",
       "      <td>Ethnicity</td>\n",
       "      <td>Hispanic</td>\n",
       "      <td>Non-Hispanic</td>\n",
       "      <td>3,332</td>\n",
       "      <td>14.34%</td>\n",
       "      <td>417.0</td>\n",
       "      <td>0.847562</td>\n",
       "      <td>0.77</td>\n",
       "      <td>-0.080175</td>\n",
       "      <td>0.268311</td>\n",
       "      <td>-32.988651</td>\n",
       "      <td>0.000</td>\n",
       "      <td>No</td>\n",
       "    </tr>\n",
       "    <tr>\n",
       "      <td>Ethnicity</td>\n",
       "      <td>Non-Hispanic</td>\n",
       "      <td></td>\n",
       "      <td>3,332</td>\n",
       "      <td>14.34%</td>\n",
       "      <td>2,915.0</td>\n",
       "      <td>0.908301</td>\n",
       "      <td>0.92</td>\n",
       "      <td>0.008337</td>\n",
       "      <td>0.268311</td>\n",
       "      <td></td>\n",
       "      <td></td>\n",
       "      <td></td>\n",
       "    </tr>\n",
       "    <tr>\n",
       "      <td>Sex</td>\n",
       "      <td>Female</td>\n",
       "      <td>Male</td>\n",
       "      <td>2,112</td>\n",
       "      <td>45.71%</td>\n",
       "      <td>856.0</td>\n",
       "      <td>0.886529</td>\n",
       "      <td>0.89</td>\n",
       "      <td>0.002489</td>\n",
       "      <td>0.268311</td>\n",
       "      <td>2.147863</td>\n",
       "      <td>0.652</td>\n",
       "      <td>No</td>\n",
       "    </tr>\n",
       "    <tr>\n",
       "      <td>Sex</td>\n",
       "      <td>Male</td>\n",
       "      <td></td>\n",
       "      <td>2,112</td>\n",
       "      <td>45.71%</td>\n",
       "      <td>1,256.0</td>\n",
       "      <td>0.887032</td>\n",
       "      <td>0.88</td>\n",
       "      <td>-0.003274</td>\n",
       "      <td>0.268311</td>\n",
       "      <td></td>\n",
       "      <td></td>\n",
       "      <td></td>\n",
       "    </tr>\n",
       "  </tbody>\n",
       "</table>\n",
       "</div>"
      ],
      "text/plain": [
       "<IPython.core.display.HTML object>"
      ]
     },
     "metadata": {},
     "output_type": "display_data"
    }
   ],
   "source": [
    "rsmd = sd.residual_standardized_mean_difference(\n",
    "    **common_info_for_testing,\n",
    "    prediction=df.loc[~train, 'predictions'],\n",
    "    label=df.loc[~train, label],\n",
    "    residual_smd_threshold=30,\n",
    "    lower_score_favorable=True,\n",
    ")\n",
    "display(rsmd.plot())\n",
    "sd.ui.show(rsmd.summary_table)"
   ]
  }
 ],
 "metadata": {
  "kernelspec": {
   "display_name": "northeastern",
   "language": "python",
   "name": "northeastern"
  },
  "language_info": {
   "codemirror_mode": {
    "name": "ipython",
    "version": 3
   },
   "file_extension": ".py",
   "mimetype": "text/x-python",
   "name": "python",
   "nbconvert_exporter": "python",
   "pygments_lexer": "ipython3",
   "version": "3.9.13"
  },
  "vscode": {
   "interpreter": {
    "hash": "916dbcbb3f70747c44a77c7bcd40155683ae19c65e1c03b4aa3499c5328201f1"
   }
  }
 },
 "nbformat": 4,
 "nbformat_minor": 2
}
