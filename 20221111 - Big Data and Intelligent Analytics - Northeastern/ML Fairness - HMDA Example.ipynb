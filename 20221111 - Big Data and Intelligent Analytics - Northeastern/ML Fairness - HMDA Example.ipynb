{
 "cells": [
  {
   "cell_type": "markdown",
   "metadata": {},
   "source": [
    "# SolasAI Disparity Calculations"
   ]
  },
  {
   "cell_type": "code",
   "execution_count": 1,
   "metadata": {},
   "outputs": [],
   "source": [
    "# In some environments, plotly does not render properly.  If this is the case, run the following code:\n",
    "# import plotly.io as pio\n",
    "# pio.renderers.default = \"svg\""
   ]
  },
  {
   "cell_type": "code",
   "execution_count": null,
   "metadata": {},
   "outputs": [],
   "source": []
  },
  {
   "cell_type": "code",
   "execution_count": 2,
   "metadata": {},
   "outputs": [],
   "source": [
    "import numpy as np\n",
    "import pandas as pd\n",
    "from sklearn import metrics\n",
    "from sklearn.model_selection import train_test_split\n",
    "import solas_disparity as sd\n",
    "import xgboost as xgb\n",
    "\n",
    "pd.set_option('display.max_columns', 500)"
   ]
  },
  {
   "cell_type": "markdown",
   "metadata": {},
   "source": [
    "## Building a Model"
   ]
  },
  {
   "cell_type": "code",
   "execution_count": 8,
   "metadata": {},
   "outputs": [
    {
     "data": {
      "text/html": [
       "<div>\n",
       "<style scoped>\n",
       "    .dataframe tbody tr th:only-of-type {\n",
       "        vertical-align: middle;\n",
       "    }\n",
       "\n",
       "    .dataframe tbody tr th {\n",
       "        vertical-align: top;\n",
       "    }\n",
       "\n",
       "    .dataframe thead th {\n",
       "        text-align: right;\n",
       "    }\n",
       "</style>\n",
       "<table border=\"1\" class=\"dataframe\">\n",
       "  <thead>\n",
       "    <tr style=\"text-align: right;\">\n",
       "      <th></th>\n",
       "      <th>Low-Priced</th>\n",
       "      <th>Interest Rate</th>\n",
       "      <th>Rate Spread</th>\n",
       "      <th>Loan Amount</th>\n",
       "      <th>Loan-to-Value Ratio</th>\n",
       "      <th>No Intro Rate Period</th>\n",
       "      <th>Intro Rate Period</th>\n",
       "      <th>Property Value</th>\n",
       "      <th>Income</th>\n",
       "      <th>Debt-to-Income Ratio</th>\n",
       "      <th>Term 360</th>\n",
       "      <th>Conforming</th>\n",
       "      <th>State</th>\n",
       "      <th>Product Type</th>\n",
       "      <th>Black</th>\n",
       "      <th>Asian</th>\n",
       "      <th>White</th>\n",
       "      <th>Native American</th>\n",
       "      <th>Hawaiian Or Pacific Islander</th>\n",
       "      <th>Hispanic</th>\n",
       "      <th>Non-Hispanic</th>\n",
       "      <th>Male</th>\n",
       "      <th>Female</th>\n",
       "      <th>Age &gt;= 62</th>\n",
       "      <th>Age &lt; 62</th>\n",
       "      <th>Race</th>\n",
       "      <th>Ethnicity</th>\n",
       "      <th>Sex</th>\n",
       "    </tr>\n",
       "    <tr>\n",
       "      <th>id</th>\n",
       "      <th></th>\n",
       "      <th></th>\n",
       "      <th></th>\n",
       "      <th></th>\n",
       "      <th></th>\n",
       "      <th></th>\n",
       "      <th></th>\n",
       "      <th></th>\n",
       "      <th></th>\n",
       "      <th></th>\n",
       "      <th></th>\n",
       "      <th></th>\n",
       "      <th></th>\n",
       "      <th></th>\n",
       "      <th></th>\n",
       "      <th></th>\n",
       "      <th></th>\n",
       "      <th></th>\n",
       "      <th></th>\n",
       "      <th></th>\n",
       "      <th></th>\n",
       "      <th></th>\n",
       "      <th></th>\n",
       "      <th></th>\n",
       "      <th></th>\n",
       "      <th></th>\n",
       "      <th></th>\n",
       "      <th></th>\n",
       "    </tr>\n",
       "  </thead>\n",
       "  <tbody>\n",
       "    <tr>\n",
       "      <th>13451</th>\n",
       "      <td>1.0</td>\n",
       "      <td>0.04875</td>\n",
       "      <td>0.00596</td>\n",
       "      <td>155000.0</td>\n",
       "      <td>0.9700</td>\n",
       "      <td>1</td>\n",
       "      <td>0</td>\n",
       "      <td>165000.0</td>\n",
       "      <td>35000.0</td>\n",
       "      <td>0.33</td>\n",
       "      <td>1.0</td>\n",
       "      <td>1.0</td>\n",
       "      <td>FL</td>\n",
       "      <td>conventional</td>\n",
       "      <td>0.0</td>\n",
       "      <td>0.0</td>\n",
       "      <td>1.0</td>\n",
       "      <td>0.0</td>\n",
       "      <td>0.0</td>\n",
       "      <td>1.0</td>\n",
       "      <td>0.0</td>\n",
       "      <td>1.0</td>\n",
       "      <td>0.0</td>\n",
       "      <td>NaN</td>\n",
       "      <td>NaN</td>\n",
       "      <td>White</td>\n",
       "      <td>Hispanic</td>\n",
       "      <td>Male</td>\n",
       "    </tr>\n",
       "    <tr>\n",
       "      <th>18248</th>\n",
       "      <td>1.0</td>\n",
       "      <td>0.05750</td>\n",
       "      <td>0.01268</td>\n",
       "      <td>305000.0</td>\n",
       "      <td>1.0000</td>\n",
       "      <td>1</td>\n",
       "      <td>0</td>\n",
       "      <td>295000.0</td>\n",
       "      <td>60000.0</td>\n",
       "      <td>0.55</td>\n",
       "      <td>1.0</td>\n",
       "      <td>1.0</td>\n",
       "      <td>CO</td>\n",
       "      <td>va</td>\n",
       "      <td>NaN</td>\n",
       "      <td>NaN</td>\n",
       "      <td>NaN</td>\n",
       "      <td>NaN</td>\n",
       "      <td>NaN</td>\n",
       "      <td>NaN</td>\n",
       "      <td>NaN</td>\n",
       "      <td>NaN</td>\n",
       "      <td>NaN</td>\n",
       "      <td>NaN</td>\n",
       "      <td>NaN</td>\n",
       "      <td>Unknown</td>\n",
       "      <td>Unknown</td>\n",
       "      <td>Unknown</td>\n",
       "    </tr>\n",
       "    <tr>\n",
       "      <th>19610</th>\n",
       "      <td>1.0</td>\n",
       "      <td>0.05500</td>\n",
       "      <td>0.01214</td>\n",
       "      <td>485000.0</td>\n",
       "      <td>0.9500</td>\n",
       "      <td>1</td>\n",
       "      <td>0</td>\n",
       "      <td>515000.0</td>\n",
       "      <td>100000.0</td>\n",
       "      <td>0.43</td>\n",
       "      <td>1.0</td>\n",
       "      <td>1.0</td>\n",
       "      <td>CO</td>\n",
       "      <td>conventional</td>\n",
       "      <td>0.0</td>\n",
       "      <td>0.0</td>\n",
       "      <td>1.0</td>\n",
       "      <td>0.0</td>\n",
       "      <td>0.0</td>\n",
       "      <td>0.0</td>\n",
       "      <td>1.0</td>\n",
       "      <td>NaN</td>\n",
       "      <td>NaN</td>\n",
       "      <td>1.0</td>\n",
       "      <td>0.0</td>\n",
       "      <td>White</td>\n",
       "      <td>Non-Hispanic</td>\n",
       "      <td>Unknown</td>\n",
       "    </tr>\n",
       "    <tr>\n",
       "      <th>3339</th>\n",
       "      <td>1.0</td>\n",
       "      <td>0.03875</td>\n",
       "      <td>-0.00087</td>\n",
       "      <td>675000.0</td>\n",
       "      <td>1.0000</td>\n",
       "      <td>1</td>\n",
       "      <td>0</td>\n",
       "      <td>675000.0</td>\n",
       "      <td>190000.0</td>\n",
       "      <td>0.33</td>\n",
       "      <td>1.0</td>\n",
       "      <td>1.0</td>\n",
       "      <td>VA</td>\n",
       "      <td>va</td>\n",
       "      <td>1.0</td>\n",
       "      <td>0.0</td>\n",
       "      <td>0.0</td>\n",
       "      <td>0.0</td>\n",
       "      <td>0.0</td>\n",
       "      <td>0.0</td>\n",
       "      <td>1.0</td>\n",
       "      <td>NaN</td>\n",
       "      <td>NaN</td>\n",
       "      <td>0.0</td>\n",
       "      <td>1.0</td>\n",
       "      <td>Black</td>\n",
       "      <td>Non-Hispanic</td>\n",
       "      <td>Unknown</td>\n",
       "    </tr>\n",
       "    <tr>\n",
       "      <th>19675</th>\n",
       "      <td>1.0</td>\n",
       "      <td>0.04375</td>\n",
       "      <td>0.00076</td>\n",
       "      <td>275000.0</td>\n",
       "      <td>0.3507</td>\n",
       "      <td>1</td>\n",
       "      <td>0</td>\n",
       "      <td>775000.0</td>\n",
       "      <td>209000.0</td>\n",
       "      <td>0.25</td>\n",
       "      <td>1.0</td>\n",
       "      <td>1.0</td>\n",
       "      <td>AZ</td>\n",
       "      <td>conventional</td>\n",
       "      <td>0.0</td>\n",
       "      <td>0.0</td>\n",
       "      <td>1.0</td>\n",
       "      <td>0.0</td>\n",
       "      <td>0.0</td>\n",
       "      <td>0.0</td>\n",
       "      <td>1.0</td>\n",
       "      <td>NaN</td>\n",
       "      <td>NaN</td>\n",
       "      <td>0.0</td>\n",
       "      <td>1.0</td>\n",
       "      <td>White</td>\n",
       "      <td>Non-Hispanic</td>\n",
       "      <td>Unknown</td>\n",
       "    </tr>\n",
       "  </tbody>\n",
       "</table>\n",
       "</div>"
      ],
      "text/plain": [
       "       Low-Priced  Interest Rate  Rate Spread  Loan Amount  \\\n",
       "id                                                           \n",
       "13451         1.0        0.04875      0.00596     155000.0   \n",
       "18248         1.0        0.05750      0.01268     305000.0   \n",
       "19610         1.0        0.05500      0.01214     485000.0   \n",
       "3339          1.0        0.03875     -0.00087     675000.0   \n",
       "19675         1.0        0.04375      0.00076     275000.0   \n",
       "\n",
       "       Loan-to-Value Ratio  No Intro Rate Period  Intro Rate Period  \\\n",
       "id                                                                    \n",
       "13451               0.9700                     1                  0   \n",
       "18248               1.0000                     1                  0   \n",
       "19610               0.9500                     1                  0   \n",
       "3339                1.0000                     1                  0   \n",
       "19675               0.3507                     1                  0   \n",
       "\n",
       "       Property Value    Income  Debt-to-Income Ratio  Term 360  Conforming  \\\n",
       "id                                                                            \n",
       "13451        165000.0   35000.0                  0.33       1.0         1.0   \n",
       "18248        295000.0   60000.0                  0.55       1.0         1.0   \n",
       "19610        515000.0  100000.0                  0.43       1.0         1.0   \n",
       "3339         675000.0  190000.0                  0.33       1.0         1.0   \n",
       "19675        775000.0  209000.0                  0.25       1.0         1.0   \n",
       "\n",
       "      State  Product Type  Black  Asian  White  Native American  \\\n",
       "id                                                                \n",
       "13451    FL  conventional    0.0    0.0    1.0              0.0   \n",
       "18248    CO            va    NaN    NaN    NaN              NaN   \n",
       "19610    CO  conventional    0.0    0.0    1.0              0.0   \n",
       "3339     VA            va    1.0    0.0    0.0              0.0   \n",
       "19675    AZ  conventional    0.0    0.0    1.0              0.0   \n",
       "\n",
       "       Hawaiian Or Pacific Islander  Hispanic  Non-Hispanic  Male  Female  \\\n",
       "id                                                                          \n",
       "13451                           0.0       1.0           0.0   1.0     0.0   \n",
       "18248                           NaN       NaN           NaN   NaN     NaN   \n",
       "19610                           0.0       0.0           1.0   NaN     NaN   \n",
       "3339                            0.0       0.0           1.0   NaN     NaN   \n",
       "19675                           0.0       0.0           1.0   NaN     NaN   \n",
       "\n",
       "       Age >= 62  Age < 62     Race     Ethnicity      Sex  \n",
       "id                                                          \n",
       "13451        NaN       NaN    White      Hispanic     Male  \n",
       "18248        NaN       NaN  Unknown       Unknown  Unknown  \n",
       "19610        1.0       0.0    White  Non-Hispanic  Unknown  \n",
       "3339         0.0       1.0    Black  Non-Hispanic  Unknown  \n",
       "19675        0.0       1.0    White  Non-Hispanic  Unknown  "
      ]
     },
     "execution_count": 8,
     "metadata": {},
     "output_type": "execute_result"
    }
   ],
   "source": [
    "df = pd.read_csv(\"hmda.csv.gz\", index_col=\"id\")\n",
    "df.sample(random_state=161803, n=5)"
   ]
  },
  {
   "cell_type": "code",
   "execution_count": 9,
   "metadata": {},
   "outputs": [
    {
     "data": {
      "text/plain": [
       "1    13586\n",
       "0     1414\n",
       "Name: Low-Priced, dtype: int64"
      ]
     },
     "execution_count": 9,
     "metadata": {},
     "output_type": "execute_result"
    }
   ],
   "source": [
    "features = [\n",
    "    \"Loan Amount\",\n",
    "    \"Loan-to-Value Ratio\",\n",
    "    \"Intro Rate Period\",\n",
    "    \"Property Value\",\n",
    "    \"Income\",\n",
    "    \"Debt-to-Income Ratio\",\n",
    "    \"Term 360\",\n",
    "    \"Conforming\",\n",
    "    # \"Product Type\",\n",
    "]\n",
    "label = \"Low-Priced\"\n",
    "df['Product Type'] = df['Product Type'].astype('category')\n",
    "df[label] = df[label].astype('int')\n",
    "X_train, X_valid, y_train, y_valid = train_test_split(df[features], df[label], test_size=0.25, random_state=161803)\n",
    "\n",
    "y_train.value_counts(dropna=False)\n"
   ]
  },
  {
   "cell_type": "code",
   "execution_count": 21,
   "metadata": {},
   "outputs": [
    {
     "data": {
      "text/plain": [
       "'Model ROC-AUC: 0.598'"
      ]
     },
     "execution_count": 21,
     "metadata": {},
     "output_type": "execute_result"
    }
   ],
   "source": [
    "params = dict(\n",
    "    objective=\"binary:logistic\",\n",
    "    max_depth=6,\n",
    "    learning_rate=0.10,\n",
    "    n_estimators=1000,\n",
    "    base_score=y_train.mean(),\n",
    "    random_state=31415,\n",
    "    # enable_categorical=True,\n",
    ")\n",
    "xgb_classifier = xgb.XGBClassifier(**params).fit(X=X_train, y=y_train)\n",
    "\n",
    "pred_valid = pd.Series(data=xgb_classifier.predict(X_valid), index=X_valid.index)\n",
    "f\"Model ROC-AUC: {metrics.roc_auc_score(y_true=y_valid, y_score=pred_valid):0.3f}\""
   ]
  },
  {
   "cell_type": "markdown",
   "metadata": {},
   "source": [
    "Store arguments in a dictionary for reusability in multiple calls to disparity functions."
   ]
  },
  {
   "cell_type": "code",
   "execution_count": 12,
   "metadata": {},
   "outputs": [],
   "source": [
    "reused_arguments = dict(\n",
    "    protected_groups=[\"Black\", \"Asian\", \"Native American\", \"Hispanic\", \"Female\"],\n",
    "    reference_groups=[\"White\", \"White\", \"White\", \"Non-Hispanic\", \"Male\"],\n",
    "    group_categories=[\"Race\", \"Race\", \"Race\", \"Ethnicity\", \"Sex\"],\n",
    "    sample_weight=None,\n",
    ")"
   ]
  },
  {
   "cell_type": "markdown",
   "metadata": {},
   "source": [
    "## Adverse Impact Ratio (AIR)"
   ]
  },
  {
   "cell_type": "code",
   "execution_count": null,
   "metadata": {},
   "outputs": [],
   "source": [
    "air = sd.adverse_impact_ratio(\n",
    "    outcome=predictions <= predictions.quantile(0.5),\n",
    "    air_threshold=0.8,\n",
    "    percent_difference_threshold=0.0,\n",
    "    **reused_arguments,\n",
    ")"
   ]
  },
  {
   "cell_type": "code",
   "execution_count": null,
   "metadata": {},
   "outputs": [],
   "source": [
    "air"
   ]
  },
  {
   "cell_type": "code",
   "execution_count": null,
   "metadata": {},
   "outputs": [],
   "source": [
    "sd.ui.show(air.summary_table)"
   ]
  },
  {
   "cell_type": "markdown",
   "metadata": {},
   "source": [
    "## Standardized Mean Difference (SMD)"
   ]
  },
  {
   "cell_type": "code",
   "execution_count": null,
   "metadata": {},
   "outputs": [],
   "source": [
    "smd = sd.standardized_mean_difference(\n",
    "    outcome=predictions,\n",
    "    label=y_test,\n",
    "    smd_threshold=30,\n",
    "    lower_score_favorable=True,\n",
    "    **reused_arguments,\n",
    ")"
   ]
  },
  {
   "cell_type": "code",
   "execution_count": null,
   "metadata": {},
   "outputs": [],
   "source": [
    "smd"
   ]
  },
  {
   "cell_type": "code",
   "execution_count": null,
   "metadata": {},
   "outputs": [],
   "source": [
    "sd.ui.show(smd.summary_table)"
   ]
  },
  {
   "cell_type": "markdown",
   "metadata": {},
   "source": [
    "## Adverse Impact Ratio by Quantile"
   ]
  },
  {
   "cell_type": "code",
   "execution_count": null,
   "metadata": {},
   "outputs": [],
   "source": [
    "airq = sd.adverse_impact_ratio_by_quantile(\n",
    "    outcome=predictions,\n",
    "    air_threshold=0.8,\n",
    "    percent_difference_threshold=0.0,\n",
    "    quantiles=[decile / 10 for decile in range(1, 11)],\n",
    "    lower_score_favorable=True,\n",
    "    **reused_arguments,\n",
    ")"
   ]
  },
  {
   "cell_type": "code",
   "execution_count": null,
   "metadata": {},
   "outputs": [],
   "source": [
    "airq"
   ]
  },
  {
   "cell_type": "code",
   "execution_count": null,
   "metadata": {},
   "outputs": [],
   "source": [
    "sd.ui.show(airq.summary_table)"
   ]
  },
  {
   "cell_type": "markdown",
   "metadata": {},
   "source": [
    "## Odds Ratio"
   ]
  },
  {
   "cell_type": "code",
   "execution_count": null,
   "metadata": {},
   "outputs": [],
   "source": [
    "odds_ratio = sd.odds_ratio(\n",
    "    outcome=predictions <= predictions.quantile(0.5),\n",
    "    odds_ratio_threshold=0.68,\n",
    "    percent_difference_threshold=0.0,\n",
    "    **reused_arguments,\n",
    ")"
   ]
  },
  {
   "cell_type": "code",
   "execution_count": null,
   "metadata": {},
   "outputs": [],
   "source": [
    "odds_ratio"
   ]
  },
  {
   "cell_type": "code",
   "execution_count": null,
   "metadata": {},
   "outputs": [],
   "source": [
    "sd.ui.show(odds_ratio.summary_table)"
   ]
  },
  {
   "cell_type": "markdown",
   "metadata": {},
   "source": [
    "## Categorical Adverse Impact Ratio"
   ]
  },
  {
   "cell_type": "markdown",
   "metadata": {},
   "source": [
    "Generate an example categorical outcome."
   ]
  },
  {
   "cell_type": "code",
   "execution_count": null,
   "metadata": {},
   "outputs": [],
   "source": [
    "categorical_outcome = pd.qcut(predictions, q=[0.0, 0.25, 0.5, 0.75, 1.0])\n",
    "categories = categorical_outcome.cat.categories.to_series()\n",
    "categories = pd.Series([\"Best\", \"Great\", \"Good\", \"Bad\"], index=categories.index)\n",
    "categorical_outcome.replace(categories.to_dict(), inplace=True)"
   ]
  },
  {
   "cell_type": "code",
   "execution_count": null,
   "metadata": {},
   "outputs": [],
   "source": [
    "cair = sd.categorical_adverse_impact_ratio(\n",
    "    outcome=categorical_outcome,\n",
    "    ordinal_categories=list(reversed(categories.tolist())),\n",
    "    air_threshold=0.8,\n",
    "    percent_difference_threshold=0.0,\n",
    "    **reused_arguments,\n",
    ")"
   ]
  },
  {
   "cell_type": "code",
   "execution_count": null,
   "metadata": {},
   "outputs": [],
   "source": [
    "cair"
   ]
  },
  {
   "cell_type": "code",
   "execution_count": null,
   "metadata": {},
   "outputs": [],
   "source": [
    "sd.ui.show(cair.summary_table)"
   ]
  },
  {
   "cell_type": "markdown",
   "metadata": {},
   "source": [
    "## Residual Standardized Mean Difference"
   ]
  },
  {
   "cell_type": "code",
   "execution_count": null,
   "metadata": {},
   "outputs": [],
   "source": [
    "rsmd = sd.residual_standardized_mean_difference(\n",
    "    prediction=predictions,\n",
    "    label=y_test,\n",
    "    residual_smd_threshold=30,\n",
    "    lower_score_favorable=True,\n",
    "    **reused_arguments,\n",
    ")"
   ]
  },
  {
   "cell_type": "code",
   "execution_count": null,
   "metadata": {},
   "outputs": [],
   "source": [
    "rsmd"
   ]
  },
  {
   "cell_type": "code",
   "execution_count": null,
   "metadata": {},
   "outputs": [],
   "source": [
    "sd.ui.show(rsmd.summary_table)"
   ]
  },
  {
   "cell_type": "markdown",
   "metadata": {},
   "source": [
    "## Segmented Adverse Impact Ratio"
   ]
  },
  {
   "cell_type": "markdown",
   "metadata": {},
   "source": [
    "Generate example income segments."
   ]
  },
  {
   "cell_type": "code",
   "execution_count": null,
   "metadata": {},
   "outputs": [],
   "source": [
    "segments = pd.qcut(df.loc[test_index, \"Income\"], q=[0.0, 1 / 3, 2 / 3, 1.0])\n",
    "categories = segments.cat.categories.to_series()\n",
    "categories = pd.Series([\"Low Income\", \"Mid Income\", \"High Income\"], index=categories.index)\n",
    "segments.replace(categories.to_dict(), inplace=True)"
   ]
  },
  {
   "cell_type": "code",
   "execution_count": null,
   "metadata": {},
   "outputs": [],
   "source": [
    "sair = sd.segmented_adverse_impact_ratio(\n",
    "    outcome=predictions <= predictions.quantile(0.5),\n",
    "    air_threshold=0.8,\n",
    "    percent_difference_threshold=0.0,\n",
    "    fdr_threshold=0.2,\n",
    "    segment=segments,\n",
    "    **reused_arguments,\n",
    ")"
   ]
  },
  {
   "cell_type": "code",
   "execution_count": null,
   "metadata": {},
   "outputs": [],
   "source": [
    "sair.summary_table"
   ]
  },
  {
   "cell_type": "code",
   "execution_count": null,
   "metadata": {},
   "outputs": [],
   "source": [
    "sair.summary_table_by_segments"
   ]
  },
  {
   "cell_type": "code",
   "execution_count": null,
   "metadata": {},
   "outputs": [],
   "source": [
    "sair"
   ]
  },
  {
   "cell_type": "code",
   "execution_count": null,
   "metadata": {},
   "outputs": [],
   "source": [
    "sd.ui.show(sair.summary_table)"
   ]
  }
 ],
 "metadata": {
  "kernelspec": {
   "display_name": "northeastern",
   "language": "python",
   "name": "northeastern"
  },
  "language_info": {
   "codemirror_mode": {
    "name": "ipython",
    "version": 3
   },
   "file_extension": ".py",
   "mimetype": "text/x-python",
   "name": "python",
   "nbconvert_exporter": "python",
   "pygments_lexer": "ipython3",
   "version": "3.8.13"
  },
  "vscode": {
   "interpreter": {
    "hash": "916dbcbb3f70747c44a77c7bcd40155683ae19c65e1c03b4aa3499c5328201f1"
   }
  }
 },
 "nbformat": 4,
 "nbformat_minor": 2
}
