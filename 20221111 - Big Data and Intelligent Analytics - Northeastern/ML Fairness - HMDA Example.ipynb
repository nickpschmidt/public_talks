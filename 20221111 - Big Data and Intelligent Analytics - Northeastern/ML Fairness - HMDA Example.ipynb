{
 "cells": [
  {
   "cell_type": "markdown",
   "metadata": {},
   "source": [
    "# Measuring Discrimination with SolasAI"
   ]
  },
  {
   "cell_type": "code",
   "execution_count": 1,
   "metadata": {},
   "outputs": [],
   "source": [
    "# In some environments, plotly does not render properly.  If this is the case, run the following code:\n",
    "# import plotly.io as pio\n",
    "# pio.renderers.default = \"svg\""
   ]
  },
  {
   "cell_type": "code",
   "execution_count": 2,
   "metadata": {},
   "outputs": [],
   "source": [
    "import solas_disparity as sd"
   ]
  },
  {
   "cell_type": "code",
   "execution_count": 3,
   "metadata": {},
   "outputs": [
    {
     "data": {
      "text/html": [
       "<style>.container { width:100% !important; }</style>"
      ],
      "text/plain": [
       "<IPython.core.display.HTML object>"
      ]
     },
     "metadata": {},
     "output_type": "display_data"
    }
   ],
   "source": [
    "import numpy as np\n",
    "import pandas as pd\n",
    "from sklearn import metrics\n",
    "from sklearn.model_selection import train_test_split\n",
    "import xgboost as xgb\n",
    "from IPython.display import display, HTML\n",
    "\n",
    "display(HTML(\"<style>.container { width:100% !important; }</style>\"))\n",
    "pd.set_option('display.max_columns', 500)\n",
    "np.random.seed(271828)"
   ]
  },
  {
   "cell_type": "markdown",
   "metadata": {},
   "source": [
    "## Importing Data and Building a Model"
   ]
  },
  {
   "cell_type": "code",
   "execution_count": 4,
   "metadata": {},
   "outputs": [
    {
     "data": {
      "text/html": [
       "<div>\n",
       "<style scoped>\n",
       "    .dataframe tbody tr th:only-of-type {\n",
       "        vertical-align: middle;\n",
       "    }\n",
       "\n",
       "    .dataframe tbody tr th {\n",
       "        vertical-align: top;\n",
       "    }\n",
       "\n",
       "    .dataframe thead th {\n",
       "        text-align: right;\n",
       "    }\n",
       "</style>\n",
       "<table border=\"1\" class=\"dataframe\">\n",
       "  <thead>\n",
       "    <tr style=\"text-align: right;\">\n",
       "      <th></th>\n",
       "      <th>Low-Priced</th>\n",
       "      <th>Interest Rate</th>\n",
       "      <th>Rate Spread</th>\n",
       "      <th>Loan Amount</th>\n",
       "      <th>Loan-to-Value Ratio</th>\n",
       "      <th>No Intro Rate Period</th>\n",
       "      <th>Intro Rate Period</th>\n",
       "      <th>Property Value</th>\n",
       "      <th>Income</th>\n",
       "      <th>Debt-to-Income Ratio</th>\n",
       "      <th>Term 360</th>\n",
       "      <th>Conforming</th>\n",
       "      <th>State</th>\n",
       "      <th>Product Type</th>\n",
       "      <th>Black</th>\n",
       "      <th>Asian</th>\n",
       "      <th>White</th>\n",
       "      <th>Native American</th>\n",
       "      <th>Hawaiian Or Pacific Islander</th>\n",
       "      <th>Hispanic</th>\n",
       "      <th>Non-Hispanic</th>\n",
       "      <th>Male</th>\n",
       "      <th>Female</th>\n",
       "      <th>Age &gt;= 62</th>\n",
       "      <th>Age &lt; 62</th>\n",
       "      <th>Race</th>\n",
       "      <th>Ethnicity</th>\n",
       "      <th>Sex</th>\n",
       "    </tr>\n",
       "    <tr>\n",
       "      <th>id</th>\n",
       "      <th></th>\n",
       "      <th></th>\n",
       "      <th></th>\n",
       "      <th></th>\n",
       "      <th></th>\n",
       "      <th></th>\n",
       "      <th></th>\n",
       "      <th></th>\n",
       "      <th></th>\n",
       "      <th></th>\n",
       "      <th></th>\n",
       "      <th></th>\n",
       "      <th></th>\n",
       "      <th></th>\n",
       "      <th></th>\n",
       "      <th></th>\n",
       "      <th></th>\n",
       "      <th></th>\n",
       "      <th></th>\n",
       "      <th></th>\n",
       "      <th></th>\n",
       "      <th></th>\n",
       "      <th></th>\n",
       "      <th></th>\n",
       "      <th></th>\n",
       "      <th></th>\n",
       "      <th></th>\n",
       "      <th></th>\n",
       "    </tr>\n",
       "  </thead>\n",
       "  <tbody>\n",
       "    <tr>\n",
       "      <th>13451</th>\n",
       "      <td>1.0</td>\n",
       "      <td>0.04875</td>\n",
       "      <td>0.00596</td>\n",
       "      <td>155000.0</td>\n",
       "      <td>0.9700</td>\n",
       "      <td>1</td>\n",
       "      <td>0</td>\n",
       "      <td>165000.0</td>\n",
       "      <td>35000.0</td>\n",
       "      <td>0.33</td>\n",
       "      <td>1.0</td>\n",
       "      <td>1.0</td>\n",
       "      <td>FL</td>\n",
       "      <td>conventional</td>\n",
       "      <td>0.0</td>\n",
       "      <td>0.0</td>\n",
       "      <td>1.0</td>\n",
       "      <td>0.0</td>\n",
       "      <td>0.0</td>\n",
       "      <td>1.0</td>\n",
       "      <td>0.0</td>\n",
       "      <td>1.0</td>\n",
       "      <td>0.0</td>\n",
       "      <td>NaN</td>\n",
       "      <td>NaN</td>\n",
       "      <td>White</td>\n",
       "      <td>Hispanic</td>\n",
       "      <td>Male</td>\n",
       "    </tr>\n",
       "    <tr>\n",
       "      <th>18248</th>\n",
       "      <td>1.0</td>\n",
       "      <td>0.05750</td>\n",
       "      <td>0.01268</td>\n",
       "      <td>305000.0</td>\n",
       "      <td>1.0000</td>\n",
       "      <td>1</td>\n",
       "      <td>0</td>\n",
       "      <td>295000.0</td>\n",
       "      <td>60000.0</td>\n",
       "      <td>0.55</td>\n",
       "      <td>1.0</td>\n",
       "      <td>1.0</td>\n",
       "      <td>CO</td>\n",
       "      <td>va</td>\n",
       "      <td>NaN</td>\n",
       "      <td>NaN</td>\n",
       "      <td>NaN</td>\n",
       "      <td>NaN</td>\n",
       "      <td>NaN</td>\n",
       "      <td>NaN</td>\n",
       "      <td>NaN</td>\n",
       "      <td>NaN</td>\n",
       "      <td>NaN</td>\n",
       "      <td>NaN</td>\n",
       "      <td>NaN</td>\n",
       "      <td>Unknown</td>\n",
       "      <td>Unknown</td>\n",
       "      <td>Unknown</td>\n",
       "    </tr>\n",
       "    <tr>\n",
       "      <th>19610</th>\n",
       "      <td>1.0</td>\n",
       "      <td>0.05500</td>\n",
       "      <td>0.01214</td>\n",
       "      <td>485000.0</td>\n",
       "      <td>0.9500</td>\n",
       "      <td>1</td>\n",
       "      <td>0</td>\n",
       "      <td>515000.0</td>\n",
       "      <td>100000.0</td>\n",
       "      <td>0.43</td>\n",
       "      <td>1.0</td>\n",
       "      <td>1.0</td>\n",
       "      <td>CO</td>\n",
       "      <td>conventional</td>\n",
       "      <td>0.0</td>\n",
       "      <td>0.0</td>\n",
       "      <td>1.0</td>\n",
       "      <td>0.0</td>\n",
       "      <td>0.0</td>\n",
       "      <td>0.0</td>\n",
       "      <td>1.0</td>\n",
       "      <td>NaN</td>\n",
       "      <td>NaN</td>\n",
       "      <td>1.0</td>\n",
       "      <td>0.0</td>\n",
       "      <td>White</td>\n",
       "      <td>Non-Hispanic</td>\n",
       "      <td>Unknown</td>\n",
       "    </tr>\n",
       "    <tr>\n",
       "      <th>3339</th>\n",
       "      <td>1.0</td>\n",
       "      <td>0.03875</td>\n",
       "      <td>-0.00087</td>\n",
       "      <td>675000.0</td>\n",
       "      <td>1.0000</td>\n",
       "      <td>1</td>\n",
       "      <td>0</td>\n",
       "      <td>675000.0</td>\n",
       "      <td>190000.0</td>\n",
       "      <td>0.33</td>\n",
       "      <td>1.0</td>\n",
       "      <td>1.0</td>\n",
       "      <td>VA</td>\n",
       "      <td>va</td>\n",
       "      <td>1.0</td>\n",
       "      <td>0.0</td>\n",
       "      <td>0.0</td>\n",
       "      <td>0.0</td>\n",
       "      <td>0.0</td>\n",
       "      <td>0.0</td>\n",
       "      <td>1.0</td>\n",
       "      <td>NaN</td>\n",
       "      <td>NaN</td>\n",
       "      <td>0.0</td>\n",
       "      <td>1.0</td>\n",
       "      <td>Black</td>\n",
       "      <td>Non-Hispanic</td>\n",
       "      <td>Unknown</td>\n",
       "    </tr>\n",
       "    <tr>\n",
       "      <th>19675</th>\n",
       "      <td>1.0</td>\n",
       "      <td>0.04375</td>\n",
       "      <td>0.00076</td>\n",
       "      <td>275000.0</td>\n",
       "      <td>0.3507</td>\n",
       "      <td>1</td>\n",
       "      <td>0</td>\n",
       "      <td>775000.0</td>\n",
       "      <td>209000.0</td>\n",
       "      <td>0.25</td>\n",
       "      <td>1.0</td>\n",
       "      <td>1.0</td>\n",
       "      <td>AZ</td>\n",
       "      <td>conventional</td>\n",
       "      <td>0.0</td>\n",
       "      <td>0.0</td>\n",
       "      <td>1.0</td>\n",
       "      <td>0.0</td>\n",
       "      <td>0.0</td>\n",
       "      <td>0.0</td>\n",
       "      <td>1.0</td>\n",
       "      <td>NaN</td>\n",
       "      <td>NaN</td>\n",
       "      <td>0.0</td>\n",
       "      <td>1.0</td>\n",
       "      <td>White</td>\n",
       "      <td>Non-Hispanic</td>\n",
       "      <td>Unknown</td>\n",
       "    </tr>\n",
       "  </tbody>\n",
       "</table>\n",
       "</div>"
      ],
      "text/plain": [
       "       Low-Priced  Interest Rate  Rate Spread  Loan Amount  \\\n",
       "id                                                           \n",
       "13451         1.0        0.04875      0.00596     155000.0   \n",
       "18248         1.0        0.05750      0.01268     305000.0   \n",
       "19610         1.0        0.05500      0.01214     485000.0   \n",
       "3339          1.0        0.03875     -0.00087     675000.0   \n",
       "19675         1.0        0.04375      0.00076     275000.0   \n",
       "\n",
       "       Loan-to-Value Ratio  No Intro Rate Period  Intro Rate Period  \\\n",
       "id                                                                    \n",
       "13451               0.9700                     1                  0   \n",
       "18248               1.0000                     1                  0   \n",
       "19610               0.9500                     1                  0   \n",
       "3339                1.0000                     1                  0   \n",
       "19675               0.3507                     1                  0   \n",
       "\n",
       "       Property Value    Income  Debt-to-Income Ratio  Term 360  Conforming  \\\n",
       "id                                                                            \n",
       "13451        165000.0   35000.0                  0.33       1.0         1.0   \n",
       "18248        295000.0   60000.0                  0.55       1.0         1.0   \n",
       "19610        515000.0  100000.0                  0.43       1.0         1.0   \n",
       "3339         675000.0  190000.0                  0.33       1.0         1.0   \n",
       "19675        775000.0  209000.0                  0.25       1.0         1.0   \n",
       "\n",
       "      State  Product Type  Black  Asian  White  Native American  \\\n",
       "id                                                                \n",
       "13451    FL  conventional    0.0    0.0    1.0              0.0   \n",
       "18248    CO            va    NaN    NaN    NaN              NaN   \n",
       "19610    CO  conventional    0.0    0.0    1.0              0.0   \n",
       "3339     VA            va    1.0    0.0    0.0              0.0   \n",
       "19675    AZ  conventional    0.0    0.0    1.0              0.0   \n",
       "\n",
       "       Hawaiian Or Pacific Islander  Hispanic  Non-Hispanic  Male  Female  \\\n",
       "id                                                                          \n",
       "13451                           0.0       1.0           0.0   1.0     0.0   \n",
       "18248                           NaN       NaN           NaN   NaN     NaN   \n",
       "19610                           0.0       0.0           1.0   NaN     NaN   \n",
       "3339                            0.0       0.0           1.0   NaN     NaN   \n",
       "19675                           0.0       0.0           1.0   NaN     NaN   \n",
       "\n",
       "       Age >= 62  Age < 62     Race     Ethnicity      Sex  \n",
       "id                                                          \n",
       "13451        NaN       NaN    White      Hispanic     Male  \n",
       "18248        NaN       NaN  Unknown       Unknown  Unknown  \n",
       "19610        1.0       0.0    White  Non-Hispanic  Unknown  \n",
       "3339         0.0       1.0    Black  Non-Hispanic  Unknown  \n",
       "19675        0.0       1.0    White  Non-Hispanic  Unknown  "
      ]
     },
     "execution_count": 4,
     "metadata": {},
     "output_type": "execute_result"
    }
   ],
   "source": [
    "df = pd.read_csv(\"hmda.csv.gz\", index_col=\"id\")\n",
    "df.sample(random_state=161803, n=5)"
   ]
  },
  {
   "cell_type": "code",
   "execution_count": 5,
   "metadata": {},
   "outputs": [
    {
     "data": {
      "text/html": [
       "<div>\n",
       "<style scoped>\n",
       "    .dataframe tbody tr th:only-of-type {\n",
       "        vertical-align: middle;\n",
       "    }\n",
       "\n",
       "    .dataframe tbody tr th {\n",
       "        vertical-align: top;\n",
       "    }\n",
       "\n",
       "    .dataframe thead th {\n",
       "        text-align: right;\n",
       "    }\n",
       "</style>\n",
       "<table border=\"1\" class=\"dataframe\">\n",
       "  <thead>\n",
       "    <tr style=\"text-align: right;\">\n",
       "      <th>train</th>\n",
       "      <th>train</th>\n",
       "      <th>valid</th>\n",
       "    </tr>\n",
       "    <tr>\n",
       "      <th>Low-Priced</th>\n",
       "      <th></th>\n",
       "      <th></th>\n",
       "    </tr>\n",
       "  </thead>\n",
       "  <tbody>\n",
       "    <tr>\n",
       "      <th>0.0</th>\n",
       "      <td>1517</td>\n",
       "      <td>397</td>\n",
       "    </tr>\n",
       "    <tr>\n",
       "      <th>1.0</th>\n",
       "      <td>14409</td>\n",
       "      <td>3677</td>\n",
       "    </tr>\n",
       "  </tbody>\n",
       "</table>\n",
       "</div>"
      ],
      "text/plain": [
       "train       train  valid\n",
       "Low-Priced              \n",
       "0.0          1517    397\n",
       "1.0         14409   3677"
      ]
     },
     "execution_count": 5,
     "metadata": {},
     "output_type": "execute_result"
    }
   ],
   "source": [
    "features = [\n",
    "    \"Loan Amount\",\n",
    "    \"Loan-to-Value Ratio\",\n",
    "    \"Intro Rate Period\",\n",
    "    \"Property Value\",\n",
    "    \"Income\",\n",
    "    \"Debt-to-Income Ratio\",\n",
    "    \"Term 360\",\n",
    "    \"Conforming\",\n",
    "]\n",
    "label = \"Low-Priced\"\n",
    "\n",
    "df['train'] = np.random.choice(a=['train', 'valid'], replace=True, size=len(df), p=[0.8, 0.2])\n",
    "train = (df['train'] == 'train')\n",
    "\n",
    "\n",
    "pd.crosstab(df[label], df['train'])"
   ]
  },
  {
   "cell_type": "code",
   "execution_count": 6,
   "metadata": {},
   "outputs": [],
   "source": [
    "\n",
    "def build_model(params, prediction_name):\n",
    "\n",
    "    xgb_classifier = xgb.XGBClassifier(**params).fit(X=df.loc[train, features], y=df.loc[train, label])\n",
    "    df.loc[train, prediction_name] = xgb_classifier.predict_proba(df.loc[train, features])[:, 1]\n",
    "    df.loc[~train, prediction_name] = xgb_classifier.predict_proba(df.loc[~train, features])[:, 1]\n",
    "\n",
    "\n",
    "    auc_train = metrics.roc_auc_score(y_score=df.loc[train, prediction_name], y_true=df.loc[train, label])\n",
    "    auc_valid = metrics.roc_auc_score(y_score=df.loc[~train, prediction_name], y_true=df.loc[~train, label])\n",
    "\n",
    "    print(\n",
    "        f\"\\n************************\"\n",
    "        f\"\\n**** Model ROC-AUC: ****\"\n",
    "        f\"\\nTraining:          {auc_train:0.3f}\"\n",
    "        f\"\\nValidation:        {auc_valid:0.3f}\"\n",
    "        f\"\\nPercent Change:   {auc_valid / auc_train - 1: 0.2%}\"\n",
    "        f\"\\n************************\"\n",
    "    )"
   ]
  },
  {
   "cell_type": "code",
   "execution_count": 7,
   "metadata": {},
   "outputs": [
    {
     "name": "stdout",
     "output_type": "stream",
     "text": [
      "\n",
      "************************\n",
      "**** Model ROC-AUC: ****\n",
      "Training:          0.865\n",
      "Validation:        0.842\n",
      "Percent Change:   -2.69%\n",
      "************************\n"
     ]
    }
   ],
   "source": [
    "baseline_params = dict(\n",
    "    objective=\"binary:logistic\",\n",
    "    max_depth=3,  # 4\n",
    "    learning_rate=0.02,\n",
    "    n_estimators=200,  # 150\n",
    "    base_score=df.loc[train, label].mean(),\n",
    "    random_state=31415,\n",
    "    # seed=61803,\n",
    ")\n",
    "build_model(params=baseline_params, prediction_name='predictions')\n"
   ]
  },
  {
   "cell_type": "code",
   "execution_count": 8,
   "metadata": {},
   "outputs": [
    {
     "data": {
      "text/plain": [
       "1    0.6882\n",
       "0    0.3118\n",
       "Name: Gets Offer, dtype: float64"
      ]
     },
     "execution_count": 8,
     "metadata": {},
     "output_type": "execute_result"
    }
   ],
   "source": [
    "df.loc[train, 'predictions'].describe()\n",
    "\n",
    "cutoff = 0.90\n",
    "\n",
    "df['Gets Offer'] = (df['predictions'] > cutoff).astype(int)\n",
    "df['Gets Offer'].value_counts(dropna=False, normalize=True)"
   ]
  },
  {
   "cell_type": "code",
   "execution_count": 9,
   "metadata": {},
   "outputs": [],
   "source": [
    "common_info_for_testing = dict(\n",
    "    group_data=df.loc[~train, :],\n",
    "    protected_groups=[\"Black\", \"Asian\", \"Native American\", \"Hispanic\", \"Female\"],\n",
    "    reference_groups=[\"White\", \"White\", \"White\", \"Non-Hispanic\", \"Male\"],\n",
    "    group_categories=[\"Race\", \"Race\", \"Race\", \"Ethnicity\", \"Sex\"],\n",
    ")"
   ]
  },
  {
   "cell_type": "markdown",
   "metadata": {},
   "source": [
    "## Adverse Impact Ratio (AIR)"
   ]
  },
  {
   "cell_type": "code",
   "execution_count": 10,
   "metadata": {},
   "outputs": [],
   "source": [
    "air = sd.adverse_impact_ratio(\n",
    "    **common_info_for_testing,\n",
    "    outcome=df.loc[~train, 'Gets Offer'],\n",
    "    air_threshold=0.8,\n",
    "    percent_difference_threshold=0.0,\n",
    ")"
   ]
  },
  {
   "cell_type": "code",
   "execution_count": 11,
   "metadata": {},
   "outputs": [
    {
     "data": {
      "text/markdown": [
       "## Disparity Calculation: Adverse Impact Ratio"
      ]
     },
     "metadata": {},
     "output_type": "display_data"
    },
    {
     "data": {
      "text/html": [
       "<pre style=\"white-space:pre;overflow-x:auto;line-height:normal;font-family:Menlo,'DejaVu Sans Mono',consolas,'Courier New',monospace\">┌───────────────────────────────────┬─────────────────────────────────────────────────────────────────────────────┐\n",
       "│ Protected Groups                  │ Black, Asian, Native American, Hispanic, Female                             │\n",
       "│ Reference Groups                  │ White, White, White, Non-Hispanic, Male                                     │\n",
       "│ Group Categories                  │ Race, Race, Race, Ethnicity, Sex                                            │\n",
       "│ AIR Threshold                     │ 0.8                                                                         │\n",
       "│ % Diff Threshold                  │ 0.0                                                                         │\n",
       "│ Affected Groups                   │ Black, Native American, Hispanic                                            │\n",
       "│ Affected Reference                │ White, White, Non-Hispanic                                                  │\n",
       "│ Affected Categories               │ Race, Race, Ethnicity                                                       │\n",
       "└───────────────────────────────────┴─────────────────────────────────────────────────────────────────────────────┘\n",
       "</pre>\n"
      ],
      "text/plain": [
       "┌───────────────────────────────────┬─────────────────────────────────────────────────────────────────────────────┐\n",
       "│ Protected Groups                  │ Black, Asian, Native American, Hispanic, Female                             │\n",
       "│ Reference Groups                  │ White, White, White, Non-Hispanic, Male                                     │\n",
       "│ Group Categories                  │ Race, Race, Race, Ethnicity, Sex                                            │\n",
       "│ AIR Threshold                     │ 0.8                                                                         │\n",
       "│ % Diff Threshold                  │ 0.0                                                                         │\n",
       "│ Affected Groups                   │ Black, Native American, Hispanic                                            │\n",
       "│ Affected Reference                │ White, White, Non-Hispanic                                                  │\n",
       "│ Affected Categories               │ Race, Race, Ethnicity                                                       │\n",
       "└───────────────────────────────────┴─────────────────────────────────────────────────────────────────────────────┘\n"
      ]
     },
     "metadata": {},
     "output_type": "display_data"
    },
    {
     "data": {
      "text/markdown": [
       "\\* Percent Missing: Ethnicity: 14.63%, Race: 14.33%, Sex: 45.24%"
      ]
     },
     "metadata": {},
     "output_type": "display_data"
    },
    {
     "data": {
      "text/markdown": [
       "## Adverse Impact Ratio Summary Table"
      ]
     },
     "metadata": {},
     "output_type": "display_data"
    },
    {
     "data": {
      "text/html": [
       "<div>\n",
       "<style scoped>\n",
       "    .dataframe tbody tr th:only-of-type {\n",
       "        vertical-align: middle;\n",
       "    }\n",
       "\n",
       "    .dataframe tbody tr th {\n",
       "        vertical-align: top;\n",
       "    }\n",
       "\n",
       "    .dataframe thead th {\n",
       "        text-align: right;\n",
       "    }\n",
       "</style>\n",
       "<table border=\"False\" class=\"dataframe\">\n",
       "  <thead>\n",
       "    <tr style=\"text-align: right;\">\n",
       "      <th>Group Category</th>\n",
       "      <th>Group</th>\n",
       "      <th>Reference Group</th>\n",
       "      <th>Observations</th>\n",
       "      <th>Percent Missing</th>\n",
       "      <th>Total</th>\n",
       "      <th>Favorable</th>\n",
       "      <th>Percent Favorable</th>\n",
       "      <th>Percent Difference Favorable</th>\n",
       "      <th>AIR</th>\n",
       "      <th>P-Values</th>\n",
       "      <th>Practically Significant</th>\n",
       "      <th>Shortfall</th>\n",
       "    </tr>\n",
       "  </thead>\n",
       "  <tbody>\n",
       "    <tr>\n",
       "      <td>Race</td>\n",
       "      <td>Black</td>\n",
       "      <td>White</td>\n",
       "      <td>3,490</td>\n",
       "      <td>14.33%</td>\n",
       "      <td>269.0</td>\n",
       "      <td>107.0</td>\n",
       "      <td>39.78%</td>\n",
       "      <td>28.93%</td>\n",
       "      <td>0.579</td>\n",
       "      <td>0.000</td>\n",
       "      <td>Yes</td>\n",
       "      <td>77.833790</td>\n",
       "    </tr>\n",
       "    <tr>\n",
       "      <td>Race</td>\n",
       "      <td>Asian</td>\n",
       "      <td>White</td>\n",
       "      <td>3,490</td>\n",
       "      <td>14.33%</td>\n",
       "      <td>274.0</td>\n",
       "      <td>243.0</td>\n",
       "      <td>88.69%</td>\n",
       "      <td>-19.97%</td>\n",
       "      <td>1.291</td>\n",
       "      <td>0.000</td>\n",
       "      <td>No</td>\n",
       "      <td></td>\n",
       "    </tr>\n",
       "    <tr>\n",
       "      <td>Race</td>\n",
       "      <td>Native American</td>\n",
       "      <td>White</td>\n",
       "      <td>3,490</td>\n",
       "      <td>14.33%</td>\n",
       "      <td>17.0</td>\n",
       "      <td>5.0</td>\n",
       "      <td>29.41%</td>\n",
       "      <td>39.30%</td>\n",
       "      <td>0.428</td>\n",
       "      <td>0.001</td>\n",
       "      <td>Yes</td>\n",
       "      <td>6.680946</td>\n",
       "    </tr>\n",
       "    <tr>\n",
       "      <td>Race</td>\n",
       "      <td>White</td>\n",
       "      <td></td>\n",
       "      <td>3,490</td>\n",
       "      <td>14.33%</td>\n",
       "      <td>2,918.0</td>\n",
       "      <td>2,005.0</td>\n",
       "      <td>68.71%</td>\n",
       "      <td></td>\n",
       "      <td></td>\n",
       "      <td></td>\n",
       "      <td></td>\n",
       "      <td></td>\n",
       "    </tr>\n",
       "    <tr>\n",
       "      <td>Ethnicity</td>\n",
       "      <td>Hispanic</td>\n",
       "      <td>Non-Hispanic</td>\n",
       "      <td>3,478</td>\n",
       "      <td>14.63%</td>\n",
       "      <td>386.0</td>\n",
       "      <td>183.0</td>\n",
       "      <td>47.41%</td>\n",
       "      <td>22.84%</td>\n",
       "      <td>0.675</td>\n",
       "      <td>0.000</td>\n",
       "      <td>Yes</td>\n",
       "      <td>88.148771</td>\n",
       "    </tr>\n",
       "    <tr>\n",
       "      <td>Ethnicity</td>\n",
       "      <td>Non-Hispanic</td>\n",
       "      <td></td>\n",
       "      <td>3,478</td>\n",
       "      <td>14.63%</td>\n",
       "      <td>3,092.0</td>\n",
       "      <td>2,172.0</td>\n",
       "      <td>70.25%</td>\n",
       "      <td></td>\n",
       "      <td></td>\n",
       "      <td></td>\n",
       "      <td></td>\n",
       "      <td></td>\n",
       "    </tr>\n",
       "    <tr>\n",
       "      <td>Sex</td>\n",
       "      <td>Female</td>\n",
       "      <td>Male</td>\n",
       "      <td>2,231</td>\n",
       "      <td>45.24%</td>\n",
       "      <td>873.0</td>\n",
       "      <td>529.0</td>\n",
       "      <td>60.60%</td>\n",
       "      <td>4.13%</td>\n",
       "      <td>0.936</td>\n",
       "      <td>0.054</td>\n",
       "      <td>No</td>\n",
       "      <td></td>\n",
       "    </tr>\n",
       "    <tr>\n",
       "      <td>Sex</td>\n",
       "      <td>Male</td>\n",
       "      <td></td>\n",
       "      <td>2,231</td>\n",
       "      <td>45.24%</td>\n",
       "      <td>1,358.0</td>\n",
       "      <td>879.0</td>\n",
       "      <td>64.73%</td>\n",
       "      <td></td>\n",
       "      <td></td>\n",
       "      <td></td>\n",
       "      <td></td>\n",
       "      <td></td>\n",
       "    </tr>\n",
       "  </tbody>\n",
       "</table>\n",
       "</div>"
      ],
      "text/plain": [
       "<IPython.core.display.HTML object>"
      ]
     },
     "metadata": {},
     "output_type": "display_data"
    },
    {
     "data": {
      "application/vnd.plotly.v1+json": {
       "config": {
        "plotlyServerURL": "https://plot.ly"
       },
       "data": [
        {
         "cliponaxis": false,
         "hovertemplate": "%{x}, %{y}<extra></extra>",
         "marker": {
          "color": "RGBA(78, 121, 167, 1.0)",
          "line": {
           "color": "rgb(8,48,107)",
           "width": 0
          },
          "pattern": {
           "shape": "/"
          }
         },
         "name": "Race",
         "showlegend": true,
         "text": "0.579",
         "textfont": {
          "color": "Black"
         },
         "type": "bar",
         "x": [
          [
           "Race"
          ],
          [
           "Black"
          ]
         ],
         "y": [
          0.5788984787102875
         ]
        },
        {
         "cliponaxis": false,
         "hovertemplate": "%{x}, %{y}<extra></extra>",
         "marker": {
          "color": "RGBA(78, 121, 167, 0.6666666666666667)",
          "line": {
           "color": "rgb(8,48,107)",
           "width": 0
          },
          "pattern": {
           "shape": ""
          }
         },
         "name": "Race",
         "showlegend": false,
         "text": "1.291",
         "textfont": {
          "color": "Black"
         },
         "type": "bar",
         "x": [
          [
           "Race"
          ],
          [
           "Asian"
          ]
         ],
         "y": [
          1.2907038971913283
         ]
        },
        {
         "cliponaxis": false,
         "hovertemplate": "%{x}, %{y}<extra></extra>",
         "marker": {
          "color": "RGBA(78, 121, 167, 0.3333333333333334)",
          "line": {
           "color": "rgb(8,48,107)",
           "width": 0
          },
          "pattern": {
           "shape": "/"
          }
         },
         "name": "Race",
         "showlegend": false,
         "text": "0.428",
         "textfont": {
          "color": "Black"
         },
         "type": "bar",
         "x": [
          [
           "Race"
          ],
          [
           "Native American"
          ]
         ],
         "y": [
          0.428047528238228
         ]
        },
        {
         "cliponaxis": false,
         "hovertemplate": "%{x}, %{y}<extra></extra>",
         "marker": {
          "color": "RGBA(242, 142, 45, 1.0)",
          "line": {
           "color": "rgb(8,48,107)",
           "width": 0
          },
          "pattern": {
           "shape": "/"
          }
         },
         "name": "Ethnicity",
         "showlegend": true,
         "text": "0.675",
         "textfont": {
          "color": "Black"
         },
         "type": "bar",
         "x": [
          [
           "Ethnicity"
          ],
          [
           "Hispanic"
          ]
         ],
         "y": [
          0.6749062491054304
         ]
        },
        {
         "cliponaxis": false,
         "hovertemplate": "%{x}, %{y}<extra></extra>",
         "marker": {
          "color": "RGBA(225, 87, 89, 1.0)",
          "line": {
           "color": "rgb(8,48,107)",
           "width": 0
          },
          "pattern": {
           "shape": ""
          }
         },
         "name": "Sex",
         "showlegend": true,
         "text": "0.936",
         "textfont": {
          "color": "Black"
         },
         "type": "bar",
         "x": [
          [
           "Sex"
          ],
          [
           "Female"
          ]
         ],
         "y": [
          0.9361648337757552
         ]
        },
        {
         "line": {
          "color": "Black",
          "dash": "dot",
          "width": 0.25
         },
         "mode": "lines",
         "name": "AIR Threshold",
         "text": "AIR Threshold",
         "type": "scatter",
         "x": [
          [
           "Race",
           "Race",
           "Race",
           "Ethnicity",
           "Sex"
          ],
          [
           "Black",
           "Asian",
           "Native American",
           "Hispanic",
           "Female"
          ]
         ],
         "y": [
          0.8,
          0.8,
          0.8,
          0.8,
          0.8
         ]
        }
       ],
       "layout": {
        "legend": {
         "title": {
          "text": "Legend"
         }
        },
        "scene": {
         "yaxis": {
          "exponentformat": "none",
          "separatethousands": true
         }
        },
        "shapes": [
         {
          "line": {
           "color": "Black",
           "dash": "dot",
           "width": 1.25
          },
          "name": "AIR Threshold",
          "type": "line",
          "x0": 0,
          "x1": 1,
          "xref": "paper",
          "y0": 0.5888259899530938,
          "y1": 0.5888259899530938,
          "yref": "paper"
         }
        ],
        "template": {
         "data": {
          "bar": [
           {
            "error_x": {
             "color": "#2a3f5f"
            },
            "error_y": {
             "color": "#2a3f5f"
            },
            "marker": {
             "line": {
              "color": "#E5ECF6",
              "width": 0.5
             },
             "pattern": {
              "fillmode": "overlay",
              "size": 10,
              "solidity": 0.2
             }
            },
            "type": "bar"
           }
          ],
          "barpolar": [
           {
            "marker": {
             "line": {
              "color": "#E5ECF6",
              "width": 0.5
             },
             "pattern": {
              "fillmode": "overlay",
              "size": 10,
              "solidity": 0.2
             }
            },
            "type": "barpolar"
           }
          ],
          "carpet": [
           {
            "aaxis": {
             "endlinecolor": "#2a3f5f",
             "gridcolor": "white",
             "linecolor": "white",
             "minorgridcolor": "white",
             "startlinecolor": "#2a3f5f"
            },
            "baxis": {
             "endlinecolor": "#2a3f5f",
             "gridcolor": "white",
             "linecolor": "white",
             "minorgridcolor": "white",
             "startlinecolor": "#2a3f5f"
            },
            "type": "carpet"
           }
          ],
          "choropleth": [
           {
            "colorbar": {
             "outlinewidth": 0,
             "ticks": ""
            },
            "type": "choropleth"
           }
          ],
          "contour": [
           {
            "colorbar": {
             "outlinewidth": 0,
             "ticks": ""
            },
            "colorscale": [
             [
              0,
              "#0d0887"
             ],
             [
              0.1111111111111111,
              "#46039f"
             ],
             [
              0.2222222222222222,
              "#7201a8"
             ],
             [
              0.3333333333333333,
              "#9c179e"
             ],
             [
              0.4444444444444444,
              "#bd3786"
             ],
             [
              0.5555555555555556,
              "#d8576b"
             ],
             [
              0.6666666666666666,
              "#ed7953"
             ],
             [
              0.7777777777777778,
              "#fb9f3a"
             ],
             [
              0.8888888888888888,
              "#fdca26"
             ],
             [
              1,
              "#f0f921"
             ]
            ],
            "type": "contour"
           }
          ],
          "contourcarpet": [
           {
            "colorbar": {
             "outlinewidth": 0,
             "ticks": ""
            },
            "type": "contourcarpet"
           }
          ],
          "heatmap": [
           {
            "colorbar": {
             "outlinewidth": 0,
             "ticks": ""
            },
            "colorscale": [
             [
              0,
              "#0d0887"
             ],
             [
              0.1111111111111111,
              "#46039f"
             ],
             [
              0.2222222222222222,
              "#7201a8"
             ],
             [
              0.3333333333333333,
              "#9c179e"
             ],
             [
              0.4444444444444444,
              "#bd3786"
             ],
             [
              0.5555555555555556,
              "#d8576b"
             ],
             [
              0.6666666666666666,
              "#ed7953"
             ],
             [
              0.7777777777777778,
              "#fb9f3a"
             ],
             [
              0.8888888888888888,
              "#fdca26"
             ],
             [
              1,
              "#f0f921"
             ]
            ],
            "type": "heatmap"
           }
          ],
          "heatmapgl": [
           {
            "colorbar": {
             "outlinewidth": 0,
             "ticks": ""
            },
            "colorscale": [
             [
              0,
              "#0d0887"
             ],
             [
              0.1111111111111111,
              "#46039f"
             ],
             [
              0.2222222222222222,
              "#7201a8"
             ],
             [
              0.3333333333333333,
              "#9c179e"
             ],
             [
              0.4444444444444444,
              "#bd3786"
             ],
             [
              0.5555555555555556,
              "#d8576b"
             ],
             [
              0.6666666666666666,
              "#ed7953"
             ],
             [
              0.7777777777777778,
              "#fb9f3a"
             ],
             [
              0.8888888888888888,
              "#fdca26"
             ],
             [
              1,
              "#f0f921"
             ]
            ],
            "type": "heatmapgl"
           }
          ],
          "histogram": [
           {
            "marker": {
             "pattern": {
              "fillmode": "overlay",
              "size": 10,
              "solidity": 0.2
             }
            },
            "type": "histogram"
           }
          ],
          "histogram2d": [
           {
            "colorbar": {
             "outlinewidth": 0,
             "ticks": ""
            },
            "colorscale": [
             [
              0,
              "#0d0887"
             ],
             [
              0.1111111111111111,
              "#46039f"
             ],
             [
              0.2222222222222222,
              "#7201a8"
             ],
             [
              0.3333333333333333,
              "#9c179e"
             ],
             [
              0.4444444444444444,
              "#bd3786"
             ],
             [
              0.5555555555555556,
              "#d8576b"
             ],
             [
              0.6666666666666666,
              "#ed7953"
             ],
             [
              0.7777777777777778,
              "#fb9f3a"
             ],
             [
              0.8888888888888888,
              "#fdca26"
             ],
             [
              1,
              "#f0f921"
             ]
            ],
            "type": "histogram2d"
           }
          ],
          "histogram2dcontour": [
           {
            "colorbar": {
             "outlinewidth": 0,
             "ticks": ""
            },
            "colorscale": [
             [
              0,
              "#0d0887"
             ],
             [
              0.1111111111111111,
              "#46039f"
             ],
             [
              0.2222222222222222,
              "#7201a8"
             ],
             [
              0.3333333333333333,
              "#9c179e"
             ],
             [
              0.4444444444444444,
              "#bd3786"
             ],
             [
              0.5555555555555556,
              "#d8576b"
             ],
             [
              0.6666666666666666,
              "#ed7953"
             ],
             [
              0.7777777777777778,
              "#fb9f3a"
             ],
             [
              0.8888888888888888,
              "#fdca26"
             ],
             [
              1,
              "#f0f921"
             ]
            ],
            "type": "histogram2dcontour"
           }
          ],
          "mesh3d": [
           {
            "colorbar": {
             "outlinewidth": 0,
             "ticks": ""
            },
            "type": "mesh3d"
           }
          ],
          "parcoords": [
           {
            "line": {
             "colorbar": {
              "outlinewidth": 0,
              "ticks": ""
             }
            },
            "type": "parcoords"
           }
          ],
          "pie": [
           {
            "automargin": true,
            "type": "pie"
           }
          ],
          "scatter": [
           {
            "fillpattern": {
             "fillmode": "overlay",
             "size": 10,
             "solidity": 0.2
            },
            "type": "scatter"
           }
          ],
          "scatter3d": [
           {
            "line": {
             "colorbar": {
              "outlinewidth": 0,
              "ticks": ""
             }
            },
            "marker": {
             "colorbar": {
              "outlinewidth": 0,
              "ticks": ""
             }
            },
            "type": "scatter3d"
           }
          ],
          "scattercarpet": [
           {
            "marker": {
             "colorbar": {
              "outlinewidth": 0,
              "ticks": ""
             }
            },
            "type": "scattercarpet"
           }
          ],
          "scattergeo": [
           {
            "marker": {
             "colorbar": {
              "outlinewidth": 0,
              "ticks": ""
             }
            },
            "type": "scattergeo"
           }
          ],
          "scattergl": [
           {
            "marker": {
             "colorbar": {
              "outlinewidth": 0,
              "ticks": ""
             }
            },
            "type": "scattergl"
           }
          ],
          "scattermapbox": [
           {
            "marker": {
             "colorbar": {
              "outlinewidth": 0,
              "ticks": ""
             }
            },
            "type": "scattermapbox"
           }
          ],
          "scatterpolar": [
           {
            "marker": {
             "colorbar": {
              "outlinewidth": 0,
              "ticks": ""
             }
            },
            "type": "scatterpolar"
           }
          ],
          "scatterpolargl": [
           {
            "marker": {
             "colorbar": {
              "outlinewidth": 0,
              "ticks": ""
             }
            },
            "type": "scatterpolargl"
           }
          ],
          "scatterternary": [
           {
            "marker": {
             "colorbar": {
              "outlinewidth": 0,
              "ticks": ""
             }
            },
            "type": "scatterternary"
           }
          ],
          "surface": [
           {
            "colorbar": {
             "outlinewidth": 0,
             "ticks": ""
            },
            "colorscale": [
             [
              0,
              "#0d0887"
             ],
             [
              0.1111111111111111,
              "#46039f"
             ],
             [
              0.2222222222222222,
              "#7201a8"
             ],
             [
              0.3333333333333333,
              "#9c179e"
             ],
             [
              0.4444444444444444,
              "#bd3786"
             ],
             [
              0.5555555555555556,
              "#d8576b"
             ],
             [
              0.6666666666666666,
              "#ed7953"
             ],
             [
              0.7777777777777778,
              "#fb9f3a"
             ],
             [
              0.8888888888888888,
              "#fdca26"
             ],
             [
              1,
              "#f0f921"
             ]
            ],
            "type": "surface"
           }
          ],
          "table": [
           {
            "cells": {
             "fill": {
              "color": "#EBF0F8"
             },
             "line": {
              "color": "white"
             }
            },
            "header": {
             "fill": {
              "color": "#C8D4E3"
             },
             "line": {
              "color": "white"
             }
            },
            "type": "table"
           }
          ]
         },
         "layout": {
          "annotationdefaults": {
           "arrowcolor": "#2a3f5f",
           "arrowhead": 0,
           "arrowwidth": 1
          },
          "autotypenumbers": "strict",
          "coloraxis": {
           "colorbar": {
            "outlinewidth": 0,
            "ticks": ""
           }
          },
          "colorscale": {
           "diverging": [
            [
             0,
             "#8e0152"
            ],
            [
             0.1,
             "#c51b7d"
            ],
            [
             0.2,
             "#de77ae"
            ],
            [
             0.3,
             "#f1b6da"
            ],
            [
             0.4,
             "#fde0ef"
            ],
            [
             0.5,
             "#f7f7f7"
            ],
            [
             0.6,
             "#e6f5d0"
            ],
            [
             0.7,
             "#b8e186"
            ],
            [
             0.8,
             "#7fbc41"
            ],
            [
             0.9,
             "#4d9221"
            ],
            [
             1,
             "#276419"
            ]
           ],
           "sequential": [
            [
             0,
             "#0d0887"
            ],
            [
             0.1111111111111111,
             "#46039f"
            ],
            [
             0.2222222222222222,
             "#7201a8"
            ],
            [
             0.3333333333333333,
             "#9c179e"
            ],
            [
             0.4444444444444444,
             "#bd3786"
            ],
            [
             0.5555555555555556,
             "#d8576b"
            ],
            [
             0.6666666666666666,
             "#ed7953"
            ],
            [
             0.7777777777777778,
             "#fb9f3a"
            ],
            [
             0.8888888888888888,
             "#fdca26"
            ],
            [
             1,
             "#f0f921"
            ]
           ],
           "sequentialminus": [
            [
             0,
             "#0d0887"
            ],
            [
             0.1111111111111111,
             "#46039f"
            ],
            [
             0.2222222222222222,
             "#7201a8"
            ],
            [
             0.3333333333333333,
             "#9c179e"
            ],
            [
             0.4444444444444444,
             "#bd3786"
            ],
            [
             0.5555555555555556,
             "#d8576b"
            ],
            [
             0.6666666666666666,
             "#ed7953"
            ],
            [
             0.7777777777777778,
             "#fb9f3a"
            ],
            [
             0.8888888888888888,
             "#fdca26"
            ],
            [
             1,
             "#f0f921"
            ]
           ]
          },
          "colorway": [
           "#636efa",
           "#EF553B",
           "#00cc96",
           "#ab63fa",
           "#FFA15A",
           "#19d3f3",
           "#FF6692",
           "#B6E880",
           "#FF97FF",
           "#FECB52"
          ],
          "font": {
           "color": "#2a3f5f"
          },
          "geo": {
           "bgcolor": "white",
           "lakecolor": "white",
           "landcolor": "#E5ECF6",
           "showlakes": true,
           "showland": true,
           "subunitcolor": "white"
          },
          "hoverlabel": {
           "align": "left"
          },
          "hovermode": "closest",
          "mapbox": {
           "style": "light"
          },
          "paper_bgcolor": "white",
          "plot_bgcolor": "#E5ECF6",
          "polar": {
           "angularaxis": {
            "gridcolor": "white",
            "linecolor": "white",
            "ticks": ""
           },
           "bgcolor": "#E5ECF6",
           "radialaxis": {
            "gridcolor": "white",
            "linecolor": "white",
            "ticks": ""
           }
          },
          "scene": {
           "xaxis": {
            "backgroundcolor": "#E5ECF6",
            "gridcolor": "white",
            "gridwidth": 2,
            "linecolor": "white",
            "showbackground": true,
            "ticks": "",
            "zerolinecolor": "white"
           },
           "yaxis": {
            "backgroundcolor": "#E5ECF6",
            "gridcolor": "white",
            "gridwidth": 2,
            "linecolor": "white",
            "showbackground": true,
            "ticks": "",
            "zerolinecolor": "white"
           },
           "zaxis": {
            "backgroundcolor": "#E5ECF6",
            "gridcolor": "white",
            "gridwidth": 2,
            "linecolor": "white",
            "showbackground": true,
            "ticks": "",
            "zerolinecolor": "white"
           }
          },
          "shapedefaults": {
           "line": {
            "color": "#2a3f5f"
           }
          },
          "ternary": {
           "aaxis": {
            "gridcolor": "white",
            "linecolor": "white",
            "ticks": ""
           },
           "baxis": {
            "gridcolor": "white",
            "linecolor": "white",
            "ticks": ""
           },
           "bgcolor": "#E5ECF6",
           "caxis": {
            "gridcolor": "white",
            "linecolor": "white",
            "ticks": ""
           }
          },
          "title": {
           "x": 0.05
          },
          "xaxis": {
           "automargin": true,
           "gridcolor": "white",
           "linecolor": "white",
           "ticks": "",
           "title": {
            "standoff": 15
           },
           "zerolinecolor": "white",
           "zerolinewidth": 2
          },
          "yaxis": {
           "automargin": true,
           "gridcolor": "white",
           "linecolor": "white",
           "ticks": "",
           "title": {
            "standoff": 15
           },
           "zerolinecolor": "white",
           "zerolinewidth": 2
          }
         }
        },
        "title": {
         "text": "Adverse Impact Ratio (AIR)"
        },
        "uniformtext": {
         "minsize": 8,
         "mode": "hide"
        },
        "xaxis": {
         "fixedrange": true,
         "title": {
          "text": "Group"
         }
        },
        "yaxis": {
         "fixedrange": true,
         "tickformat": "0,.3f",
         "ticksuffix": "  ",
         "title": {
          "text": "AIR"
         },
         "zeroline": true,
         "zerolinecolor": "Black",
         "zerolinewidth": 1
        }
       }
      }
     },
     "metadata": {},
     "output_type": "display_data"
    }
   ],
   "source": [
    "air"
   ]
  },
  {
   "cell_type": "markdown",
   "metadata": {},
   "source": [
    "## Adverse Impact Ratio by Quantile"
   ]
  },
  {
   "cell_type": "code",
   "execution_count": 12,
   "metadata": {},
   "outputs": [
    {
     "data": {
      "application/vnd.plotly.v1+json": {
       "config": {
        "plotlyServerURL": "https://plot.ly"
       },
       "data": [
        {
         "cliponaxis": false,
         "hovertemplate": "%{x}, %{y}<extra></extra>",
         "marker": {
          "color": "RGB(78, 121, 167)",
          "pattern": {
           "shape": [
            "/",
            "/",
            "/",
            "/",
            "/",
            "/",
            "/",
            "/",
            "",
            ""
           ]
          }
         },
         "name": "Black",
         "text": [
          "0.111",
          "0.269",
          "0.240",
          "0.276",
          "0.363",
          "0.488",
          "0.569",
          "0.647",
          "0.807",
          "1.000"
         ],
         "textfont": {
          "color": "Black"
         },
         "type": "bar",
         "x": [
          "0.1",
          "0.2",
          "0.3",
          "0.4",
          "0.5",
          "0.6",
          "0.7",
          "0.8",
          "0.9",
          "1.0"
         ],
         "xaxis": "x",
         "y": [
          0.11068962901145588,
          0.2687896831924203,
          0.24049485323142458,
          0.2761895747590497,
          0.3625933251183067,
          0.4876723482210771,
          0.569245438849498,
          0.6470650660575946,
          0.8068790869267722,
          1
         ],
         "yaxis": "y"
        },
        {
         "line": {
          "color": "Black",
          "dash": "dot",
          "width": 0.25
         },
         "mode": "lines",
         "name": "AIR Threshold",
         "showlegend": false,
         "type": "scatter",
         "x": [
          "0.1",
          "0.2",
          "0.3",
          "0.4",
          "0.5",
          "0.6",
          "0.7",
          "0.8",
          "0.9",
          "1.0"
         ],
         "xaxis": "x",
         "y": [
          0.8,
          0.8,
          0.8,
          0.8,
          0.8,
          0.8,
          0.8,
          0.8,
          0.8,
          0.8
         ],
         "yaxis": "y"
        },
        {
         "cliponaxis": false,
         "hovertemplate": "%{x}, %{y}<extra></extra>",
         "marker": {
          "color": "RGB(242, 142, 45)",
          "pattern": {
           "shape": [
            "",
            "",
            "",
            "",
            "",
            "",
            "",
            "",
            "",
            ""
           ]
          }
         },
         "name": "Asian",
         "text": [
          "1.558",
          "1.828",
          "1.727",
          "1.711",
          "1.572",
          "1.412",
          "1.280",
          "1.175",
          "1.091",
          "1.000"
         ],
         "textfont": {
          "color": "Black"
         },
         "type": "bar",
         "x": [
          "0.1",
          "0.2",
          "0.3",
          "0.4",
          "0.5",
          "0.6",
          "0.7",
          "0.8",
          "0.9",
          "1.0"
         ],
         "xaxis": "x2",
         "y": [
          1.55759968220865,
          1.8283444221949487,
          1.7273036990349973,
          1.711047595854989,
          1.572230242156843,
          1.41176718063064,
          1.2796275546550298,
          1.1752260223487663,
          1.0912339506087343,
          1
         ],
         "yaxis": "y2"
        },
        {
         "line": {
          "color": "Black",
          "dash": "dot",
          "width": 0.25
         },
         "mode": "lines",
         "name": "AIR Threshold",
         "showlegend": false,
         "type": "scatter",
         "x": [
          "0.1",
          "0.2",
          "0.3",
          "0.4",
          "0.5",
          "0.6",
          "0.7",
          "0.8",
          "0.9",
          "1.0"
         ],
         "xaxis": "x2",
         "y": [
          0.8,
          0.8,
          0.8,
          0.8,
          0.8,
          0.8,
          0.8,
          0.8,
          0.8,
          0.8
         ],
         "yaxis": "y2"
        },
        {
         "cliponaxis": false,
         "hovertemplate": "%{x}, %{y}<extra></extra>",
         "marker": {
          "color": "RGB(225, 87, 89)",
          "pattern": {
           "shape": [
            "",
            "",
            "/",
            "/",
            "/",
            "/",
            "/",
            "",
            "",
            ""
           ]
          }
         },
         "name": "Native American",
         "text": [
          "0.000",
          "0.000",
          "0.200",
          "0.301",
          "0.239",
          "0.297",
          "0.421",
          "0.731",
          "0.912",
          "1.000"
         ],
         "textfont": {
          "color": "Black"
         },
         "type": "bar",
         "x": [
          "0.1",
          "0.2",
          "0.3",
          "0.4",
          "0.5",
          "0.6",
          "0.7",
          "0.8",
          "0.9",
          "1.0"
         ],
         "xaxis": "x3",
         "y": [
          0,
          0,
          0.2002882833413412,
          0.30139957651190413,
          0.23906275602162871,
          0.29679606713002205,
          0.42090990393214667,
          0.7313466502919873,
          0.9119767831231165,
          1
         ],
         "yaxis": "y3"
        },
        {
         "line": {
          "color": "Black",
          "dash": "dot",
          "width": 0.25
         },
         "mode": "lines",
         "name": "AIR Threshold",
         "showlegend": false,
         "type": "scatter",
         "x": [
          "0.1",
          "0.2",
          "0.3",
          "0.4",
          "0.5",
          "0.6",
          "0.7",
          "0.8",
          "0.9",
          "1.0"
         ],
         "xaxis": "x3",
         "y": [
          0.8,
          0.8,
          0.8,
          0.8,
          0.8,
          0.8,
          0.8,
          0.8,
          0.8,
          0.8
         ],
         "yaxis": "y3"
        },
        {
         "cliponaxis": false,
         "hovertemplate": "%{x}, %{y}<extra></extra>",
         "marker": {
          "color": "RGB(89, 161, 79)",
          "pattern": {
           "shape": [
            "/",
            "/",
            "/",
            "/",
            "/",
            "/",
            "/",
            "/",
            "",
            ""
           ]
          }
         },
         "name": "Hispanic",
         "text": [
          "0.239",
          "0.388",
          "0.521",
          "0.553",
          "0.622",
          "0.680",
          "0.691",
          "0.772",
          "0.869",
          "1.000"
         ],
         "textfont": {
          "color": "Black"
         },
         "type": "bar",
         "x": [
          "0.1",
          "0.2",
          "0.3",
          "0.4",
          "0.5",
          "0.6",
          "0.7",
          "0.8",
          "0.9",
          "1.0"
         ],
         "xaxis": "x4",
         "y": [
          0.23911530430747813,
          0.3880019430051813,
          0.5211358730814607,
          0.552657854404556,
          0.6217151289354476,
          0.6803673442274479,
          0.6908619663718104,
          0.7716989538299066,
          0.8691428750486154,
          1
         ],
         "yaxis": "y4"
        },
        {
         "line": {
          "color": "Black",
          "dash": "dot",
          "width": 0.25
         },
         "mode": "lines",
         "name": "AIR Threshold",
         "showlegend": false,
         "type": "scatter",
         "x": [
          "0.1",
          "0.2",
          "0.3",
          "0.4",
          "0.5",
          "0.6",
          "0.7",
          "0.8",
          "0.9",
          "1.0"
         ],
         "xaxis": "x4",
         "y": [
          0.8,
          0.8,
          0.8,
          0.8,
          0.8,
          0.8,
          0.8,
          0.8,
          0.8,
          0.8
         ],
         "yaxis": "y4"
        },
        {
         "cliponaxis": false,
         "hovertemplate": "%{x}, %{y}<extra></extra>",
         "marker": {
          "color": "RGB(175, 122, 161)",
          "pattern": {
           "shape": [
            "",
            "/",
            "",
            "",
            "",
            "",
            "",
            "",
            "",
            ""
           ]
          }
         },
         "name": "Female",
         "text": [
          "0.808",
          "0.764",
          "0.919",
          "0.967",
          "0.978",
          "0.962",
          "0.934",
          "0.969",
          "0.989",
          "1.000"
         ],
         "textfont": {
          "color": "Black"
         },
         "type": "bar",
         "x": [
          "0.1",
          "0.2",
          "0.3",
          "0.4",
          "0.5",
          "0.6",
          "0.7",
          "0.8",
          "0.9",
          "1.0"
         ],
         "xaxis": "x5",
         "y": [
          0.8076923076923077,
          0.7636363636363637,
          0.9187784275503574,
          0.9667861409796893,
          0.9778534923339012,
          0.9616545893719808,
          0.9336797822321208,
          0.9692760942760943,
          0.9887116335479056,
          1
         ],
         "yaxis": "y5"
        },
        {
         "line": {
          "color": "Black",
          "dash": "dot",
          "width": 0.25
         },
         "mode": "lines",
         "name": "AIR Threshold",
         "showlegend": false,
         "type": "scatter",
         "x": [
          "0.1",
          "0.2",
          "0.3",
          "0.4",
          "0.5",
          "0.6",
          "0.7",
          "0.8",
          "0.9",
          "1.0"
         ],
         "xaxis": "x5",
         "y": [
          0.8,
          0.8,
          0.8,
          0.8,
          0.8,
          0.8,
          0.8,
          0.8,
          0.8,
          0.8
         ],
         "yaxis": "y5"
        }
       ],
       "layout": {
        "annotations": [
         {
          "font": {
           "size": 16
          },
          "showarrow": false,
          "text": "Black",
          "x": 0.225,
          "xanchor": "center",
          "xref": "paper",
          "y": 1,
          "yanchor": "bottom",
          "yref": "paper"
         },
         {
          "font": {
           "size": 16
          },
          "showarrow": false,
          "text": "Asian",
          "x": 0.775,
          "xanchor": "center",
          "xref": "paper",
          "y": 1,
          "yanchor": "bottom",
          "yref": "paper"
         },
         {
          "font": {
           "size": 16
          },
          "showarrow": false,
          "text": "Native American",
          "x": 0.225,
          "xanchor": "center",
          "xref": "paper",
          "y": 0.6111111111111112,
          "yanchor": "bottom",
          "yref": "paper"
         },
         {
          "font": {
           "size": 16
          },
          "showarrow": false,
          "text": "Hispanic",
          "x": 0.775,
          "xanchor": "center",
          "xref": "paper",
          "y": 0.6111111111111112,
          "yanchor": "bottom",
          "yref": "paper"
         },
         {
          "font": {
           "size": 16
          },
          "showarrow": false,
          "text": "Female",
          "x": 0.225,
          "xanchor": "center",
          "xref": "paper",
          "y": 0.22222222222222224,
          "yanchor": "bottom",
          "yref": "paper"
         }
        ],
        "autosize": true,
        "height": 825,
        "legend": {
         "title": {
          "text": "Legend"
         }
        },
        "shapes": [
         {
          "line": {
           "color": "Black",
           "dash": "dot",
           "width": 1.25
          },
          "type": "line",
          "x0": -0.75,
          "x1": 10,
          "xref": "x",
          "y0": 0.8,
          "y1": 0.8,
          "yref": "y"
         },
         {
          "line": {
           "color": "Black",
           "dash": "dot",
           "width": 1.25
          },
          "type": "line",
          "x0": -0.75,
          "x1": 10,
          "xref": "x2",
          "y0": 0.8,
          "y1": 0.8,
          "yref": "y2"
         },
         {
          "line": {
           "color": "Black",
           "dash": "dot",
           "width": 1.25
          },
          "type": "line",
          "x0": -0.75,
          "x1": 10,
          "xref": "x3",
          "y0": 0.8,
          "y1": 0.8,
          "yref": "y3"
         },
         {
          "line": {
           "color": "Black",
           "dash": "dot",
           "width": 1.25
          },
          "type": "line",
          "x0": -0.75,
          "x1": 10,
          "xref": "x4",
          "y0": 0.8,
          "y1": 0.8,
          "yref": "y4"
         },
         {
          "line": {
           "color": "Black",
           "dash": "dot",
           "width": 1.25
          },
          "type": "line",
          "x0": -0.75,
          "x1": 10,
          "xref": "x5",
          "y0": 0.8,
          "y1": 0.8,
          "yref": "y5"
         }
        ],
        "template": {
         "data": {
          "bar": [
           {
            "error_x": {
             "color": "#2a3f5f"
            },
            "error_y": {
             "color": "#2a3f5f"
            },
            "marker": {
             "line": {
              "color": "#E5ECF6",
              "width": 0.5
             },
             "pattern": {
              "fillmode": "overlay",
              "size": 10,
              "solidity": 0.2
             }
            },
            "type": "bar"
           }
          ],
          "barpolar": [
           {
            "marker": {
             "line": {
              "color": "#E5ECF6",
              "width": 0.5
             },
             "pattern": {
              "fillmode": "overlay",
              "size": 10,
              "solidity": 0.2
             }
            },
            "type": "barpolar"
           }
          ],
          "carpet": [
           {
            "aaxis": {
             "endlinecolor": "#2a3f5f",
             "gridcolor": "white",
             "linecolor": "white",
             "minorgridcolor": "white",
             "startlinecolor": "#2a3f5f"
            },
            "baxis": {
             "endlinecolor": "#2a3f5f",
             "gridcolor": "white",
             "linecolor": "white",
             "minorgridcolor": "white",
             "startlinecolor": "#2a3f5f"
            },
            "type": "carpet"
           }
          ],
          "choropleth": [
           {
            "colorbar": {
             "outlinewidth": 0,
             "ticks": ""
            },
            "type": "choropleth"
           }
          ],
          "contour": [
           {
            "colorbar": {
             "outlinewidth": 0,
             "ticks": ""
            },
            "colorscale": [
             [
              0,
              "#0d0887"
             ],
             [
              0.1111111111111111,
              "#46039f"
             ],
             [
              0.2222222222222222,
              "#7201a8"
             ],
             [
              0.3333333333333333,
              "#9c179e"
             ],
             [
              0.4444444444444444,
              "#bd3786"
             ],
             [
              0.5555555555555556,
              "#d8576b"
             ],
             [
              0.6666666666666666,
              "#ed7953"
             ],
             [
              0.7777777777777778,
              "#fb9f3a"
             ],
             [
              0.8888888888888888,
              "#fdca26"
             ],
             [
              1,
              "#f0f921"
             ]
            ],
            "type": "contour"
           }
          ],
          "contourcarpet": [
           {
            "colorbar": {
             "outlinewidth": 0,
             "ticks": ""
            },
            "type": "contourcarpet"
           }
          ],
          "heatmap": [
           {
            "colorbar": {
             "outlinewidth": 0,
             "ticks": ""
            },
            "colorscale": [
             [
              0,
              "#0d0887"
             ],
             [
              0.1111111111111111,
              "#46039f"
             ],
             [
              0.2222222222222222,
              "#7201a8"
             ],
             [
              0.3333333333333333,
              "#9c179e"
             ],
             [
              0.4444444444444444,
              "#bd3786"
             ],
             [
              0.5555555555555556,
              "#d8576b"
             ],
             [
              0.6666666666666666,
              "#ed7953"
             ],
             [
              0.7777777777777778,
              "#fb9f3a"
             ],
             [
              0.8888888888888888,
              "#fdca26"
             ],
             [
              1,
              "#f0f921"
             ]
            ],
            "type": "heatmap"
           }
          ],
          "heatmapgl": [
           {
            "colorbar": {
             "outlinewidth": 0,
             "ticks": ""
            },
            "colorscale": [
             [
              0,
              "#0d0887"
             ],
             [
              0.1111111111111111,
              "#46039f"
             ],
             [
              0.2222222222222222,
              "#7201a8"
             ],
             [
              0.3333333333333333,
              "#9c179e"
             ],
             [
              0.4444444444444444,
              "#bd3786"
             ],
             [
              0.5555555555555556,
              "#d8576b"
             ],
             [
              0.6666666666666666,
              "#ed7953"
             ],
             [
              0.7777777777777778,
              "#fb9f3a"
             ],
             [
              0.8888888888888888,
              "#fdca26"
             ],
             [
              1,
              "#f0f921"
             ]
            ],
            "type": "heatmapgl"
           }
          ],
          "histogram": [
           {
            "marker": {
             "pattern": {
              "fillmode": "overlay",
              "size": 10,
              "solidity": 0.2
             }
            },
            "type": "histogram"
           }
          ],
          "histogram2d": [
           {
            "colorbar": {
             "outlinewidth": 0,
             "ticks": ""
            },
            "colorscale": [
             [
              0,
              "#0d0887"
             ],
             [
              0.1111111111111111,
              "#46039f"
             ],
             [
              0.2222222222222222,
              "#7201a8"
             ],
             [
              0.3333333333333333,
              "#9c179e"
             ],
             [
              0.4444444444444444,
              "#bd3786"
             ],
             [
              0.5555555555555556,
              "#d8576b"
             ],
             [
              0.6666666666666666,
              "#ed7953"
             ],
             [
              0.7777777777777778,
              "#fb9f3a"
             ],
             [
              0.8888888888888888,
              "#fdca26"
             ],
             [
              1,
              "#f0f921"
             ]
            ],
            "type": "histogram2d"
           }
          ],
          "histogram2dcontour": [
           {
            "colorbar": {
             "outlinewidth": 0,
             "ticks": ""
            },
            "colorscale": [
             [
              0,
              "#0d0887"
             ],
             [
              0.1111111111111111,
              "#46039f"
             ],
             [
              0.2222222222222222,
              "#7201a8"
             ],
             [
              0.3333333333333333,
              "#9c179e"
             ],
             [
              0.4444444444444444,
              "#bd3786"
             ],
             [
              0.5555555555555556,
              "#d8576b"
             ],
             [
              0.6666666666666666,
              "#ed7953"
             ],
             [
              0.7777777777777778,
              "#fb9f3a"
             ],
             [
              0.8888888888888888,
              "#fdca26"
             ],
             [
              1,
              "#f0f921"
             ]
            ],
            "type": "histogram2dcontour"
           }
          ],
          "mesh3d": [
           {
            "colorbar": {
             "outlinewidth": 0,
             "ticks": ""
            },
            "type": "mesh3d"
           }
          ],
          "parcoords": [
           {
            "line": {
             "colorbar": {
              "outlinewidth": 0,
              "ticks": ""
             }
            },
            "type": "parcoords"
           }
          ],
          "pie": [
           {
            "automargin": true,
            "type": "pie"
           }
          ],
          "scatter": [
           {
            "fillpattern": {
             "fillmode": "overlay",
             "size": 10,
             "solidity": 0.2
            },
            "type": "scatter"
           }
          ],
          "scatter3d": [
           {
            "line": {
             "colorbar": {
              "outlinewidth": 0,
              "ticks": ""
             }
            },
            "marker": {
             "colorbar": {
              "outlinewidth": 0,
              "ticks": ""
             }
            },
            "type": "scatter3d"
           }
          ],
          "scattercarpet": [
           {
            "marker": {
             "colorbar": {
              "outlinewidth": 0,
              "ticks": ""
             }
            },
            "type": "scattercarpet"
           }
          ],
          "scattergeo": [
           {
            "marker": {
             "colorbar": {
              "outlinewidth": 0,
              "ticks": ""
             }
            },
            "type": "scattergeo"
           }
          ],
          "scattergl": [
           {
            "marker": {
             "colorbar": {
              "outlinewidth": 0,
              "ticks": ""
             }
            },
            "type": "scattergl"
           }
          ],
          "scattermapbox": [
           {
            "marker": {
             "colorbar": {
              "outlinewidth": 0,
              "ticks": ""
             }
            },
            "type": "scattermapbox"
           }
          ],
          "scatterpolar": [
           {
            "marker": {
             "colorbar": {
              "outlinewidth": 0,
              "ticks": ""
             }
            },
            "type": "scatterpolar"
           }
          ],
          "scatterpolargl": [
           {
            "marker": {
             "colorbar": {
              "outlinewidth": 0,
              "ticks": ""
             }
            },
            "type": "scatterpolargl"
           }
          ],
          "scatterternary": [
           {
            "marker": {
             "colorbar": {
              "outlinewidth": 0,
              "ticks": ""
             }
            },
            "type": "scatterternary"
           }
          ],
          "surface": [
           {
            "colorbar": {
             "outlinewidth": 0,
             "ticks": ""
            },
            "colorscale": [
             [
              0,
              "#0d0887"
             ],
             [
              0.1111111111111111,
              "#46039f"
             ],
             [
              0.2222222222222222,
              "#7201a8"
             ],
             [
              0.3333333333333333,
              "#9c179e"
             ],
             [
              0.4444444444444444,
              "#bd3786"
             ],
             [
              0.5555555555555556,
              "#d8576b"
             ],
             [
              0.6666666666666666,
              "#ed7953"
             ],
             [
              0.7777777777777778,
              "#fb9f3a"
             ],
             [
              0.8888888888888888,
              "#fdca26"
             ],
             [
              1,
              "#f0f921"
             ]
            ],
            "type": "surface"
           }
          ],
          "table": [
           {
            "cells": {
             "fill": {
              "color": "#EBF0F8"
             },
             "line": {
              "color": "white"
             }
            },
            "header": {
             "fill": {
              "color": "#C8D4E3"
             },
             "line": {
              "color": "white"
             }
            },
            "type": "table"
           }
          ]
         },
         "layout": {
          "annotationdefaults": {
           "arrowcolor": "#2a3f5f",
           "arrowhead": 0,
           "arrowwidth": 1
          },
          "autotypenumbers": "strict",
          "coloraxis": {
           "colorbar": {
            "outlinewidth": 0,
            "ticks": ""
           }
          },
          "colorscale": {
           "diverging": [
            [
             0,
             "#8e0152"
            ],
            [
             0.1,
             "#c51b7d"
            ],
            [
             0.2,
             "#de77ae"
            ],
            [
             0.3,
             "#f1b6da"
            ],
            [
             0.4,
             "#fde0ef"
            ],
            [
             0.5,
             "#f7f7f7"
            ],
            [
             0.6,
             "#e6f5d0"
            ],
            [
             0.7,
             "#b8e186"
            ],
            [
             0.8,
             "#7fbc41"
            ],
            [
             0.9,
             "#4d9221"
            ],
            [
             1,
             "#276419"
            ]
           ],
           "sequential": [
            [
             0,
             "#0d0887"
            ],
            [
             0.1111111111111111,
             "#46039f"
            ],
            [
             0.2222222222222222,
             "#7201a8"
            ],
            [
             0.3333333333333333,
             "#9c179e"
            ],
            [
             0.4444444444444444,
             "#bd3786"
            ],
            [
             0.5555555555555556,
             "#d8576b"
            ],
            [
             0.6666666666666666,
             "#ed7953"
            ],
            [
             0.7777777777777778,
             "#fb9f3a"
            ],
            [
             0.8888888888888888,
             "#fdca26"
            ],
            [
             1,
             "#f0f921"
            ]
           ],
           "sequentialminus": [
            [
             0,
             "#0d0887"
            ],
            [
             0.1111111111111111,
             "#46039f"
            ],
            [
             0.2222222222222222,
             "#7201a8"
            ],
            [
             0.3333333333333333,
             "#9c179e"
            ],
            [
             0.4444444444444444,
             "#bd3786"
            ],
            [
             0.5555555555555556,
             "#d8576b"
            ],
            [
             0.6666666666666666,
             "#ed7953"
            ],
            [
             0.7777777777777778,
             "#fb9f3a"
            ],
            [
             0.8888888888888888,
             "#fdca26"
            ],
            [
             1,
             "#f0f921"
            ]
           ]
          },
          "colorway": [
           "#636efa",
           "#EF553B",
           "#00cc96",
           "#ab63fa",
           "#FFA15A",
           "#19d3f3",
           "#FF6692",
           "#B6E880",
           "#FF97FF",
           "#FECB52"
          ],
          "font": {
           "color": "#2a3f5f"
          },
          "geo": {
           "bgcolor": "white",
           "lakecolor": "white",
           "landcolor": "#E5ECF6",
           "showlakes": true,
           "showland": true,
           "subunitcolor": "white"
          },
          "hoverlabel": {
           "align": "left"
          },
          "hovermode": "closest",
          "mapbox": {
           "style": "light"
          },
          "paper_bgcolor": "white",
          "plot_bgcolor": "#E5ECF6",
          "polar": {
           "angularaxis": {
            "gridcolor": "white",
            "linecolor": "white",
            "ticks": ""
           },
           "bgcolor": "#E5ECF6",
           "radialaxis": {
            "gridcolor": "white",
            "linecolor": "white",
            "ticks": ""
           }
          },
          "scene": {
           "xaxis": {
            "backgroundcolor": "#E5ECF6",
            "gridcolor": "white",
            "gridwidth": 2,
            "linecolor": "white",
            "showbackground": true,
            "ticks": "",
            "zerolinecolor": "white"
           },
           "yaxis": {
            "backgroundcolor": "#E5ECF6",
            "gridcolor": "white",
            "gridwidth": 2,
            "linecolor": "white",
            "showbackground": true,
            "ticks": "",
            "zerolinecolor": "white"
           },
           "zaxis": {
            "backgroundcolor": "#E5ECF6",
            "gridcolor": "white",
            "gridwidth": 2,
            "linecolor": "white",
            "showbackground": true,
            "ticks": "",
            "zerolinecolor": "white"
           }
          },
          "shapedefaults": {
           "line": {
            "color": "#2a3f5f"
           }
          },
          "ternary": {
           "aaxis": {
            "gridcolor": "white",
            "linecolor": "white",
            "ticks": ""
           },
           "baxis": {
            "gridcolor": "white",
            "linecolor": "white",
            "ticks": ""
           },
           "bgcolor": "#E5ECF6",
           "caxis": {
            "gridcolor": "white",
            "linecolor": "white",
            "ticks": ""
           }
          },
          "title": {
           "x": 0.05
          },
          "xaxis": {
           "automargin": true,
           "gridcolor": "white",
           "linecolor": "white",
           "ticks": "",
           "title": {
            "standoff": 15
           },
           "zerolinecolor": "white",
           "zerolinewidth": 2
          },
          "yaxis": {
           "automargin": true,
           "gridcolor": "white",
           "linecolor": "white",
           "ticks": "",
           "title": {
            "standoff": 15
           },
           "zerolinecolor": "white",
           "zerolinewidth": 2
          }
         }
        },
        "title": {
         "text": "Adverse Impact Ratio By Quantile"
        },
        "xaxis": {
         "anchor": "y",
         "domain": [
          0,
          0.45
         ],
         "title": {
          "text": "Quantile"
         }
        },
        "xaxis2": {
         "anchor": "y2",
         "domain": [
          0.55,
          1
         ],
         "title": {
          "text": "Quantile"
         }
        },
        "xaxis3": {
         "anchor": "y3",
         "domain": [
          0,
          0.45
         ],
         "title": {
          "text": "Quantile"
         }
        },
        "xaxis4": {
         "anchor": "y4",
         "domain": [
          0.55,
          1
         ],
         "title": {
          "text": "Quantile"
         }
        },
        "xaxis5": {
         "anchor": "y5",
         "domain": [
          0,
          0.45
         ],
         "title": {
          "text": "Quantile"
         }
        },
        "xaxis6": {
         "anchor": "y6",
         "domain": [
          0.55,
          1
         ]
        },
        "yaxis": {
         "anchor": "x",
         "domain": [
          0.7777777777777778,
          1
         ],
         "tickformat": "0,.3f",
         "title": {
          "text": "AIR"
         },
         "zeroline": true,
         "zerolinecolor": "Black",
         "zerolinewidth": 1
        },
        "yaxis2": {
         "anchor": "x2",
         "domain": [
          0.7777777777777778,
          1
         ],
         "tickformat": "0,.3f",
         "title": {
          "text": "AIR"
         },
         "zeroline": true,
         "zerolinecolor": "Black",
         "zerolinewidth": 1
        },
        "yaxis3": {
         "anchor": "x3",
         "domain": [
          0.3888888888888889,
          0.6111111111111112
         ],
         "tickformat": "0,.3f",
         "title": {
          "text": "AIR"
         },
         "zeroline": true,
         "zerolinecolor": "Black",
         "zerolinewidth": 1
        },
        "yaxis4": {
         "anchor": "x4",
         "domain": [
          0.3888888888888889,
          0.6111111111111112
         ],
         "tickformat": "0,.3f",
         "title": {
          "text": "AIR"
         },
         "zeroline": true,
         "zerolinecolor": "Black",
         "zerolinewidth": 1
        },
        "yaxis5": {
         "anchor": "x5",
         "domain": [
          0,
          0.22222222222222224
         ],
         "tickformat": "0,.3f",
         "title": {
          "text": "AIR"
         },
         "zeroline": true,
         "zerolinecolor": "Black",
         "zerolinewidth": 1
        },
        "yaxis6": {
         "anchor": "x6",
         "domain": [
          0,
          0.22222222222222224
         ],
         "zeroline": true,
         "zerolinecolor": "Black",
         "zerolinewidth": 1
        }
       }
      }
     },
     "metadata": {},
     "output_type": "display_data"
    }
   ],
   "source": [
    "airq = sd.adverse_impact_ratio_by_quantile(\n",
    "    **common_info_for_testing,\n",
    "    outcome=df.loc[~train, 'predictions'],\n",
    "    air_threshold=0.8,\n",
    "    percent_difference_threshold=0.0,\n",
    "    quantiles=[decile / 10 for decile in range(1, 11)],\n",
    "    lower_score_favorable=False,\n",
    ")\n",
    "airq.plot()"
   ]
  },
  {
   "cell_type": "markdown",
   "metadata": {},
   "source": [
    "## Standardized Mean Difference (SMD)"
   ]
  },
  {
   "cell_type": "code",
   "execution_count": 13,
   "metadata": {},
   "outputs": [
    {
     "data": {
      "text/markdown": [
       "## Disparity Calculation: SMD"
      ]
     },
     "metadata": {},
     "output_type": "display_data"
    },
    {
     "data": {
      "text/html": [
       "<pre style=\"white-space:pre;overflow-x:auto;line-height:normal;font-family:Menlo,'DejaVu Sans Mono',consolas,'Courier New',monospace\">┌───────────────────────────────────┬─────────────────────────────────────────────────────────────────────────────┐\n",
       "│ Protected Groups                  │ Black, Asian, Native American, Hispanic, Female                             │\n",
       "│ Reference Groups                  │ White, White, White, Non-Hispanic, Male                                     │\n",
       "│ Group Categories                  │ Race, Race, Race, Ethnicity, Sex                                            │\n",
       "│ SMD Threshold                     │ -30.0                                                                       │\n",
       "│ Affected Groups                   │ Black, Native American, Hispanic                                            │\n",
       "│ Affected Reference                │ White, White, Non-Hispanic                                                  │\n",
       "│ Affected Categories               │ Race, Race, Ethnicity                                                       │\n",
       "└───────────────────────────────────┴─────────────────────────────────────────────────────────────────────────────┘\n",
       "</pre>\n"
      ],
      "text/plain": [
       "┌───────────────────────────────────┬─────────────────────────────────────────────────────────────────────────────┐\n",
       "│ Protected Groups                  │ Black, Asian, Native American, Hispanic, Female                             │\n",
       "│ Reference Groups                  │ White, White, White, Non-Hispanic, Male                                     │\n",
       "│ Group Categories                  │ Race, Race, Race, Ethnicity, Sex                                            │\n",
       "│ SMD Threshold                     │ -30.0                                                                       │\n",
       "│ Affected Groups                   │ Black, Native American, Hispanic                                            │\n",
       "│ Affected Reference                │ White, White, Non-Hispanic                                                  │\n",
       "│ Affected Categories               │ Race, Race, Ethnicity                                                       │\n",
       "└───────────────────────────────────┴─────────────────────────────────────────────────────────────────────────────┘\n"
      ]
     },
     "metadata": {},
     "output_type": "display_data"
    },
    {
     "data": {
      "text/markdown": [
       "\\* Percent Missing: Ethnicity: 14.63%, Race: 14.33%, Sex: 45.24%"
      ]
     },
     "metadata": {},
     "output_type": "display_data"
    },
    {
     "data": {
      "text/markdown": [
       "## SMD Summary Table"
      ]
     },
     "metadata": {},
     "output_type": "display_data"
    },
    {
     "data": {
      "text/html": [
       "<div>\n",
       "<style scoped>\n",
       "    .dataframe tbody tr th:only-of-type {\n",
       "        vertical-align: middle;\n",
       "    }\n",
       "\n",
       "    .dataframe tbody tr th {\n",
       "        vertical-align: top;\n",
       "    }\n",
       "\n",
       "    .dataframe thead th {\n",
       "        text-align: right;\n",
       "    }\n",
       "</style>\n",
       "<table border=\"False\" class=\"dataframe\">\n",
       "  <thead>\n",
       "    <tr style=\"text-align: right;\">\n",
       "      <th>Group Category</th>\n",
       "      <th>Group</th>\n",
       "      <th>Reference Group</th>\n",
       "      <th>Observations</th>\n",
       "      <th>Percent Missing</th>\n",
       "      <th>Total</th>\n",
       "      <th>Average Outcome</th>\n",
       "      <th>Std. Dev. of Outcomes</th>\n",
       "      <th>SMD</th>\n",
       "      <th>P-Values</th>\n",
       "      <th>Practically Significant</th>\n",
       "    </tr>\n",
       "  </thead>\n",
       "  <tbody>\n",
       "    <tr>\n",
       "      <td>Race</td>\n",
       "      <td>Black</td>\n",
       "      <td>White</td>\n",
       "      <td>3,490</td>\n",
       "      <td>14.33%</td>\n",
       "      <td>269.0</td>\n",
       "      <td>0.82</td>\n",
       "      <td>0.11</td>\n",
       "      <td>-77.852</td>\n",
       "      <td>0.000</td>\n",
       "      <td>Yes</td>\n",
       "    </tr>\n",
       "    <tr>\n",
       "      <td>Race</td>\n",
       "      <td>Asian</td>\n",
       "      <td>White</td>\n",
       "      <td>3,490</td>\n",
       "      <td>14.33%</td>\n",
       "      <td>274.0</td>\n",
       "      <td>0.96</td>\n",
       "      <td>0.11</td>\n",
       "      <td>47.864</td>\n",
       "      <td>0.000</td>\n",
       "      <td>No</td>\n",
       "    </tr>\n",
       "    <tr>\n",
       "      <td>Race</td>\n",
       "      <td>Native American</td>\n",
       "      <td>White</td>\n",
       "      <td>3,490</td>\n",
       "      <td>14.33%</td>\n",
       "      <td>17.0</td>\n",
       "      <td>0.83</td>\n",
       "      <td>0.11</td>\n",
       "      <td>-73.438</td>\n",
       "      <td>0.002</td>\n",
       "      <td>Yes</td>\n",
       "    </tr>\n",
       "    <tr>\n",
       "      <td>Race</td>\n",
       "      <td>White</td>\n",
       "      <td></td>\n",
       "      <td>3,490</td>\n",
       "      <td>14.33%</td>\n",
       "      <td>2,918.0</td>\n",
       "      <td>0.91</td>\n",
       "      <td>0.11</td>\n",
       "      <td></td>\n",
       "      <td></td>\n",
       "      <td></td>\n",
       "    </tr>\n",
       "    <tr>\n",
       "      <td>Ethnicity</td>\n",
       "      <td>Hispanic</td>\n",
       "      <td>Non-Hispanic</td>\n",
       "      <td>3,478</td>\n",
       "      <td>14.63%</td>\n",
       "      <td>386.0</td>\n",
       "      <td>0.85</td>\n",
       "      <td>0.11</td>\n",
       "      <td>-52.513</td>\n",
       "      <td>0.000</td>\n",
       "      <td>Yes</td>\n",
       "    </tr>\n",
       "    <tr>\n",
       "      <td>Ethnicity</td>\n",
       "      <td>Non-Hispanic</td>\n",
       "      <td></td>\n",
       "      <td>3,478</td>\n",
       "      <td>14.63%</td>\n",
       "      <td>3,092.0</td>\n",
       "      <td>0.91</td>\n",
       "      <td>0.11</td>\n",
       "      <td></td>\n",
       "      <td></td>\n",
       "      <td></td>\n",
       "    </tr>\n",
       "    <tr>\n",
       "      <td>Sex</td>\n",
       "      <td>Female</td>\n",
       "      <td>Male</td>\n",
       "      <td>2,231</td>\n",
       "      <td>45.24%</td>\n",
       "      <td>873.0</td>\n",
       "      <td>0.89</td>\n",
       "      <td>0.11</td>\n",
       "      <td>-8.156</td>\n",
       "      <td>0.076</td>\n",
       "      <td>No</td>\n",
       "    </tr>\n",
       "    <tr>\n",
       "      <td>Sex</td>\n",
       "      <td>Male</td>\n",
       "      <td></td>\n",
       "      <td>2,231</td>\n",
       "      <td>45.24%</td>\n",
       "      <td>1,358.0</td>\n",
       "      <td>0.89</td>\n",
       "      <td>0.11</td>\n",
       "      <td></td>\n",
       "      <td></td>\n",
       "      <td></td>\n",
       "    </tr>\n",
       "  </tbody>\n",
       "</table>\n",
       "</div>"
      ],
      "text/plain": [
       "<IPython.core.display.HTML object>"
      ]
     },
     "metadata": {},
     "output_type": "display_data"
    },
    {
     "data": {
      "application/vnd.plotly.v1+json": {
       "config": {
        "plotlyServerURL": "https://plot.ly"
       },
       "data": [
        {
         "cliponaxis": false,
         "hovertemplate": "%{x}, %{y}<extra></extra>",
         "marker": {
          "color": "RGBA(78, 121, 167, 1.0)",
          "line": {
           "color": "rgb(8,48,107)",
           "width": 0
          },
          "pattern": {
           "shape": "/"
          }
         },
         "name": "Race",
         "showlegend": true,
         "text": "-77.852",
         "textfont": {
          "color": "Black"
         },
         "type": "bar",
         "x": [
          [
           "Race"
          ],
          [
           "Black"
          ]
         ],
         "y": [
          -77.85193700969484
         ]
        },
        {
         "cliponaxis": false,
         "hovertemplate": "%{x}, %{y}<extra></extra>",
         "marker": {
          "color": "RGBA(78, 121, 167, 0.6666666666666667)",
          "line": {
           "color": "rgb(8,48,107)",
           "width": 0
          },
          "pattern": {
           "shape": ""
          }
         },
         "name": "Race",
         "showlegend": false,
         "text": "47.864",
         "textfont": {
          "color": "Black"
         },
         "type": "bar",
         "x": [
          [
           "Race"
          ],
          [
           "Asian"
          ]
         ],
         "y": [
          47.86358014742342
         ]
        },
        {
         "cliponaxis": false,
         "hovertemplate": "%{x}, %{y}<extra></extra>",
         "marker": {
          "color": "RGBA(78, 121, 167, 0.3333333333333334)",
          "line": {
           "color": "rgb(8,48,107)",
           "width": 0
          },
          "pattern": {
           "shape": "/"
          }
         },
         "name": "Race",
         "showlegend": false,
         "text": "-73.438",
         "textfont": {
          "color": "Black"
         },
         "type": "bar",
         "x": [
          [
           "Race"
          ],
          [
           "Native American"
          ]
         ],
         "y": [
          -73.43787565681812
         ]
        },
        {
         "cliponaxis": false,
         "hovertemplate": "%{x}, %{y}<extra></extra>",
         "marker": {
          "color": "RGBA(242, 142, 45, 1.0)",
          "line": {
           "color": "rgb(8,48,107)",
           "width": 0
          },
          "pattern": {
           "shape": "/"
          }
         },
         "name": "Ethnicity",
         "showlegend": true,
         "text": "-52.513",
         "textfont": {
          "color": "Black"
         },
         "type": "bar",
         "x": [
          [
           "Ethnicity"
          ],
          [
           "Hispanic"
          ]
         ],
         "y": [
          -52.512779003723196
         ]
        },
        {
         "cliponaxis": false,
         "hovertemplate": "%{x}, %{y}<extra></extra>",
         "marker": {
          "color": "RGBA(225, 87, 89, 1.0)",
          "line": {
           "color": "rgb(8,48,107)",
           "width": 0
          },
          "pattern": {
           "shape": ""
          }
         },
         "name": "Sex",
         "showlegend": true,
         "text": "-8.156",
         "textfont": {
          "color": "Black"
         },
         "type": "bar",
         "x": [
          [
           "Sex"
          ],
          [
           "Female"
          ]
         ],
         "y": [
          -8.155678432650284
         ]
        },
        {
         "line": {
          "color": "Black",
          "dash": "dot",
          "width": 0.25
         },
         "mode": "lines",
         "name": "SMD Threshold",
         "text": "SMD Threshold",
         "type": "scatter",
         "x": [
          [
           "Race",
           "Race",
           "Race",
           "Ethnicity",
           "Sex"
          ],
          [
           "Black",
           "Asian",
           "Native American",
           "Hispanic",
           "Female"
          ]
         ],
         "y": [
          -30,
          -30,
          -30,
          -30,
          -30
         ]
        }
       ],
       "layout": {
        "legend": {
         "title": {
          "text": "Legend"
         }
        },
        "scene": {
         "yaxis": {
          "exponentformat": "none",
          "separatethousands": true
         }
        },
        "shapes": [
         {
          "line": {
           "color": "Black",
           "dash": "dot",
           "width": 1.25
          },
          "name": "SMD Threshold",
          "type": "line",
          "x0": 0,
          "x1": 1,
          "xref": "paper",
          "y0": 0.39257301153127244,
          "y1": 0.39257301153127244,
          "yref": "paper"
         }
        ],
        "template": {
         "data": {
          "bar": [
           {
            "error_x": {
             "color": "#2a3f5f"
            },
            "error_y": {
             "color": "#2a3f5f"
            },
            "marker": {
             "line": {
              "color": "#E5ECF6",
              "width": 0.5
             },
             "pattern": {
              "fillmode": "overlay",
              "size": 10,
              "solidity": 0.2
             }
            },
            "type": "bar"
           }
          ],
          "barpolar": [
           {
            "marker": {
             "line": {
              "color": "#E5ECF6",
              "width": 0.5
             },
             "pattern": {
              "fillmode": "overlay",
              "size": 10,
              "solidity": 0.2
             }
            },
            "type": "barpolar"
           }
          ],
          "carpet": [
           {
            "aaxis": {
             "endlinecolor": "#2a3f5f",
             "gridcolor": "white",
             "linecolor": "white",
             "minorgridcolor": "white",
             "startlinecolor": "#2a3f5f"
            },
            "baxis": {
             "endlinecolor": "#2a3f5f",
             "gridcolor": "white",
             "linecolor": "white",
             "minorgridcolor": "white",
             "startlinecolor": "#2a3f5f"
            },
            "type": "carpet"
           }
          ],
          "choropleth": [
           {
            "colorbar": {
             "outlinewidth": 0,
             "ticks": ""
            },
            "type": "choropleth"
           }
          ],
          "contour": [
           {
            "colorbar": {
             "outlinewidth": 0,
             "ticks": ""
            },
            "colorscale": [
             [
              0,
              "#0d0887"
             ],
             [
              0.1111111111111111,
              "#46039f"
             ],
             [
              0.2222222222222222,
              "#7201a8"
             ],
             [
              0.3333333333333333,
              "#9c179e"
             ],
             [
              0.4444444444444444,
              "#bd3786"
             ],
             [
              0.5555555555555556,
              "#d8576b"
             ],
             [
              0.6666666666666666,
              "#ed7953"
             ],
             [
              0.7777777777777778,
              "#fb9f3a"
             ],
             [
              0.8888888888888888,
              "#fdca26"
             ],
             [
              1,
              "#f0f921"
             ]
            ],
            "type": "contour"
           }
          ],
          "contourcarpet": [
           {
            "colorbar": {
             "outlinewidth": 0,
             "ticks": ""
            },
            "type": "contourcarpet"
           }
          ],
          "heatmap": [
           {
            "colorbar": {
             "outlinewidth": 0,
             "ticks": ""
            },
            "colorscale": [
             [
              0,
              "#0d0887"
             ],
             [
              0.1111111111111111,
              "#46039f"
             ],
             [
              0.2222222222222222,
              "#7201a8"
             ],
             [
              0.3333333333333333,
              "#9c179e"
             ],
             [
              0.4444444444444444,
              "#bd3786"
             ],
             [
              0.5555555555555556,
              "#d8576b"
             ],
             [
              0.6666666666666666,
              "#ed7953"
             ],
             [
              0.7777777777777778,
              "#fb9f3a"
             ],
             [
              0.8888888888888888,
              "#fdca26"
             ],
             [
              1,
              "#f0f921"
             ]
            ],
            "type": "heatmap"
           }
          ],
          "heatmapgl": [
           {
            "colorbar": {
             "outlinewidth": 0,
             "ticks": ""
            },
            "colorscale": [
             [
              0,
              "#0d0887"
             ],
             [
              0.1111111111111111,
              "#46039f"
             ],
             [
              0.2222222222222222,
              "#7201a8"
             ],
             [
              0.3333333333333333,
              "#9c179e"
             ],
             [
              0.4444444444444444,
              "#bd3786"
             ],
             [
              0.5555555555555556,
              "#d8576b"
             ],
             [
              0.6666666666666666,
              "#ed7953"
             ],
             [
              0.7777777777777778,
              "#fb9f3a"
             ],
             [
              0.8888888888888888,
              "#fdca26"
             ],
             [
              1,
              "#f0f921"
             ]
            ],
            "type": "heatmapgl"
           }
          ],
          "histogram": [
           {
            "marker": {
             "pattern": {
              "fillmode": "overlay",
              "size": 10,
              "solidity": 0.2
             }
            },
            "type": "histogram"
           }
          ],
          "histogram2d": [
           {
            "colorbar": {
             "outlinewidth": 0,
             "ticks": ""
            },
            "colorscale": [
             [
              0,
              "#0d0887"
             ],
             [
              0.1111111111111111,
              "#46039f"
             ],
             [
              0.2222222222222222,
              "#7201a8"
             ],
             [
              0.3333333333333333,
              "#9c179e"
             ],
             [
              0.4444444444444444,
              "#bd3786"
             ],
             [
              0.5555555555555556,
              "#d8576b"
             ],
             [
              0.6666666666666666,
              "#ed7953"
             ],
             [
              0.7777777777777778,
              "#fb9f3a"
             ],
             [
              0.8888888888888888,
              "#fdca26"
             ],
             [
              1,
              "#f0f921"
             ]
            ],
            "type": "histogram2d"
           }
          ],
          "histogram2dcontour": [
           {
            "colorbar": {
             "outlinewidth": 0,
             "ticks": ""
            },
            "colorscale": [
             [
              0,
              "#0d0887"
             ],
             [
              0.1111111111111111,
              "#46039f"
             ],
             [
              0.2222222222222222,
              "#7201a8"
             ],
             [
              0.3333333333333333,
              "#9c179e"
             ],
             [
              0.4444444444444444,
              "#bd3786"
             ],
             [
              0.5555555555555556,
              "#d8576b"
             ],
             [
              0.6666666666666666,
              "#ed7953"
             ],
             [
              0.7777777777777778,
              "#fb9f3a"
             ],
             [
              0.8888888888888888,
              "#fdca26"
             ],
             [
              1,
              "#f0f921"
             ]
            ],
            "type": "histogram2dcontour"
           }
          ],
          "mesh3d": [
           {
            "colorbar": {
             "outlinewidth": 0,
             "ticks": ""
            },
            "type": "mesh3d"
           }
          ],
          "parcoords": [
           {
            "line": {
             "colorbar": {
              "outlinewidth": 0,
              "ticks": ""
             }
            },
            "type": "parcoords"
           }
          ],
          "pie": [
           {
            "automargin": true,
            "type": "pie"
           }
          ],
          "scatter": [
           {
            "fillpattern": {
             "fillmode": "overlay",
             "size": 10,
             "solidity": 0.2
            },
            "type": "scatter"
           }
          ],
          "scatter3d": [
           {
            "line": {
             "colorbar": {
              "outlinewidth": 0,
              "ticks": ""
             }
            },
            "marker": {
             "colorbar": {
              "outlinewidth": 0,
              "ticks": ""
             }
            },
            "type": "scatter3d"
           }
          ],
          "scattercarpet": [
           {
            "marker": {
             "colorbar": {
              "outlinewidth": 0,
              "ticks": ""
             }
            },
            "type": "scattercarpet"
           }
          ],
          "scattergeo": [
           {
            "marker": {
             "colorbar": {
              "outlinewidth": 0,
              "ticks": ""
             }
            },
            "type": "scattergeo"
           }
          ],
          "scattergl": [
           {
            "marker": {
             "colorbar": {
              "outlinewidth": 0,
              "ticks": ""
             }
            },
            "type": "scattergl"
           }
          ],
          "scattermapbox": [
           {
            "marker": {
             "colorbar": {
              "outlinewidth": 0,
              "ticks": ""
             }
            },
            "type": "scattermapbox"
           }
          ],
          "scatterpolar": [
           {
            "marker": {
             "colorbar": {
              "outlinewidth": 0,
              "ticks": ""
             }
            },
            "type": "scatterpolar"
           }
          ],
          "scatterpolargl": [
           {
            "marker": {
             "colorbar": {
              "outlinewidth": 0,
              "ticks": ""
             }
            },
            "type": "scatterpolargl"
           }
          ],
          "scatterternary": [
           {
            "marker": {
             "colorbar": {
              "outlinewidth": 0,
              "ticks": ""
             }
            },
            "type": "scatterternary"
           }
          ],
          "surface": [
           {
            "colorbar": {
             "outlinewidth": 0,
             "ticks": ""
            },
            "colorscale": [
             [
              0,
              "#0d0887"
             ],
             [
              0.1111111111111111,
              "#46039f"
             ],
             [
              0.2222222222222222,
              "#7201a8"
             ],
             [
              0.3333333333333333,
              "#9c179e"
             ],
             [
              0.4444444444444444,
              "#bd3786"
             ],
             [
              0.5555555555555556,
              "#d8576b"
             ],
             [
              0.6666666666666666,
              "#ed7953"
             ],
             [
              0.7777777777777778,
              "#fb9f3a"
             ],
             [
              0.8888888888888888,
              "#fdca26"
             ],
             [
              1,
              "#f0f921"
             ]
            ],
            "type": "surface"
           }
          ],
          "table": [
           {
            "cells": {
             "fill": {
              "color": "#EBF0F8"
             },
             "line": {
              "color": "white"
             }
            },
            "header": {
             "fill": {
              "color": "#C8D4E3"
             },
             "line": {
              "color": "white"
             }
            },
            "type": "table"
           }
          ]
         },
         "layout": {
          "annotationdefaults": {
           "arrowcolor": "#2a3f5f",
           "arrowhead": 0,
           "arrowwidth": 1
          },
          "autotypenumbers": "strict",
          "coloraxis": {
           "colorbar": {
            "outlinewidth": 0,
            "ticks": ""
           }
          },
          "colorscale": {
           "diverging": [
            [
             0,
             "#8e0152"
            ],
            [
             0.1,
             "#c51b7d"
            ],
            [
             0.2,
             "#de77ae"
            ],
            [
             0.3,
             "#f1b6da"
            ],
            [
             0.4,
             "#fde0ef"
            ],
            [
             0.5,
             "#f7f7f7"
            ],
            [
             0.6,
             "#e6f5d0"
            ],
            [
             0.7,
             "#b8e186"
            ],
            [
             0.8,
             "#7fbc41"
            ],
            [
             0.9,
             "#4d9221"
            ],
            [
             1,
             "#276419"
            ]
           ],
           "sequential": [
            [
             0,
             "#0d0887"
            ],
            [
             0.1111111111111111,
             "#46039f"
            ],
            [
             0.2222222222222222,
             "#7201a8"
            ],
            [
             0.3333333333333333,
             "#9c179e"
            ],
            [
             0.4444444444444444,
             "#bd3786"
            ],
            [
             0.5555555555555556,
             "#d8576b"
            ],
            [
             0.6666666666666666,
             "#ed7953"
            ],
            [
             0.7777777777777778,
             "#fb9f3a"
            ],
            [
             0.8888888888888888,
             "#fdca26"
            ],
            [
             1,
             "#f0f921"
            ]
           ],
           "sequentialminus": [
            [
             0,
             "#0d0887"
            ],
            [
             0.1111111111111111,
             "#46039f"
            ],
            [
             0.2222222222222222,
             "#7201a8"
            ],
            [
             0.3333333333333333,
             "#9c179e"
            ],
            [
             0.4444444444444444,
             "#bd3786"
            ],
            [
             0.5555555555555556,
             "#d8576b"
            ],
            [
             0.6666666666666666,
             "#ed7953"
            ],
            [
             0.7777777777777778,
             "#fb9f3a"
            ],
            [
             0.8888888888888888,
             "#fdca26"
            ],
            [
             1,
             "#f0f921"
            ]
           ]
          },
          "colorway": [
           "#636efa",
           "#EF553B",
           "#00cc96",
           "#ab63fa",
           "#FFA15A",
           "#19d3f3",
           "#FF6692",
           "#B6E880",
           "#FF97FF",
           "#FECB52"
          ],
          "font": {
           "color": "#2a3f5f"
          },
          "geo": {
           "bgcolor": "white",
           "lakecolor": "white",
           "landcolor": "#E5ECF6",
           "showlakes": true,
           "showland": true,
           "subunitcolor": "white"
          },
          "hoverlabel": {
           "align": "left"
          },
          "hovermode": "closest",
          "mapbox": {
           "style": "light"
          },
          "paper_bgcolor": "white",
          "plot_bgcolor": "#E5ECF6",
          "polar": {
           "angularaxis": {
            "gridcolor": "white",
            "linecolor": "white",
            "ticks": ""
           },
           "bgcolor": "#E5ECF6",
           "radialaxis": {
            "gridcolor": "white",
            "linecolor": "white",
            "ticks": ""
           }
          },
          "scene": {
           "xaxis": {
            "backgroundcolor": "#E5ECF6",
            "gridcolor": "white",
            "gridwidth": 2,
            "linecolor": "white",
            "showbackground": true,
            "ticks": "",
            "zerolinecolor": "white"
           },
           "yaxis": {
            "backgroundcolor": "#E5ECF6",
            "gridcolor": "white",
            "gridwidth": 2,
            "linecolor": "white",
            "showbackground": true,
            "ticks": "",
            "zerolinecolor": "white"
           },
           "zaxis": {
            "backgroundcolor": "#E5ECF6",
            "gridcolor": "white",
            "gridwidth": 2,
            "linecolor": "white",
            "showbackground": true,
            "ticks": "",
            "zerolinecolor": "white"
           }
          },
          "shapedefaults": {
           "line": {
            "color": "#2a3f5f"
           }
          },
          "ternary": {
           "aaxis": {
            "gridcolor": "white",
            "linecolor": "white",
            "ticks": ""
           },
           "baxis": {
            "gridcolor": "white",
            "linecolor": "white",
            "ticks": ""
           },
           "bgcolor": "#E5ECF6",
           "caxis": {
            "gridcolor": "white",
            "linecolor": "white",
            "ticks": ""
           }
          },
          "title": {
           "x": 0.05
          },
          "xaxis": {
           "automargin": true,
           "gridcolor": "white",
           "linecolor": "white",
           "ticks": "",
           "title": {
            "standoff": 15
           },
           "zerolinecolor": "white",
           "zerolinewidth": 2
          },
          "yaxis": {
           "automargin": true,
           "gridcolor": "white",
           "linecolor": "white",
           "ticks": "",
           "title": {
            "standoff": 15
           },
           "zerolinecolor": "white",
           "zerolinewidth": 2
          }
         }
        },
        "title": {
         "text": "Standardized Mean Difference (SMD)"
        },
        "uniformtext": {
         "minsize": 8,
         "mode": "hide"
        },
        "xaxis": {
         "fixedrange": true,
         "title": {
          "text": "Group"
         }
        },
        "yaxis": {
         "fixedrange": true,
         "tickformat": "0,.3f",
         "ticksuffix": "  ",
         "title": {
          "text": "SMD"
         },
         "zeroline": true,
         "zerolinecolor": "Black",
         "zerolinewidth": 1
        }
       }
      }
     },
     "metadata": {},
     "output_type": "display_data"
    }
   ],
   "source": [
    "smd = sd.standardized_mean_difference(\n",
    "    **common_info_for_testing,\n",
    "    outcome=df.loc[~train, 'predictions'],\n",
    "    smd_threshold=-30,\n",
    "    lower_score_favorable=False,\n",
    ")\n",
    "smd"
   ]
  },
  {
   "cell_type": "markdown",
   "metadata": {},
   "source": [
    "## Residual Standardized Mean Difference"
   ]
  },
  {
   "cell_type": "code",
   "execution_count": 14,
   "metadata": {},
   "outputs": [
    {
     "data": {
      "application/vnd.plotly.v1+json": {
       "config": {
        "plotlyServerURL": "https://plot.ly"
       },
       "data": [
        {
         "cliponaxis": false,
         "hovertemplate": "%{x}, %{y}<extra></extra>",
         "marker": {
          "color": "RGBA(78, 121, 167, 1.0)",
          "line": {
           "color": "rgb(8,48,107)",
           "width": 0
          },
          "pattern": {
           "shape": ""
          }
         },
         "name": "Race",
         "showlegend": true,
         "text": "-12.12",
         "textfont": {
          "color": "Black"
         },
         "type": "bar",
         "x": [
          [
           "Race"
          ],
          [
           "Black"
          ]
         ],
         "y": [
          -12.12145400679041
         ]
        },
        {
         "cliponaxis": false,
         "hovertemplate": "%{x}, %{y}<extra></extra>",
         "marker": {
          "color": "RGBA(78, 121, 167, 0.6666666666666667)",
          "line": {
           "color": "rgb(8,48,107)",
           "width": 0
          },
          "pattern": {
           "shape": ""
          }
         },
         "name": "Race",
         "showlegend": false,
         "text": "4.43",
         "textfont": {
          "color": "Black"
         },
         "type": "bar",
         "x": [
          [
           "Race"
          ],
          [
           "Asian"
          ]
         ],
         "y": [
          4.430784476460014
         ]
        },
        {
         "cliponaxis": false,
         "hovertemplate": "%{x}, %{y}<extra></extra>",
         "marker": {
          "color": "RGBA(78, 121, 167, 0.3333333333333334)",
          "line": {
           "color": "rgb(8,48,107)",
           "width": 0
          },
          "pattern": {
           "shape": ""
          }
         },
         "name": "Race",
         "showlegend": false,
         "text": "-44.27",
         "textfont": {
          "color": "Black"
         },
         "type": "bar",
         "x": [
          [
           "Race"
          ],
          [
           "Native American"
          ]
         ],
         "y": [
          -44.270752358846224
         ]
        },
        {
         "cliponaxis": false,
         "hovertemplate": "%{x}, %{y}<extra></extra>",
         "marker": {
          "color": "RGBA(242, 142, 45, 1.0)",
          "line": {
           "color": "rgb(8,48,107)",
           "width": 0
          },
          "pattern": {
           "shape": ""
          }
         },
         "name": "Ethnicity",
         "showlegend": true,
         "text": "-31.87",
         "textfont": {
          "color": "Black"
         },
         "type": "bar",
         "x": [
          [
           "Ethnicity"
          ],
          [
           "Hispanic"
          ]
         ],
         "y": [
          -31.86945145920339
         ]
        },
        {
         "cliponaxis": false,
         "hovertemplate": "%{x}, %{y}<extra></extra>",
         "marker": {
          "color": "RGBA(225, 87, 89, 1.0)",
          "line": {
           "color": "rgb(8,48,107)",
           "width": 0
          },
          "pattern": {
           "shape": ""
          }
         },
         "name": "Sex",
         "showlegend": true,
         "text": "-5.31",
         "textfont": {
          "color": "Black"
         },
         "type": "bar",
         "x": [
          [
           "Sex"
          ],
          [
           "Female"
          ]
         ],
         "y": [
          -5.310800341136744
         ]
        },
        {
         "line": {
          "color": "Black",
          "dash": "dot",
          "width": 0.25
         },
         "mode": "lines",
         "name": "Residual SMD Threshold",
         "text": "Residual SMD Threshold",
         "type": "scatter",
         "x": [
          [
           "Race",
           "Race",
           "Race",
           "Ethnicity",
           "Sex"
          ],
          [
           "Black",
           "Asian",
           "Native American",
           "Hispanic",
           "Female"
          ]
         ],
         "y": [
          30,
          30,
          30,
          30,
          30
         ]
        }
       ],
       "layout": {
        "legend": {
         "title": {
          "text": "Legend"
         }
        },
        "scene": {
         "yaxis": {
          "exponentformat": "none",
          "separatethousands": true
         }
        },
        "shapes": [
         {
          "line": {
           "color": "Black",
           "dash": "dot",
           "width": 1.25
          },
          "name": "Residual SMD Threshold",
          "type": "line",
          "x0": 0,
          "x1": 1,
          "xref": "paper",
          "y0": 0.95,
          "y1": 0.95,
          "yref": "paper"
         }
        ],
        "template": {
         "data": {
          "bar": [
           {
            "error_x": {
             "color": "#2a3f5f"
            },
            "error_y": {
             "color": "#2a3f5f"
            },
            "marker": {
             "line": {
              "color": "#E5ECF6",
              "width": 0.5
             },
             "pattern": {
              "fillmode": "overlay",
              "size": 10,
              "solidity": 0.2
             }
            },
            "type": "bar"
           }
          ],
          "barpolar": [
           {
            "marker": {
             "line": {
              "color": "#E5ECF6",
              "width": 0.5
             },
             "pattern": {
              "fillmode": "overlay",
              "size": 10,
              "solidity": 0.2
             }
            },
            "type": "barpolar"
           }
          ],
          "carpet": [
           {
            "aaxis": {
             "endlinecolor": "#2a3f5f",
             "gridcolor": "white",
             "linecolor": "white",
             "minorgridcolor": "white",
             "startlinecolor": "#2a3f5f"
            },
            "baxis": {
             "endlinecolor": "#2a3f5f",
             "gridcolor": "white",
             "linecolor": "white",
             "minorgridcolor": "white",
             "startlinecolor": "#2a3f5f"
            },
            "type": "carpet"
           }
          ],
          "choropleth": [
           {
            "colorbar": {
             "outlinewidth": 0,
             "ticks": ""
            },
            "type": "choropleth"
           }
          ],
          "contour": [
           {
            "colorbar": {
             "outlinewidth": 0,
             "ticks": ""
            },
            "colorscale": [
             [
              0,
              "#0d0887"
             ],
             [
              0.1111111111111111,
              "#46039f"
             ],
             [
              0.2222222222222222,
              "#7201a8"
             ],
             [
              0.3333333333333333,
              "#9c179e"
             ],
             [
              0.4444444444444444,
              "#bd3786"
             ],
             [
              0.5555555555555556,
              "#d8576b"
             ],
             [
              0.6666666666666666,
              "#ed7953"
             ],
             [
              0.7777777777777778,
              "#fb9f3a"
             ],
             [
              0.8888888888888888,
              "#fdca26"
             ],
             [
              1,
              "#f0f921"
             ]
            ],
            "type": "contour"
           }
          ],
          "contourcarpet": [
           {
            "colorbar": {
             "outlinewidth": 0,
             "ticks": ""
            },
            "type": "contourcarpet"
           }
          ],
          "heatmap": [
           {
            "colorbar": {
             "outlinewidth": 0,
             "ticks": ""
            },
            "colorscale": [
             [
              0,
              "#0d0887"
             ],
             [
              0.1111111111111111,
              "#46039f"
             ],
             [
              0.2222222222222222,
              "#7201a8"
             ],
             [
              0.3333333333333333,
              "#9c179e"
             ],
             [
              0.4444444444444444,
              "#bd3786"
             ],
             [
              0.5555555555555556,
              "#d8576b"
             ],
             [
              0.6666666666666666,
              "#ed7953"
             ],
             [
              0.7777777777777778,
              "#fb9f3a"
             ],
             [
              0.8888888888888888,
              "#fdca26"
             ],
             [
              1,
              "#f0f921"
             ]
            ],
            "type": "heatmap"
           }
          ],
          "heatmapgl": [
           {
            "colorbar": {
             "outlinewidth": 0,
             "ticks": ""
            },
            "colorscale": [
             [
              0,
              "#0d0887"
             ],
             [
              0.1111111111111111,
              "#46039f"
             ],
             [
              0.2222222222222222,
              "#7201a8"
             ],
             [
              0.3333333333333333,
              "#9c179e"
             ],
             [
              0.4444444444444444,
              "#bd3786"
             ],
             [
              0.5555555555555556,
              "#d8576b"
             ],
             [
              0.6666666666666666,
              "#ed7953"
             ],
             [
              0.7777777777777778,
              "#fb9f3a"
             ],
             [
              0.8888888888888888,
              "#fdca26"
             ],
             [
              1,
              "#f0f921"
             ]
            ],
            "type": "heatmapgl"
           }
          ],
          "histogram": [
           {
            "marker": {
             "pattern": {
              "fillmode": "overlay",
              "size": 10,
              "solidity": 0.2
             }
            },
            "type": "histogram"
           }
          ],
          "histogram2d": [
           {
            "colorbar": {
             "outlinewidth": 0,
             "ticks": ""
            },
            "colorscale": [
             [
              0,
              "#0d0887"
             ],
             [
              0.1111111111111111,
              "#46039f"
             ],
             [
              0.2222222222222222,
              "#7201a8"
             ],
             [
              0.3333333333333333,
              "#9c179e"
             ],
             [
              0.4444444444444444,
              "#bd3786"
             ],
             [
              0.5555555555555556,
              "#d8576b"
             ],
             [
              0.6666666666666666,
              "#ed7953"
             ],
             [
              0.7777777777777778,
              "#fb9f3a"
             ],
             [
              0.8888888888888888,
              "#fdca26"
             ],
             [
              1,
              "#f0f921"
             ]
            ],
            "type": "histogram2d"
           }
          ],
          "histogram2dcontour": [
           {
            "colorbar": {
             "outlinewidth": 0,
             "ticks": ""
            },
            "colorscale": [
             [
              0,
              "#0d0887"
             ],
             [
              0.1111111111111111,
              "#46039f"
             ],
             [
              0.2222222222222222,
              "#7201a8"
             ],
             [
              0.3333333333333333,
              "#9c179e"
             ],
             [
              0.4444444444444444,
              "#bd3786"
             ],
             [
              0.5555555555555556,
              "#d8576b"
             ],
             [
              0.6666666666666666,
              "#ed7953"
             ],
             [
              0.7777777777777778,
              "#fb9f3a"
             ],
             [
              0.8888888888888888,
              "#fdca26"
             ],
             [
              1,
              "#f0f921"
             ]
            ],
            "type": "histogram2dcontour"
           }
          ],
          "mesh3d": [
           {
            "colorbar": {
             "outlinewidth": 0,
             "ticks": ""
            },
            "type": "mesh3d"
           }
          ],
          "parcoords": [
           {
            "line": {
             "colorbar": {
              "outlinewidth": 0,
              "ticks": ""
             }
            },
            "type": "parcoords"
           }
          ],
          "pie": [
           {
            "automargin": true,
            "type": "pie"
           }
          ],
          "scatter": [
           {
            "fillpattern": {
             "fillmode": "overlay",
             "size": 10,
             "solidity": 0.2
            },
            "type": "scatter"
           }
          ],
          "scatter3d": [
           {
            "line": {
             "colorbar": {
              "outlinewidth": 0,
              "ticks": ""
             }
            },
            "marker": {
             "colorbar": {
              "outlinewidth": 0,
              "ticks": ""
             }
            },
            "type": "scatter3d"
           }
          ],
          "scattercarpet": [
           {
            "marker": {
             "colorbar": {
              "outlinewidth": 0,
              "ticks": ""
             }
            },
            "type": "scattercarpet"
           }
          ],
          "scattergeo": [
           {
            "marker": {
             "colorbar": {
              "outlinewidth": 0,
              "ticks": ""
             }
            },
            "type": "scattergeo"
           }
          ],
          "scattergl": [
           {
            "marker": {
             "colorbar": {
              "outlinewidth": 0,
              "ticks": ""
             }
            },
            "type": "scattergl"
           }
          ],
          "scattermapbox": [
           {
            "marker": {
             "colorbar": {
              "outlinewidth": 0,
              "ticks": ""
             }
            },
            "type": "scattermapbox"
           }
          ],
          "scatterpolar": [
           {
            "marker": {
             "colorbar": {
              "outlinewidth": 0,
              "ticks": ""
             }
            },
            "type": "scatterpolar"
           }
          ],
          "scatterpolargl": [
           {
            "marker": {
             "colorbar": {
              "outlinewidth": 0,
              "ticks": ""
             }
            },
            "type": "scatterpolargl"
           }
          ],
          "scatterternary": [
           {
            "marker": {
             "colorbar": {
              "outlinewidth": 0,
              "ticks": ""
             }
            },
            "type": "scatterternary"
           }
          ],
          "surface": [
           {
            "colorbar": {
             "outlinewidth": 0,
             "ticks": ""
            },
            "colorscale": [
             [
              0,
              "#0d0887"
             ],
             [
              0.1111111111111111,
              "#46039f"
             ],
             [
              0.2222222222222222,
              "#7201a8"
             ],
             [
              0.3333333333333333,
              "#9c179e"
             ],
             [
              0.4444444444444444,
              "#bd3786"
             ],
             [
              0.5555555555555556,
              "#d8576b"
             ],
             [
              0.6666666666666666,
              "#ed7953"
             ],
             [
              0.7777777777777778,
              "#fb9f3a"
             ],
             [
              0.8888888888888888,
              "#fdca26"
             ],
             [
              1,
              "#f0f921"
             ]
            ],
            "type": "surface"
           }
          ],
          "table": [
           {
            "cells": {
             "fill": {
              "color": "#EBF0F8"
             },
             "line": {
              "color": "white"
             }
            },
            "header": {
             "fill": {
              "color": "#C8D4E3"
             },
             "line": {
              "color": "white"
             }
            },
            "type": "table"
           }
          ]
         },
         "layout": {
          "annotationdefaults": {
           "arrowcolor": "#2a3f5f",
           "arrowhead": 0,
           "arrowwidth": 1
          },
          "autotypenumbers": "strict",
          "coloraxis": {
           "colorbar": {
            "outlinewidth": 0,
            "ticks": ""
           }
          },
          "colorscale": {
           "diverging": [
            [
             0,
             "#8e0152"
            ],
            [
             0.1,
             "#c51b7d"
            ],
            [
             0.2,
             "#de77ae"
            ],
            [
             0.3,
             "#f1b6da"
            ],
            [
             0.4,
             "#fde0ef"
            ],
            [
             0.5,
             "#f7f7f7"
            ],
            [
             0.6,
             "#e6f5d0"
            ],
            [
             0.7,
             "#b8e186"
            ],
            [
             0.8,
             "#7fbc41"
            ],
            [
             0.9,
             "#4d9221"
            ],
            [
             1,
             "#276419"
            ]
           ],
           "sequential": [
            [
             0,
             "#0d0887"
            ],
            [
             0.1111111111111111,
             "#46039f"
            ],
            [
             0.2222222222222222,
             "#7201a8"
            ],
            [
             0.3333333333333333,
             "#9c179e"
            ],
            [
             0.4444444444444444,
             "#bd3786"
            ],
            [
             0.5555555555555556,
             "#d8576b"
            ],
            [
             0.6666666666666666,
             "#ed7953"
            ],
            [
             0.7777777777777778,
             "#fb9f3a"
            ],
            [
             0.8888888888888888,
             "#fdca26"
            ],
            [
             1,
             "#f0f921"
            ]
           ],
           "sequentialminus": [
            [
             0,
             "#0d0887"
            ],
            [
             0.1111111111111111,
             "#46039f"
            ],
            [
             0.2222222222222222,
             "#7201a8"
            ],
            [
             0.3333333333333333,
             "#9c179e"
            ],
            [
             0.4444444444444444,
             "#bd3786"
            ],
            [
             0.5555555555555556,
             "#d8576b"
            ],
            [
             0.6666666666666666,
             "#ed7953"
            ],
            [
             0.7777777777777778,
             "#fb9f3a"
            ],
            [
             0.8888888888888888,
             "#fdca26"
            ],
            [
             1,
             "#f0f921"
            ]
           ]
          },
          "colorway": [
           "#636efa",
           "#EF553B",
           "#00cc96",
           "#ab63fa",
           "#FFA15A",
           "#19d3f3",
           "#FF6692",
           "#B6E880",
           "#FF97FF",
           "#FECB52"
          ],
          "font": {
           "color": "#2a3f5f"
          },
          "geo": {
           "bgcolor": "white",
           "lakecolor": "white",
           "landcolor": "#E5ECF6",
           "showlakes": true,
           "showland": true,
           "subunitcolor": "white"
          },
          "hoverlabel": {
           "align": "left"
          },
          "hovermode": "closest",
          "mapbox": {
           "style": "light"
          },
          "paper_bgcolor": "white",
          "plot_bgcolor": "#E5ECF6",
          "polar": {
           "angularaxis": {
            "gridcolor": "white",
            "linecolor": "white",
            "ticks": ""
           },
           "bgcolor": "#E5ECF6",
           "radialaxis": {
            "gridcolor": "white",
            "linecolor": "white",
            "ticks": ""
           }
          },
          "scene": {
           "xaxis": {
            "backgroundcolor": "#E5ECF6",
            "gridcolor": "white",
            "gridwidth": 2,
            "linecolor": "white",
            "showbackground": true,
            "ticks": "",
            "zerolinecolor": "white"
           },
           "yaxis": {
            "backgroundcolor": "#E5ECF6",
            "gridcolor": "white",
            "gridwidth": 2,
            "linecolor": "white",
            "showbackground": true,
            "ticks": "",
            "zerolinecolor": "white"
           },
           "zaxis": {
            "backgroundcolor": "#E5ECF6",
            "gridcolor": "white",
            "gridwidth": 2,
            "linecolor": "white",
            "showbackground": true,
            "ticks": "",
            "zerolinecolor": "white"
           }
          },
          "shapedefaults": {
           "line": {
            "color": "#2a3f5f"
           }
          },
          "ternary": {
           "aaxis": {
            "gridcolor": "white",
            "linecolor": "white",
            "ticks": ""
           },
           "baxis": {
            "gridcolor": "white",
            "linecolor": "white",
            "ticks": ""
           },
           "bgcolor": "#E5ECF6",
           "caxis": {
            "gridcolor": "white",
            "linecolor": "white",
            "ticks": ""
           }
          },
          "title": {
           "x": 0.05
          },
          "xaxis": {
           "automargin": true,
           "gridcolor": "white",
           "linecolor": "white",
           "ticks": "",
           "title": {
            "standoff": 15
           },
           "zerolinecolor": "white",
           "zerolinewidth": 2
          },
          "yaxis": {
           "automargin": true,
           "gridcolor": "white",
           "linecolor": "white",
           "ticks": "",
           "title": {
            "standoff": 15
           },
           "zerolinecolor": "white",
           "zerolinewidth": 2
          }
         }
        },
        "title": {
         "text": "Residual - Standardized Mean Difference (SMD)"
        },
        "uniformtext": {
         "minsize": 8,
         "mode": "hide"
        },
        "xaxis": {
         "fixedrange": true,
         "title": {
          "text": "Group"
         }
        },
        "yaxis": {
         "fixedrange": true,
         "tickformat": "0,.2f",
         "ticksuffix": "  ",
         "title": {
          "text": "Residual SMD"
         },
         "zeroline": true,
         "zerolinecolor": "Black",
         "zerolinewidth": 1
        }
       }
      }
     },
     "metadata": {},
     "output_type": "display_data"
    },
    {
     "data": {
      "text/html": [
       "<div>\n",
       "<style scoped>\n",
       "    .dataframe tbody tr th:only-of-type {\n",
       "        vertical-align: middle;\n",
       "    }\n",
       "\n",
       "    .dataframe tbody tr th {\n",
       "        vertical-align: top;\n",
       "    }\n",
       "\n",
       "    .dataframe thead th {\n",
       "        text-align: right;\n",
       "    }\n",
       "</style>\n",
       "<table border=\"False\" class=\"dataframe\">\n",
       "  <thead>\n",
       "    <tr style=\"text-align: right;\">\n",
       "      <th>Group Category</th>\n",
       "      <th>Group</th>\n",
       "      <th>Reference Group</th>\n",
       "      <th>Observations</th>\n",
       "      <th>Percent Missing</th>\n",
       "      <th>Total</th>\n",
       "      <th>Average Prediction</th>\n",
       "      <th>Average Label</th>\n",
       "      <th>Average Residual</th>\n",
       "      <th>Std. Dev. of Residuals</th>\n",
       "      <th>Residual SMD</th>\n",
       "      <th>P-Values</th>\n",
       "      <th>Practically Significant</th>\n",
       "    </tr>\n",
       "  </thead>\n",
       "  <tbody>\n",
       "    <tr>\n",
       "      <td>Race</td>\n",
       "      <td>Black</td>\n",
       "      <td>White</td>\n",
       "      <td>3,490</td>\n",
       "      <td>14.33%</td>\n",
       "      <td>269.0</td>\n",
       "      <td>0.822413</td>\n",
       "      <td>0.79</td>\n",
       "      <td>-0.034309</td>\n",
       "      <td>0.270416</td>\n",
       "      <td>-12.121454</td>\n",
       "      <td>0.068</td>\n",
       "      <td>No</td>\n",
       "    </tr>\n",
       "    <tr>\n",
       "      <td>Race</td>\n",
       "      <td>Asian</td>\n",
       "      <td>White</td>\n",
       "      <td>3,490</td>\n",
       "      <td>14.33%</td>\n",
       "      <td>274.0</td>\n",
       "      <td>0.956702</td>\n",
       "      <td>0.97</td>\n",
       "      <td>0.010451</td>\n",
       "      <td>0.270416</td>\n",
       "      <td>4.430784</td>\n",
       "      <td>0.472</td>\n",
       "      <td>No</td>\n",
       "    </tr>\n",
       "    <tr>\n",
       "      <td>Race</td>\n",
       "      <td>Native American</td>\n",
       "      <td>White</td>\n",
       "      <td>3,490</td>\n",
       "      <td>14.33%</td>\n",
       "      <td>17.0</td>\n",
       "      <td>0.827128</td>\n",
       "      <td>0.71</td>\n",
       "      <td>-0.121246</td>\n",
       "      <td>0.270416</td>\n",
       "      <td>-44.270752</td>\n",
       "      <td>0.071</td>\n",
       "      <td>No</td>\n",
       "    </tr>\n",
       "    <tr>\n",
       "      <td>Race</td>\n",
       "      <td>White</td>\n",
       "      <td></td>\n",
       "      <td>3,490</td>\n",
       "      <td>14.33%</td>\n",
       "      <td>2,918.0</td>\n",
       "      <td>0.905574</td>\n",
       "      <td>0.90</td>\n",
       "      <td>-0.001531</td>\n",
       "      <td>0.270416</td>\n",
       "      <td></td>\n",
       "      <td></td>\n",
       "      <td></td>\n",
       "    </tr>\n",
       "    <tr>\n",
       "      <td>Ethnicity</td>\n",
       "      <td>Hispanic</td>\n",
       "      <td>Non-Hispanic</td>\n",
       "      <td>3,478</td>\n",
       "      <td>14.63%</td>\n",
       "      <td>386.0</td>\n",
       "      <td>0.852617</td>\n",
       "      <td>0.77</td>\n",
       "      <td>-0.080596</td>\n",
       "      <td>0.270416</td>\n",
       "      <td>-31.869451</td>\n",
       "      <td>0.000</td>\n",
       "      <td>No</td>\n",
       "    </tr>\n",
       "    <tr>\n",
       "      <td>Ethnicity</td>\n",
       "      <td>Non-Hispanic</td>\n",
       "      <td></td>\n",
       "      <td>3,478</td>\n",
       "      <td>14.63%</td>\n",
       "      <td>3,092.0</td>\n",
       "      <td>0.908711</td>\n",
       "      <td>0.91</td>\n",
       "      <td>0.005584</td>\n",
       "      <td>0.270416</td>\n",
       "      <td></td>\n",
       "      <td></td>\n",
       "      <td></td>\n",
       "    </tr>\n",
       "    <tr>\n",
       "      <td>Sex</td>\n",
       "      <td>Female</td>\n",
       "      <td>Male</td>\n",
       "      <td>2,231</td>\n",
       "      <td>45.24%</td>\n",
       "      <td>873.0</td>\n",
       "      <td>0.885954</td>\n",
       "      <td>0.87</td>\n",
       "      <td>-0.016538</td>\n",
       "      <td>0.270416</td>\n",
       "      <td>-5.310800</td>\n",
       "      <td>0.260</td>\n",
       "      <td>No</td>\n",
       "    </tr>\n",
       "    <tr>\n",
       "      <td>Sex</td>\n",
       "      <td>Male</td>\n",
       "      <td></td>\n",
       "      <td>2,231</td>\n",
       "      <td>45.24%</td>\n",
       "      <td>1,358.0</td>\n",
       "      <td>0.894666</td>\n",
       "      <td>0.89</td>\n",
       "      <td>-0.002177</td>\n",
       "      <td>0.270416</td>\n",
       "      <td></td>\n",
       "      <td></td>\n",
       "      <td></td>\n",
       "    </tr>\n",
       "  </tbody>\n",
       "</table>\n",
       "</div>"
      ],
      "text/plain": [
       "<IPython.core.display.HTML object>"
      ]
     },
     "metadata": {},
     "output_type": "display_data"
    }
   ],
   "source": [
    "rsmd = sd.residual_standardized_mean_difference(\n",
    "    **common_info_for_testing,\n",
    "    prediction=df.loc[~train, 'predictions'],\n",
    "    label=df.loc[~train, label],\n",
    "    residual_smd_threshold=30,\n",
    "    lower_score_favorable=True,\n",
    ")\n",
    "display(rsmd.plot())\n",
    "sd.ui.show(rsmd.summary_table)"
   ]
  },
  {
   "cell_type": "code",
   "execution_count": 15,
   "metadata": {},
   "outputs": [
    {
     "name": "stdout",
     "output_type": "stream",
     "text": [
      "\n",
      "************************\n",
      "**** Model ROC-AUC: ****\n",
      "Training:          0.880\n",
      "Validation:        0.851\n",
      "Percent Change:   -3.24%\n",
      "************************\n"
     ]
    },
    {
     "data": {
      "text/html": [
       "<div>\n",
       "<style scoped>\n",
       "    .dataframe tbody tr th:only-of-type {\n",
       "        vertical-align: middle;\n",
       "    }\n",
       "\n",
       "    .dataframe tbody tr th {\n",
       "        vertical-align: top;\n",
       "    }\n",
       "\n",
       "    .dataframe thead th {\n",
       "        text-align: right;\n",
       "    }\n",
       "</style>\n",
       "<table border=\"1\" class=\"dataframe\">\n",
       "  <thead>\n",
       "    <tr style=\"text-align: right;\">\n",
       "      <th>Alternative Gets Offer</th>\n",
       "      <th>0</th>\n",
       "      <th>1</th>\n",
       "    </tr>\n",
       "    <tr>\n",
       "      <th>Gets Offer</th>\n",
       "      <th></th>\n",
       "      <th></th>\n",
       "    </tr>\n",
       "  </thead>\n",
       "  <tbody>\n",
       "    <tr>\n",
       "      <th>0</th>\n",
       "      <td>5915</td>\n",
       "      <td>321</td>\n",
       "    </tr>\n",
       "    <tr>\n",
       "      <th>1</th>\n",
       "      <td>56</td>\n",
       "      <td>13708</td>\n",
       "    </tr>\n",
       "  </tbody>\n",
       "</table>\n",
       "</div>"
      ],
      "text/plain": [
       "Alternative Gets Offer     0      1\n",
       "Gets Offer                         \n",
       "0                       5915    321\n",
       "1                         56  13708"
      ]
     },
     "execution_count": 15,
     "metadata": {},
     "output_type": "execute_result"
    }
   ],
   "source": [
    "alternative_params = baseline_params.copy()\n",
    "alternative_params['max_depth'] = 4\n",
    "alternative_params['n_estimators'] = 180\n",
    "build_model(params=alternative_params, prediction_name='alt_predictions')\n",
    "\n",
    "df['Alternative Gets Offer'] = (df['alt_predictions'] > cutoff).astype(int)\n",
    "\n",
    "pd.crosstab(df['Gets Offer'], df['Alternative Gets Offer'])"
   ]
  },
  {
   "cell_type": "code",
   "execution_count": 16,
   "metadata": {},
   "outputs": [
    {
     "data": {
      "text/html": [
       "<div>\n",
       "<style scoped>\n",
       "    .dataframe tbody tr th:only-of-type {\n",
       "        vertical-align: middle;\n",
       "    }\n",
       "\n",
       "    .dataframe tbody tr th {\n",
       "        vertical-align: top;\n",
       "    }\n",
       "\n",
       "    .dataframe thead th {\n",
       "        text-align: right;\n",
       "    }\n",
       "</style>\n",
       "<table border=\"1\" class=\"dataframe\">\n",
       "  <thead>\n",
       "    <tr style=\"text-align: right;\">\n",
       "      <th></th>\n",
       "      <th></th>\n",
       "      <th></th>\n",
       "      <th>Baseline</th>\n",
       "      <th>Alternative</th>\n",
       "      <th>Difference</th>\n",
       "    </tr>\n",
       "    <tr>\n",
       "      <th>Group Category</th>\n",
       "      <th>Group</th>\n",
       "      <th>Reference Group</th>\n",
       "      <th></th>\n",
       "      <th></th>\n",
       "      <th></th>\n",
       "    </tr>\n",
       "  </thead>\n",
       "  <tbody>\n",
       "    <tr>\n",
       "      <th rowspan=\"3\" valign=\"top\">Race</th>\n",
       "      <th>Black</th>\n",
       "      <th>White</th>\n",
       "      <td>0.578898</td>\n",
       "      <td>0.572600</td>\n",
       "      <td>-0.006299</td>\n",
       "    </tr>\n",
       "    <tr>\n",
       "      <th>Asian</th>\n",
       "      <th>White</th>\n",
       "      <td>1.290704</td>\n",
       "      <td>1.270044</td>\n",
       "      <td>-0.020659</td>\n",
       "    </tr>\n",
       "    <tr>\n",
       "      <th>Native American</th>\n",
       "      <th>White</th>\n",
       "      <td>0.428048</td>\n",
       "      <td>0.419470</td>\n",
       "      <td>-0.008578</td>\n",
       "    </tr>\n",
       "    <tr>\n",
       "      <th>Ethnicity</th>\n",
       "      <th>Hispanic</th>\n",
       "      <th>Non-Hispanic</th>\n",
       "      <td>0.674906</td>\n",
       "      <td>0.701452</td>\n",
       "      <td>0.026546</td>\n",
       "    </tr>\n",
       "    <tr>\n",
       "      <th>Sex</th>\n",
       "      <th>Female</th>\n",
       "      <th>Male</th>\n",
       "      <td>0.936165</td>\n",
       "      <td>0.941293</td>\n",
       "      <td>0.005128</td>\n",
       "    </tr>\n",
       "  </tbody>\n",
       "</table>\n",
       "</div>"
      ],
      "text/plain": [
       "                                                Baseline  Alternative  \\\n",
       "Group Category Group           Reference Group                          \n",
       "Race           Black           White            0.578898     0.572600   \n",
       "               Asian           White            1.290704     1.270044   \n",
       "               Native American White            0.428048     0.419470   \n",
       "Ethnicity      Hispanic        Non-Hispanic     0.674906     0.701452   \n",
       "Sex            Female          Male             0.936165     0.941293   \n",
       "\n",
       "                                                Difference  \n",
       "Group Category Group           Reference Group              \n",
       "Race           Black           White             -0.006299  \n",
       "               Asian           White             -0.020659  \n",
       "               Native American White             -0.008578  \n",
       "Ethnicity      Hispanic        Non-Hispanic       0.026546  \n",
       "Sex            Female          Male               0.005128  "
      ]
     },
     "execution_count": 16,
     "metadata": {},
     "output_type": "execute_result"
    }
   ],
   "source": [
    "alt_air = sd.adverse_impact_ratio(\n",
    "    **common_info_for_testing,\n",
    "    outcome=df.loc[~train, 'Alternative Gets Offer'],\n",
    "    air_threshold=0.8,\n",
    "    percent_difference_threshold=0.0,\n",
    ").summary_table\n",
    "\n",
    "alt_air.set_index(keys=['Group Category', 'Group', 'Reference Group'], inplace=True)\n",
    "baseline_air = air.summary_table.copy().set_index(keys=['Group Category', 'Group', 'Reference Group'])\n",
    "air_comparison = pd.concat(\n",
    "    objs=(baseline_air['AIR'], alt_air['AIR']),\n",
    "    keys=['Baseline', 'Alternative'],\n",
    "    axis=1\n",
    ")\n",
    "air_comparison['Difference'] = air_comparison['Alternative'] - air_comparison['Baseline']\n",
    "air_comparison.loc[air_comparison['Baseline'].notna(), :]"
   ]
  },
  {
   "cell_type": "code",
   "execution_count": null,
   "metadata": {},
   "outputs": [],
   "source": []
  }
 ],
 "metadata": {
  "kernelspec": {
   "display_name": "northeastern",
   "language": "python",
   "name": "northeastern"
  },
  "language_info": {
   "codemirror_mode": {
    "name": "ipython",
    "version": 3
   },
   "file_extension": ".py",
   "mimetype": "text/x-python",
   "name": "python",
   "nbconvert_exporter": "python",
   "pygments_lexer": "ipython3",
   "version": "3.9.13"
  },
  "vscode": {
   "interpreter": {
    "hash": "916dbcbb3f70747c44a77c7bcd40155683ae19c65e1c03b4aa3499c5328201f1"
   }
  }
 },
 "nbformat": 4,
 "nbformat_minor": 2
}
