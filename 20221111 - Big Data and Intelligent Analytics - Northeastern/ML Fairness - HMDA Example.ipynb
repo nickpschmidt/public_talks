{
 "cells": [
  {
   "cell_type": "markdown",
   "metadata": {},
   "source": [
    "# Measuring Discrimination with SolasAI"
   ]
  },
  {
   "cell_type": "code",
   "execution_count": null,
   "metadata": {},
   "outputs": [],
   "source": [
    "# In some environments, plotly does not render properly.  If this is the case, run the following code:\n",
    "# import plotly.io as pio\n",
    "# pio.renderers.default = \"svg\""
   ]
  },
  {
   "cell_type": "code",
   "execution_count": null,
   "metadata": {},
   "outputs": [],
   "source": [
    "import solas_disparity as sd"
   ]
  },
  {
   "cell_type": "code",
   "execution_count": null,
   "metadata": {},
   "outputs": [],
   "source": [
    "import numpy as np\n",
    "import pandas as pd\n",
    "from sklearn import metrics\n",
    "from sklearn.model_selection import train_test_split\n",
    "import xgboost as xgb\n",
    "from IPython.display import display, HTML\n",
    "display(HTML(\"<style>.container { width:100% !important; }</style>\"))\n",
    "\n",
    "pd.set_option('display.max_columns', 500)"
   ]
  },
  {
   "cell_type": "markdown",
   "metadata": {},
   "source": [
    "## Importing Data and Building a Model"
   ]
  },
  {
   "cell_type": "code",
   "execution_count": null,
   "metadata": {},
   "outputs": [],
   "source": [
    "df = pd.read_csv(\"hmda.csv.gz\", index_col=\"id\")\n",
    "df.sample(random_state=161803, n=5)"
   ]
  },
  {
   "cell_type": "code",
   "execution_count": null,
   "metadata": {},
   "outputs": [],
   "source": [
    "features = [\n",
    "    \"Loan Amount\",\n",
    "    \"Loan-to-Value Ratio\",\n",
    "    \"Intro Rate Period\",\n",
    "    \"Property Value\",\n",
    "    \"Income\",\n",
    "    \"Debt-to-Income Ratio\",\n",
    "    \"Term 360\",\n",
    "    \"Conforming\",\n",
    "]\n",
    "label = \"Low-Priced\"\n",
    "\n",
    "df['train'] = np.random.choice(a=['train', 'valid'], replace=True, size=len(df), p=[0.8, 0.2])\n",
    "train = (df['train'] == 'train')\n",
    "\n",
    "\n",
    "pd.crosstab(df[label], df['train'])"
   ]
  },
  {
   "cell_type": "code",
   "execution_count": null,
   "metadata": {},
   "outputs": [],
   "source": [
    "params = dict(\n",
    "    objective=\"binary:logistic\",\n",
    "    max_depth=3,\n",
    "    learning_rate=0.02,\n",
    "    n_estimators=200,\n",
    "    base_score=df.loc[train, label].mean(),\n",
    "    random_state=31415,\n",
    ")\n",
    "xgb_classifier = xgb.XGBClassifier(**params).fit(X=df.loc[train, features], y=df.loc[train, label])"
   ]
  },
  {
   "cell_type": "code",
   "execution_count": null,
   "metadata": {},
   "outputs": [],
   "source": [
    "\n",
    "df.loc[train, 'predictions'] = xgb_classifier.predict_proba(df.loc[train, features])[:, 1]\n",
    "df.loc[~train, 'predictions'] = xgb_classifier.predict_proba(df.loc[~train, features])[:, 1]\n",
    "\n",
    "\n",
    "auc_train = metrics.roc_auc_score(y_score=df.loc[train, 'predictions'], y_true=df.loc[train, label])\n",
    "auc_valid = metrics.roc_auc_score(y_score=df.loc[~train, 'predictions'], y_true=df.loc[~train, label])\n",
    "\n",
    "print(\n",
    "    f\"\\n************************\"\n",
    "    f\"\\n**** Model ROC-AUC: ****\"\n",
    "    f\"\\nTraining:          {auc_train:0.3f}\"\n",
    "    f\"\\nValidation:        {auc_valid:0.3f}\"\n",
    "    f\"\\nPercent Change:   {auc_valid / auc_train - 1: 0.2%}\"\n",
    "    f\"\\n************************\"\n",
    ")"
   ]
  },
  {
   "cell_type": "code",
   "execution_count": null,
   "metadata": {},
   "outputs": [],
   "source": [
    "df.loc[train, 'predictions'].describe()\n",
    "\n",
    "cutoff = 0.90\n",
    "\n",
    "df['Gets Offer'] = (df['predictions'] > cutoff).astype(int)\n",
    "df['Gets Offer'].value_counts(dropna=False, normalize=True)"
   ]
  },
  {
   "cell_type": "code",
   "execution_count": null,
   "metadata": {},
   "outputs": [],
   "source": [
    "common_info_for_testing = dict(\n",
    "    group_data=df.loc[~train, :],\n",
    "    protected_groups=[\"Black\", \"Asian\", \"Native American\", \"Hispanic\", \"Female\"],\n",
    "    reference_groups=[\"White\", \"White\", \"White\", \"Non-Hispanic\", \"Male\"],\n",
    "    group_categories=[\"Race\", \"Race\", \"Race\", \"Ethnicity\", \"Sex\"],\n",
    ")"
   ]
  },
  {
   "cell_type": "markdown",
   "metadata": {},
   "source": [
    "## Adverse Impact Ratio (AIR)"
   ]
  },
  {
   "cell_type": "code",
   "execution_count": null,
   "metadata": {},
   "outputs": [],
   "source": [
    "air = sd.adverse_impact_ratio(\n",
    "    **common_info_for_testing,\n",
    "    outcome=df.loc[~train, 'Gets Offer'],\n",
    "    air_threshold=0.8,\n",
    "    percent_difference_threshold=0.0,\n",
    ")"
   ]
  },
  {
   "cell_type": "code",
   "execution_count": null,
   "metadata": {},
   "outputs": [],
   "source": [
    "air"
   ]
  },
  {
   "cell_type": "markdown",
   "metadata": {},
   "source": [
    "## Adverse Impact Ratio by Quantile"
   ]
  },
  {
   "cell_type": "code",
   "execution_count": null,
   "metadata": {},
   "outputs": [],
   "source": [
    "airq = sd.adverse_impact_ratio_by_quantile(\n",
    "    **common_info_for_testing,\n",
    "    outcome=df.loc[~train, 'predictions'],\n",
    "    air_threshold=0.8,\n",
    "    percent_difference_threshold=0.0,\n",
    "    quantiles=[decile / 10 for decile in range(1, 11)],\n",
    "    lower_score_favorable=False,\n",
    ")\n",
    "airq.plot()"
   ]
  },
  {
   "cell_type": "markdown",
   "metadata": {},
   "source": [
    "## Standardized Mean Difference (SMD)"
   ]
  },
  {
   "cell_type": "code",
   "execution_count": null,
   "metadata": {},
   "outputs": [],
   "source": [
    "smd = sd.standardized_mean_difference(\n",
    "    **common_info_for_testing,\n",
    "    outcome=df.loc[~train, 'predictions'],\n",
    "    smd_threshold=-30,\n",
    "    lower_score_favorable=False,\n",
    ")\n",
    "smd"
   ]
  },
  {
   "cell_type": "markdown",
   "metadata": {},
   "source": [
    "## Residual Standardized Mean Difference"
   ]
  },
  {
   "cell_type": "code",
   "execution_count": null,
   "metadata": {},
   "outputs": [],
   "source": [
    "rsmd = sd.residual_standardized_mean_difference(\n",
    "    **common_info_for_testing,\n",
    "    prediction=df.loc[~train, 'predictions'],\n",
    "    label=df.loc[~train, label],\n",
    "    residual_smd_threshold=30,\n",
    "    lower_score_favorable=True,\n",
    ")\n",
    "display(rsmd.plot())\n",
    "sd.ui.show(rsmd.summary_table)"
   ]
  }
 ],
 "metadata": {
  "kernelspec": {
   "display_name": "northeastern",
   "language": "python",
   "name": "northeastern"
  },
  "language_info": {
   "codemirror_mode": {
    "name": "ipython",
    "version": 3
   },
   "file_extension": ".py",
   "mimetype": "text/x-python",
   "name": "python",
   "nbconvert_exporter": "python",
   "pygments_lexer": "ipython3",
   "version": "3.9.13"
  },
  "vscode": {
   "interpreter": {
    "hash": "916dbcbb3f70747c44a77c7bcd40155683ae19c65e1c03b4aa3499c5328201f1"
   }
  }
 },
 "nbformat": 4,
 "nbformat_minor": 2
}
